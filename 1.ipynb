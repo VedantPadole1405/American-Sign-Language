{
 "cells": [
  {
   "cell_type": "code",
   "execution_count": 2,
   "metadata": {},
   "outputs": [],
   "source": [
    "import os\n",
    "import shutil\n",
    "path_to_folders = \"/Users/vedantpadole/Desktop/Research/100\"\n",
    "path_to_new_folder = \"100a\"\n",
    "\n",
    "subfolders = [f.path for f in os.scandir(path_to_folders) if f.is_dir()]\n",
    "\n",
    "selected_subfolders = [folder for folder in subfolders if os.path.basename(folder)[0].lower() in \"a\"]\n",
    "\n",
    "for folder in selected_subfolders:\n",
    "    new_folder_path = os.path.join(path_to_new_folder, os.path.basename(folder))\n",
    "    shutil.copytree(folder, new_folder_path, dirs_exist_ok=True)\n",
    "    \n",
    "    video_files = [f.path for f in os.scandir(folder) if f.is_file() and f.name.lower().endswith(('.mp4', '.avi', '.mov'))]\n",
    "    for video_file in video_files:\n",
    "        new_video_file_path = os.path.join(new_folder_path, os.path.basename(video_file))\n",
    "        shutil.copy2(video_file, new_video_file_path)"
   ]
  },
  {
   "cell_type": "code",
   "execution_count": 5,
   "metadata": {},
   "outputs": [],
   "source": [
    "import os\n",
    "import shutil\n",
    "\n",
    "# Set the paths for the source and destination folders\n",
    "source_folder = '/Users/vedantpadole/Desktop/Research/ASL_MY_DATASET'\n",
    "destination_folder = '/Users/vedantpadole/Desktop/Research/finalized'\n",
    "\n",
    "# Iterate through each item in the source folder\n",
    "for item in os.listdir(source_folder):\n",
    "    # Construct the source and destination paths for the item\n",
    "    source_item = os.path.join(source_folder, item)\n",
    "    destination_item = os.path.join(destination_folder, item)\n",
    "    # Check if the item is a directory\n",
    "    if os.path.isdir(source_item):\n",
    "        # Check if the item already exists in the destination folder\n",
    "        if os.path.exists(destination_item):\n",
    "            # Merge the contents of the source and destination directories using the shutil module's copytree() function\n",
    "            shutil.copytree(source_item, destination_item, dirs_exist_ok=True)\n",
    "        else:\n",
    "            # Copy the entire directory and its contents to the destination folder using the shutil module's copytree() function\n",
    "            shutil.copytree(source_item, destination_item)\n",
    "    else:\n",
    "        # Copy the file to the destination folder using the shutil module's copy() function\n",
    "        shutil.copy(source_item, destination_item)\n",
    "\n",
    "\n"
   ]
  },
  {
   "cell_type": "code",
   "execution_count": null,
   "metadata": {},
   "outputs": [],
   "source": []
  }
 ],
 "metadata": {
  "kernelspec": {
   "display_name": "Python 3",
   "language": "python",
   "name": "python3"
  },
  "language_info": {
   "codemirror_mode": {
    "name": "ipython",
    "version": 3
   },
   "file_extension": ".py",
   "mimetype": "text/x-python",
   "name": "python",
   "nbconvert_exporter": "python",
   "pygments_lexer": "ipython3",
   "version": "3.9.0"
  },
  "orig_nbformat": 4
 },
 "nbformat": 4,
 "nbformat_minor": 2
}
