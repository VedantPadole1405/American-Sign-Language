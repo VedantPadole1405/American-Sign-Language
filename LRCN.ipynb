{
 "cells": [
  {
   "cell_type": "code",
   "execution_count": null,
   "metadata": {},
   "outputs": [],
   "source": [
    "from keras import Sequential\n",
    "from keras.layers import Conv2D,MaxPooling2D,TimeDistributed,Dropout,Flatten,Dense,LSTM\n",
    "model=Sequential()\n",
    "model.add(TimeDistributed(Conv2D(16,(3,3),padding='same',activation='relu'),input_shape=(SEQUENCE_LENGTH,IMAGE_HEIGHT,IMAGE_WIDTH,3)))\n",
    "model.add(TimeDistributed(MaxPooling2D(4,4)))\n",
    "model.add(TimeDistributed(Dropout(0.25)))\n",
    "model.add(TimeDistributed(Conv2D(32,(3,3),padding='same',activation='relu')))\n",
    "model.add(TimeDistributed(MaxPooling2D(4,4)))\n",
    "model.add(TimeDistributed(Dropout(0.25)))\n",
    "model.add(TimeDistributed(Conv2D(64,(3,3),padding='same',activation='relu')))\n",
    "model.add(TimeDistributed(MaxPooling2D(4,4)))\n",
    "model.add(TimeDistributed(Dropout(0.25)))\n",
    "model.add(TimeDistributed(Conv2D(128,(3,3),padding='same',activation='relu')))\n",
    "model.add(TimeDistributed(MaxPooling2D(4,4)))\n",
    "model.add(TimeDistributed(Dropout(0.25)))\n",
    "model.add(TimeDistributed(Flatten()))\n",
    "model.add(LSTM(64))\n",
    "model.add(Dense(len(CLASSES_LIST),activation='softmax'))"
   ]
  }
 ],
 "metadata": {
  "language_info": {
   "name": "python"
  },
  "orig_nbformat": 4
 },
 "nbformat": 4,
 "nbformat_minor": 2
}
