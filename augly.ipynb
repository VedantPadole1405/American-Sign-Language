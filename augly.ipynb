{
 "cells": [
  {
   "cell_type": "code",
   "execution_count": null,
   "metadata": {},
   "outputs": [],
   "source": [
    "import os\n",
    "from moviepy.video.io.VideoFileClip import VideoFileClip\n",
    "\n",
    "directory = \"/Users/vedantpadole/Desktop/Research/ASL examples\"\n",
    "output='/Users/vedantpadole/Desktop/Research/Asl_changed'\n",
    "\n",
    "for filename in os.listdir(directory):\n",
    "    if filename.endswith(\".webm\"):\n",
    "        input_path = os.path.join(directory, filename)\n",
    "        output_path = os.path.join(output, os.path.splitext(filename)[0] + \".mp4\")\n",
    "        clip = VideoFileClip(input_path)\n",
    "        clip.write_videofile(output_path, codec=\"libx264\")\n",
    "        clip.close()\n"
   ]
  },
  {
   "cell_type": "code",
   "execution_count": 12,
   "metadata": {},
   "outputs": [
    {
     "name": "stdout",
     "output_type": "stream",
     "text": [
      "Moviepy - Building video /Users/vedantpadole/Desktop/Research/Asl_augmented/5_DOLLARS/5_DOLLARS.MP4.\n",
      "MoviePy - Writing audio in 5_DOLLARSTEMP_MPY_wvf_snd.mp3\n"
     ]
    },
    {
     "name": "stderr",
     "output_type": "stream",
     "text": [
      "                                                       \r"
     ]
    },
    {
     "name": "stdout",
     "output_type": "stream",
     "text": [
      "MoviePy - Done.\n",
      "Moviepy - Writing video /Users/vedantpadole/Desktop/Research/Asl_augmented/5_DOLLARS/5_DOLLARS.MP4\n",
      "\n"
     ]
    },
    {
     "name": "stderr",
     "output_type": "stream",
     "text": [
      "                                                   \r"
     ]
    },
    {
     "name": "stdout",
     "output_type": "stream",
     "text": [
      "Moviepy - Done !\n",
      "Moviepy - video ready /Users/vedantpadole/Desktop/Research/Asl_augmented/5_DOLLARS/5_DOLLARS.MP4\n"
     ]
    }
   ],
   "source": [
    "from moviepy.editor import VideoFileClip\n",
    "\n",
    "input_path = \"/Users/vedantpadole/Desktop/Research/ASL_exapmles1/5_DOLLARS.mp4\"\n",
    "output_path = \"/Users/vedantpadole/Desktop/Research/Asl_augmented/5_DOLLARS/5_DOLLARS.MP4\"\n",
    "\n",
    "# Load the input video file\n",
    "clip = VideoFileClip(input_path)\n",
    "\n",
    "# Speed up the video by a factor of 2 and write to the output file\n",
    "sped_up_clip = clip.fx(VideoFileClip.speedx, factor=2.0)\n",
    "sped_up_clip.write_videofile(output_path)\n",
    "\n",
    "# Release the input and output video objects\n",
    "clip.reader.close()\n",
    "sped_up_clip.reader.close()\n"
   ]
  },
  {
   "cell_type": "code",
   "execution_count": 1,
   "metadata": {},
   "outputs": [
    {
     "name": "stdout",
     "output_type": "stream",
     "text": [
      "Moviepy - Building video /Users/vedantpadole/Desktop/Research/700/e/augmented_video_1_darkness.mp4.\n",
      "MoviePy - Writing audio in augmented_video_1_darknessTEMP_MPY_wvf_snd.mp3\n"
     ]
    },
    {
     "name": "stderr",
     "output_type": "stream",
     "text": [
      "                                                        \r"
     ]
    },
    {
     "name": "stdout",
     "output_type": "stream",
     "text": [
      "MoviePy - Done.\n",
      "Moviepy - Writing video /Users/vedantpadole/Desktop/Research/700/e/augmented_video_1_darkness.mp4\n",
      "\n"
     ]
    },
    {
     "name": "stderr",
     "output_type": "stream",
     "text": [
      "                                                               \r"
     ]
    },
    {
     "name": "stdout",
     "output_type": "stream",
     "text": [
      "Moviepy - Done !\n",
      "Moviepy - video ready /Users/vedantpadole/Desktop/Research/700/e/augmented_video_1_darkness.mp4\n",
      "Moviepy - Building video /Users/vedantpadole/Desktop/Research/700/e/augmented_video_2_shifting.mp4.\n",
      "MoviePy - Writing audio in augmented_video_2_shiftingTEMP_MPY_wvf_snd.mp3\n"
     ]
    },
    {
     "name": "stderr",
     "output_type": "stream",
     "text": [
      "                                                        \r"
     ]
    },
    {
     "name": "stdout",
     "output_type": "stream",
     "text": [
      "MoviePy - Done.\n",
      "Moviepy - Writing video /Users/vedantpadole/Desktop/Research/700/e/augmented_video_2_shifting.mp4\n",
      "\n"
     ]
    },
    {
     "name": "stderr",
     "output_type": "stream",
     "text": [
      "                                                               \r"
     ]
    },
    {
     "name": "stdout",
     "output_type": "stream",
     "text": [
      "Moviepy - Done !\n",
      "Moviepy - video ready /Users/vedantpadole/Desktop/Research/700/e/augmented_video_2_shifting.mp4\n"
     ]
    }
   ],
   "source": [
    "import os\n",
    "from moviepy.editor import *\n",
    "from scipy.ndimage import gaussian_filter\n",
    "\n",
    "# Set input and output directories\n",
    "input_dir = '/Users/vedantpadole/Desktop/Research/700/e'\n",
    "output_dir = '/Users/vedantpadole/Desktop/Research/700/e'\n",
    "\n",
    "# Load the video clip\n",
    "clip = VideoFileClip(os.path.join(input_dir, '/Users/vedantpadole/Desktop/Research/700/e/18533.mp4'))\n",
    "\n",
    "# Define the augmentations\n",
    "augmentations = [\n",
    "    ('darkness', lambda c: c.fx(vfx.colorx, 0.5)),\n",
    "    \n",
    "    ('shifting', lambda c: c.fx(vfx.crop, x1=50, y1=50))\n",
    "]\n",
    "\n",
    "# Apply each augmentation and save the output video\n",
    "for i, (name, effect) in enumerate(augmentations):\n",
    "    # Apply the effect to the clip\n",
    "    augmented_clip = effect(clip)\n",
    "\n",
    "    # Set the output filename\n",
    "    output_filename = f'augmented_video_{i+1}_{name}.mp4'\n",
    "    output_path = os.path.join(output_dir, output_filename)\n",
    "\n",
    "    # Save the augmented video\n",
    "    augmented_clip.write_videofile(output_path)\n",
    "\n",
    "# Close the input video clip\n",
    "clip.close()\n",
    "\n"
   ]
  },
  {
   "cell_type": "code",
   "execution_count": 3,
   "metadata": {},
   "outputs": [
    {
     "name": "stdout",
     "output_type": "stream",
     "text": [
      "Moviepy - Building video /Users/vedantpadole/Desktop/Research/ASL_MY_DATASET/alcohol/augmented_videos_1_normal.mp4.\n",
      "MoviePy - Writing audio in augmented_videos_1_normalTEMP_MPY_wvf_snd.mp3\n"
     ]
    },
    {
     "name": "stderr",
     "output_type": "stream",
     "text": [
      "                                                       \r"
     ]
    },
    {
     "name": "stdout",
     "output_type": "stream",
     "text": [
      "MoviePy - Done.\n",
      "Moviepy - Writing video /Users/vedantpadole/Desktop/Research/ASL_MY_DATASET/alcohol/augmented_videos_1_normal.mp4\n",
      "\n"
     ]
    },
    {
     "name": "stderr",
     "output_type": "stream",
     "text": [
      "                                                              \r"
     ]
    },
    {
     "name": "stdout",
     "output_type": "stream",
     "text": [
      "Moviepy - Done !\n",
      "Moviepy - video ready /Users/vedantpadole/Desktop/Research/ASL_MY_DATASET/alcohol/augmented_videos_1_normal.mp4\n",
      "Moviepy - Building video /Users/vedantpadole/Desktop/Research/ASL_MY_DATASET/alcohol/augmented_videos_2_brightness.mp4.\n",
      "MoviePy - Writing audio in augmented_videos_2_brightnessTEMP_MPY_wvf_snd.mp3\n"
     ]
    },
    {
     "name": "stderr",
     "output_type": "stream",
     "text": [
      "                                                       \r"
     ]
    },
    {
     "name": "stdout",
     "output_type": "stream",
     "text": [
      "MoviePy - Done.\n",
      "Moviepy - Writing video /Users/vedantpadole/Desktop/Research/ASL_MY_DATASET/alcohol/augmented_videos_2_brightness.mp4\n",
      "\n"
     ]
    },
    {
     "name": "stderr",
     "output_type": "stream",
     "text": [
      "                                                              \r"
     ]
    },
    {
     "name": "stdout",
     "output_type": "stream",
     "text": [
      "Moviepy - Done !\n",
      "Moviepy - video ready /Users/vedantpadole/Desktop/Research/ASL_MY_DATASET/alcohol/augmented_videos_2_brightness.mp4\n",
      "Moviepy - Building video /Users/vedantpadole/Desktop/Research/ASL_MY_DATASET/alcohol/augmented_videos_3_darkness.mp4.\n",
      "MoviePy - Writing audio in augmented_videos_3_darknessTEMP_MPY_wvf_snd.mp3\n"
     ]
    },
    {
     "name": "stderr",
     "output_type": "stream",
     "text": [
      "                                                       \r"
     ]
    },
    {
     "name": "stdout",
     "output_type": "stream",
     "text": [
      "MoviePy - Done.\n",
      "Moviepy - Writing video /Users/vedantpadole/Desktop/Research/ASL_MY_DATASET/alcohol/augmented_videos_3_darkness.mp4\n",
      "\n"
     ]
    },
    {
     "name": "stderr",
     "output_type": "stream",
     "text": [
      "                                                              \r"
     ]
    },
    {
     "name": "stdout",
     "output_type": "stream",
     "text": [
      "Moviepy - Done !\n",
      "Moviepy - video ready /Users/vedantpadole/Desktop/Research/ASL_MY_DATASET/alcohol/augmented_videos_3_darkness.mp4\n",
      "Moviepy - Building video /Users/vedantpadole/Desktop/Research/ASL_MY_DATASET/alcohol/augmented_videos_4_hued.mp4.\n",
      "MoviePy - Writing audio in augmented_videos_4_huedTEMP_MPY_wvf_snd.mp3\n"
     ]
    },
    {
     "name": "stderr",
     "output_type": "stream",
     "text": [
      "                                                       \r"
     ]
    },
    {
     "name": "stdout",
     "output_type": "stream",
     "text": [
      "MoviePy - Done.\n",
      "Moviepy - Writing video /Users/vedantpadole/Desktop/Research/ASL_MY_DATASET/alcohol/augmented_videos_4_hued.mp4\n",
      "\n"
     ]
    },
    {
     "name": "stderr",
     "output_type": "stream",
     "text": [
      "                                                              \r"
     ]
    },
    {
     "name": "stdout",
     "output_type": "stream",
     "text": [
      "Moviepy - Done !\n",
      "Moviepy - video ready /Users/vedantpadole/Desktop/Research/ASL_MY_DATASET/alcohol/augmented_videos_4_hued.mp4\n",
      "Moviepy - Building video /Users/vedantpadole/Desktop/Research/ASL_MY_DATASET/alcohol/augmented_videos_5_speed.mp4.\n",
      "MoviePy - Writing audio in augmented_videos_5_speedTEMP_MPY_wvf_snd.mp3\n"
     ]
    },
    {
     "name": "stderr",
     "output_type": "stream",
     "text": [
      "                                                       \r"
     ]
    },
    {
     "name": "stdout",
     "output_type": "stream",
     "text": [
      "MoviePy - Done.\n",
      "Moviepy - Writing video /Users/vedantpadole/Desktop/Research/ASL_MY_DATASET/alcohol/augmented_videos_5_speed.mp4\n",
      "\n"
     ]
    },
    {
     "name": "stderr",
     "output_type": "stream",
     "text": [
      "                                                             \r"
     ]
    },
    {
     "name": "stdout",
     "output_type": "stream",
     "text": [
      "Moviepy - Done !\n",
      "Moviepy - video ready /Users/vedantpadole/Desktop/Research/ASL_MY_DATASET/alcohol/augmented_videos_5_speed.mp4\n",
      "Moviepy - Building video /Users/vedantpadole/Desktop/Research/ASL_MY_DATASET/alcohol/augmented_videos_6_shifting.mp4.\n",
      "MoviePy - Writing audio in augmented_videos_6_shiftingTEMP_MPY_wvf_snd.mp3\n"
     ]
    },
    {
     "name": "stderr",
     "output_type": "stream",
     "text": [
      "                                                       \r"
     ]
    },
    {
     "name": "stdout",
     "output_type": "stream",
     "text": [
      "MoviePy - Done.\n",
      "Moviepy - Writing video /Users/vedantpadole/Desktop/Research/ASL_MY_DATASET/alcohol/augmented_videos_6_shifting.mp4\n",
      "\n"
     ]
    },
    {
     "name": "stderr",
     "output_type": "stream",
     "text": [
      "                                                               \r"
     ]
    },
    {
     "name": "stdout",
     "output_type": "stream",
     "text": [
      "Moviepy - Done !\n",
      "Moviepy - video ready /Users/vedantpadole/Desktop/Research/ASL_MY_DATASET/alcohol/augmented_videos_6_shifting.mp4\n"
     ]
    }
   ],
   "source": [
    "import os\n",
    "from moviepy.editor import *\n",
    "from scipy.ndimage import gaussian_filter\n",
    "\n",
    "# Set input and output directories\n",
    "input_dir = '/Users/vedantpadole/Desktop/Research/ASL_MY_DATASET/alcohol'\n",
    "output_dir = input_dir\n",
    "\n",
    "# Load the video clip\n",
    "clip = VideoFileClip(os.path.join(input_dir, '/Users/vedantpadole/Desktop/Research/ASL_MY_DATASET/alcohol/01832.mp4'))\n",
    "\n",
    "# Define the augmentations\n",
    "augmentations = [\n",
    "    ('normal', lambda c: c.fx(vfx.colorx, 1.0)),\n",
    "    ('brightness', lambda c: c.fx(vfx.colorx, 1.5)),\n",
    "    ('darkness', lambda c: c.fx(vfx.colorx, 0.5)),\n",
    "    ('hued', lambda c: c.fx(vfx.colorx,120)),\n",
    "    ('speed', lambda c: c.fx(vfx.speedx, 2)),\n",
    "    ('shifting', lambda c: c.fx(vfx.crop, x1=50, y1=50)),\n",
    "]\n",
    "\n",
    "# Apply each augmentation and save the output video\n",
    "for i, (name, effect) in enumerate(augmentations):\n",
    "    # Apply the effect to the clip\n",
    "    augmented_clip = effect(clip)\n",
    "\n",
    "    # Set the output filename\n",
    "    output_filename = f'augmented_videos_{i+1}_{name}.mp4'\n",
    "    output_path = os.path.join(output_dir, output_filename)\n",
    "\n",
    "    # Save the augmented video\n",
    "    augmented_clip.write_videofile(output_path)\n",
    "\n",
    "# Close the input video clip\n",
    "clip.close()"
   ]
  },
  {
   "cell_type": "code",
   "execution_count": 53,
   "metadata": {},
   "outputs": [
    {
     "name": "stderr",
     "output_type": "stream",
     "text": [
      "t:   9%|▉         | 3/33 [10:07<1:41:11, 202.38s/it, now=None]"
     ]
    },
    {
     "name": "stdout",
     "output_type": "stream",
     "text": [
      "Moviepy - Building video /Users/vedantpadole/Desktop/Research/ASL_MY_DATASET/ac/augmented_video_1_brightness.mp4.\n",
      "Moviepy - Writing video /Users/vedantpadole/Desktop/Research/ASL_MY_DATASET/ac/augmented_video_1_brightness.mp4\n",
      "\n"
     ]
    },
    {
     "name": "stderr",
     "output_type": "stream",
     "text": [
      "t:   9%|▉         | 3/33 [10:07<1:41:17, 202.59s/it, now=None]"
     ]
    },
    {
     "name": "stdout",
     "output_type": "stream",
     "text": [
      "Moviepy - Done !\n",
      "Moviepy - video ready /Users/vedantpadole/Desktop/Research/ASL_MY_DATASET/ac/augmented_video_1_brightness.mp4\n",
      "Moviepy - Building video /Users/vedantpadole/Desktop/Research/ASL_MY_DATASET/ac/augmented_video_2_brightness.mp4.\n",
      "Moviepy - Writing video /Users/vedantpadole/Desktop/Research/ASL_MY_DATASET/ac/augmented_video_2_brightness.mp4\n",
      "\n"
     ]
    },
    {
     "name": "stderr",
     "output_type": "stream",
     "text": [
      "t:   9%|▉         | 3/33 [10:08<1:41:24, 202.82s/it, now=None]"
     ]
    },
    {
     "name": "stdout",
     "output_type": "stream",
     "text": [
      "Moviepy - Done !\n",
      "Moviepy - video ready /Users/vedantpadole/Desktop/Research/ASL_MY_DATASET/ac/augmented_video_2_brightness.mp4\n",
      "Moviepy - Building video /Users/vedantpadole/Desktop/Research/ASL_MY_DATASET/ac/augmented_video_3_brightness.mp4.\n",
      "Moviepy - Writing video /Users/vedantpadole/Desktop/Research/ASL_MY_DATASET/ac/augmented_video_3_brightness.mp4\n",
      "\n"
     ]
    },
    {
     "name": "stderr",
     "output_type": "stream",
     "text": [
      "t:   9%|▉         | 3/33 [10:09<1:41:31, 203.05s/it, now=None]"
     ]
    },
    {
     "name": "stdout",
     "output_type": "stream",
     "text": [
      "Moviepy - Done !\n",
      "Moviepy - video ready /Users/vedantpadole/Desktop/Research/ASL_MY_DATASET/ac/augmented_video_3_brightness.mp4\n",
      "Moviepy - Building video /Users/vedantpadole/Desktop/Research/ASL_MY_DATASET/ac/augmented_video_4_darkness.mp4.\n",
      "Moviepy - Writing video /Users/vedantpadole/Desktop/Research/ASL_MY_DATASET/ac/augmented_video_4_darkness.mp4\n",
      "\n"
     ]
    },
    {
     "name": "stderr",
     "output_type": "stream",
     "text": [
      "t:   9%|▉         | 3/33 [10:09<1:41:38, 203.27s/it, now=None]"
     ]
    },
    {
     "name": "stdout",
     "output_type": "stream",
     "text": [
      "Moviepy - Done !\n",
      "Moviepy - video ready /Users/vedantpadole/Desktop/Research/ASL_MY_DATASET/ac/augmented_video_4_darkness.mp4\n",
      "Moviepy - Building video /Users/vedantpadole/Desktop/Research/ASL_MY_DATASET/ac/augmented_video_5_darkness.mp4.\n",
      "Moviepy - Writing video /Users/vedantpadole/Desktop/Research/ASL_MY_DATASET/ac/augmented_video_5_darkness.mp4\n",
      "\n"
     ]
    },
    {
     "name": "stderr",
     "output_type": "stream",
     "text": [
      "t:   9%|▉         | 3/33 [10:10<1:41:45, 203.50s/it, now=None]"
     ]
    },
    {
     "name": "stdout",
     "output_type": "stream",
     "text": [
      "Moviepy - Done !\n",
      "Moviepy - video ready /Users/vedantpadole/Desktop/Research/ASL_MY_DATASET/ac/augmented_video_5_darkness.mp4\n",
      "Moviepy - Building video /Users/vedantpadole/Desktop/Research/ASL_MY_DATASET/ac/augmented_video_6_darkness.mp4.\n",
      "Moviepy - Writing video /Users/vedantpadole/Desktop/Research/ASL_MY_DATASET/ac/augmented_video_6_darkness.mp4\n",
      "\n"
     ]
    },
    {
     "name": "stderr",
     "output_type": "stream",
     "text": [
      "t:   9%|▉         | 3/33 [10:11<1:41:52, 203.76s/it, now=None]"
     ]
    },
    {
     "name": "stdout",
     "output_type": "stream",
     "text": [
      "Moviepy - Done !\n",
      "Moviepy - video ready /Users/vedantpadole/Desktop/Research/ASL_MY_DATASET/ac/augmented_video_6_darkness.mp4\n",
      "Moviepy - Building video /Users/vedantpadole/Desktop/Research/ASL_MY_DATASET/ac/augmented_video_7_speed.mp4.\n",
      "Moviepy - Writing video /Users/vedantpadole/Desktop/Research/ASL_MY_DATASET/ac/augmented_video_7_speed.mp4\n",
      "\n"
     ]
    },
    {
     "name": "stderr",
     "output_type": "stream",
     "text": [
      "t:   9%|▉         | 3/33 [10:11<1:41:56, 203.89s/it, now=None]"
     ]
    },
    {
     "name": "stdout",
     "output_type": "stream",
     "text": [
      "Moviepy - Done !\n",
      "Moviepy - video ready /Users/vedantpadole/Desktop/Research/ASL_MY_DATASET/ac/augmented_video_7_speed.mp4\n",
      "Moviepy - Building video /Users/vedantpadole/Desktop/Research/ASL_MY_DATASET/ac/augmented_video_8_speed.mp4.\n",
      "Moviepy - Writing video /Users/vedantpadole/Desktop/Research/ASL_MY_DATASET/ac/augmented_video_8_speed.mp4\n",
      "\n"
     ]
    },
    {
     "name": "stderr",
     "output_type": "stream",
     "text": [
      "t:   9%|▉         | 3/33 [10:12<1:42:01, 204.05s/it, now=None]"
     ]
    },
    {
     "name": "stdout",
     "output_type": "stream",
     "text": [
      "Moviepy - Done !\n",
      "Moviepy - video ready /Users/vedantpadole/Desktop/Research/ASL_MY_DATASET/ac/augmented_video_8_speed.mp4\n",
      "Moviepy - Building video /Users/vedantpadole/Desktop/Research/ASL_MY_DATASET/ac/augmented_video_9_speed.mp4.\n",
      "Moviepy - Writing video /Users/vedantpadole/Desktop/Research/ASL_MY_DATASET/ac/augmented_video_9_speed.mp4\n",
      "\n"
     ]
    },
    {
     "name": "stderr",
     "output_type": "stream",
     "text": [
      "t:   9%|▉         | 3/33 [10:12<1:42:06, 204.20s/it, now=None]"
     ]
    },
    {
     "name": "stdout",
     "output_type": "stream",
     "text": [
      "Moviepy - Done !\n",
      "Moviepy - video ready /Users/vedantpadole/Desktop/Research/ASL_MY_DATASET/ac/augmented_video_9_speed.mp4\n",
      "Moviepy - Building video /Users/vedantpadole/Desktop/Research/ASL_MY_DATASET/ac/augmented_video_10_shifting.mp4.\n",
      "Moviepy - Writing video /Users/vedantpadole/Desktop/Research/ASL_MY_DATASET/ac/augmented_video_10_shifting.mp4\n",
      "\n"
     ]
    },
    {
     "name": "stderr",
     "output_type": "stream",
     "text": [
      "t:   9%|▉         | 3/33 [10:13<1:42:13, 204.45s/it, now=None]"
     ]
    },
    {
     "name": "stdout",
     "output_type": "stream",
     "text": [
      "Moviepy - Done !\n",
      "Moviepy - video ready /Users/vedantpadole/Desktop/Research/ASL_MY_DATASET/ac/augmented_video_10_shifting.mp4\n",
      "Moviepy - Building video /Users/vedantpadole/Desktop/Research/ASL_MY_DATASET/ac/augmented_video_11_shifting.mp4.\n",
      "Moviepy - Writing video /Users/vedantpadole/Desktop/Research/ASL_MY_DATASET/ac/augmented_video_11_shifting.mp4\n",
      "\n"
     ]
    },
    {
     "name": "stderr",
     "output_type": "stream",
     "text": [
      "t:   9%|▉         | 3/33 [10:14<1:42:21, 204.71s/it, now=None]"
     ]
    },
    {
     "name": "stdout",
     "output_type": "stream",
     "text": [
      "Moviepy - Done !\n",
      "Moviepy - video ready /Users/vedantpadole/Desktop/Research/ASL_MY_DATASET/ac/augmented_video_11_shifting.mp4\n",
      "Moviepy - Building video /Users/vedantpadole/Desktop/Research/ASL_MY_DATASET/ac/augmented_video_12_shifting.mp4.\n",
      "Moviepy - Writing video /Users/vedantpadole/Desktop/Research/ASL_MY_DATASET/ac/augmented_video_12_shifting.mp4\n",
      "\n"
     ]
    },
    {
     "name": "stderr",
     "output_type": "stream",
     "text": [
      "t:   9%|▉         | 3/33 [10:14<1:42:28, 204.94s/it, now=None]"
     ]
    },
    {
     "name": "stdout",
     "output_type": "stream",
     "text": [
      "Moviepy - Done !\n",
      "Moviepy - video ready /Users/vedantpadole/Desktop/Research/ASL_MY_DATASET/ac/augmented_video_12_shifting.mp4\n"
     ]
    }
   ],
   "source": [
    "import os\n",
    "from moviepy.editor import *\n",
    "from scipy.ndimage import gaussian_filter\n",
    "\n",
    "# Set input and output directories\n",
    "input_dir = '/Users/vedantpadole/Desktop/Research/ASL_MY_DATASET/ac'\n",
    "output_dir = '/Users/vedantpadole/Desktop/Research/ASL_MY_DATASET/ac'\n",
    "video_path='/Users/vedantpadole/Desktop/Research/ASL_MY_DATASET/ac/ac.mp4'\n",
    "\n",
    "# Load the video clip\n",
    "clip = VideoFileClip(os.path.join(input_dir, video_path))\n",
    "\n",
    "# Define the augmentations\n",
    "augmentations = [\n",
    "    ('brightness', lambda c: c.fx(vfx.colorx, 1.5)),\n",
    "    ('brightness', lambda c: c.fx(vfx.colorx, 1.75)),\n",
    "    ('brightness', lambda c: c.fx(vfx.colorx, 1.25)),\n",
    "    ('darkness', lambda c: c.fx(vfx.colorx, 0.5)),\n",
    "    ('darkness', lambda c: c.fx(vfx.colorx, 0.75)),\n",
    "    ('darkness', lambda c: c.fx(vfx.colorx, 0.8)),\n",
    "    ('speed', lambda c: c.fx(vfx.speedx, 2)),\n",
    "    ('speed', lambda c: c.fx(vfx.speedx, 1.2)),\n",
    "    ('speed', lambda c: c.fx(vfx.speedx, 1.5)),\n",
    "    ('shifting', lambda c: c.fx(vfx.crop, x1=10, y1=10)),\n",
    "    ('shifting', lambda c: c.fx(vfx.crop, x1=20, y1=20)),\n",
    "    ('shifting', lambda c: c.fx(vfx.crop, x1=30, y1=30))\n",
    "]\n",
    "\n",
    "# Apply each augmentation and save the output video\n",
    "for i, (name, effect) in enumerate(augmentations):\n",
    "    # Apply the effect to the clip\n",
    "    augmented_clip = effect(clip)\n",
    "\n",
    "    # Set the output filename\n",
    "    output_filename = f'augmented_video_{i+1}_{name}.mp4'\n",
    "    output_path = os.path.join(output_dir, output_filename)\n",
    "\n",
    "    # Save the augmented video\n",
    "    augmented_clip.write_videofile(output_path)\n",
    "\n",
    "# Close the input video clip\n",
    "clip.close()"
   ]
  },
  {
   "cell_type": "code",
   "execution_count": null,
   "metadata": {},
   "outputs": [
    {
     "ename": "",
     "evalue": "",
     "output_type": "error",
     "traceback": [
      "\u001b[1;31mThe kernel failed to start due to the missing module 'prompt_toolkit.formatted_text'. Consider installing this module.\n",
      "\u001b[1;31mClick <a href='https://aka.ms/kernelFailuresMissingModule'>here</a> for more info."
     ]
    }
   ],
   "source": [
    "import os\n",
    "from moviepy.editor import *\n",
    "from scipy.ndimage import gaussian_filter\n",
    "\n",
    "# Set input and output directories\n",
    "input_dir = '/Users/vedantpadole/Desktop/Research/ASL_exapmles1'\n",
    "output_dir = '/Users/vedantpadole/Desktop/Research/Asl_augmented/5_DOLLARS'\n",
    "\n",
    "# Load the video clip\n",
    "clip = VideoFileClip(os.path.join(input_dir, '/Users/vedantpadole/Desktop/Research/ASL_exapmles1/5_DOLLARS.mp4'))\n",
    "\n",
    "# Define the augmentations\n",
    "augmentations = [\n",
    "    ('normal', lambda c: c.fx(vfx.colorx, 1.0)),\n",
    "    ('brightness', lambda c: c.fx(vfx.colorx, 1.5)),\n",
    "    ('darkness', lambda c: c.fx(vfx.colorx, 0.5)),\n",
    "    ('hued', lambda c: c.fx(vfx.colorx,120)),\n",
    "    ('speed', lambda c: c.fx(vfx.speedx, 2)),\n",
    "    ('shifting', lambda c: c.fx(vfx.crop, x1=50, y1=50)),\n",
    "]\n",
    "\n",
    "# Apply each augmentation and save the output video\n",
    "for i, (name, effect) in enumerate(augmentations):\n",
    "    # Apply the effect to the clip\n",
    "    augmented_clip = effect(clip)\n",
    "\n",
    "    # Set the output filename\n",
    "    output_filename = f'augmented_video_{i+1}_{name}.mp4'\n",
    "    output_path = os.path.join(output_dir, output_filename)\n",
    "\n",
    "    # Save the augmented video\n",
    "    augmented_clip.write_videofile(output_path)\n",
    "\n",
    "# Close the input video clip\n",
    "clip.close()"
   ]
  },
  {
   "cell_type": "code",
   "execution_count": null,
   "metadata": {},
   "outputs": [],
   "source": [
    "import os\n",
    "from moviepy.editor import *\n",
    "from scipy.ndimage import gaussian_filter\n",
    "\n",
    "# Set input and output directories\n",
    "input_dir = '/Users/vedantpadole/Desktop/Research/ASL_exapmles1'\n",
    "output_dir = '/Users/vedantpadole/Desktop/Research/Asl_augmented/5_DOLLARS'\n",
    "\n",
    "# Load the video clip\n",
    "clip = VideoFileClip(os.path.join(input_dir, '/Users/vedantpadole/Desktop/Research/ASL_exapmles1/5_DOLLARS.mp4'))\n",
    "\n",
    "# Define the augmentations\n",
    "augmentations = [\n",
    "    ('normal', lambda c: c.fx(vfx.colorx, 1.0)),\n",
    "    ('brightness', lambda c: c.fx(vfx.colorx, 1.5)),\n",
    "    ('darkness', lambda c: c.fx(vfx.colorx, 0.5)),\n",
    "    ('hued', lambda c: c.fx(vfx.colorx,120)),\n",
    "    ('speed', lambda c: c.fx(vfx.speedx, 2)),\n",
    "    ('shifting', lambda c: c.fx(vfx.crop, x1=50, y1=50)),\n",
    "]\n",
    "\n",
    "# Apply each augmentation and save the output video\n",
    "for i, (name, effect) in enumerate(augmentations):\n",
    "    # Apply the effect to the clip\n",
    "    augmented_clip = effect(clip)\n",
    "\n",
    "    # Set the output filename\n",
    "    output_filename = f'augmented_video_{i+1}_{name}.mp4'\n",
    "    output_path = os.path.join(output_dir, output_filename)\n",
    "\n",
    "    # Save the augmented video\n",
    "    augmented_clip.write_videofile(output_path)\n",
    "\n",
    "# Close the input video clip\n",
    "clip.close()"
   ]
  },
  {
   "cell_type": "code",
   "execution_count": 10,
   "metadata": {},
   "outputs": [
    {
     "name": "stderr",
     "output_type": "stream",
     "text": [
      "t:   2%|▏         | 2/123 [02:25<2:26:57, 72.87s/it, now=None]"
     ]
    },
    {
     "name": "stdout",
     "output_type": "stream",
     "text": [
      "Moviepy - Building video /Users/vedantpadole/Desktop/Research/Indian_sign_language/Sugar/augmented_video_1_normal.mp4.\n",
      "MoviePy - Writing audio in augmented_video_1_normalTEMP_MPY_wvf_snd.mp3\n"
     ]
    },
    {
     "name": "stderr",
     "output_type": "stream",
     "text": [
      "t:   2%|▏         | 2/123 [02:25<2:27:01, 72.91s/it, now=None]"
     ]
    },
    {
     "name": "stdout",
     "output_type": "stream",
     "text": [
      "MoviePy - Done.\n",
      "Moviepy - Writing video /Users/vedantpadole/Desktop/Research/Indian_sign_language/Sugar/augmented_video_1_normal.mp4\n",
      "\n"
     ]
    },
    {
     "name": "stderr",
     "output_type": "stream",
     "text": [
      "t:   2%|▏         | 2/123 [02:26<2:27:47, 73.28s/it, now=None]"
     ]
    },
    {
     "name": "stdout",
     "output_type": "stream",
     "text": [
      "Moviepy - Done !\n",
      "Moviepy - video ready /Users/vedantpadole/Desktop/Research/Indian_sign_language/Sugar/augmented_video_1_normal.mp4\n",
      "Moviepy - Building video /Users/vedantpadole/Desktop/Research/Indian_sign_language/Sugar/augmented_video_2_brightness.mp4.\n",
      "MoviePy - Writing audio in augmented_video_2_brightnessTEMP_MPY_wvf_snd.mp3\n"
     ]
    },
    {
     "name": "stderr",
     "output_type": "stream",
     "text": [
      "t:   2%|▏         | 2/123 [02:26<2:27:54, 73.34s/it, now=None]"
     ]
    },
    {
     "name": "stdout",
     "output_type": "stream",
     "text": [
      "MoviePy - Done.\n",
      "Moviepy - Writing video /Users/vedantpadole/Desktop/Research/Indian_sign_language/Sugar/augmented_video_2_brightness.mp4\n",
      "\n"
     ]
    },
    {
     "name": "stderr",
     "output_type": "stream",
     "text": [
      "t:   2%|▏         | 2/123 [02:27<2:28:46, 73.78s/it, now=None]"
     ]
    },
    {
     "name": "stdout",
     "output_type": "stream",
     "text": [
      "Moviepy - Done !\n",
      "Moviepy - video ready /Users/vedantpadole/Desktop/Research/Indian_sign_language/Sugar/augmented_video_2_brightness.mp4\n",
      "Moviepy - Building video /Users/vedantpadole/Desktop/Research/Indian_sign_language/Sugar/augmented_video_3_darkness.mp4.\n",
      "MoviePy - Writing audio in augmented_video_3_darknessTEMP_MPY_wvf_snd.mp3\n"
     ]
    },
    {
     "name": "stderr",
     "output_type": "stream",
     "text": [
      "t:   2%|▏         | 2/123 [02:27<2:28:53, 73.83s/it, now=None]"
     ]
    },
    {
     "name": "stdout",
     "output_type": "stream",
     "text": [
      "MoviePy - Done.\n",
      "Moviepy - Writing video /Users/vedantpadole/Desktop/Research/Indian_sign_language/Sugar/augmented_video_3_darkness.mp4\n",
      "\n"
     ]
    },
    {
     "name": "stderr",
     "output_type": "stream",
     "text": [
      "t:   2%|▏         | 2/123 [02:28<2:29:37, 74.19s/it, now=None]"
     ]
    },
    {
     "name": "stdout",
     "output_type": "stream",
     "text": [
      "Moviepy - Done !\n",
      "Moviepy - video ready /Users/vedantpadole/Desktop/Research/Indian_sign_language/Sugar/augmented_video_3_darkness.mp4\n",
      "Moviepy - Building video /Users/vedantpadole/Desktop/Research/Indian_sign_language/Sugar/augmented_video_4_hued.mp4.\n",
      "MoviePy - Writing audio in augmented_video_4_huedTEMP_MPY_wvf_snd.mp3\n"
     ]
    },
    {
     "name": "stderr",
     "output_type": "stream",
     "text": [
      "t:   2%|▏         | 2/123 [02:28<2:29:43, 74.24s/it, now=None]"
     ]
    },
    {
     "name": "stdout",
     "output_type": "stream",
     "text": [
      "MoviePy - Done.\n",
      "Moviepy - Writing video /Users/vedantpadole/Desktop/Research/Indian_sign_language/Sugar/augmented_video_4_hued.mp4\n",
      "\n"
     ]
    },
    {
     "name": "stderr",
     "output_type": "stream",
     "text": [
      "t:   2%|▏         | 2/123 [02:29<2:30:53, 74.83s/it, now=None]"
     ]
    },
    {
     "name": "stdout",
     "output_type": "stream",
     "text": [
      "Moviepy - Done !\n",
      "Moviepy - video ready /Users/vedantpadole/Desktop/Research/Indian_sign_language/Sugar/augmented_video_4_hued.mp4\n",
      "Moviepy - Building video /Users/vedantpadole/Desktop/Research/Indian_sign_language/Sugar/augmented_video_5_speed.mp4.\n",
      "MoviePy - Writing audio in augmented_video_5_speedTEMP_MPY_wvf_snd.mp3\n"
     ]
    },
    {
     "name": "stderr",
     "output_type": "stream",
     "text": [
      "t:   2%|▏         | 2/123 [02:29<2:30:59, 74.87s/it, now=None]"
     ]
    },
    {
     "name": "stdout",
     "output_type": "stream",
     "text": [
      "MoviePy - Done.\n",
      "Moviepy - Writing video /Users/vedantpadole/Desktop/Research/Indian_sign_language/Sugar/augmented_video_5_speed.mp4\n",
      "\n"
     ]
    },
    {
     "name": "stderr",
     "output_type": "stream",
     "text": [
      "t:   2%|▏         | 2/123 [02:30<2:31:25, 75.08s/it, now=None]"
     ]
    },
    {
     "name": "stdout",
     "output_type": "stream",
     "text": [
      "Moviepy - Done !\n",
      "Moviepy - video ready /Users/vedantpadole/Desktop/Research/Indian_sign_language/Sugar/augmented_video_5_speed.mp4\n",
      "Moviepy - Building video /Users/vedantpadole/Desktop/Research/Indian_sign_language/Sugar/augmented_video_6_shifting.mp4.\n",
      "MoviePy - Writing audio in augmented_video_6_shiftingTEMP_MPY_wvf_snd.mp3\n"
     ]
    },
    {
     "name": "stderr",
     "output_type": "stream",
     "text": [
      "t:   2%|▏         | 2/123 [02:30<2:31:31, 75.14s/it, now=None]"
     ]
    },
    {
     "name": "stdout",
     "output_type": "stream",
     "text": [
      "MoviePy - Done.\n",
      "Moviepy - Writing video /Users/vedantpadole/Desktop/Research/Indian_sign_language/Sugar/augmented_video_6_shifting.mp4\n",
      "\n"
     ]
    },
    {
     "name": "stderr",
     "output_type": "stream",
     "text": [
      "t:   2%|▏         | 2/123 [02:31<2:32:21, 75.55s/it, now=None]"
     ]
    },
    {
     "name": "stdout",
     "output_type": "stream",
     "text": [
      "Moviepy - Done !\n",
      "Moviepy - video ready /Users/vedantpadole/Desktop/Research/Indian_sign_language/Sugar/augmented_video_6_shifting.mp4\n"
     ]
    }
   ],
   "source": [
    "import os\n",
    "from moviepy.editor import *\n",
    "from scipy.ndimage import gaussian_filter\n",
    "\n",
    "# Set input and output directories\n",
    "input_dir = '/Users/vedantpadole/Desktop/Research/Indian_sign_language/Sugar'\n",
    "output_dir = input_dir\n",
    "\n",
    "# Load the video clip\n",
    "clip = VideoFileClip(os.path.join(input_dir, '/Users/vedantpadole/Desktop/Research/Indian_sign_language/Sugar/videoplayback.mp4'))\n",
    "\n",
    "# Define the augmentations\n",
    "augmentations = [\n",
    "    ('normal', lambda c: c.fx(vfx.colorx, 1.0)),\n",
    "    ('brightness', lambda c: c.fx(vfx.colorx, 1.5)),\n",
    "    ('darkness', lambda c: c.fx(vfx.colorx, 0.5)),\n",
    "    ('hued', lambda c: c.fx(vfx.colorx,120)),\n",
    "    ('speed', lambda c: c.fx(vfx.speedx, 2)),\n",
    "    ('shifting', lambda c: c.fx(vfx.crop, x1=50, y1=50)),\n",
    "]\n",
    "\n",
    "# Apply each augmentation and save the output video\n",
    "for i, (name, effect) in enumerate(augmentations):\n",
    "    # Apply the effect to the clip\n",
    "    augmented_clip = effect(clip)\n",
    "\n",
    "    # Set the output filename\n",
    "    output_filename = f'augmented_video_{i+1}_{name}.mp4'\n",
    "    output_path = os.path.join(output_dir, output_filename)\n",
    "\n",
    "    # Save the augmented video\n",
    "    augmented_clip.write_videofile(output_path)\n",
    "\n",
    "# Close the input video clip\n",
    "clip.close()"
   ]
  },
  {
   "cell_type": "code",
   "execution_count": 9,
   "metadata": {},
   "outputs": [
    {
     "name": "stderr",
     "output_type": "stream",
     "text": [
      "t:   2%|▏         | 2/123 [01:40<1:41:45, 50.46s/it, now=None]"
     ]
    },
    {
     "name": "stdout",
     "output_type": "stream",
     "text": [
      "Moviepy - Building video /Users/vedantpadole/Desktop/Research/Indian_sign_language/Sugar/augmented_videos_1_normal.mp4.\n",
      "MoviePy - Writing audio in augmented_videos_1_normalTEMP_MPY_wvf_snd.mp3\n"
     ]
    },
    {
     "name": "stderr",
     "output_type": "stream",
     "text": [
      "t:   2%|▏         | 2/123 [01:40<1:41:49, 50.49s/it, now=None]"
     ]
    },
    {
     "name": "stdout",
     "output_type": "stream",
     "text": [
      "MoviePy - Done.\n",
      "Moviepy - Writing video /Users/vedantpadole/Desktop/Research/Indian_sign_language/Sugar/augmented_videos_1_normal.mp4\n",
      "\n"
     ]
    },
    {
     "name": "stderr",
     "output_type": "stream",
     "text": [
      "t:   2%|▏         | 2/123 [01:41<1:42:45, 50.96s/it, now=None]"
     ]
    },
    {
     "name": "stdout",
     "output_type": "stream",
     "text": [
      "Moviepy - Done !\n",
      "Moviepy - video ready /Users/vedantpadole/Desktop/Research/Indian_sign_language/Sugar/augmented_videos_1_normal.mp4\n",
      "Moviepy - Building video /Users/vedantpadole/Desktop/Research/Indian_sign_language/Sugar/augmented_videos_2_brightness.mp4.\n",
      "MoviePy - Writing audio in augmented_videos_2_brightnessTEMP_MPY_wvf_snd.mp3\n"
     ]
    },
    {
     "name": "stderr",
     "output_type": "stream",
     "text": [
      "t:   2%|▏         | 2/123 [01:42<1:42:53, 51.02s/it, now=None]"
     ]
    },
    {
     "name": "stdout",
     "output_type": "stream",
     "text": [
      "MoviePy - Done.\n"
     ]
    },
    {
     "name": "stderr",
     "output_type": "stream",
     "text": [
      "t:   2%|▏         | 2/123 [01:42<1:42:54, 51.03s/it, now=None]"
     ]
    },
    {
     "name": "stdout",
     "output_type": "stream",
     "text": [
      "Moviepy - Writing video /Users/vedantpadole/Desktop/Research/Indian_sign_language/Sugar/augmented_videos_2_brightness.mp4\n",
      "\n"
     ]
    },
    {
     "name": "stderr",
     "output_type": "stream",
     "text": [
      "t:   2%|▏         | 2/123 [01:43<1:44:05, 51.62s/it, now=None]"
     ]
    },
    {
     "name": "stdout",
     "output_type": "stream",
     "text": [
      "Moviepy - Done !\n",
      "Moviepy - video ready /Users/vedantpadole/Desktop/Research/Indian_sign_language/Sugar/augmented_videos_2_brightness.mp4\n",
      "Moviepy - Building video /Users/vedantpadole/Desktop/Research/Indian_sign_language/Sugar/augmented_videos_3_darkness.mp4.\n",
      "MoviePy - Writing audio in augmented_videos_3_darknessTEMP_MPY_wvf_snd.mp3\n"
     ]
    },
    {
     "name": "stderr",
     "output_type": "stream",
     "text": [
      "t:   2%|▏         | 2/123 [01:43<1:44:16, 51.71s/it, now=None]"
     ]
    },
    {
     "name": "stdout",
     "output_type": "stream",
     "text": [
      "MoviePy - Done.\n",
      "Moviepy - Writing video /Users/vedantpadole/Desktop/Research/Indian_sign_language/Sugar/augmented_videos_3_darkness.mp4\n",
      "\n"
     ]
    },
    {
     "name": "stderr",
     "output_type": "stream",
     "text": [
      "t:   2%|▏         | 2/123 [01:44<1:45:23, 52.26s/it, now=None]"
     ]
    },
    {
     "name": "stdout",
     "output_type": "stream",
     "text": [
      "Moviepy - Done !\n",
      "Moviepy - video ready /Users/vedantpadole/Desktop/Research/Indian_sign_language/Sugar/augmented_videos_3_darkness.mp4\n",
      "Moviepy - Building video /Users/vedantpadole/Desktop/Research/Indian_sign_language/Sugar/augmented_videos_4_hued.mp4.\n",
      "MoviePy - Writing audio in augmented_videos_4_huedTEMP_MPY_wvf_snd.mp3\n"
     ]
    },
    {
     "name": "stderr",
     "output_type": "stream",
     "text": [
      "t:   2%|▏         | 2/123 [01:44<1:45:29, 52.31s/it, now=None]"
     ]
    },
    {
     "name": "stdout",
     "output_type": "stream",
     "text": [
      "MoviePy - Done.\n",
      "Moviepy - Writing video /Users/vedantpadole/Desktop/Research/Indian_sign_language/Sugar/augmented_videos_4_hued.mp4\n",
      "\n"
     ]
    },
    {
     "name": "stderr",
     "output_type": "stream",
     "text": [
      "t:   2%|▏         | 2/123 [01:45<1:46:51, 52.99s/it, now=None]"
     ]
    },
    {
     "name": "stdout",
     "output_type": "stream",
     "text": [
      "Moviepy - Done !\n",
      "Moviepy - video ready /Users/vedantpadole/Desktop/Research/Indian_sign_language/Sugar/augmented_videos_4_hued.mp4\n",
      "Moviepy - Building video /Users/vedantpadole/Desktop/Research/Indian_sign_language/Sugar/augmented_videos_5_speed.mp4.\n",
      "MoviePy - Writing audio in augmented_videos_5_speedTEMP_MPY_wvf_snd.mp3\n"
     ]
    },
    {
     "name": "stderr",
     "output_type": "stream",
     "text": [
      "t:   2%|▏         | 2/123 [01:46<1:46:57, 53.03s/it, now=None]"
     ]
    },
    {
     "name": "stdout",
     "output_type": "stream",
     "text": [
      "MoviePy - Done.\n",
      "Moviepy - Writing video /Users/vedantpadole/Desktop/Research/Indian_sign_language/Sugar/augmented_videos_5_speed.mp4\n",
      "\n"
     ]
    },
    {
     "name": "stderr",
     "output_type": "stream",
     "text": [
      "t:   2%|▏         | 2/123 [01:46<1:47:22, 53.25s/it, now=None]"
     ]
    },
    {
     "name": "stdout",
     "output_type": "stream",
     "text": [
      "Moviepy - Done !\n",
      "Moviepy - video ready /Users/vedantpadole/Desktop/Research/Indian_sign_language/Sugar/augmented_videos_5_speed.mp4\n",
      "Moviepy - Building video /Users/vedantpadole/Desktop/Research/Indian_sign_language/Sugar/augmented_videos_6_shifting.mp4.\n",
      "MoviePy - Writing audio in augmented_videos_6_shiftingTEMP_MPY_wvf_snd.mp3\n"
     ]
    },
    {
     "name": "stderr",
     "output_type": "stream",
     "text": [
      "t:   2%|▏         | 2/123 [01:46<1:47:30, 53.31s/it, now=None]"
     ]
    },
    {
     "name": "stdout",
     "output_type": "stream",
     "text": [
      "MoviePy - Done.\n",
      "Moviepy - Writing video /Users/vedantpadole/Desktop/Research/Indian_sign_language/Sugar/augmented_videos_6_shifting.mp4\n",
      "\n"
     ]
    },
    {
     "name": "stderr",
     "output_type": "stream",
     "text": [
      "t:   2%|▏         | 2/123 [01:46<1:47:41, 53.40s/it, now=None]"
     ]
    },
    {
     "name": "stdout",
     "output_type": "stream",
     "text": [
      "Moviepy - Done !\n",
      "Moviepy - video ready /Users/vedantpadole/Desktop/Research/Indian_sign_language/Sugar/augmented_videos_6_shifting.mp4\n"
     ]
    }
   ],
   "source": [
    "import os\n",
    "from moviepy.editor import *\n",
    "from scipy.ndimage import gaussian_filter\n",
    "\n",
    "# Set input and output directories\n",
    "input_dir = '/Users/vedantpadole/Desktop/Research/Indian_sign_language/Sugar'\n",
    "output_dir = input_dir\n",
    "\n",
    "# Load the video clip\n",
    "clip = VideoFileClip(os.path.join(input_dir, '/Users/vedantpadole/Desktop/Research/Indian_sign_language/Sugar/videoplayback.mp4'))\n",
    "\n",
    "# Define the augmentations\n",
    "augmentations = [\n",
    "    ('normal', lambda c: c.fx(vfx.colorx, 1.3)),\n",
    "    ('brightness', lambda c: c.fx(vfx.colorx, 1.6)),\n",
    "    ('darkness', lambda c: c.fx(vfx.colorx, 0.25)),\n",
    "    ('hued', lambda c: c.fx(vfx.colorx,135)),\n",
    "    ('speed', lambda c: c.fx(vfx.speedx, 2.1)),\n",
    "    ('shifting', lambda c: c.fx(vfx.crop,x1=-50, y1=-50)),\n",
    "]\n",
    "\n",
    "# Apply each augmentation and save the output video\n",
    "for i, (name, effect) in enumerate(augmentations):\n",
    "    # Apply the effect to the clip\n",
    "    augmented_clip = effect(clip)\n",
    "\n",
    "    # Set the output filename\n",
    "    output_filename = f'augmented_videos_{i+1}_{name}.mp4'\n",
    "    output_path = os.path.join(output_dir, output_filename)\n",
    "\n",
    "    # Save the augmented video\n",
    "    augmented_clip.write_videofile(output_path)\n",
    "\n",
    "# Close the input video clip\n",
    "clip.close()"
   ]
  },
  {
   "cell_type": "code",
   "execution_count": null,
   "metadata": {},
   "outputs": [],
   "source": [
    "import os\n",
    "from moviepy.editor import *\n",
    "from scipy.ndimage import gaussian_filter\n",
    "\n",
    "# Set input and output directories\n",
    "input_dir = '/Users/vedantpadole/Desktop/Research/ASL_exapmles1'\n",
    "output_dir = '/Users/vedantpadole/Desktop/Research/Asl_augmented/5_DOLLARS'\n",
    "\n",
    "# Load the video clip\n",
    "clip = VideoFileClip(os.path.join(input_dir, '/Users/vedantpadole/Desktop/Research/ASL_exapmles1/5_DOLLARS.mp4'))\n",
    "\n",
    "# Define the augmentations\n",
    "augmentations = [\n",
    "    ('normal', lambda c: c.fx(vfx.colorx, 1.0)),\n",
    "    ('brightness', lambda c: c.fx(vfx.colorx, 1.5)),\n",
    "    ('darkness', lambda c: c.fx(vfx.colorx, 0.5)),\n",
    "    ('hued', lambda c: c.fx(vfx.colorx,120)),\n",
    "    ('speed', lambda c: c.fx(vfx.speedx, 2)),\n",
    "    ('shifting', lambda c: c.fx(vfx.crop, x1=50, y1=50)),\n",
    "]\n",
    "\n",
    "# Apply each augmentation and save the output video\n",
    "for i, (name, effect) in enumerate(augmentations):\n",
    "    # Apply the effect to the clip\n",
    "    augmented_clip = effect(clip)\n",
    "\n",
    "    # Set the output filename\n",
    "    output_filename = f'augmented_video_{i+1}_{name}.mp4'\n",
    "    output_path = os.path.join(output_dir, output_filename)\n",
    "\n",
    "    # Save the augmented video\n",
    "    augmented_clip.write_videofile(output_path)\n",
    "\n",
    "# Close the input video clip\n",
    "clip.close()"
   ]
  },
  {
   "cell_type": "code",
   "execution_count": 22,
   "metadata": {},
   "outputs": [
    {
     "name": "stdout",
     "output_type": "stream",
     "text": [
      "Moviepy - Building video /Users/vedantpadole/Desktop/Research/ASL_MY_DATASET/manager/augmented_videosss_1_brightness.mp4.\n",
      "Moviepy - Writing video /Users/vedantpadole/Desktop/Research/ASL_MY_DATASET/manager/augmented_videosss_1_brightness.mp4\n",
      "\n"
     ]
    },
    {
     "name": "stderr",
     "output_type": "stream",
     "text": [
      "                                                             \r"
     ]
    },
    {
     "name": "stdout",
     "output_type": "stream",
     "text": [
      "Moviepy - Done !\n",
      "Moviepy - video ready /Users/vedantpadole/Desktop/Research/ASL_MY_DATASET/manager/augmented_videosss_1_brightness.mp4\n",
      "Moviepy - Building video /Users/vedantpadole/Desktop/Research/ASL_MY_DATASET/manager/augmented_videosss_2_brightness.mp4.\n",
      "Moviepy - Writing video /Users/vedantpadole/Desktop/Research/ASL_MY_DATASET/manager/augmented_videosss_2_brightness.mp4\n",
      "\n"
     ]
    },
    {
     "name": "stderr",
     "output_type": "stream",
     "text": [
      "                                                             \r"
     ]
    },
    {
     "name": "stdout",
     "output_type": "stream",
     "text": [
      "Moviepy - Done !\n",
      "Moviepy - video ready /Users/vedantpadole/Desktop/Research/ASL_MY_DATASET/manager/augmented_videosss_2_brightness.mp4\n",
      "Moviepy - Building video /Users/vedantpadole/Desktop/Research/ASL_MY_DATASET/manager/augmented_videosss_3_brightness.mp4.\n",
      "Moviepy - Writing video /Users/vedantpadole/Desktop/Research/ASL_MY_DATASET/manager/augmented_videosss_3_brightness.mp4\n",
      "\n"
     ]
    },
    {
     "name": "stderr",
     "output_type": "stream",
     "text": [
      "                                                             \r"
     ]
    },
    {
     "name": "stdout",
     "output_type": "stream",
     "text": [
      "Moviepy - Done !\n",
      "Moviepy - video ready /Users/vedantpadole/Desktop/Research/ASL_MY_DATASET/manager/augmented_videosss_3_brightness.mp4\n",
      "Moviepy - Building video /Users/vedantpadole/Desktop/Research/ASL_MY_DATASET/manager/augmented_videosss_4_darkness.mp4.\n",
      "Moviepy - Writing video /Users/vedantpadole/Desktop/Research/ASL_MY_DATASET/manager/augmented_videosss_4_darkness.mp4\n",
      "\n"
     ]
    },
    {
     "name": "stderr",
     "output_type": "stream",
     "text": [
      "                                                             \r"
     ]
    },
    {
     "name": "stdout",
     "output_type": "stream",
     "text": [
      "Moviepy - Done !\n",
      "Moviepy - video ready /Users/vedantpadole/Desktop/Research/ASL_MY_DATASET/manager/augmented_videosss_4_darkness.mp4\n",
      "Moviepy - Building video /Users/vedantpadole/Desktop/Research/ASL_MY_DATASET/manager/augmented_videosss_5_darkness.mp4.\n",
      "Moviepy - Writing video /Users/vedantpadole/Desktop/Research/ASL_MY_DATASET/manager/augmented_videosss_5_darkness.mp4\n",
      "\n"
     ]
    },
    {
     "name": "stderr",
     "output_type": "stream",
     "text": [
      "                                                             \r"
     ]
    },
    {
     "name": "stdout",
     "output_type": "stream",
     "text": [
      "Moviepy - Done !\n",
      "Moviepy - video ready /Users/vedantpadole/Desktop/Research/ASL_MY_DATASET/manager/augmented_videosss_5_darkness.mp4\n",
      "Moviepy - Building video /Users/vedantpadole/Desktop/Research/ASL_MY_DATASET/manager/augmented_videosss_6_darkness.mp4.\n",
      "Moviepy - Writing video /Users/vedantpadole/Desktop/Research/ASL_MY_DATASET/manager/augmented_videosss_6_darkness.mp4\n",
      "\n"
     ]
    },
    {
     "name": "stderr",
     "output_type": "stream",
     "text": [
      "                                                             \r"
     ]
    },
    {
     "name": "stdout",
     "output_type": "stream",
     "text": [
      "Moviepy - Done !\n",
      "Moviepy - video ready /Users/vedantpadole/Desktop/Research/ASL_MY_DATASET/manager/augmented_videosss_6_darkness.mp4\n",
      "Moviepy - Building video /Users/vedantpadole/Desktop/Research/ASL_MY_DATASET/manager/augmented_videosss_7_speed.mp4.\n",
      "Moviepy - Writing video /Users/vedantpadole/Desktop/Research/ASL_MY_DATASET/manager/augmented_videosss_7_speed.mp4\n",
      "\n"
     ]
    },
    {
     "name": "stderr",
     "output_type": "stream",
     "text": [
      "                                                             \r"
     ]
    },
    {
     "name": "stdout",
     "output_type": "stream",
     "text": [
      "Moviepy - Done !\n",
      "Moviepy - video ready /Users/vedantpadole/Desktop/Research/ASL_MY_DATASET/manager/augmented_videosss_7_speed.mp4\n",
      "Moviepy - Building video /Users/vedantpadole/Desktop/Research/ASL_MY_DATASET/manager/augmented_videosss_8_speed.mp4.\n",
      "Moviepy - Writing video /Users/vedantpadole/Desktop/Research/ASL_MY_DATASET/manager/augmented_videosss_8_speed.mp4\n",
      "\n"
     ]
    },
    {
     "name": "stderr",
     "output_type": "stream",
     "text": [
      "                                                             \r"
     ]
    },
    {
     "name": "stdout",
     "output_type": "stream",
     "text": [
      "Moviepy - Done !\n",
      "Moviepy - video ready /Users/vedantpadole/Desktop/Research/ASL_MY_DATASET/manager/augmented_videosss_8_speed.mp4\n",
      "Moviepy - Building video /Users/vedantpadole/Desktop/Research/ASL_MY_DATASET/manager/augmented_videosss_9_speed.mp4.\n",
      "Moviepy - Writing video /Users/vedantpadole/Desktop/Research/ASL_MY_DATASET/manager/augmented_videosss_9_speed.mp4\n",
      "\n"
     ]
    },
    {
     "name": "stderr",
     "output_type": "stream",
     "text": [
      "                                                             \r"
     ]
    },
    {
     "name": "stdout",
     "output_type": "stream",
     "text": [
      "Moviepy - Done !\n",
      "Moviepy - video ready /Users/vedantpadole/Desktop/Research/ASL_MY_DATASET/manager/augmented_videosss_9_speed.mp4\n",
      "Moviepy - Building video /Users/vedantpadole/Desktop/Research/ASL_MY_DATASET/manager/augmented_videosss_10_shifting.mp4.\n",
      "Moviepy - Writing video /Users/vedantpadole/Desktop/Research/ASL_MY_DATASET/manager/augmented_videosss_10_shifting.mp4\n",
      "\n"
     ]
    },
    {
     "name": "stderr",
     "output_type": "stream",
     "text": [
      "                                                             \r"
     ]
    },
    {
     "name": "stdout",
     "output_type": "stream",
     "text": [
      "Moviepy - Done !\n",
      "Moviepy - video ready /Users/vedantpadole/Desktop/Research/ASL_MY_DATASET/manager/augmented_videosss_10_shifting.mp4\n",
      "Moviepy - Building video /Users/vedantpadole/Desktop/Research/ASL_MY_DATASET/manager/augmented_videosss_11_shifting.mp4.\n",
      "Moviepy - Writing video /Users/vedantpadole/Desktop/Research/ASL_MY_DATASET/manager/augmented_videosss_11_shifting.mp4\n",
      "\n"
     ]
    },
    {
     "name": "stderr",
     "output_type": "stream",
     "text": [
      "                                                             \r"
     ]
    },
    {
     "name": "stdout",
     "output_type": "stream",
     "text": [
      "Moviepy - Done !\n",
      "Moviepy - video ready /Users/vedantpadole/Desktop/Research/ASL_MY_DATASET/manager/augmented_videosss_11_shifting.mp4\n",
      "Moviepy - Building video /Users/vedantpadole/Desktop/Research/ASL_MY_DATASET/manager/augmented_videosss_12_shifting.mp4.\n",
      "Moviepy - Writing video /Users/vedantpadole/Desktop/Research/ASL_MY_DATASET/manager/augmented_videosss_12_shifting.mp4\n",
      "\n"
     ]
    },
    {
     "name": "stderr",
     "output_type": "stream",
     "text": [
      "                                                             \r"
     ]
    },
    {
     "name": "stdout",
     "output_type": "stream",
     "text": [
      "Moviepy - Done !\n",
      "Moviepy - video ready /Users/vedantpadole/Desktop/Research/ASL_MY_DATASET/manager/augmented_videosss_12_shifting.mp4\n"
     ]
    }
   ],
   "source": [
    "import os\n",
    "from moviepy.editor import *\n",
    "from scipy.ndimage import gaussian_filter\n",
    "\n",
    "# Set input and output directories\n",
    "input_dir = '/Users/vedantpadole/Desktop/Research/ASL_MY_DATASET/manager'\n",
    "output_dir = input_dir\n",
    "\n",
    "# Load the video clip\n",
    "clip = VideoFileClip(os.path.join(input_dir, '/Users/vedantpadole/Desktop/Research/ASL_MY_DATASET/manager/manager.mp4'))\n",
    "\n",
    "# Define the augmentations\n",
    "augmentations = [\n",
    "    ('brightness', lambda c: c.fx(vfx.colorx, 1.5)),\n",
    "    ('brightness', lambda c: c.fx(vfx.colorx, 1.75)),\n",
    "    ('brightness', lambda c: c.fx(vfx.colorx, 1.25)),\n",
    "    ('darkness', lambda c: c.fx(vfx.colorx, 0.5)),\n",
    "    ('darkness', lambda c: c.fx(vfx.colorx, 0.75)),\n",
    "    ('darkness', lambda c: c.fx(vfx.colorx, 0.8)),\n",
    "    ('speed', lambda c: c.fx(vfx.speedx, 2)),\n",
    "    ('speed', lambda c: c.fx(vfx.speedx, 1.2)),\n",
    "    ('speed', lambda c: c.fx(vfx.speedx, 1.5)),\n",
    "    ('shifting', lambda c: c.fx(vfx.crop, x1=10, y1=10)),\n",
    "    ('shifting', lambda c: c.fx(vfx.crop, x1=20, y1=20)),\n",
    "    ('shifting', lambda c: c.fx(vfx.crop, x1=30, y1=30))\n",
    "]\n",
    "\n",
    "# Apply each augmentation and save the output video\n",
    "for i, (name, effect) in enumerate(augmentations):\n",
    "    # Apply the effect to the clip\n",
    "    augmented_clip = effect(clip)\n",
    "\n",
    "    # Set the output filename\n",
    "    output_filename = f'augmented_videosss_{i+1}_{name}.mp4'\n",
    "    output_path = os.path.join(output_dir, output_filename)\n",
    "\n",
    "    # Save the augmented video\n",
    "    augmented_clip.write_videofile(output_path)\n",
    "\n",
    "# Close the input video clip\n",
    "clip.close()"
   ]
  },
  {
   "cell_type": "code",
   "execution_count": null,
   "metadata": {},
   "outputs": [],
   "source": [
    "import os\n",
    "from moviepy.editor import *\n",
    "from scipy.ndimage import gaussian_filter\n",
    "\n",
    "# Set input and output directories\n",
    "input_dir = '/Users/vedantpadole/Desktop/Research/ASL_exapmles1'\n",
    "output_dir = '/Users/vedantpadole/Desktop/Research/Asl_augmented/5_DOLLARS'\n",
    "\n",
    "# Load the video clip\n",
    "clip = VideoFileClip(os.path.join(input_dir, '/Users/vedantpadole/Desktop/Research/ASL_MY_DATASET/cup/cup.mp4'))\n",
    "\n",
    "# Define the augmentations\n",
    "augmentations = [\n",
    "    ('normal', lambda c: c.fx(vfx.colorx, 1.0)),\n",
    "    ('brightness', lambda c: c.fx(vfx.colorx, 1.5)),\n",
    "    ('darkness', lambda c: c.fx(vfx.colorx, 0.5)),\n",
    "    ('hued', lambda c: c.fx(vfx.colorx,120)),\n",
    "    ('speed', lambda c: c.fx(vfx.speedx, 2)),\n",
    "    ('shifting', lambda c: c.fx(vfx.crop, x1=50, y1=50)),\n",
    "]\n",
    "\n",
    "# Apply each augmentation and save the output video\n",
    "for i, (name, effect) in enumerate(augmentations):\n",
    "    # Apply the effect to the clip\n",
    "    augmented_clip = effect(clip)\n",
    "\n",
    "    # Set the output filename\n",
    "    output_filename = f'augmented_video_{i+1}_{name}.mp4'\n",
    "    output_path = os.path.join(output_dir, output_filename)\n",
    "\n",
    "    # Save the augmented video\n",
    "    augmented_clip.write_videofile(output_path)\n",
    "\n",
    "# Close the input video clip\n",
    "clip.close()"
   ]
  },
  {
   "cell_type": "code",
   "execution_count": null,
   "metadata": {},
   "outputs": [],
   "source": [
    "import os\n",
    "from moviepy.editor import *\n",
    "from scipy.ndimage import gaussian_filter\n",
    "\n",
    "# Set input and output directories\n",
    "input_dir = '/Users/vedantpadole/Desktop/Research/ASL_exapmles1'\n",
    "output_dir = '/Users/vedantpadole/Desktop/Research/Asl_augmented/5_DOLLARS'\n",
    "\n",
    "# Load the video clip\n",
    "clip = VideoFileClip(os.path.join(input_dir, '/Users/vedantpadole/Desktop/Research/ASL_exapmles1/5_DOLLARS.mp4'))\n",
    "\n",
    "# Define the augmentations\n",
    "augmentations = [\n",
    "    ('normal', lambda c: c.fx(vfx.colorx, 1.0)),\n",
    "    ('brightness', lambda c: c.fx(vfx.colorx, 1.5)),\n",
    "    ('darkness', lambda c: c.fx(vfx.colorx, 0.5)),\n",
    "    ('hued', lambda c: c.fx(vfx.colorx,120)),\n",
    "    ('speed', lambda c: c.fx(vfx.speedx, 2)),\n",
    "    ('shifting', lambda c: c.fx(vfx.crop, x1=50, y1=50)),\n",
    "]\n",
    "\n",
    "# Apply each augmentation and save the output video\n",
    "for i, (name, effect) in enumerate(augmentations):\n",
    "    # Apply the effect to the clip\n",
    "    augmented_clip = effect(clip)\n",
    "\n",
    "    # Set the output filename\n",
    "    output_filename = f'augmented_video_{i+1}_{name}.mp4'\n",
    "    output_path = os.path.join(output_dir, output_filename)\n",
    "\n",
    "    # Save the augmented video\n",
    "    augmented_clip.write_videofile(output_path)\n",
    "\n",
    "# Close the input video clip\n",
    "clip.close()"
   ]
  },
  {
   "cell_type": "code",
   "execution_count": null,
   "metadata": {},
   "outputs": [],
   "source": [
    "import os\n",
    "from moviepy.editor import *\n",
    "from scipy.ndimage import gaussian_filter\n",
    "\n",
    "# Set input and output directories\n",
    "input_dir = '/Users/vedantpadole/Desktop/Research/ASL_exapmles1'\n",
    "output_dir = '/Users/vedantpadole/Desktop/Research/Asl_augmented/5_DOLLARS'\n",
    "\n",
    "# Load the video clip\n",
    "clip = VideoFileClip(os.path.join(input_dir, '/Users/vedantpadole/Desktop/Research/ASL_exapmles1/5_DOLLARS.mp4'))\n",
    "\n",
    "# Define the augmentations\n",
    "augmentations = [\n",
    "    ('normal', lambda c: c.fx(vfx.colorx, 1.0)),\n",
    "    ('brightness', lambda c: c.fx(vfx.colorx, 1.5)),\n",
    "    ('darkness', lambda c: c.fx(vfx.colorx, 0.5)),\n",
    "    ('hued', lambda c: c.fx(vfx.colorx,120)),\n",
    "    ('speed', lambda c: c.fx(vfx.speedx, 2)),\n",
    "    ('shifting', lambda c: c.fx(vfx.crop, x1=50, y1=50)),\n",
    "]\n",
    "\n",
    "# Apply each augmentation and save the output video\n",
    "for i, (name, effect) in enumerate(augmentations):\n",
    "    # Apply the effect to the clip\n",
    "    augmented_clip = effect(clip)\n",
    "\n",
    "    # Set the output filename\n",
    "    output_filename = f'augmented_video_{i+1}_{name}.mp4'\n",
    "    output_path = os.path.join(output_dir, output_filename)\n",
    "\n",
    "    # Save the augmented video\n",
    "    augmented_clip.write_videofile(output_path)\n",
    "\n",
    "# Close the input video clip\n",
    "clip.close()"
   ]
  },
  {
   "cell_type": "code",
   "execution_count": null,
   "metadata": {},
   "outputs": [],
   "source": [
    "import os\n",
    "from moviepy.editor import *\n",
    "from scipy.ndimage import gaussian_filter\n",
    "\n",
    "# Set input and output directories\n",
    "input_dir = '/Users/vedantpadole/Desktop/Research/ASL_exapmles1'\n",
    "output_dir = '/Users/vedantpadole/Desktop/Research/Asl_augmented/5_DOLLARS'\n",
    "\n",
    "# Load the video clip\n",
    "clip = VideoFileClip(os.path.join(input_dir, '/Users/vedantpadole/Desktop/Research/ASL_exapmles1/5_DOLLARS.mp4'))\n",
    "\n",
    "# Define the augmentations\n",
    "augmentations = [\n",
    "    ('normal', lambda c: c.fx(vfx.colorx, 1.0)),\n",
    "    ('brightness', lambda c: c.fx(vfx.colorx, 1.5)),\n",
    "    ('darkness', lambda c: c.fx(vfx.colorx, 0.5)),\n",
    "    ('hued', lambda c: c.fx(vfx.colorx,120)),\n",
    "    ('speed', lambda c: c.fx(vfx.speedx, 2)),\n",
    "    ('shifting', lambda c: c.fx(vfx.crop, x1=50, y1=50)),\n",
    "]\n",
    "\n",
    "# Apply each augmentation and save the output video\n",
    "for i, (name, effect) in enumerate(augmentations):\n",
    "    # Apply the effect to the clip\n",
    "    augmented_clip = effect(clip)\n",
    "\n",
    "    # Set the output filename\n",
    "    output_filename = f'augmented_video_{i+1}_{name}.mp4'\n",
    "    output_path = os.path.join(output_dir, output_filename)\n",
    "\n",
    "    # Save the augmented video\n",
    "    augmented_clip.write_videofile(output_path)\n",
    "\n",
    "# Close the input video clip\n",
    "clip.close()"
   ]
  }
 ],
 "metadata": {
  "kernelspec": {
   "display_name": "Python 3",
   "language": "python",
   "name": "python3"
  },
  "language_info": {
   "codemirror_mode": {
    "name": "ipython",
    "version": 3
   },
   "file_extension": ".py",
   "mimetype": "text/x-python",
   "name": "python",
   "nbconvert_exporter": "python",
   "pygments_lexer": "ipython3",
   "version": "3.9.0"
  },
  "orig_nbformat": 4,
  "vscode": {
   "interpreter": {
    "hash": "aee8b7b246df8f9039afb4144a1f6fd8d2ca17a180786b69acc140d282b71a49"
   }
  }
 },
 "nbformat": 4,
 "nbformat_minor": 2
}
