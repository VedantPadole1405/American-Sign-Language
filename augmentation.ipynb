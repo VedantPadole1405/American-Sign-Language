{
 "cells": [
  {
   "cell_type": "code",
   "execution_count": 1,
   "metadata": {},
   "outputs": [
    {
     "name": "stdout",
     "output_type": "stream",
     "text": [
      "Moviepy - Building video /Users/vedantpadole/Desktop/Research/Indian_sign_language/bread/videoplayback_augmented_brightness.mp4.\n",
      "MoviePy - Writing audio in videoplayback_augmented_brightnessTEMP_MPY_wvf_snd.mp3\n"
     ]
    },
    {
     "name": "stderr",
     "output_type": "stream",
     "text": [
      "                                                        \r"
     ]
    },
    {
     "name": "stdout",
     "output_type": "stream",
     "text": [
      "MoviePy - Done.\n",
      "Moviepy - Writing video /Users/vedantpadole/Desktop/Research/Indian_sign_language/bread/videoplayback_augmented_brightness.mp4\n",
      "\n"
     ]
    },
    {
     "name": "stderr",
     "output_type": "stream",
     "text": [
      "                                                               \r"
     ]
    },
    {
     "name": "stdout",
     "output_type": "stream",
     "text": [
      "Moviepy - Done !\n",
      "Moviepy - video ready /Users/vedantpadole/Desktop/Research/Indian_sign_language/bread/videoplayback_augmented_brightness.mp4\n",
      "Moviepy - Building video /Users/vedantpadole/Desktop/Research/Indian_sign_language/bread/videoplayback_augmented_brightness.mp4.\n",
      "MoviePy - Writing audio in videoplayback_augmented_brightnessTEMP_MPY_wvf_snd.mp3\n"
     ]
    },
    {
     "name": "stderr",
     "output_type": "stream",
     "text": [
      "                                                        \r"
     ]
    },
    {
     "name": "stdout",
     "output_type": "stream",
     "text": [
      "MoviePy - Done.\n",
      "Moviepy - Writing video /Users/vedantpadole/Desktop/Research/Indian_sign_language/bread/videoplayback_augmented_brightness.mp4\n",
      "\n"
     ]
    },
    {
     "name": "stderr",
     "output_type": "stream",
     "text": [
      "                                                               \r"
     ]
    },
    {
     "name": "stdout",
     "output_type": "stream",
     "text": [
      "Moviepy - Done !\n",
      "Moviepy - video ready /Users/vedantpadole/Desktop/Research/Indian_sign_language/bread/videoplayback_augmented_brightness.mp4\n",
      "Moviepy - Building video /Users/vedantpadole/Desktop/Research/Indian_sign_language/bread/videoplayback_augmented_brightness.mp4.\n",
      "MoviePy - Writing audio in videoplayback_augmented_brightnessTEMP_MPY_wvf_snd.mp3\n"
     ]
    },
    {
     "name": "stderr",
     "output_type": "stream",
     "text": [
      "                                                        \r"
     ]
    },
    {
     "name": "stdout",
     "output_type": "stream",
     "text": [
      "MoviePy - Done.\n",
      "Moviepy - Writing video /Users/vedantpadole/Desktop/Research/Indian_sign_language/bread/videoplayback_augmented_brightness.mp4\n",
      "\n"
     ]
    },
    {
     "name": "stderr",
     "output_type": "stream",
     "text": [
      "                                                               \r"
     ]
    },
    {
     "name": "stdout",
     "output_type": "stream",
     "text": [
      "Moviepy - Done !\n",
      "Moviepy - video ready /Users/vedantpadole/Desktop/Research/Indian_sign_language/bread/videoplayback_augmented_brightness.mp4\n",
      "Moviepy - Building video /Users/vedantpadole/Desktop/Research/Indian_sign_language/bread/videoplayback_augmented_darkness.mp4.\n",
      "MoviePy - Writing audio in videoplayback_augmented_darknessTEMP_MPY_wvf_snd.mp3\n"
     ]
    },
    {
     "name": "stderr",
     "output_type": "stream",
     "text": [
      "                                                        \r"
     ]
    },
    {
     "name": "stdout",
     "output_type": "stream",
     "text": [
      "MoviePy - Done.\n",
      "Moviepy - Writing video /Users/vedantpadole/Desktop/Research/Indian_sign_language/bread/videoplayback_augmented_darkness.mp4\n",
      "\n"
     ]
    },
    {
     "name": "stderr",
     "output_type": "stream",
     "text": [
      "                                                               \r"
     ]
    },
    {
     "name": "stdout",
     "output_type": "stream",
     "text": [
      "Moviepy - Done !\n",
      "Moviepy - video ready /Users/vedantpadole/Desktop/Research/Indian_sign_language/bread/videoplayback_augmented_darkness.mp4\n",
      "Moviepy - Building video /Users/vedantpadole/Desktop/Research/Indian_sign_language/bread/videoplayback_augmented_darkness.mp4.\n",
      "MoviePy - Writing audio in videoplayback_augmented_darknessTEMP_MPY_wvf_snd.mp3\n"
     ]
    },
    {
     "name": "stderr",
     "output_type": "stream",
     "text": [
      "                                                        \r"
     ]
    },
    {
     "name": "stdout",
     "output_type": "stream",
     "text": [
      "MoviePy - Done.\n",
      "Moviepy - Writing video /Users/vedantpadole/Desktop/Research/Indian_sign_language/bread/videoplayback_augmented_darkness.mp4\n",
      "\n"
     ]
    },
    {
     "name": "stderr",
     "output_type": "stream",
     "text": [
      "                                                               \r"
     ]
    },
    {
     "name": "stdout",
     "output_type": "stream",
     "text": [
      "Moviepy - Done !\n",
      "Moviepy - video ready /Users/vedantpadole/Desktop/Research/Indian_sign_language/bread/videoplayback_augmented_darkness.mp4\n",
      "Moviepy - Building video /Users/vedantpadole/Desktop/Research/Indian_sign_language/bread/videoplayback_augmented_darkness.mp4.\n",
      "MoviePy - Writing audio in videoplayback_augmented_darknessTEMP_MPY_wvf_snd.mp3\n"
     ]
    },
    {
     "name": "stderr",
     "output_type": "stream",
     "text": [
      "                                                        \r"
     ]
    },
    {
     "name": "stdout",
     "output_type": "stream",
     "text": [
      "MoviePy - Done.\n",
      "Moviepy - Writing video /Users/vedantpadole/Desktop/Research/Indian_sign_language/bread/videoplayback_augmented_darkness.mp4\n",
      "\n"
     ]
    },
    {
     "name": "stderr",
     "output_type": "stream",
     "text": [
      "                                                               \r"
     ]
    },
    {
     "name": "stdout",
     "output_type": "stream",
     "text": [
      "Moviepy - Done !\n",
      "Moviepy - video ready /Users/vedantpadole/Desktop/Research/Indian_sign_language/bread/videoplayback_augmented_darkness.mp4\n",
      "Moviepy - Building video /Users/vedantpadole/Desktop/Research/Indian_sign_language/bread/videoplayback_augmented_speed.mp4.\n",
      "MoviePy - Writing audio in videoplayback_augmented_speedTEMP_MPY_wvf_snd.mp3\n"
     ]
    },
    {
     "name": "stderr",
     "output_type": "stream",
     "text": [
      "                                                       \r"
     ]
    },
    {
     "name": "stdout",
     "output_type": "stream",
     "text": [
      "MoviePy - Done.\n",
      "Moviepy - Writing video /Users/vedantpadole/Desktop/Research/Indian_sign_language/bread/videoplayback_augmented_speed.mp4\n",
      "\n"
     ]
    },
    {
     "name": "stderr",
     "output_type": "stream",
     "text": [
      "                                                             \r"
     ]
    },
    {
     "name": "stdout",
     "output_type": "stream",
     "text": [
      "Moviepy - Done !\n",
      "Moviepy - video ready /Users/vedantpadole/Desktop/Research/Indian_sign_language/bread/videoplayback_augmented_speed.mp4\n",
      "Moviepy - Building video /Users/vedantpadole/Desktop/Research/Indian_sign_language/bread/videoplayback_augmented_speed.mp4.\n",
      "MoviePy - Writing audio in videoplayback_augmented_speedTEMP_MPY_wvf_snd.mp3\n"
     ]
    },
    {
     "name": "stderr",
     "output_type": "stream",
     "text": [
      "                                                        \r"
     ]
    },
    {
     "name": "stdout",
     "output_type": "stream",
     "text": [
      "MoviePy - Done.\n",
      "Moviepy - Writing video /Users/vedantpadole/Desktop/Research/Indian_sign_language/bread/videoplayback_augmented_speed.mp4\n",
      "\n"
     ]
    },
    {
     "name": "stderr",
     "output_type": "stream",
     "text": [
      "                                                              \r"
     ]
    },
    {
     "name": "stdout",
     "output_type": "stream",
     "text": [
      "Moviepy - Done !\n",
      "Moviepy - video ready /Users/vedantpadole/Desktop/Research/Indian_sign_language/bread/videoplayback_augmented_speed.mp4\n",
      "Moviepy - Building video /Users/vedantpadole/Desktop/Research/Indian_sign_language/bread/videoplayback_augmented_speed.mp4.\n",
      "MoviePy - Writing audio in videoplayback_augmented_speedTEMP_MPY_wvf_snd.mp3\n"
     ]
    },
    {
     "name": "stderr",
     "output_type": "stream",
     "text": [
      "                                                       \r"
     ]
    },
    {
     "name": "stdout",
     "output_type": "stream",
     "text": [
      "MoviePy - Done.\n",
      "Moviepy - Writing video /Users/vedantpadole/Desktop/Research/Indian_sign_language/bread/videoplayback_augmented_speed.mp4\n",
      "\n"
     ]
    },
    {
     "name": "stderr",
     "output_type": "stream",
     "text": [
      "                                                             \r"
     ]
    },
    {
     "name": "stdout",
     "output_type": "stream",
     "text": [
      "Moviepy - Done !\n",
      "Moviepy - video ready /Users/vedantpadole/Desktop/Research/Indian_sign_language/bread/videoplayback_augmented_speed.mp4\n",
      "Moviepy - Building video /Users/vedantpadole/Desktop/Research/Indian_sign_language/bread/videoplayback_augmented_shifting.mp4.\n",
      "MoviePy - Writing audio in videoplayback_augmented_shiftingTEMP_MPY_wvf_snd.mp3\n"
     ]
    },
    {
     "name": "stderr",
     "output_type": "stream",
     "text": [
      "                                                                    \r"
     ]
    },
    {
     "name": "stdout",
     "output_type": "stream",
     "text": [
      "MoviePy - Done.\n",
      "Moviepy - Writing video /Users/vedantpadole/Desktop/Research/Indian_sign_language/bread/videoplayback_augmented_shifting.mp4\n",
      "\n"
     ]
    },
    {
     "name": "stderr",
     "output_type": "stream",
     "text": [
      "                                                               \r"
     ]
    },
    {
     "name": "stdout",
     "output_type": "stream",
     "text": [
      "Moviepy - Done !\n",
      "Moviepy - video ready /Users/vedantpadole/Desktop/Research/Indian_sign_language/bread/videoplayback_augmented_shifting.mp4\n",
      "Moviepy - Building video /Users/vedantpadole/Desktop/Research/Indian_sign_language/bread/videoplayback_augmented_shifting.mp4.\n",
      "MoviePy - Writing audio in videoplayback_augmented_shiftingTEMP_MPY_wvf_snd.mp3\n"
     ]
    },
    {
     "name": "stderr",
     "output_type": "stream",
     "text": [
      "                                                        \r"
     ]
    },
    {
     "name": "stdout",
     "output_type": "stream",
     "text": [
      "MoviePy - Done.\n",
      "Moviepy - Writing video /Users/vedantpadole/Desktop/Research/Indian_sign_language/bread/videoplayback_augmented_shifting.mp4\n",
      "\n"
     ]
    },
    {
     "name": "stderr",
     "output_type": "stream",
     "text": [
      "                                                               \r"
     ]
    },
    {
     "name": "stdout",
     "output_type": "stream",
     "text": [
      "Moviepy - Done !\n",
      "Moviepy - video ready /Users/vedantpadole/Desktop/Research/Indian_sign_language/bread/videoplayback_augmented_shifting.mp4\n",
      "Moviepy - Building video /Users/vedantpadole/Desktop/Research/Indian_sign_language/bread/videoplayback_augmented_shifting.mp4.\n",
      "MoviePy - Writing audio in videoplayback_augmented_shiftingTEMP_MPY_wvf_snd.mp3\n"
     ]
    },
    {
     "name": "stderr",
     "output_type": "stream",
     "text": [
      "                                                        \r"
     ]
    },
    {
     "name": "stdout",
     "output_type": "stream",
     "text": [
      "MoviePy - Done.\n",
      "Moviepy - Writing video /Users/vedantpadole/Desktop/Research/Indian_sign_language/bread/videoplayback_augmented_shifting.mp4\n",
      "\n"
     ]
    },
    {
     "name": "stderr",
     "output_type": "stream",
     "text": [
      "                                                               \r"
     ]
    },
    {
     "name": "stdout",
     "output_type": "stream",
     "text": [
      "Moviepy - Done !\n",
      "Moviepy - video ready /Users/vedantpadole/Desktop/Research/Indian_sign_language/bread/videoplayback_augmented_shifting.mp4\n"
     ]
    }
   ],
   "source": [
    "import os\n",
    "from moviepy.editor import *\n",
    "from scipy.ndimage import gaussian_filter\n",
    "\n",
    "# Set input and output directories\n",
    "input_dir = \"/Users/vedantpadole/Desktop/Research/Indian_sign_language/bread\"\n",
    "output_dir = input_dir\n",
    "\n",
    "\n",
    "video_files = [f for f in os.listdir(input_dir) if f.endswith('.mp4')]\n",
    "\n",
    "\n",
    "for video_file in video_files:\n",
    "    # Load the video clip\n",
    "    clip = VideoFileClip(os.path.join(input_dir, video_file))\n",
    "\n",
    "    # Define the augmentations\n",
    "    augmentations = [\n",
    "        ('brightness', lambda c: c.fx(vfx.colorx, 1.5)),\n",
    "        ('brightness', lambda c: c.fx(vfx.colorx, 1.75)),\n",
    "        ('brightness', lambda c: c.fx(vfx.colorx, 1.25)),\n",
    "        ('darkness', lambda c: c.fx(vfx.colorx, 0.5)),\n",
    "        ('darkness', lambda c: c.fx(vfx.colorx, 0.75)),\n",
    "        ('darkness', lambda c: c.fx(vfx.colorx, 0.8)),\n",
    "        ('speed', lambda c: c.fx(vfx.speedx, 2)),\n",
    "        ('speed', lambda c: c.fx(vfx.speedx, 1.2)),\n",
    "        ('speed', lambda c: c.fx(vfx.speedx, 1.5)),\n",
    "        ('shifting', lambda c: c.fx(vfx.crop, x1=10, y1=10)),\n",
    "        ('shifting', lambda c: c.fx(vfx.crop, x1=20, y1=20)),\n",
    "        ('shifting', lambda c: c.fx(vfx.crop, x1=30, y1=30))\n",
    "    ]\n",
    "\n",
    "    # Apply each augmentation and save the output video\n",
    "    for i, (name, effect) in enumerate(augmentations):\n",
    "        # Apply the effect to the clip\n",
    "        augmented_clip = effect(clip)\n",
    "\n",
    "        # Set the output filename\n",
    "        output_filename = f'{os.path.splitext(video_file)[0]}_augmented_{name}.mp4'\n",
    "        output_path = os.path.join(output_dir, output_filename)\n",
    "\n",
    "        # Save the augmented video\n",
    "        augmented_clip.write_videofile(output_path)\n",
    "\n",
    "    # Close the input video clip\n",
    "    clip.close()\n"
   ]
  },
  {
   "cell_type": "code",
   "execution_count": 10,
   "metadata": {},
   "outputs": [
    {
     "name": "stdout",
     "output_type": "stream",
     "text": [
      "Moviepy - Building video /Users/vedantpadole/Desktop/Research/ASL_MY_DATASET/small/small_augmented_brightness.mp4.\n",
      "Moviepy - Writing video /Users/vedantpadole/Desktop/Research/ASL_MY_DATASET/small/small_augmented_brightness.mp4\n",
      "\n"
     ]
    },
    {
     "name": "stderr",
     "output_type": "stream",
     "text": [
      "                                                             \r"
     ]
    },
    {
     "name": "stdout",
     "output_type": "stream",
     "text": [
      "Moviepy - Done !\n",
      "Moviepy - video ready /Users/vedantpadole/Desktop/Research/ASL_MY_DATASET/small/small_augmented_brightness.mp4\n",
      "Moviepy - Building video /Users/vedantpadole/Desktop/Research/ASL_MY_DATASET/small/small_augmented_brightness.mp4.\n",
      "Moviepy - Writing video /Users/vedantpadole/Desktop/Research/ASL_MY_DATASET/small/small_augmented_brightness.mp4\n",
      "\n"
     ]
    },
    {
     "name": "stderr",
     "output_type": "stream",
     "text": [
      "                                                             \r"
     ]
    },
    {
     "name": "stdout",
     "output_type": "stream",
     "text": [
      "Moviepy - Done !\n",
      "Moviepy - video ready /Users/vedantpadole/Desktop/Research/ASL_MY_DATASET/small/small_augmented_brightness.mp4\n",
      "Moviepy - Building video /Users/vedantpadole/Desktop/Research/ASL_MY_DATASET/small/small_augmented_brightness.mp4.\n",
      "Moviepy - Writing video /Users/vedantpadole/Desktop/Research/ASL_MY_DATASET/small/small_augmented_brightness.mp4\n",
      "\n"
     ]
    },
    {
     "name": "stderr",
     "output_type": "stream",
     "text": [
      "                                                             \r"
     ]
    },
    {
     "name": "stdout",
     "output_type": "stream",
     "text": [
      "Moviepy - Done !\n",
      "Moviepy - video ready /Users/vedantpadole/Desktop/Research/ASL_MY_DATASET/small/small_augmented_brightness.mp4\n",
      "Moviepy - Building video /Users/vedantpadole/Desktop/Research/ASL_MY_DATASET/small/small_augmented_darkness.mp4.\n",
      "Moviepy - Writing video /Users/vedantpadole/Desktop/Research/ASL_MY_DATASET/small/small_augmented_darkness.mp4\n",
      "\n"
     ]
    },
    {
     "name": "stderr",
     "output_type": "stream",
     "text": [
      "                                                             \r"
     ]
    },
    {
     "name": "stdout",
     "output_type": "stream",
     "text": [
      "Moviepy - Done !\n",
      "Moviepy - video ready /Users/vedantpadole/Desktop/Research/ASL_MY_DATASET/small/small_augmented_darkness.mp4\n",
      "Moviepy - Building video /Users/vedantpadole/Desktop/Research/ASL_MY_DATASET/small/small_augmented_darkness.mp4.\n",
      "Moviepy - Writing video /Users/vedantpadole/Desktop/Research/ASL_MY_DATASET/small/small_augmented_darkness.mp4\n",
      "\n"
     ]
    },
    {
     "name": "stderr",
     "output_type": "stream",
     "text": [
      "                                                             \r"
     ]
    },
    {
     "name": "stdout",
     "output_type": "stream",
     "text": [
      "Moviepy - Done !\n",
      "Moviepy - video ready /Users/vedantpadole/Desktop/Research/ASL_MY_DATASET/small/small_augmented_darkness.mp4\n",
      "Moviepy - Building video /Users/vedantpadole/Desktop/Research/ASL_MY_DATASET/small/small_augmented_darkness.mp4.\n",
      "Moviepy - Writing video /Users/vedantpadole/Desktop/Research/ASL_MY_DATASET/small/small_augmented_darkness.mp4\n",
      "\n"
     ]
    },
    {
     "name": "stderr",
     "output_type": "stream",
     "text": [
      "                                                             \r"
     ]
    },
    {
     "name": "stdout",
     "output_type": "stream",
     "text": [
      "Moviepy - Done !\n",
      "Moviepy - video ready /Users/vedantpadole/Desktop/Research/ASL_MY_DATASET/small/small_augmented_darkness.mp4\n",
      "Moviepy - Building video /Users/vedantpadole/Desktop/Research/ASL_MY_DATASET/small/small_augmented_speed.mp4.\n",
      "Moviepy - Writing video /Users/vedantpadole/Desktop/Research/ASL_MY_DATASET/small/small_augmented_speed.mp4\n",
      "\n"
     ]
    },
    {
     "name": "stderr",
     "output_type": "stream",
     "text": [
      "                                                   \r"
     ]
    },
    {
     "name": "stdout",
     "output_type": "stream",
     "text": [
      "Moviepy - Done !\n",
      "Moviepy - video ready /Users/vedantpadole/Desktop/Research/ASL_MY_DATASET/small/small_augmented_speed.mp4\n",
      "Moviepy - Building video /Users/vedantpadole/Desktop/Research/ASL_MY_DATASET/small/small_augmented_speed.mp4.\n",
      "Moviepy - Writing video /Users/vedantpadole/Desktop/Research/ASL_MY_DATASET/small/small_augmented_speed.mp4\n",
      "\n"
     ]
    },
    {
     "name": "stderr",
     "output_type": "stream",
     "text": [
      "                                                             \r"
     ]
    },
    {
     "name": "stdout",
     "output_type": "stream",
     "text": [
      "Moviepy - Done !\n",
      "Moviepy - video ready /Users/vedantpadole/Desktop/Research/ASL_MY_DATASET/small/small_augmented_speed.mp4\n",
      "Moviepy - Building video /Users/vedantpadole/Desktop/Research/ASL_MY_DATASET/small/small_augmented_speed.mp4.\n",
      "Moviepy - Writing video /Users/vedantpadole/Desktop/Research/ASL_MY_DATASET/small/small_augmented_speed.mp4\n",
      "\n"
     ]
    },
    {
     "name": "stderr",
     "output_type": "stream",
     "text": [
      "                                                   \r"
     ]
    },
    {
     "name": "stdout",
     "output_type": "stream",
     "text": [
      "Moviepy - Done !\n",
      "Moviepy - video ready /Users/vedantpadole/Desktop/Research/ASL_MY_DATASET/small/small_augmented_speed.mp4\n",
      "Moviepy - Building video /Users/vedantpadole/Desktop/Research/ASL_MY_DATASET/small/small_augmented_shifting.mp4.\n",
      "Moviepy - Writing video /Users/vedantpadole/Desktop/Research/ASL_MY_DATASET/small/small_augmented_shifting.mp4\n",
      "\n"
     ]
    },
    {
     "name": "stderr",
     "output_type": "stream",
     "text": [
      "                                                             \r"
     ]
    },
    {
     "name": "stdout",
     "output_type": "stream",
     "text": [
      "Moviepy - Done !\n",
      "Moviepy - video ready /Users/vedantpadole/Desktop/Research/ASL_MY_DATASET/small/small_augmented_shifting.mp4\n",
      "Moviepy - Building video /Users/vedantpadole/Desktop/Research/ASL_MY_DATASET/small/small_augmented_shifting.mp4.\n",
      "Moviepy - Writing video /Users/vedantpadole/Desktop/Research/ASL_MY_DATASET/small/small_augmented_shifting.mp4\n",
      "\n"
     ]
    },
    {
     "name": "stderr",
     "output_type": "stream",
     "text": [
      "                                                             \r"
     ]
    },
    {
     "name": "stdout",
     "output_type": "stream",
     "text": [
      "Moviepy - Done !\n",
      "Moviepy - video ready /Users/vedantpadole/Desktop/Research/ASL_MY_DATASET/small/small_augmented_shifting.mp4\n",
      "Moviepy - Building video /Users/vedantpadole/Desktop/Research/ASL_MY_DATASET/small/small_augmented_shifting.mp4.\n",
      "Moviepy - Writing video /Users/vedantpadole/Desktop/Research/ASL_MY_DATASET/small/small_augmented_shifting.mp4\n",
      "\n"
     ]
    },
    {
     "name": "stderr",
     "output_type": "stream",
     "text": [
      "                                                             \r"
     ]
    },
    {
     "name": "stdout",
     "output_type": "stream",
     "text": [
      "Moviepy - Done !\n",
      "Moviepy - video ready /Users/vedantpadole/Desktop/Research/ASL_MY_DATASET/small/small_augmented_shifting.mp4\n",
      "Moviepy - Building video /Users/vedantpadole/Desktop/Research/ASL_MY_DATASET/small/small (1)_augmented_brightness.mp4.\n",
      "Moviepy - Writing video /Users/vedantpadole/Desktop/Research/ASL_MY_DATASET/small/small (1)_augmented_brightness.mp4\n",
      "\n"
     ]
    },
    {
     "name": "stderr",
     "output_type": "stream",
     "text": [
      "                                                              \r"
     ]
    },
    {
     "name": "stdout",
     "output_type": "stream",
     "text": [
      "Moviepy - Done !\n",
      "Moviepy - video ready /Users/vedantpadole/Desktop/Research/ASL_MY_DATASET/small/small (1)_augmented_brightness.mp4\n",
      "Moviepy - Building video /Users/vedantpadole/Desktop/Research/ASL_MY_DATASET/small/small (1)_augmented_brightness.mp4.\n",
      "Moviepy - Writing video /Users/vedantpadole/Desktop/Research/ASL_MY_DATASET/small/small (1)_augmented_brightness.mp4\n",
      "\n"
     ]
    },
    {
     "name": "stderr",
     "output_type": "stream",
     "text": [
      "                                                              \r"
     ]
    },
    {
     "name": "stdout",
     "output_type": "stream",
     "text": [
      "Moviepy - Done !\n",
      "Moviepy - video ready /Users/vedantpadole/Desktop/Research/ASL_MY_DATASET/small/small (1)_augmented_brightness.mp4\n",
      "Moviepy - Building video /Users/vedantpadole/Desktop/Research/ASL_MY_DATASET/small/small (1)_augmented_brightness.mp4.\n",
      "Moviepy - Writing video /Users/vedantpadole/Desktop/Research/ASL_MY_DATASET/small/small (1)_augmented_brightness.mp4\n",
      "\n"
     ]
    },
    {
     "name": "stderr",
     "output_type": "stream",
     "text": [
      "                                                              \r"
     ]
    },
    {
     "name": "stdout",
     "output_type": "stream",
     "text": [
      "Moviepy - Done !\n",
      "Moviepy - video ready /Users/vedantpadole/Desktop/Research/ASL_MY_DATASET/small/small (1)_augmented_brightness.mp4\n",
      "Moviepy - Building video /Users/vedantpadole/Desktop/Research/ASL_MY_DATASET/small/small (1)_augmented_darkness.mp4.\n",
      "Moviepy - Writing video /Users/vedantpadole/Desktop/Research/ASL_MY_DATASET/small/small (1)_augmented_darkness.mp4\n",
      "\n"
     ]
    },
    {
     "name": "stderr",
     "output_type": "stream",
     "text": [
      "                                                               \r"
     ]
    },
    {
     "name": "stdout",
     "output_type": "stream",
     "text": [
      "Moviepy - Done !\n",
      "Moviepy - video ready /Users/vedantpadole/Desktop/Research/ASL_MY_DATASET/small/small (1)_augmented_darkness.mp4\n",
      "Moviepy - Building video /Users/vedantpadole/Desktop/Research/ASL_MY_DATASET/small/small (1)_augmented_darkness.mp4.\n",
      "Moviepy - Writing video /Users/vedantpadole/Desktop/Research/ASL_MY_DATASET/small/small (1)_augmented_darkness.mp4\n",
      "\n"
     ]
    },
    {
     "name": "stderr",
     "output_type": "stream",
     "text": [
      "                                                              \r"
     ]
    },
    {
     "name": "stdout",
     "output_type": "stream",
     "text": [
      "Moviepy - Done !\n",
      "Moviepy - video ready /Users/vedantpadole/Desktop/Research/ASL_MY_DATASET/small/small (1)_augmented_darkness.mp4\n",
      "Moviepy - Building video /Users/vedantpadole/Desktop/Research/ASL_MY_DATASET/small/small (1)_augmented_darkness.mp4.\n",
      "Moviepy - Writing video /Users/vedantpadole/Desktop/Research/ASL_MY_DATASET/small/small (1)_augmented_darkness.mp4\n",
      "\n"
     ]
    },
    {
     "name": "stderr",
     "output_type": "stream",
     "text": [
      "                                                               \r"
     ]
    },
    {
     "name": "stdout",
     "output_type": "stream",
     "text": [
      "Moviepy - Done !\n",
      "Moviepy - video ready /Users/vedantpadole/Desktop/Research/ASL_MY_DATASET/small/small (1)_augmented_darkness.mp4\n",
      "Moviepy - Building video /Users/vedantpadole/Desktop/Research/ASL_MY_DATASET/small/small (1)_augmented_speed.mp4.\n",
      "Moviepy - Writing video /Users/vedantpadole/Desktop/Research/ASL_MY_DATASET/small/small (1)_augmented_speed.mp4\n",
      "\n"
     ]
    },
    {
     "name": "stderr",
     "output_type": "stream",
     "text": [
      "                                                             \r"
     ]
    },
    {
     "name": "stdout",
     "output_type": "stream",
     "text": [
      "Moviepy - Done !\n",
      "Moviepy - video ready /Users/vedantpadole/Desktop/Research/ASL_MY_DATASET/small/small (1)_augmented_speed.mp4\n",
      "Moviepy - Building video /Users/vedantpadole/Desktop/Research/ASL_MY_DATASET/small/small (1)_augmented_speed.mp4.\n",
      "Moviepy - Writing video /Users/vedantpadole/Desktop/Research/ASL_MY_DATASET/small/small (1)_augmented_speed.mp4\n",
      "\n"
     ]
    },
    {
     "name": "stderr",
     "output_type": "stream",
     "text": [
      "                                                             \r"
     ]
    },
    {
     "name": "stdout",
     "output_type": "stream",
     "text": [
      "Moviepy - Done !\n",
      "Moviepy - video ready /Users/vedantpadole/Desktop/Research/ASL_MY_DATASET/small/small (1)_augmented_speed.mp4\n",
      "Moviepy - Building video /Users/vedantpadole/Desktop/Research/ASL_MY_DATASET/small/small (1)_augmented_speed.mp4.\n",
      "Moviepy - Writing video /Users/vedantpadole/Desktop/Research/ASL_MY_DATASET/small/small (1)_augmented_speed.mp4\n",
      "\n"
     ]
    },
    {
     "name": "stderr",
     "output_type": "stream",
     "text": [
      "                                                             \r"
     ]
    },
    {
     "name": "stdout",
     "output_type": "stream",
     "text": [
      "Moviepy - Done !\n",
      "Moviepy - video ready /Users/vedantpadole/Desktop/Research/ASL_MY_DATASET/small/small (1)_augmented_speed.mp4\n",
      "Moviepy - Building video /Users/vedantpadole/Desktop/Research/ASL_MY_DATASET/small/small (1)_augmented_shifting.mp4.\n",
      "Moviepy - Writing video /Users/vedantpadole/Desktop/Research/ASL_MY_DATASET/small/small (1)_augmented_shifting.mp4\n",
      "\n"
     ]
    },
    {
     "name": "stderr",
     "output_type": "stream",
     "text": [
      "                                                              \r"
     ]
    },
    {
     "name": "stdout",
     "output_type": "stream",
     "text": [
      "Moviepy - Done !\n",
      "Moviepy - video ready /Users/vedantpadole/Desktop/Research/ASL_MY_DATASET/small/small (1)_augmented_shifting.mp4\n",
      "Moviepy - Building video /Users/vedantpadole/Desktop/Research/ASL_MY_DATASET/small/small (1)_augmented_shifting.mp4.\n",
      "Moviepy - Writing video /Users/vedantpadole/Desktop/Research/ASL_MY_DATASET/small/small (1)_augmented_shifting.mp4\n",
      "\n"
     ]
    },
    {
     "name": "stderr",
     "output_type": "stream",
     "text": [
      "                                                              \r"
     ]
    },
    {
     "name": "stdout",
     "output_type": "stream",
     "text": [
      "Moviepy - Done !\n",
      "Moviepy - video ready /Users/vedantpadole/Desktop/Research/ASL_MY_DATASET/small/small (1)_augmented_shifting.mp4\n",
      "Moviepy - Building video /Users/vedantpadole/Desktop/Research/ASL_MY_DATASET/small/small (1)_augmented_shifting.mp4.\n",
      "Moviepy - Writing video /Users/vedantpadole/Desktop/Research/ASL_MY_DATASET/small/small (1)_augmented_shifting.mp4\n",
      "\n"
     ]
    },
    {
     "name": "stderr",
     "output_type": "stream",
     "text": [
      "                                                               \r"
     ]
    },
    {
     "name": "stdout",
     "output_type": "stream",
     "text": [
      "Moviepy - Done !\n",
      "Moviepy - video ready /Users/vedantpadole/Desktop/Research/ASL_MY_DATASET/small/small (1)_augmented_shifting.mp4\n",
      "Moviepy - Building video /Users/vedantpadole/Desktop/Research/ASL_MY_DATASET/small/SMALL-174_augmented_brightness.mp4.\n",
      "MoviePy - Writing audio in SMALL-174_augmented_brightnessTEMP_MPY_wvf_snd.mp3\n"
     ]
    },
    {
     "name": "stderr",
     "output_type": "stream",
     "text": [
      "                                                       \r"
     ]
    },
    {
     "name": "stdout",
     "output_type": "stream",
     "text": [
      "MoviePy - Done.\n",
      "Moviepy - Writing video /Users/vedantpadole/Desktop/Research/ASL_MY_DATASET/small/SMALL-174_augmented_brightness.mp4\n",
      "\n"
     ]
    },
    {
     "name": "stderr",
     "output_type": "stream",
     "text": [
      "                                                             \r"
     ]
    },
    {
     "name": "stdout",
     "output_type": "stream",
     "text": [
      "Moviepy - Done !\n",
      "Moviepy - video ready /Users/vedantpadole/Desktop/Research/ASL_MY_DATASET/small/SMALL-174_augmented_brightness.mp4\n",
      "Moviepy - Building video /Users/vedantpadole/Desktop/Research/ASL_MY_DATASET/small/SMALL-174_augmented_brightness.mp4.\n",
      "MoviePy - Writing audio in SMALL-174_augmented_brightnessTEMP_MPY_wvf_snd.mp3\n"
     ]
    },
    {
     "name": "stderr",
     "output_type": "stream",
     "text": [
      "                                                       \r"
     ]
    },
    {
     "name": "stdout",
     "output_type": "stream",
     "text": [
      "MoviePy - Done.\n",
      "Moviepy - Writing video /Users/vedantpadole/Desktop/Research/ASL_MY_DATASET/small/SMALL-174_augmented_brightness.mp4\n",
      "\n"
     ]
    },
    {
     "name": "stderr",
     "output_type": "stream",
     "text": [
      "                                                             \r"
     ]
    },
    {
     "name": "stdout",
     "output_type": "stream",
     "text": [
      "Moviepy - Done !\n",
      "Moviepy - video ready /Users/vedantpadole/Desktop/Research/ASL_MY_DATASET/small/SMALL-174_augmented_brightness.mp4\n",
      "Moviepy - Building video /Users/vedantpadole/Desktop/Research/ASL_MY_DATASET/small/SMALL-174_augmented_brightness.mp4.\n",
      "MoviePy - Writing audio in SMALL-174_augmented_brightnessTEMP_MPY_wvf_snd.mp3\n"
     ]
    },
    {
     "name": "stderr",
     "output_type": "stream",
     "text": [
      "                                                       \r"
     ]
    },
    {
     "name": "stdout",
     "output_type": "stream",
     "text": [
      "MoviePy - Done.\n",
      "Moviepy - Writing video /Users/vedantpadole/Desktop/Research/ASL_MY_DATASET/small/SMALL-174_augmented_brightness.mp4\n",
      "\n"
     ]
    },
    {
     "name": "stderr",
     "output_type": "stream",
     "text": [
      "                                                             \r"
     ]
    },
    {
     "name": "stdout",
     "output_type": "stream",
     "text": [
      "Moviepy - Done !\n",
      "Moviepy - video ready /Users/vedantpadole/Desktop/Research/ASL_MY_DATASET/small/SMALL-174_augmented_brightness.mp4\n",
      "Moviepy - Building video /Users/vedantpadole/Desktop/Research/ASL_MY_DATASET/small/SMALL-174_augmented_darkness.mp4.\n",
      "MoviePy - Writing audio in SMALL-174_augmented_darknessTEMP_MPY_wvf_snd.mp3\n"
     ]
    },
    {
     "name": "stderr",
     "output_type": "stream",
     "text": [
      "                                                       \r"
     ]
    },
    {
     "name": "stdout",
     "output_type": "stream",
     "text": [
      "MoviePy - Done.\n",
      "Moviepy - Writing video /Users/vedantpadole/Desktop/Research/ASL_MY_DATASET/small/SMALL-174_augmented_darkness.mp4\n",
      "\n"
     ]
    },
    {
     "name": "stderr",
     "output_type": "stream",
     "text": [
      "                                                             \r"
     ]
    },
    {
     "name": "stdout",
     "output_type": "stream",
     "text": [
      "Moviepy - Done !\n",
      "Moviepy - video ready /Users/vedantpadole/Desktop/Research/ASL_MY_DATASET/small/SMALL-174_augmented_darkness.mp4\n",
      "Moviepy - Building video /Users/vedantpadole/Desktop/Research/ASL_MY_DATASET/small/SMALL-174_augmented_darkness.mp4.\n",
      "MoviePy - Writing audio in SMALL-174_augmented_darknessTEMP_MPY_wvf_snd.mp3\n"
     ]
    },
    {
     "name": "stderr",
     "output_type": "stream",
     "text": [
      "                                                       \r"
     ]
    },
    {
     "name": "stdout",
     "output_type": "stream",
     "text": [
      "MoviePy - Done.\n",
      "Moviepy - Writing video /Users/vedantpadole/Desktop/Research/ASL_MY_DATASET/small/SMALL-174_augmented_darkness.mp4\n",
      "\n"
     ]
    },
    {
     "name": "stderr",
     "output_type": "stream",
     "text": [
      "                                                             \r"
     ]
    },
    {
     "name": "stdout",
     "output_type": "stream",
     "text": [
      "Moviepy - Done !\n",
      "Moviepy - video ready /Users/vedantpadole/Desktop/Research/ASL_MY_DATASET/small/SMALL-174_augmented_darkness.mp4\n",
      "Moviepy - Building video /Users/vedantpadole/Desktop/Research/ASL_MY_DATASET/small/SMALL-174_augmented_darkness.mp4.\n",
      "MoviePy - Writing audio in SMALL-174_augmented_darknessTEMP_MPY_wvf_snd.mp3\n"
     ]
    },
    {
     "name": "stderr",
     "output_type": "stream",
     "text": [
      "                                                       \r"
     ]
    },
    {
     "name": "stdout",
     "output_type": "stream",
     "text": [
      "MoviePy - Done.\n",
      "Moviepy - Writing video /Users/vedantpadole/Desktop/Research/ASL_MY_DATASET/small/SMALL-174_augmented_darkness.mp4\n",
      "\n"
     ]
    },
    {
     "name": "stderr",
     "output_type": "stream",
     "text": [
      "                                                             \r"
     ]
    },
    {
     "name": "stdout",
     "output_type": "stream",
     "text": [
      "Moviepy - Done !\n",
      "Moviepy - video ready /Users/vedantpadole/Desktop/Research/ASL_MY_DATASET/small/SMALL-174_augmented_darkness.mp4\n",
      "Moviepy - Building video /Users/vedantpadole/Desktop/Research/ASL_MY_DATASET/small/SMALL-174_augmented_speed.mp4.\n",
      "MoviePy - Writing audio in SMALL-174_augmented_speedTEMP_MPY_wvf_snd.mp3\n"
     ]
    },
    {
     "name": "stderr",
     "output_type": "stream",
     "text": [
      "                                                       \r"
     ]
    },
    {
     "name": "stdout",
     "output_type": "stream",
     "text": [
      "MoviePy - Done.\n",
      "Moviepy - Writing video /Users/vedantpadole/Desktop/Research/ASL_MY_DATASET/small/SMALL-174_augmented_speed.mp4\n",
      "\n"
     ]
    },
    {
     "name": "stderr",
     "output_type": "stream",
     "text": [
      "                                                             \r"
     ]
    },
    {
     "name": "stdout",
     "output_type": "stream",
     "text": [
      "Moviepy - Done !\n",
      "Moviepy - video ready /Users/vedantpadole/Desktop/Research/ASL_MY_DATASET/small/SMALL-174_augmented_speed.mp4\n",
      "Moviepy - Building video /Users/vedantpadole/Desktop/Research/ASL_MY_DATASET/small/SMALL-174_augmented_speed.mp4.\n",
      "MoviePy - Writing audio in SMALL-174_augmented_speedTEMP_MPY_wvf_snd.mp3\n"
     ]
    },
    {
     "name": "stderr",
     "output_type": "stream",
     "text": [
      "                                                       \r"
     ]
    },
    {
     "name": "stdout",
     "output_type": "stream",
     "text": [
      "MoviePy - Done.\n",
      "Moviepy - Writing video /Users/vedantpadole/Desktop/Research/ASL_MY_DATASET/small/SMALL-174_augmented_speed.mp4\n",
      "\n"
     ]
    },
    {
     "name": "stderr",
     "output_type": "stream",
     "text": [
      "                                                             \r"
     ]
    },
    {
     "name": "stdout",
     "output_type": "stream",
     "text": [
      "Moviepy - Done !\n",
      "Moviepy - video ready /Users/vedantpadole/Desktop/Research/ASL_MY_DATASET/small/SMALL-174_augmented_speed.mp4\n",
      "Moviepy - Building video /Users/vedantpadole/Desktop/Research/ASL_MY_DATASET/small/SMALL-174_augmented_speed.mp4.\n",
      "MoviePy - Writing audio in SMALL-174_augmented_speedTEMP_MPY_wvf_snd.mp3\n"
     ]
    },
    {
     "name": "stderr",
     "output_type": "stream",
     "text": [
      "                                                       \r"
     ]
    },
    {
     "name": "stdout",
     "output_type": "stream",
     "text": [
      "MoviePy - Done.\n",
      "Moviepy - Writing video /Users/vedantpadole/Desktop/Research/ASL_MY_DATASET/small/SMALL-174_augmented_speed.mp4\n",
      "\n"
     ]
    },
    {
     "name": "stderr",
     "output_type": "stream",
     "text": [
      "                                                             \r"
     ]
    },
    {
     "name": "stdout",
     "output_type": "stream",
     "text": [
      "Moviepy - Done !\n",
      "Moviepy - video ready /Users/vedantpadole/Desktop/Research/ASL_MY_DATASET/small/SMALL-174_augmented_speed.mp4\n",
      "Moviepy - Building video /Users/vedantpadole/Desktop/Research/ASL_MY_DATASET/small/SMALL-174_augmented_shifting.mp4.\n",
      "MoviePy - Writing audio in SMALL-174_augmented_shiftingTEMP_MPY_wvf_snd.mp3\n"
     ]
    },
    {
     "name": "stderr",
     "output_type": "stream",
     "text": [
      "                                                       \r"
     ]
    },
    {
     "name": "stdout",
     "output_type": "stream",
     "text": [
      "MoviePy - Done.\n",
      "Moviepy - Writing video /Users/vedantpadole/Desktop/Research/ASL_MY_DATASET/small/SMALL-174_augmented_shifting.mp4\n",
      "\n"
     ]
    },
    {
     "name": "stderr",
     "output_type": "stream",
     "text": [
      "                                                             \r"
     ]
    },
    {
     "name": "stdout",
     "output_type": "stream",
     "text": [
      "Moviepy - Done !\n",
      "Moviepy - video ready /Users/vedantpadole/Desktop/Research/ASL_MY_DATASET/small/SMALL-174_augmented_shifting.mp4\n",
      "Moviepy - Building video /Users/vedantpadole/Desktop/Research/ASL_MY_DATASET/small/SMALL-174_augmented_shifting.mp4.\n",
      "MoviePy - Writing audio in SMALL-174_augmented_shiftingTEMP_MPY_wvf_snd.mp3\n"
     ]
    },
    {
     "name": "stderr",
     "output_type": "stream",
     "text": [
      "                                                       \r"
     ]
    },
    {
     "name": "stdout",
     "output_type": "stream",
     "text": [
      "MoviePy - Done.\n",
      "Moviepy - Writing video /Users/vedantpadole/Desktop/Research/ASL_MY_DATASET/small/SMALL-174_augmented_shifting.mp4\n",
      "\n"
     ]
    },
    {
     "name": "stderr",
     "output_type": "stream",
     "text": [
      "                                                            \r"
     ]
    },
    {
     "name": "stdout",
     "output_type": "stream",
     "text": [
      "Moviepy - Done !\n",
      "Moviepy - video ready /Users/vedantpadole/Desktop/Research/ASL_MY_DATASET/small/SMALL-174_augmented_shifting.mp4\n",
      "Moviepy - Building video /Users/vedantpadole/Desktop/Research/ASL_MY_DATASET/small/SMALL-174_augmented_shifting.mp4.\n",
      "MoviePy - Writing audio in SMALL-174_augmented_shiftingTEMP_MPY_wvf_snd.mp3\n"
     ]
    },
    {
     "name": "stderr",
     "output_type": "stream",
     "text": [
      "                                                       \r"
     ]
    },
    {
     "name": "stdout",
     "output_type": "stream",
     "text": [
      "MoviePy - Done.\n",
      "Moviepy - Writing video /Users/vedantpadole/Desktop/Research/ASL_MY_DATASET/small/SMALL-174_augmented_shifting.mp4\n",
      "\n"
     ]
    },
    {
     "name": "stderr",
     "output_type": "stream",
     "text": [
      "                                                             \r"
     ]
    },
    {
     "name": "stdout",
     "output_type": "stream",
     "text": [
      "Moviepy - Done !\n",
      "Moviepy - video ready /Users/vedantpadole/Desktop/Research/ASL_MY_DATASET/small/SMALL-174_augmented_shifting.mp4\n",
      "Moviepy - Building video /Users/vedantpadole/Desktop/Research/ASL_MY_DATASET/small/XyMBqE2og8k_augmented_brightness.mp4.\n",
      "Moviepy - Writing video /Users/vedantpadole/Desktop/Research/ASL_MY_DATASET/small/XyMBqE2og8k_augmented_brightness.mp4\n",
      "\n"
     ]
    },
    {
     "name": "stderr",
     "output_type": "stream",
     "text": [
      "                                                             \r"
     ]
    },
    {
     "name": "stdout",
     "output_type": "stream",
     "text": [
      "Moviepy - Done !\n",
      "Moviepy - video ready /Users/vedantpadole/Desktop/Research/ASL_MY_DATASET/small/XyMBqE2og8k_augmented_brightness.mp4\n",
      "Moviepy - Building video /Users/vedantpadole/Desktop/Research/ASL_MY_DATASET/small/XyMBqE2og8k_augmented_brightness.mp4.\n",
      "Moviepy - Writing video /Users/vedantpadole/Desktop/Research/ASL_MY_DATASET/small/XyMBqE2og8k_augmented_brightness.mp4\n",
      "\n"
     ]
    },
    {
     "name": "stderr",
     "output_type": "stream",
     "text": [
      "                                                             \r"
     ]
    },
    {
     "name": "stdout",
     "output_type": "stream",
     "text": [
      "Moviepy - Done !\n",
      "Moviepy - video ready /Users/vedantpadole/Desktop/Research/ASL_MY_DATASET/small/XyMBqE2og8k_augmented_brightness.mp4\n",
      "Moviepy - Building video /Users/vedantpadole/Desktop/Research/ASL_MY_DATASET/small/XyMBqE2og8k_augmented_brightness.mp4.\n",
      "Moviepy - Writing video /Users/vedantpadole/Desktop/Research/ASL_MY_DATASET/small/XyMBqE2og8k_augmented_brightness.mp4\n",
      "\n"
     ]
    },
    {
     "name": "stderr",
     "output_type": "stream",
     "text": [
      "                                                             \r"
     ]
    },
    {
     "name": "stdout",
     "output_type": "stream",
     "text": [
      "Moviepy - Done !\n",
      "Moviepy - video ready /Users/vedantpadole/Desktop/Research/ASL_MY_DATASET/small/XyMBqE2og8k_augmented_brightness.mp4\n",
      "Moviepy - Building video /Users/vedantpadole/Desktop/Research/ASL_MY_DATASET/small/XyMBqE2og8k_augmented_darkness.mp4.\n",
      "Moviepy - Writing video /Users/vedantpadole/Desktop/Research/ASL_MY_DATASET/small/XyMBqE2og8k_augmented_darkness.mp4\n",
      "\n"
     ]
    },
    {
     "name": "stderr",
     "output_type": "stream",
     "text": [
      "                                                             \r"
     ]
    },
    {
     "name": "stdout",
     "output_type": "stream",
     "text": [
      "Moviepy - Done !\n",
      "Moviepy - video ready /Users/vedantpadole/Desktop/Research/ASL_MY_DATASET/small/XyMBqE2og8k_augmented_darkness.mp4\n",
      "Moviepy - Building video /Users/vedantpadole/Desktop/Research/ASL_MY_DATASET/small/XyMBqE2og8k_augmented_darkness.mp4.\n",
      "Moviepy - Writing video /Users/vedantpadole/Desktop/Research/ASL_MY_DATASET/small/XyMBqE2og8k_augmented_darkness.mp4\n",
      "\n"
     ]
    },
    {
     "name": "stderr",
     "output_type": "stream",
     "text": [
      "                                                             \r"
     ]
    },
    {
     "name": "stdout",
     "output_type": "stream",
     "text": [
      "Moviepy - Done !\n",
      "Moviepy - video ready /Users/vedantpadole/Desktop/Research/ASL_MY_DATASET/small/XyMBqE2og8k_augmented_darkness.mp4\n",
      "Moviepy - Building video /Users/vedantpadole/Desktop/Research/ASL_MY_DATASET/small/XyMBqE2og8k_augmented_darkness.mp4.\n",
      "Moviepy - Writing video /Users/vedantpadole/Desktop/Research/ASL_MY_DATASET/small/XyMBqE2og8k_augmented_darkness.mp4\n",
      "\n"
     ]
    },
    {
     "name": "stderr",
     "output_type": "stream",
     "text": [
      "                                                             \r"
     ]
    },
    {
     "name": "stdout",
     "output_type": "stream",
     "text": [
      "Moviepy - Done !\n",
      "Moviepy - video ready /Users/vedantpadole/Desktop/Research/ASL_MY_DATASET/small/XyMBqE2og8k_augmented_darkness.mp4\n",
      "Moviepy - Building video /Users/vedantpadole/Desktop/Research/ASL_MY_DATASET/small/XyMBqE2og8k_augmented_speed.mp4.\n",
      "Moviepy - Writing video /Users/vedantpadole/Desktop/Research/ASL_MY_DATASET/small/XyMBqE2og8k_augmented_speed.mp4\n",
      "\n"
     ]
    },
    {
     "name": "stderr",
     "output_type": "stream",
     "text": [
      "                                                   \r"
     ]
    },
    {
     "name": "stdout",
     "output_type": "stream",
     "text": [
      "Moviepy - Done !\n",
      "Moviepy - video ready /Users/vedantpadole/Desktop/Research/ASL_MY_DATASET/small/XyMBqE2og8k_augmented_speed.mp4\n",
      "Moviepy - Building video /Users/vedantpadole/Desktop/Research/ASL_MY_DATASET/small/XyMBqE2og8k_augmented_speed.mp4.\n",
      "Moviepy - Writing video /Users/vedantpadole/Desktop/Research/ASL_MY_DATASET/small/XyMBqE2og8k_augmented_speed.mp4\n",
      "\n"
     ]
    },
    {
     "name": "stderr",
     "output_type": "stream",
     "text": [
      "                                                   \r"
     ]
    },
    {
     "name": "stdout",
     "output_type": "stream",
     "text": [
      "Moviepy - Done !\n",
      "Moviepy - video ready /Users/vedantpadole/Desktop/Research/ASL_MY_DATASET/small/XyMBqE2og8k_augmented_speed.mp4\n",
      "Moviepy - Building video /Users/vedantpadole/Desktop/Research/ASL_MY_DATASET/small/XyMBqE2og8k_augmented_speed.mp4.\n",
      "Moviepy - Writing video /Users/vedantpadole/Desktop/Research/ASL_MY_DATASET/small/XyMBqE2og8k_augmented_speed.mp4\n",
      "\n"
     ]
    },
    {
     "name": "stderr",
     "output_type": "stream",
     "text": [
      "                                                             \r"
     ]
    },
    {
     "name": "stdout",
     "output_type": "stream",
     "text": [
      "Moviepy - Done !\n",
      "Moviepy - video ready /Users/vedantpadole/Desktop/Research/ASL_MY_DATASET/small/XyMBqE2og8k_augmented_speed.mp4\n",
      "Moviepy - Building video /Users/vedantpadole/Desktop/Research/ASL_MY_DATASET/small/XyMBqE2og8k_augmented_shifting.mp4.\n",
      "Moviepy - Writing video /Users/vedantpadole/Desktop/Research/ASL_MY_DATASET/small/XyMBqE2og8k_augmented_shifting.mp4\n",
      "\n"
     ]
    },
    {
     "name": "stderr",
     "output_type": "stream",
     "text": [
      "                                                             \r"
     ]
    },
    {
     "name": "stdout",
     "output_type": "stream",
     "text": [
      "Moviepy - Done !\n",
      "Moviepy - video ready /Users/vedantpadole/Desktop/Research/ASL_MY_DATASET/small/XyMBqE2og8k_augmented_shifting.mp4\n",
      "Moviepy - Building video /Users/vedantpadole/Desktop/Research/ASL_MY_DATASET/small/XyMBqE2og8k_augmented_shifting.mp4.\n",
      "Moviepy - Writing video /Users/vedantpadole/Desktop/Research/ASL_MY_DATASET/small/XyMBqE2og8k_augmented_shifting.mp4\n",
      "\n"
     ]
    },
    {
     "name": "stderr",
     "output_type": "stream",
     "text": [
      "                                                             \r"
     ]
    },
    {
     "name": "stdout",
     "output_type": "stream",
     "text": [
      "Moviepy - Done !\n",
      "Moviepy - video ready /Users/vedantpadole/Desktop/Research/ASL_MY_DATASET/small/XyMBqE2og8k_augmented_shifting.mp4\n",
      "Moviepy - Building video /Users/vedantpadole/Desktop/Research/ASL_MY_DATASET/small/XyMBqE2og8k_augmented_shifting.mp4.\n",
      "Moviepy - Writing video /Users/vedantpadole/Desktop/Research/ASL_MY_DATASET/small/XyMBqE2og8k_augmented_shifting.mp4\n",
      "\n"
     ]
    },
    {
     "name": "stderr",
     "output_type": "stream",
     "text": [
      "                                                             \r"
     ]
    },
    {
     "name": "stdout",
     "output_type": "stream",
     "text": [
      "Moviepy - Done !\n",
      "Moviepy - video ready /Users/vedantpadole/Desktop/Research/ASL_MY_DATASET/small/XyMBqE2og8k_augmented_shifting.mp4\n"
     ]
    }
   ],
   "source": [
    "import os\n",
    "from moviepy.editor import *\n",
    "from scipy.ndimage import gaussian_filter\n",
    "\n",
    "# Set input and output directories\n",
    "input_dir = '/Users/vedantpadole/Desktop/Research/ASL_MY_DATASET/small'\n",
    "output_dir = input_dir\n",
    "\n",
    "# Get a list of all the video files in the input directory\n",
    "video_files = [f for f in os.listdir(input_dir) if f.endswith('.mp4')]\n",
    "\n",
    "# Loop through each video file\n",
    "for video_file in video_files:\n",
    "    # Load the video clip\n",
    "    clip = VideoFileClip(os.path.join(input_dir, video_file))\n",
    "\n",
    "    # Define the augmentations\n",
    "    augmentations = [\n",
    "        ('brightness', lambda c: c.fx(vfx.colorx, 1.5)),\n",
    "        ('brightness', lambda c: c.fx(vfx.colorx, 1.75)),\n",
    "        ('brightness', lambda c: c.fx(vfx.colorx, 1.25)),\n",
    "        ('darkness', lambda c: c.fx(vfx.colorx, 0.5)),\n",
    "        ('darkness', lambda c: c.fx(vfx.colorx, 0.75)),\n",
    "        ('darkness', lambda c: c.fx(vfx.colorx, 0.8)),\n",
    "        ('speed', lambda c: c.fx(vfx.speedx, 2)),\n",
    "        ('speed', lambda c: c.fx(vfx.speedx, 1.2)),\n",
    "        ('speed', lambda c: c.fx(vfx.speedx, 1.5)),\n",
    "        ('shifting', lambda c: c.fx(vfx.crop, x1=10, y1=10)),\n",
    "        ('shifting', lambda c: c.fx(vfx.crop, x1=20, y1=20)),\n",
    "        ('shifting', lambda c: c.fx(vfx.crop, x1=30, y1=30))\n",
    "    ]\n",
    "\n",
    "    # Apply each augmentation and save the output video\n",
    "    for i, (name, effect) in enumerate(augmentations):\n",
    "        # Apply the effect to the clip\n",
    "        augmented_clip = effect(clip)\n",
    "\n",
    "        # Set the output filename\n",
    "        output_filename = f'{os.path.splitext(video_file)[0]}_augmented_{name}.mp4'\n",
    "        output_path = os.path.join(output_dir, output_filename)\n",
    "\n",
    "        # Save the augmented video\n",
    "        augmented_clip.write_videofile(output_path)\n",
    "\n",
    "    # Close the input video clip\n",
    "    clip.close()\n"
   ]
  },
  {
   "cell_type": "code",
   "execution_count": 11,
   "metadata": {},
   "outputs": [
    {
     "name": "stdout",
     "output_type": "stream",
     "text": [
      "Moviepy - Building video /Users/vedantpadole/Desktop/Research/ASL_MY_DATASET/sweet/nh0r3qv8MEs_augmented_brightness.mp4.\n",
      "Moviepy - Writing video /Users/vedantpadole/Desktop/Research/ASL_MY_DATASET/sweet/nh0r3qv8MEs_augmented_brightness.mp4\n",
      "\n"
     ]
    },
    {
     "name": "stderr",
     "output_type": "stream",
     "text": [
      "                                                             \r"
     ]
    },
    {
     "name": "stdout",
     "output_type": "stream",
     "text": [
      "Moviepy - Done !\n",
      "Moviepy - video ready /Users/vedantpadole/Desktop/Research/ASL_MY_DATASET/sweet/nh0r3qv8MEs_augmented_brightness.mp4\n",
      "Moviepy - Building video /Users/vedantpadole/Desktop/Research/ASL_MY_DATASET/sweet/nh0r3qv8MEs_augmented_brightness.mp4.\n",
      "Moviepy - Writing video /Users/vedantpadole/Desktop/Research/ASL_MY_DATASET/sweet/nh0r3qv8MEs_augmented_brightness.mp4\n",
      "\n"
     ]
    },
    {
     "name": "stderr",
     "output_type": "stream",
     "text": [
      "                                                             \r"
     ]
    },
    {
     "name": "stdout",
     "output_type": "stream",
     "text": [
      "Moviepy - Done !\n",
      "Moviepy - video ready /Users/vedantpadole/Desktop/Research/ASL_MY_DATASET/sweet/nh0r3qv8MEs_augmented_brightness.mp4\n",
      "Moviepy - Building video /Users/vedantpadole/Desktop/Research/ASL_MY_DATASET/sweet/nh0r3qv8MEs_augmented_brightness.mp4.\n",
      "Moviepy - Writing video /Users/vedantpadole/Desktop/Research/ASL_MY_DATASET/sweet/nh0r3qv8MEs_augmented_brightness.mp4\n",
      "\n"
     ]
    },
    {
     "name": "stderr",
     "output_type": "stream",
     "text": [
      "                                                             \r"
     ]
    },
    {
     "name": "stdout",
     "output_type": "stream",
     "text": [
      "Moviepy - Done !\n",
      "Moviepy - video ready /Users/vedantpadole/Desktop/Research/ASL_MY_DATASET/sweet/nh0r3qv8MEs_augmented_brightness.mp4\n",
      "Moviepy - Building video /Users/vedantpadole/Desktop/Research/ASL_MY_DATASET/sweet/nh0r3qv8MEs_augmented_darkness.mp4.\n",
      "Moviepy - Writing video /Users/vedantpadole/Desktop/Research/ASL_MY_DATASET/sweet/nh0r3qv8MEs_augmented_darkness.mp4\n",
      "\n"
     ]
    },
    {
     "name": "stderr",
     "output_type": "stream",
     "text": [
      "                                                             \r"
     ]
    },
    {
     "name": "stdout",
     "output_type": "stream",
     "text": [
      "Moviepy - Done !\n",
      "Moviepy - video ready /Users/vedantpadole/Desktop/Research/ASL_MY_DATASET/sweet/nh0r3qv8MEs_augmented_darkness.mp4\n",
      "Moviepy - Building video /Users/vedantpadole/Desktop/Research/ASL_MY_DATASET/sweet/nh0r3qv8MEs_augmented_darkness.mp4.\n",
      "Moviepy - Writing video /Users/vedantpadole/Desktop/Research/ASL_MY_DATASET/sweet/nh0r3qv8MEs_augmented_darkness.mp4\n",
      "\n"
     ]
    },
    {
     "name": "stderr",
     "output_type": "stream",
     "text": [
      "                                                             \r"
     ]
    },
    {
     "name": "stdout",
     "output_type": "stream",
     "text": [
      "Moviepy - Done !\n",
      "Moviepy - video ready /Users/vedantpadole/Desktop/Research/ASL_MY_DATASET/sweet/nh0r3qv8MEs_augmented_darkness.mp4\n",
      "Moviepy - Building video /Users/vedantpadole/Desktop/Research/ASL_MY_DATASET/sweet/nh0r3qv8MEs_augmented_darkness.mp4.\n",
      "Moviepy - Writing video /Users/vedantpadole/Desktop/Research/ASL_MY_DATASET/sweet/nh0r3qv8MEs_augmented_darkness.mp4\n",
      "\n"
     ]
    },
    {
     "name": "stderr",
     "output_type": "stream",
     "text": [
      "                                                             \r"
     ]
    },
    {
     "name": "stdout",
     "output_type": "stream",
     "text": [
      "Moviepy - Done !\n",
      "Moviepy - video ready /Users/vedantpadole/Desktop/Research/ASL_MY_DATASET/sweet/nh0r3qv8MEs_augmented_darkness.mp4\n",
      "Moviepy - Building video /Users/vedantpadole/Desktop/Research/ASL_MY_DATASET/sweet/nh0r3qv8MEs_augmented_speed.mp4.\n",
      "Moviepy - Writing video /Users/vedantpadole/Desktop/Research/ASL_MY_DATASET/sweet/nh0r3qv8MEs_augmented_speed.mp4\n",
      "\n"
     ]
    },
    {
     "name": "stderr",
     "output_type": "stream",
     "text": [
      "                                                             \r"
     ]
    },
    {
     "name": "stdout",
     "output_type": "stream",
     "text": [
      "Moviepy - Done !\n",
      "Moviepy - video ready /Users/vedantpadole/Desktop/Research/ASL_MY_DATASET/sweet/nh0r3qv8MEs_augmented_speed.mp4\n",
      "Moviepy - Building video /Users/vedantpadole/Desktop/Research/ASL_MY_DATASET/sweet/nh0r3qv8MEs_augmented_speed.mp4.\n",
      "Moviepy - Writing video /Users/vedantpadole/Desktop/Research/ASL_MY_DATASET/sweet/nh0r3qv8MEs_augmented_speed.mp4\n",
      "\n"
     ]
    },
    {
     "name": "stderr",
     "output_type": "stream",
     "text": [
      "                                                             \r"
     ]
    },
    {
     "name": "stdout",
     "output_type": "stream",
     "text": [
      "Moviepy - Done !\n",
      "Moviepy - video ready /Users/vedantpadole/Desktop/Research/ASL_MY_DATASET/sweet/nh0r3qv8MEs_augmented_speed.mp4\n",
      "Moviepy - Building video /Users/vedantpadole/Desktop/Research/ASL_MY_DATASET/sweet/nh0r3qv8MEs_augmented_speed.mp4.\n",
      "Moviepy - Writing video /Users/vedantpadole/Desktop/Research/ASL_MY_DATASET/sweet/nh0r3qv8MEs_augmented_speed.mp4\n",
      "\n"
     ]
    },
    {
     "name": "stderr",
     "output_type": "stream",
     "text": [
      "                                                             \r"
     ]
    },
    {
     "name": "stdout",
     "output_type": "stream",
     "text": [
      "Moviepy - Done !\n",
      "Moviepy - video ready /Users/vedantpadole/Desktop/Research/ASL_MY_DATASET/sweet/nh0r3qv8MEs_augmented_speed.mp4\n",
      "Moviepy - Building video /Users/vedantpadole/Desktop/Research/ASL_MY_DATASET/sweet/nh0r3qv8MEs_augmented_shifting.mp4.\n",
      "Moviepy - Writing video /Users/vedantpadole/Desktop/Research/ASL_MY_DATASET/sweet/nh0r3qv8MEs_augmented_shifting.mp4\n",
      "\n"
     ]
    },
    {
     "name": "stderr",
     "output_type": "stream",
     "text": [
      "                                                            \r"
     ]
    },
    {
     "name": "stdout",
     "output_type": "stream",
     "text": [
      "Moviepy - Done !\n",
      "Moviepy - video ready /Users/vedantpadole/Desktop/Research/ASL_MY_DATASET/sweet/nh0r3qv8MEs_augmented_shifting.mp4\n",
      "Moviepy - Building video /Users/vedantpadole/Desktop/Research/ASL_MY_DATASET/sweet/nh0r3qv8MEs_augmented_shifting.mp4.\n",
      "Moviepy - Writing video /Users/vedantpadole/Desktop/Research/ASL_MY_DATASET/sweet/nh0r3qv8MEs_augmented_shifting.mp4\n",
      "\n"
     ]
    },
    {
     "name": "stderr",
     "output_type": "stream",
     "text": [
      "                                                            \r"
     ]
    },
    {
     "name": "stdout",
     "output_type": "stream",
     "text": [
      "Moviepy - Done !\n",
      "Moviepy - video ready /Users/vedantpadole/Desktop/Research/ASL_MY_DATASET/sweet/nh0r3qv8MEs_augmented_shifting.mp4\n",
      "Moviepy - Building video /Users/vedantpadole/Desktop/Research/ASL_MY_DATASET/sweet/nh0r3qv8MEs_augmented_shifting.mp4.\n",
      "Moviepy - Writing video /Users/vedantpadole/Desktop/Research/ASL_MY_DATASET/sweet/nh0r3qv8MEs_augmented_shifting.mp4\n",
      "\n"
     ]
    },
    {
     "name": "stderr",
     "output_type": "stream",
     "text": [
      "                                                             \r"
     ]
    },
    {
     "name": "stdout",
     "output_type": "stream",
     "text": [
      "Moviepy - Done !\n",
      "Moviepy - video ready /Users/vedantpadole/Desktop/Research/ASL_MY_DATASET/sweet/nh0r3qv8MEs_augmented_shifting.mp4\n",
      "Moviepy - Building video /Users/vedantpadole/Desktop/Research/ASL_MY_DATASET/sweet/dessert 2_augmented_brightness.mp4.\n",
      "Moviepy - Writing video /Users/vedantpadole/Desktop/Research/ASL_MY_DATASET/sweet/dessert 2_augmented_brightness.mp4\n",
      "\n"
     ]
    },
    {
     "name": "stderr",
     "output_type": "stream",
     "text": [
      "                                                              \r"
     ]
    },
    {
     "name": "stdout",
     "output_type": "stream",
     "text": [
      "Moviepy - Done !\n",
      "Moviepy - video ready /Users/vedantpadole/Desktop/Research/ASL_MY_DATASET/sweet/dessert 2_augmented_brightness.mp4\n",
      "Moviepy - Building video /Users/vedantpadole/Desktop/Research/ASL_MY_DATASET/sweet/dessert 2_augmented_brightness.mp4.\n",
      "Moviepy - Writing video /Users/vedantpadole/Desktop/Research/ASL_MY_DATASET/sweet/dessert 2_augmented_brightness.mp4\n",
      "\n"
     ]
    },
    {
     "name": "stderr",
     "output_type": "stream",
     "text": [
      "                                                              \r"
     ]
    },
    {
     "name": "stdout",
     "output_type": "stream",
     "text": [
      "Moviepy - Done !\n",
      "Moviepy - video ready /Users/vedantpadole/Desktop/Research/ASL_MY_DATASET/sweet/dessert 2_augmented_brightness.mp4\n",
      "Moviepy - Building video /Users/vedantpadole/Desktop/Research/ASL_MY_DATASET/sweet/dessert 2_augmented_brightness.mp4.\n",
      "Moviepy - Writing video /Users/vedantpadole/Desktop/Research/ASL_MY_DATASET/sweet/dessert 2_augmented_brightness.mp4\n",
      "\n"
     ]
    },
    {
     "name": "stderr",
     "output_type": "stream",
     "text": [
      "                                                              \r"
     ]
    },
    {
     "name": "stdout",
     "output_type": "stream",
     "text": [
      "Moviepy - Done !\n",
      "Moviepy - video ready /Users/vedantpadole/Desktop/Research/ASL_MY_DATASET/sweet/dessert 2_augmented_brightness.mp4\n",
      "Moviepy - Building video /Users/vedantpadole/Desktop/Research/ASL_MY_DATASET/sweet/dessert 2_augmented_darkness.mp4.\n",
      "Moviepy - Writing video /Users/vedantpadole/Desktop/Research/ASL_MY_DATASET/sweet/dessert 2_augmented_darkness.mp4\n",
      "\n"
     ]
    },
    {
     "name": "stderr",
     "output_type": "stream",
     "text": [
      "                                                              \r"
     ]
    },
    {
     "name": "stdout",
     "output_type": "stream",
     "text": [
      "Moviepy - Done !\n",
      "Moviepy - video ready /Users/vedantpadole/Desktop/Research/ASL_MY_DATASET/sweet/dessert 2_augmented_darkness.mp4\n",
      "Moviepy - Building video /Users/vedantpadole/Desktop/Research/ASL_MY_DATASET/sweet/dessert 2_augmented_darkness.mp4.\n",
      "Moviepy - Writing video /Users/vedantpadole/Desktop/Research/ASL_MY_DATASET/sweet/dessert 2_augmented_darkness.mp4\n",
      "\n"
     ]
    },
    {
     "name": "stderr",
     "output_type": "stream",
     "text": [
      "                                                              \r"
     ]
    },
    {
     "name": "stdout",
     "output_type": "stream",
     "text": [
      "Moviepy - Done !\n",
      "Moviepy - video ready /Users/vedantpadole/Desktop/Research/ASL_MY_DATASET/sweet/dessert 2_augmented_darkness.mp4\n",
      "Moviepy - Building video /Users/vedantpadole/Desktop/Research/ASL_MY_DATASET/sweet/dessert 2_augmented_darkness.mp4.\n",
      "Moviepy - Writing video /Users/vedantpadole/Desktop/Research/ASL_MY_DATASET/sweet/dessert 2_augmented_darkness.mp4\n",
      "\n"
     ]
    },
    {
     "name": "stderr",
     "output_type": "stream",
     "text": [
      "                                                              \r"
     ]
    },
    {
     "name": "stdout",
     "output_type": "stream",
     "text": [
      "Moviepy - Done !\n",
      "Moviepy - video ready /Users/vedantpadole/Desktop/Research/ASL_MY_DATASET/sweet/dessert 2_augmented_darkness.mp4\n",
      "Moviepy - Building video /Users/vedantpadole/Desktop/Research/ASL_MY_DATASET/sweet/dessert 2_augmented_speed.mp4.\n",
      "Moviepy - Writing video /Users/vedantpadole/Desktop/Research/ASL_MY_DATASET/sweet/dessert 2_augmented_speed.mp4\n",
      "\n"
     ]
    },
    {
     "name": "stderr",
     "output_type": "stream",
     "text": [
      "                                                             \r"
     ]
    },
    {
     "name": "stdout",
     "output_type": "stream",
     "text": [
      "Moviepy - Done !\n",
      "Moviepy - video ready /Users/vedantpadole/Desktop/Research/ASL_MY_DATASET/sweet/dessert 2_augmented_speed.mp4\n",
      "Moviepy - Building video /Users/vedantpadole/Desktop/Research/ASL_MY_DATASET/sweet/dessert 2_augmented_speed.mp4.\n",
      "Moviepy - Writing video /Users/vedantpadole/Desktop/Research/ASL_MY_DATASET/sweet/dessert 2_augmented_speed.mp4\n",
      "\n"
     ]
    },
    {
     "name": "stderr",
     "output_type": "stream",
     "text": [
      "                                                             \r"
     ]
    },
    {
     "name": "stdout",
     "output_type": "stream",
     "text": [
      "Moviepy - Done !\n",
      "Moviepy - video ready /Users/vedantpadole/Desktop/Research/ASL_MY_DATASET/sweet/dessert 2_augmented_speed.mp4\n",
      "Moviepy - Building video /Users/vedantpadole/Desktop/Research/ASL_MY_DATASET/sweet/dessert 2_augmented_speed.mp4.\n",
      "Moviepy - Writing video /Users/vedantpadole/Desktop/Research/ASL_MY_DATASET/sweet/dessert 2_augmented_speed.mp4\n",
      "\n"
     ]
    },
    {
     "name": "stderr",
     "output_type": "stream",
     "text": [
      "                                                             \r"
     ]
    },
    {
     "name": "stdout",
     "output_type": "stream",
     "text": [
      "Moviepy - Done !\n",
      "Moviepy - video ready /Users/vedantpadole/Desktop/Research/ASL_MY_DATASET/sweet/dessert 2_augmented_speed.mp4\n",
      "Moviepy - Building video /Users/vedantpadole/Desktop/Research/ASL_MY_DATASET/sweet/dessert 2_augmented_shifting.mp4.\n",
      "Moviepy - Writing video /Users/vedantpadole/Desktop/Research/ASL_MY_DATASET/sweet/dessert 2_augmented_shifting.mp4\n",
      "\n"
     ]
    },
    {
     "name": "stderr",
     "output_type": "stream",
     "text": [
      "                                                              \r"
     ]
    },
    {
     "name": "stdout",
     "output_type": "stream",
     "text": [
      "Moviepy - Done !\n",
      "Moviepy - video ready /Users/vedantpadole/Desktop/Research/ASL_MY_DATASET/sweet/dessert 2_augmented_shifting.mp4\n",
      "Moviepy - Building video /Users/vedantpadole/Desktop/Research/ASL_MY_DATASET/sweet/dessert 2_augmented_shifting.mp4.\n",
      "Moviepy - Writing video /Users/vedantpadole/Desktop/Research/ASL_MY_DATASET/sweet/dessert 2_augmented_shifting.mp4\n",
      "\n"
     ]
    },
    {
     "name": "stderr",
     "output_type": "stream",
     "text": [
      "                                                              \r"
     ]
    },
    {
     "name": "stdout",
     "output_type": "stream",
     "text": [
      "Moviepy - Done !\n",
      "Moviepy - video ready /Users/vedantpadole/Desktop/Research/ASL_MY_DATASET/sweet/dessert 2_augmented_shifting.mp4\n",
      "Moviepy - Building video /Users/vedantpadole/Desktop/Research/ASL_MY_DATASET/sweet/dessert 2_augmented_shifting.mp4.\n",
      "Moviepy - Writing video /Users/vedantpadole/Desktop/Research/ASL_MY_DATASET/sweet/dessert 2_augmented_shifting.mp4\n",
      "\n"
     ]
    },
    {
     "name": "stderr",
     "output_type": "stream",
     "text": [
      "                                                              \r"
     ]
    },
    {
     "name": "stdout",
     "output_type": "stream",
     "text": [
      "Moviepy - Done !\n",
      "Moviepy - video ready /Users/vedantpadole/Desktop/Research/ASL_MY_DATASET/sweet/dessert 2_augmented_shifting.mp4\n",
      "Moviepy - Building video /Users/vedantpadole/Desktop/Research/ASL_MY_DATASET/sweet/dessert_augmented_brightness.mp4.\n",
      "Moviepy - Writing video /Users/vedantpadole/Desktop/Research/ASL_MY_DATASET/sweet/dessert_augmented_brightness.mp4\n",
      "\n"
     ]
    },
    {
     "name": "stderr",
     "output_type": "stream",
     "text": [
      "                                                             \r"
     ]
    },
    {
     "name": "stdout",
     "output_type": "stream",
     "text": [
      "Moviepy - Done !\n",
      "Moviepy - video ready /Users/vedantpadole/Desktop/Research/ASL_MY_DATASET/sweet/dessert_augmented_brightness.mp4\n",
      "Moviepy - Building video /Users/vedantpadole/Desktop/Research/ASL_MY_DATASET/sweet/dessert_augmented_brightness.mp4.\n",
      "Moviepy - Writing video /Users/vedantpadole/Desktop/Research/ASL_MY_DATASET/sweet/dessert_augmented_brightness.mp4\n",
      "\n"
     ]
    },
    {
     "name": "stderr",
     "output_type": "stream",
     "text": [
      "                                                             \r"
     ]
    },
    {
     "name": "stdout",
     "output_type": "stream",
     "text": [
      "Moviepy - Done !\n",
      "Moviepy - video ready /Users/vedantpadole/Desktop/Research/ASL_MY_DATASET/sweet/dessert_augmented_brightness.mp4\n",
      "Moviepy - Building video /Users/vedantpadole/Desktop/Research/ASL_MY_DATASET/sweet/dessert_augmented_brightness.mp4.\n",
      "Moviepy - Writing video /Users/vedantpadole/Desktop/Research/ASL_MY_DATASET/sweet/dessert_augmented_brightness.mp4\n",
      "\n"
     ]
    },
    {
     "name": "stderr",
     "output_type": "stream",
     "text": [
      "                                                             \r"
     ]
    },
    {
     "name": "stdout",
     "output_type": "stream",
     "text": [
      "Moviepy - Done !\n",
      "Moviepy - video ready /Users/vedantpadole/Desktop/Research/ASL_MY_DATASET/sweet/dessert_augmented_brightness.mp4\n",
      "Moviepy - Building video /Users/vedantpadole/Desktop/Research/ASL_MY_DATASET/sweet/dessert_augmented_darkness.mp4.\n",
      "Moviepy - Writing video /Users/vedantpadole/Desktop/Research/ASL_MY_DATASET/sweet/dessert_augmented_darkness.mp4\n",
      "\n"
     ]
    },
    {
     "name": "stderr",
     "output_type": "stream",
     "text": [
      "                                                             \r"
     ]
    },
    {
     "name": "stdout",
     "output_type": "stream",
     "text": [
      "Moviepy - Done !\n",
      "Moviepy - video ready /Users/vedantpadole/Desktop/Research/ASL_MY_DATASET/sweet/dessert_augmented_darkness.mp4\n",
      "Moviepy - Building video /Users/vedantpadole/Desktop/Research/ASL_MY_DATASET/sweet/dessert_augmented_darkness.mp4.\n",
      "Moviepy - Writing video /Users/vedantpadole/Desktop/Research/ASL_MY_DATASET/sweet/dessert_augmented_darkness.mp4\n",
      "\n"
     ]
    },
    {
     "name": "stderr",
     "output_type": "stream",
     "text": [
      "                                                             \r"
     ]
    },
    {
     "name": "stdout",
     "output_type": "stream",
     "text": [
      "Moviepy - Done !\n",
      "Moviepy - video ready /Users/vedantpadole/Desktop/Research/ASL_MY_DATASET/sweet/dessert_augmented_darkness.mp4\n",
      "Moviepy - Building video /Users/vedantpadole/Desktop/Research/ASL_MY_DATASET/sweet/dessert_augmented_darkness.mp4.\n",
      "Moviepy - Writing video /Users/vedantpadole/Desktop/Research/ASL_MY_DATASET/sweet/dessert_augmented_darkness.mp4\n",
      "\n"
     ]
    },
    {
     "name": "stderr",
     "output_type": "stream",
     "text": [
      "                                                             \r"
     ]
    },
    {
     "name": "stdout",
     "output_type": "stream",
     "text": [
      "Moviepy - Done !\n",
      "Moviepy - video ready /Users/vedantpadole/Desktop/Research/ASL_MY_DATASET/sweet/dessert_augmented_darkness.mp4\n",
      "Moviepy - Building video /Users/vedantpadole/Desktop/Research/ASL_MY_DATASET/sweet/dessert_augmented_speed.mp4.\n",
      "Moviepy - Writing video /Users/vedantpadole/Desktop/Research/ASL_MY_DATASET/sweet/dessert_augmented_speed.mp4\n",
      "\n"
     ]
    },
    {
     "name": "stderr",
     "output_type": "stream",
     "text": [
      "                                                             \r"
     ]
    },
    {
     "name": "stdout",
     "output_type": "stream",
     "text": [
      "Moviepy - Done !\n",
      "Moviepy - video ready /Users/vedantpadole/Desktop/Research/ASL_MY_DATASET/sweet/dessert_augmented_speed.mp4\n",
      "Moviepy - Building video /Users/vedantpadole/Desktop/Research/ASL_MY_DATASET/sweet/dessert_augmented_speed.mp4.\n",
      "Moviepy - Writing video /Users/vedantpadole/Desktop/Research/ASL_MY_DATASET/sweet/dessert_augmented_speed.mp4\n",
      "\n"
     ]
    },
    {
     "name": "stderr",
     "output_type": "stream",
     "text": [
      "                                                             \r"
     ]
    },
    {
     "name": "stdout",
     "output_type": "stream",
     "text": [
      "Moviepy - Done !\n",
      "Moviepy - video ready /Users/vedantpadole/Desktop/Research/ASL_MY_DATASET/sweet/dessert_augmented_speed.mp4\n",
      "Moviepy - Building video /Users/vedantpadole/Desktop/Research/ASL_MY_DATASET/sweet/dessert_augmented_speed.mp4.\n",
      "Moviepy - Writing video /Users/vedantpadole/Desktop/Research/ASL_MY_DATASET/sweet/dessert_augmented_speed.mp4\n",
      "\n"
     ]
    },
    {
     "name": "stderr",
     "output_type": "stream",
     "text": [
      "                                                             \r"
     ]
    },
    {
     "name": "stdout",
     "output_type": "stream",
     "text": [
      "Moviepy - Done !\n",
      "Moviepy - video ready /Users/vedantpadole/Desktop/Research/ASL_MY_DATASET/sweet/dessert_augmented_speed.mp4\n",
      "Moviepy - Building video /Users/vedantpadole/Desktop/Research/ASL_MY_DATASET/sweet/dessert_augmented_shifting.mp4.\n",
      "Moviepy - Writing video /Users/vedantpadole/Desktop/Research/ASL_MY_DATASET/sweet/dessert_augmented_shifting.mp4\n",
      "\n"
     ]
    },
    {
     "name": "stderr",
     "output_type": "stream",
     "text": [
      "                                                             \r"
     ]
    },
    {
     "name": "stdout",
     "output_type": "stream",
     "text": [
      "Moviepy - Done !\n",
      "Moviepy - video ready /Users/vedantpadole/Desktop/Research/ASL_MY_DATASET/sweet/dessert_augmented_shifting.mp4\n",
      "Moviepy - Building video /Users/vedantpadole/Desktop/Research/ASL_MY_DATASET/sweet/dessert_augmented_shifting.mp4.\n",
      "Moviepy - Writing video /Users/vedantpadole/Desktop/Research/ASL_MY_DATASET/sweet/dessert_augmented_shifting.mp4\n",
      "\n"
     ]
    },
    {
     "name": "stderr",
     "output_type": "stream",
     "text": [
      "                                                             \r"
     ]
    },
    {
     "name": "stdout",
     "output_type": "stream",
     "text": [
      "Moviepy - Done !\n",
      "Moviepy - video ready /Users/vedantpadole/Desktop/Research/ASL_MY_DATASET/sweet/dessert_augmented_shifting.mp4\n",
      "Moviepy - Building video /Users/vedantpadole/Desktop/Research/ASL_MY_DATASET/sweet/dessert_augmented_shifting.mp4.\n",
      "Moviepy - Writing video /Users/vedantpadole/Desktop/Research/ASL_MY_DATASET/sweet/dessert_augmented_shifting.mp4\n",
      "\n"
     ]
    },
    {
     "name": "stderr",
     "output_type": "stream",
     "text": [
      "                                                             \r"
     ]
    },
    {
     "name": "stdout",
     "output_type": "stream",
     "text": [
      "Moviepy - Done !\n",
      "Moviepy - video ready /Users/vedantpadole/Desktop/Research/ASL_MY_DATASET/sweet/dessert_augmented_shifting.mp4\n",
      "Moviepy - Building video /Users/vedantpadole/Desktop/Research/ASL_MY_DATASET/sweet/1659974262_augmented_brightness.mp4.\n",
      "Moviepy - Writing video /Users/vedantpadole/Desktop/Research/ASL_MY_DATASET/sweet/1659974262_augmented_brightness.mp4\n",
      "\n"
     ]
    },
    {
     "name": "stderr",
     "output_type": "stream",
     "text": [
      "                                                             \r"
     ]
    },
    {
     "name": "stdout",
     "output_type": "stream",
     "text": [
      "Moviepy - Done !\n",
      "Moviepy - video ready /Users/vedantpadole/Desktop/Research/ASL_MY_DATASET/sweet/1659974262_augmented_brightness.mp4\n",
      "Moviepy - Building video /Users/vedantpadole/Desktop/Research/ASL_MY_DATASET/sweet/1659974262_augmented_brightness.mp4.\n",
      "Moviepy - Writing video /Users/vedantpadole/Desktop/Research/ASL_MY_DATASET/sweet/1659974262_augmented_brightness.mp4\n",
      "\n"
     ]
    },
    {
     "name": "stderr",
     "output_type": "stream",
     "text": [
      "                                                             \r"
     ]
    },
    {
     "name": "stdout",
     "output_type": "stream",
     "text": [
      "Moviepy - Done !\n",
      "Moviepy - video ready /Users/vedantpadole/Desktop/Research/ASL_MY_DATASET/sweet/1659974262_augmented_brightness.mp4\n",
      "Moviepy - Building video /Users/vedantpadole/Desktop/Research/ASL_MY_DATASET/sweet/1659974262_augmented_brightness.mp4.\n",
      "Moviepy - Writing video /Users/vedantpadole/Desktop/Research/ASL_MY_DATASET/sweet/1659974262_augmented_brightness.mp4\n",
      "\n"
     ]
    },
    {
     "name": "stderr",
     "output_type": "stream",
     "text": [
      "                                                             \r"
     ]
    },
    {
     "name": "stdout",
     "output_type": "stream",
     "text": [
      "Moviepy - Done !\n",
      "Moviepy - video ready /Users/vedantpadole/Desktop/Research/ASL_MY_DATASET/sweet/1659974262_augmented_brightness.mp4\n",
      "Moviepy - Building video /Users/vedantpadole/Desktop/Research/ASL_MY_DATASET/sweet/1659974262_augmented_darkness.mp4.\n",
      "Moviepy - Writing video /Users/vedantpadole/Desktop/Research/ASL_MY_DATASET/sweet/1659974262_augmented_darkness.mp4\n",
      "\n"
     ]
    },
    {
     "name": "stderr",
     "output_type": "stream",
     "text": [
      "                                                             \r"
     ]
    },
    {
     "name": "stdout",
     "output_type": "stream",
     "text": [
      "Moviepy - Done !\n",
      "Moviepy - video ready /Users/vedantpadole/Desktop/Research/ASL_MY_DATASET/sweet/1659974262_augmented_darkness.mp4\n",
      "Moviepy - Building video /Users/vedantpadole/Desktop/Research/ASL_MY_DATASET/sweet/1659974262_augmented_darkness.mp4.\n",
      "Moviepy - Writing video /Users/vedantpadole/Desktop/Research/ASL_MY_DATASET/sweet/1659974262_augmented_darkness.mp4\n",
      "\n"
     ]
    },
    {
     "name": "stderr",
     "output_type": "stream",
     "text": [
      "                                                             \r"
     ]
    },
    {
     "name": "stdout",
     "output_type": "stream",
     "text": [
      "Moviepy - Done !\n",
      "Moviepy - video ready /Users/vedantpadole/Desktop/Research/ASL_MY_DATASET/sweet/1659974262_augmented_darkness.mp4\n",
      "Moviepy - Building video /Users/vedantpadole/Desktop/Research/ASL_MY_DATASET/sweet/1659974262_augmented_darkness.mp4.\n",
      "Moviepy - Writing video /Users/vedantpadole/Desktop/Research/ASL_MY_DATASET/sweet/1659974262_augmented_darkness.mp4\n",
      "\n"
     ]
    },
    {
     "name": "stderr",
     "output_type": "stream",
     "text": [
      "                                                             \r"
     ]
    },
    {
     "name": "stdout",
     "output_type": "stream",
     "text": [
      "Moviepy - Done !\n",
      "Moviepy - video ready /Users/vedantpadole/Desktop/Research/ASL_MY_DATASET/sweet/1659974262_augmented_darkness.mp4\n",
      "Moviepy - Building video /Users/vedantpadole/Desktop/Research/ASL_MY_DATASET/sweet/1659974262_augmented_speed.mp4.\n",
      "Moviepy - Writing video /Users/vedantpadole/Desktop/Research/ASL_MY_DATASET/sweet/1659974262_augmented_speed.mp4\n",
      "\n"
     ]
    },
    {
     "name": "stderr",
     "output_type": "stream",
     "text": [
      "                                                   \r"
     ]
    },
    {
     "name": "stdout",
     "output_type": "stream",
     "text": [
      "Moviepy - Done !\n",
      "Moviepy - video ready /Users/vedantpadole/Desktop/Research/ASL_MY_DATASET/sweet/1659974262_augmented_speed.mp4\n",
      "Moviepy - Building video /Users/vedantpadole/Desktop/Research/ASL_MY_DATASET/sweet/1659974262_augmented_speed.mp4.\n",
      "Moviepy - Writing video /Users/vedantpadole/Desktop/Research/ASL_MY_DATASET/sweet/1659974262_augmented_speed.mp4\n",
      "\n"
     ]
    },
    {
     "name": "stderr",
     "output_type": "stream",
     "text": [
      "                                                             \r"
     ]
    },
    {
     "name": "stdout",
     "output_type": "stream",
     "text": [
      "Moviepy - Done !\n",
      "Moviepy - video ready /Users/vedantpadole/Desktop/Research/ASL_MY_DATASET/sweet/1659974262_augmented_speed.mp4\n",
      "Moviepy - Building video /Users/vedantpadole/Desktop/Research/ASL_MY_DATASET/sweet/1659974262_augmented_speed.mp4.\n",
      "Moviepy - Writing video /Users/vedantpadole/Desktop/Research/ASL_MY_DATASET/sweet/1659974262_augmented_speed.mp4\n",
      "\n"
     ]
    },
    {
     "name": "stderr",
     "output_type": "stream",
     "text": [
      "                                                   \r"
     ]
    },
    {
     "name": "stdout",
     "output_type": "stream",
     "text": [
      "Moviepy - Done !\n",
      "Moviepy - video ready /Users/vedantpadole/Desktop/Research/ASL_MY_DATASET/sweet/1659974262_augmented_speed.mp4\n",
      "Moviepy - Building video /Users/vedantpadole/Desktop/Research/ASL_MY_DATASET/sweet/1659974262_augmented_shifting.mp4.\n",
      "Moviepy - Writing video /Users/vedantpadole/Desktop/Research/ASL_MY_DATASET/sweet/1659974262_augmented_shifting.mp4\n",
      "\n"
     ]
    },
    {
     "name": "stderr",
     "output_type": "stream",
     "text": [
      "                                                             \r"
     ]
    },
    {
     "name": "stdout",
     "output_type": "stream",
     "text": [
      "Moviepy - Done !\n",
      "Moviepy - video ready /Users/vedantpadole/Desktop/Research/ASL_MY_DATASET/sweet/1659974262_augmented_shifting.mp4\n",
      "Moviepy - Building video /Users/vedantpadole/Desktop/Research/ASL_MY_DATASET/sweet/1659974262_augmented_shifting.mp4.\n",
      "Moviepy - Writing video /Users/vedantpadole/Desktop/Research/ASL_MY_DATASET/sweet/1659974262_augmented_shifting.mp4\n",
      "\n"
     ]
    },
    {
     "name": "stderr",
     "output_type": "stream",
     "text": [
      "                                                             \r"
     ]
    },
    {
     "name": "stdout",
     "output_type": "stream",
     "text": [
      "Moviepy - Done !\n",
      "Moviepy - video ready /Users/vedantpadole/Desktop/Research/ASL_MY_DATASET/sweet/1659974262_augmented_shifting.mp4\n",
      "Moviepy - Building video /Users/vedantpadole/Desktop/Research/ASL_MY_DATASET/sweet/1659974262_augmented_shifting.mp4.\n",
      "Moviepy - Writing video /Users/vedantpadole/Desktop/Research/ASL_MY_DATASET/sweet/1659974262_augmented_shifting.mp4\n",
      "\n"
     ]
    },
    {
     "name": "stderr",
     "output_type": "stream",
     "text": [
      "                                                             \r"
     ]
    },
    {
     "name": "stdout",
     "output_type": "stream",
     "text": [
      "Moviepy - Done !\n",
      "Moviepy - video ready /Users/vedantpadole/Desktop/Research/ASL_MY_DATASET/sweet/1659974262_augmented_shifting.mp4\n"
     ]
    }
   ],
   "source": [
    "import os\n",
    "from moviepy.editor import *\n",
    "from scipy.ndimage import gaussian_filter\n",
    "\n",
    "# Set input and output directories\n",
    "input_dir = '/Users/vedantpadole/Desktop/Research/ASL_MY_DATASET/sweet'\n",
    "output_dir = input_dir\n",
    "\n",
    "# Get a list of all the video files in the input directory\n",
    "video_files = [f for f in os.listdir(input_dir) if f.endswith('.mp4')]\n",
    "\n",
    "# Loop through each video file\n",
    "for video_file in video_files:\n",
    "    # Load the video clip\n",
    "    clip = VideoFileClip(os.path.join(input_dir, video_file))\n",
    "\n",
    "    # Define the augmentations\n",
    "    augmentations = [\n",
    "        ('brightness', lambda c: c.fx(vfx.colorx, 1.5)),\n",
    "        ('brightness', lambda c: c.fx(vfx.colorx, 1.75)),\n",
    "        ('brightness', lambda c: c.fx(vfx.colorx, 1.25)),\n",
    "        ('darkness', lambda c: c.fx(vfx.colorx, 0.5)),\n",
    "        ('darkness', lambda c: c.fx(vfx.colorx, 0.75)),\n",
    "        ('darkness', lambda c: c.fx(vfx.colorx, 0.8)),\n",
    "        ('speed', lambda c: c.fx(vfx.speedx, 2)),\n",
    "        ('speed', lambda c: c.fx(vfx.speedx, 1.2)),\n",
    "        ('speed', lambda c: c.fx(vfx.speedx, 1.5)),\n",
    "        ('shifting', lambda c: c.fx(vfx.crop, x1=10, y1=10)),\n",
    "        ('shifting', lambda c: c.fx(vfx.crop, x1=20, y1=20)),\n",
    "        ('shifting', lambda c: c.fx(vfx.crop, x1=30, y1=30))\n",
    "    ]\n",
    "\n",
    "    # Apply each augmentation and save the output video\n",
    "    for i, (name, effect) in enumerate(augmentations):\n",
    "        # Apply the effect to the clip\n",
    "        augmented_clip = effect(clip)\n",
    "\n",
    "        # Set the output filename\n",
    "        output_filename = f'{os.path.splitext(video_file)[0]}_augmented_{name}.mp4'\n",
    "        output_path = os.path.join(output_dir, output_filename)\n",
    "\n",
    "        # Save the augmented video\n",
    "        augmented_clip.write_videofile(output_path)\n",
    "\n",
    "    # Close the input video clip\n",
    "    clip.close()\n"
   ]
  },
  {
   "cell_type": "code",
   "execution_count": 1,
   "metadata": {},
   "outputs": [
    {
     "name": "stdout",
     "output_type": "stream",
     "text": [
      "Moviepy - Building video /Users/vedantpadole/Desktop/Research/ASL_MY_DATASET/cup/nG2mw4Jjp94_augmented_brightness.mp4.\n",
      "Moviepy - Writing video /Users/vedantpadole/Desktop/Research/ASL_MY_DATASET/cup/nG2mw4Jjp94_augmented_brightness.mp4\n",
      "\n"
     ]
    },
    {
     "name": "stderr",
     "output_type": "stream",
     "text": [
      "                                                             \r"
     ]
    },
    {
     "name": "stdout",
     "output_type": "stream",
     "text": [
      "Moviepy - Done !\n",
      "Moviepy - video ready /Users/vedantpadole/Desktop/Research/ASL_MY_DATASET/cup/nG2mw4Jjp94_augmented_brightness.mp4\n",
      "Moviepy - Building video /Users/vedantpadole/Desktop/Research/ASL_MY_DATASET/cup/nG2mw4Jjp94_augmented_brightness.mp4.\n",
      "Moviepy - Writing video /Users/vedantpadole/Desktop/Research/ASL_MY_DATASET/cup/nG2mw4Jjp94_augmented_brightness.mp4\n",
      "\n"
     ]
    },
    {
     "name": "stderr",
     "output_type": "stream",
     "text": [
      "                                                             \r"
     ]
    },
    {
     "name": "stdout",
     "output_type": "stream",
     "text": [
      "Moviepy - Done !\n",
      "Moviepy - video ready /Users/vedantpadole/Desktop/Research/ASL_MY_DATASET/cup/nG2mw4Jjp94_augmented_brightness.mp4\n",
      "Moviepy - Building video /Users/vedantpadole/Desktop/Research/ASL_MY_DATASET/cup/nG2mw4Jjp94_augmented_brightness.mp4.\n",
      "Moviepy - Writing video /Users/vedantpadole/Desktop/Research/ASL_MY_DATASET/cup/nG2mw4Jjp94_augmented_brightness.mp4\n",
      "\n"
     ]
    },
    {
     "name": "stderr",
     "output_type": "stream",
     "text": [
      "                                                             \r"
     ]
    },
    {
     "name": "stdout",
     "output_type": "stream",
     "text": [
      "Moviepy - Done !\n",
      "Moviepy - video ready /Users/vedantpadole/Desktop/Research/ASL_MY_DATASET/cup/nG2mw4Jjp94_augmented_brightness.mp4\n",
      "Moviepy - Building video /Users/vedantpadole/Desktop/Research/ASL_MY_DATASET/cup/nG2mw4Jjp94_augmented_darkness.mp4.\n",
      "Moviepy - Writing video /Users/vedantpadole/Desktop/Research/ASL_MY_DATASET/cup/nG2mw4Jjp94_augmented_darkness.mp4\n",
      "\n"
     ]
    },
    {
     "name": "stderr",
     "output_type": "stream",
     "text": [
      "                                                             \r"
     ]
    },
    {
     "name": "stdout",
     "output_type": "stream",
     "text": [
      "Moviepy - Done !\n",
      "Moviepy - video ready /Users/vedantpadole/Desktop/Research/ASL_MY_DATASET/cup/nG2mw4Jjp94_augmented_darkness.mp4\n",
      "Moviepy - Building video /Users/vedantpadole/Desktop/Research/ASL_MY_DATASET/cup/nG2mw4Jjp94_augmented_darkness.mp4.\n",
      "Moviepy - Writing video /Users/vedantpadole/Desktop/Research/ASL_MY_DATASET/cup/nG2mw4Jjp94_augmented_darkness.mp4\n",
      "\n"
     ]
    },
    {
     "name": "stderr",
     "output_type": "stream",
     "text": [
      "                                                             \r"
     ]
    },
    {
     "name": "stdout",
     "output_type": "stream",
     "text": [
      "Moviepy - Done !\n",
      "Moviepy - video ready /Users/vedantpadole/Desktop/Research/ASL_MY_DATASET/cup/nG2mw4Jjp94_augmented_darkness.mp4\n",
      "Moviepy - Building video /Users/vedantpadole/Desktop/Research/ASL_MY_DATASET/cup/nG2mw4Jjp94_augmented_darkness.mp4.\n",
      "Moviepy - Writing video /Users/vedantpadole/Desktop/Research/ASL_MY_DATASET/cup/nG2mw4Jjp94_augmented_darkness.mp4\n",
      "\n"
     ]
    },
    {
     "name": "stderr",
     "output_type": "stream",
     "text": [
      "                                                             \r"
     ]
    },
    {
     "name": "stdout",
     "output_type": "stream",
     "text": [
      "Moviepy - Done !\n",
      "Moviepy - video ready /Users/vedantpadole/Desktop/Research/ASL_MY_DATASET/cup/nG2mw4Jjp94_augmented_darkness.mp4\n",
      "Moviepy - Building video /Users/vedantpadole/Desktop/Research/ASL_MY_DATASET/cup/nG2mw4Jjp94_augmented_speed.mp4.\n",
      "Moviepy - Writing video /Users/vedantpadole/Desktop/Research/ASL_MY_DATASET/cup/nG2mw4Jjp94_augmented_speed.mp4\n",
      "\n"
     ]
    },
    {
     "name": "stderr",
     "output_type": "stream",
     "text": [
      "                                                   \r"
     ]
    },
    {
     "name": "stdout",
     "output_type": "stream",
     "text": [
      "Moviepy - Done !\n",
      "Moviepy - video ready /Users/vedantpadole/Desktop/Research/ASL_MY_DATASET/cup/nG2mw4Jjp94_augmented_speed.mp4\n",
      "Moviepy - Building video /Users/vedantpadole/Desktop/Research/ASL_MY_DATASET/cup/nG2mw4Jjp94_augmented_speed.mp4.\n",
      "Moviepy - Writing video /Users/vedantpadole/Desktop/Research/ASL_MY_DATASET/cup/nG2mw4Jjp94_augmented_speed.mp4\n",
      "\n"
     ]
    },
    {
     "name": "stderr",
     "output_type": "stream",
     "text": [
      "                                                   \r"
     ]
    },
    {
     "name": "stdout",
     "output_type": "stream",
     "text": [
      "Moviepy - Done !\n",
      "Moviepy - video ready /Users/vedantpadole/Desktop/Research/ASL_MY_DATASET/cup/nG2mw4Jjp94_augmented_speed.mp4\n",
      "Moviepy - Building video /Users/vedantpadole/Desktop/Research/ASL_MY_DATASET/cup/nG2mw4Jjp94_augmented_speed.mp4.\n",
      "Moviepy - Writing video /Users/vedantpadole/Desktop/Research/ASL_MY_DATASET/cup/nG2mw4Jjp94_augmented_speed.mp4\n",
      "\n"
     ]
    },
    {
     "name": "stderr",
     "output_type": "stream",
     "text": [
      "                                                   \r"
     ]
    },
    {
     "name": "stdout",
     "output_type": "stream",
     "text": [
      "Moviepy - Done !\n",
      "Moviepy - video ready /Users/vedantpadole/Desktop/Research/ASL_MY_DATASET/cup/nG2mw4Jjp94_augmented_speed.mp4\n",
      "Moviepy - Building video /Users/vedantpadole/Desktop/Research/ASL_MY_DATASET/cup/nG2mw4Jjp94_augmented_shifting.mp4.\n",
      "Moviepy - Writing video /Users/vedantpadole/Desktop/Research/ASL_MY_DATASET/cup/nG2mw4Jjp94_augmented_shifting.mp4\n",
      "\n"
     ]
    },
    {
     "name": "stderr",
     "output_type": "stream",
     "text": [
      "                                                             \r"
     ]
    },
    {
     "name": "stdout",
     "output_type": "stream",
     "text": [
      "Moviepy - Done !\n",
      "Moviepy - video ready /Users/vedantpadole/Desktop/Research/ASL_MY_DATASET/cup/nG2mw4Jjp94_augmented_shifting.mp4\n",
      "Moviepy - Building video /Users/vedantpadole/Desktop/Research/ASL_MY_DATASET/cup/nG2mw4Jjp94_augmented_shifting.mp4.\n",
      "Moviepy - Writing video /Users/vedantpadole/Desktop/Research/ASL_MY_DATASET/cup/nG2mw4Jjp94_augmented_shifting.mp4\n",
      "\n"
     ]
    },
    {
     "name": "stderr",
     "output_type": "stream",
     "text": [
      "                                                             \r"
     ]
    },
    {
     "name": "stdout",
     "output_type": "stream",
     "text": [
      "Moviepy - Done !\n",
      "Moviepy - video ready /Users/vedantpadole/Desktop/Research/ASL_MY_DATASET/cup/nG2mw4Jjp94_augmented_shifting.mp4\n",
      "Moviepy - Building video /Users/vedantpadole/Desktop/Research/ASL_MY_DATASET/cup/nG2mw4Jjp94_augmented_shifting.mp4.\n",
      "Moviepy - Writing video /Users/vedantpadole/Desktop/Research/ASL_MY_DATASET/cup/nG2mw4Jjp94_augmented_shifting.mp4\n",
      "\n"
     ]
    },
    {
     "name": "stderr",
     "output_type": "stream",
     "text": [
      "                                                             \r"
     ]
    },
    {
     "name": "stdout",
     "output_type": "stream",
     "text": [
      "Moviepy - Done !\n",
      "Moviepy - video ready /Users/vedantpadole/Desktop/Research/ASL_MY_DATASET/cup/nG2mw4Jjp94_augmented_shifting.mp4\n",
      "Moviepy - Building video /Users/vedantpadole/Desktop/Research/ASL_MY_DATASET/cup/cup_augmented_brightness.mp4.\n",
      "Moviepy - Writing video /Users/vedantpadole/Desktop/Research/ASL_MY_DATASET/cup/cup_augmented_brightness.mp4\n",
      "\n"
     ]
    },
    {
     "name": "stderr",
     "output_type": "stream",
     "text": [
      "                                                             \r"
     ]
    },
    {
     "name": "stdout",
     "output_type": "stream",
     "text": [
      "Moviepy - Done !\n",
      "Moviepy - video ready /Users/vedantpadole/Desktop/Research/ASL_MY_DATASET/cup/cup_augmented_brightness.mp4\n",
      "Moviepy - Building video /Users/vedantpadole/Desktop/Research/ASL_MY_DATASET/cup/cup_augmented_brightness.mp4.\n",
      "Moviepy - Writing video /Users/vedantpadole/Desktop/Research/ASL_MY_DATASET/cup/cup_augmented_brightness.mp4\n",
      "\n"
     ]
    },
    {
     "name": "stderr",
     "output_type": "stream",
     "text": [
      "                                                             \r"
     ]
    },
    {
     "name": "stdout",
     "output_type": "stream",
     "text": [
      "Moviepy - Done !\n",
      "Moviepy - video ready /Users/vedantpadole/Desktop/Research/ASL_MY_DATASET/cup/cup_augmented_brightness.mp4\n",
      "Moviepy - Building video /Users/vedantpadole/Desktop/Research/ASL_MY_DATASET/cup/cup_augmented_brightness.mp4.\n",
      "Moviepy - Writing video /Users/vedantpadole/Desktop/Research/ASL_MY_DATASET/cup/cup_augmented_brightness.mp4\n",
      "\n"
     ]
    },
    {
     "name": "stderr",
     "output_type": "stream",
     "text": [
      "                                                             \r"
     ]
    },
    {
     "name": "stdout",
     "output_type": "stream",
     "text": [
      "Moviepy - Done !\n",
      "Moviepy - video ready /Users/vedantpadole/Desktop/Research/ASL_MY_DATASET/cup/cup_augmented_brightness.mp4\n",
      "Moviepy - Building video /Users/vedantpadole/Desktop/Research/ASL_MY_DATASET/cup/cup_augmented_darkness.mp4.\n",
      "Moviepy - Writing video /Users/vedantpadole/Desktop/Research/ASL_MY_DATASET/cup/cup_augmented_darkness.mp4\n",
      "\n"
     ]
    },
    {
     "name": "stderr",
     "output_type": "stream",
     "text": [
      "                                                             \r"
     ]
    },
    {
     "name": "stdout",
     "output_type": "stream",
     "text": [
      "Moviepy - Done !\n",
      "Moviepy - video ready /Users/vedantpadole/Desktop/Research/ASL_MY_DATASET/cup/cup_augmented_darkness.mp4\n",
      "Moviepy - Building video /Users/vedantpadole/Desktop/Research/ASL_MY_DATASET/cup/cup_augmented_darkness.mp4.\n",
      "Moviepy - Writing video /Users/vedantpadole/Desktop/Research/ASL_MY_DATASET/cup/cup_augmented_darkness.mp4\n",
      "\n"
     ]
    },
    {
     "name": "stderr",
     "output_type": "stream",
     "text": [
      "                                                             \r"
     ]
    },
    {
     "name": "stdout",
     "output_type": "stream",
     "text": [
      "Moviepy - Done !\n",
      "Moviepy - video ready /Users/vedantpadole/Desktop/Research/ASL_MY_DATASET/cup/cup_augmented_darkness.mp4\n",
      "Moviepy - Building video /Users/vedantpadole/Desktop/Research/ASL_MY_DATASET/cup/cup_augmented_darkness.mp4.\n",
      "Moviepy - Writing video /Users/vedantpadole/Desktop/Research/ASL_MY_DATASET/cup/cup_augmented_darkness.mp4\n",
      "\n"
     ]
    },
    {
     "name": "stderr",
     "output_type": "stream",
     "text": [
      "                                                             \r"
     ]
    },
    {
     "name": "stdout",
     "output_type": "stream",
     "text": [
      "Moviepy - Done !\n",
      "Moviepy - video ready /Users/vedantpadole/Desktop/Research/ASL_MY_DATASET/cup/cup_augmented_darkness.mp4\n",
      "Moviepy - Building video /Users/vedantpadole/Desktop/Research/ASL_MY_DATASET/cup/cup_augmented_speed.mp4.\n",
      "Moviepy - Writing video /Users/vedantpadole/Desktop/Research/ASL_MY_DATASET/cup/cup_augmented_speed.mp4\n",
      "\n"
     ]
    },
    {
     "name": "stderr",
     "output_type": "stream",
     "text": [
      "                                                             \r"
     ]
    },
    {
     "name": "stdout",
     "output_type": "stream",
     "text": [
      "Moviepy - Done !\n",
      "Moviepy - video ready /Users/vedantpadole/Desktop/Research/ASL_MY_DATASET/cup/cup_augmented_speed.mp4\n",
      "Moviepy - Building video /Users/vedantpadole/Desktop/Research/ASL_MY_DATASET/cup/cup_augmented_speed.mp4.\n",
      "Moviepy - Writing video /Users/vedantpadole/Desktop/Research/ASL_MY_DATASET/cup/cup_augmented_speed.mp4\n",
      "\n"
     ]
    },
    {
     "name": "stderr",
     "output_type": "stream",
     "text": [
      "                                                             \r"
     ]
    },
    {
     "name": "stdout",
     "output_type": "stream",
     "text": [
      "Moviepy - Done !\n",
      "Moviepy - video ready /Users/vedantpadole/Desktop/Research/ASL_MY_DATASET/cup/cup_augmented_speed.mp4\n",
      "Moviepy - Building video /Users/vedantpadole/Desktop/Research/ASL_MY_DATASET/cup/cup_augmented_speed.mp4.\n",
      "Moviepy - Writing video /Users/vedantpadole/Desktop/Research/ASL_MY_DATASET/cup/cup_augmented_speed.mp4\n",
      "\n"
     ]
    },
    {
     "name": "stderr",
     "output_type": "stream",
     "text": [
      "                                                             \r"
     ]
    },
    {
     "name": "stdout",
     "output_type": "stream",
     "text": [
      "Moviepy - Done !\n",
      "Moviepy - video ready /Users/vedantpadole/Desktop/Research/ASL_MY_DATASET/cup/cup_augmented_speed.mp4\n",
      "Moviepy - Building video /Users/vedantpadole/Desktop/Research/ASL_MY_DATASET/cup/cup_augmented_shifting.mp4.\n",
      "Moviepy - Writing video /Users/vedantpadole/Desktop/Research/ASL_MY_DATASET/cup/cup_augmented_shifting.mp4\n",
      "\n"
     ]
    },
    {
     "name": "stderr",
     "output_type": "stream",
     "text": [
      "                                                             \r"
     ]
    },
    {
     "name": "stdout",
     "output_type": "stream",
     "text": [
      "Moviepy - Done !\n",
      "Moviepy - video ready /Users/vedantpadole/Desktop/Research/ASL_MY_DATASET/cup/cup_augmented_shifting.mp4\n",
      "Moviepy - Building video /Users/vedantpadole/Desktop/Research/ASL_MY_DATASET/cup/cup_augmented_shifting.mp4.\n",
      "Moviepy - Writing video /Users/vedantpadole/Desktop/Research/ASL_MY_DATASET/cup/cup_augmented_shifting.mp4\n",
      "\n"
     ]
    },
    {
     "name": "stderr",
     "output_type": "stream",
     "text": [
      "                                                             \r"
     ]
    },
    {
     "name": "stdout",
     "output_type": "stream",
     "text": [
      "Moviepy - Done !\n",
      "Moviepy - video ready /Users/vedantpadole/Desktop/Research/ASL_MY_DATASET/cup/cup_augmented_shifting.mp4\n",
      "Moviepy - Building video /Users/vedantpadole/Desktop/Research/ASL_MY_DATASET/cup/cup_augmented_shifting.mp4.\n",
      "Moviepy - Writing video /Users/vedantpadole/Desktop/Research/ASL_MY_DATASET/cup/cup_augmented_shifting.mp4\n",
      "\n"
     ]
    },
    {
     "name": "stderr",
     "output_type": "stream",
     "text": [
      "                                                             \r"
     ]
    },
    {
     "name": "stdout",
     "output_type": "stream",
     "text": [
      "Moviepy - Done !\n",
      "Moviepy - video ready /Users/vedantpadole/Desktop/Research/ASL_MY_DATASET/cup/cup_augmented_shifting.mp4\n",
      "Moviepy - Building video /Users/vedantpadole/Desktop/Research/ASL_MY_DATASET/cup/277_augmented_brightness.mp4.\n",
      "Moviepy - Writing video /Users/vedantpadole/Desktop/Research/ASL_MY_DATASET/cup/277_augmented_brightness.mp4\n",
      "\n"
     ]
    },
    {
     "name": "stderr",
     "output_type": "stream",
     "text": [
      "                                                               \r"
     ]
    },
    {
     "name": "stdout",
     "output_type": "stream",
     "text": [
      "Moviepy - Done !\n",
      "Moviepy - video ready /Users/vedantpadole/Desktop/Research/ASL_MY_DATASET/cup/277_augmented_brightness.mp4\n",
      "Moviepy - Building video /Users/vedantpadole/Desktop/Research/ASL_MY_DATASET/cup/277_augmented_brightness.mp4.\n",
      "Moviepy - Writing video /Users/vedantpadole/Desktop/Research/ASL_MY_DATASET/cup/277_augmented_brightness.mp4\n",
      "\n"
     ]
    },
    {
     "name": "stderr",
     "output_type": "stream",
     "text": [
      "                                                               \r"
     ]
    },
    {
     "name": "stdout",
     "output_type": "stream",
     "text": [
      "Moviepy - Done !\n",
      "Moviepy - video ready /Users/vedantpadole/Desktop/Research/ASL_MY_DATASET/cup/277_augmented_brightness.mp4\n",
      "Moviepy - Building video /Users/vedantpadole/Desktop/Research/ASL_MY_DATASET/cup/277_augmented_brightness.mp4.\n",
      "Moviepy - Writing video /Users/vedantpadole/Desktop/Research/ASL_MY_DATASET/cup/277_augmented_brightness.mp4\n",
      "\n"
     ]
    },
    {
     "name": "stderr",
     "output_type": "stream",
     "text": [
      "                                                               \r"
     ]
    },
    {
     "name": "stdout",
     "output_type": "stream",
     "text": [
      "Moviepy - Done !\n",
      "Moviepy - video ready /Users/vedantpadole/Desktop/Research/ASL_MY_DATASET/cup/277_augmented_brightness.mp4\n",
      "Moviepy - Building video /Users/vedantpadole/Desktop/Research/ASL_MY_DATASET/cup/277_augmented_darkness.mp4.\n",
      "Moviepy - Writing video /Users/vedantpadole/Desktop/Research/ASL_MY_DATASET/cup/277_augmented_darkness.mp4\n",
      "\n"
     ]
    },
    {
     "name": "stderr",
     "output_type": "stream",
     "text": [
      "                                                               \r"
     ]
    },
    {
     "name": "stdout",
     "output_type": "stream",
     "text": [
      "Moviepy - Done !\n",
      "Moviepy - video ready /Users/vedantpadole/Desktop/Research/ASL_MY_DATASET/cup/277_augmented_darkness.mp4\n",
      "Moviepy - Building video /Users/vedantpadole/Desktop/Research/ASL_MY_DATASET/cup/277_augmented_darkness.mp4.\n",
      "Moviepy - Writing video /Users/vedantpadole/Desktop/Research/ASL_MY_DATASET/cup/277_augmented_darkness.mp4\n",
      "\n"
     ]
    },
    {
     "name": "stderr",
     "output_type": "stream",
     "text": [
      "                                                               \r"
     ]
    },
    {
     "name": "stdout",
     "output_type": "stream",
     "text": [
      "Moviepy - Done !\n",
      "Moviepy - video ready /Users/vedantpadole/Desktop/Research/ASL_MY_DATASET/cup/277_augmented_darkness.mp4\n",
      "Moviepy - Building video /Users/vedantpadole/Desktop/Research/ASL_MY_DATASET/cup/277_augmented_darkness.mp4.\n",
      "Moviepy - Writing video /Users/vedantpadole/Desktop/Research/ASL_MY_DATASET/cup/277_augmented_darkness.mp4\n",
      "\n"
     ]
    },
    {
     "name": "stderr",
     "output_type": "stream",
     "text": [
      "                                                               \r"
     ]
    },
    {
     "name": "stdout",
     "output_type": "stream",
     "text": [
      "Moviepy - Done !\n",
      "Moviepy - video ready /Users/vedantpadole/Desktop/Research/ASL_MY_DATASET/cup/277_augmented_darkness.mp4\n",
      "Moviepy - Building video /Users/vedantpadole/Desktop/Research/ASL_MY_DATASET/cup/277_augmented_speed.mp4.\n",
      "Moviepy - Writing video /Users/vedantpadole/Desktop/Research/ASL_MY_DATASET/cup/277_augmented_speed.mp4\n",
      "\n"
     ]
    },
    {
     "name": "stderr",
     "output_type": "stream",
     "text": [
      "                                                             \r"
     ]
    },
    {
     "name": "stdout",
     "output_type": "stream",
     "text": [
      "Moviepy - Done !\n",
      "Moviepy - video ready /Users/vedantpadole/Desktop/Research/ASL_MY_DATASET/cup/277_augmented_speed.mp4\n",
      "Moviepy - Building video /Users/vedantpadole/Desktop/Research/ASL_MY_DATASET/cup/277_augmented_speed.mp4.\n",
      "Moviepy - Writing video /Users/vedantpadole/Desktop/Research/ASL_MY_DATASET/cup/277_augmented_speed.mp4\n",
      "\n"
     ]
    },
    {
     "name": "stderr",
     "output_type": "stream",
     "text": [
      "                                                              \r"
     ]
    },
    {
     "name": "stdout",
     "output_type": "stream",
     "text": [
      "Moviepy - Done !\n",
      "Moviepy - video ready /Users/vedantpadole/Desktop/Research/ASL_MY_DATASET/cup/277_augmented_speed.mp4\n",
      "Moviepy - Building video /Users/vedantpadole/Desktop/Research/ASL_MY_DATASET/cup/277_augmented_speed.mp4.\n",
      "Moviepy - Writing video /Users/vedantpadole/Desktop/Research/ASL_MY_DATASET/cup/277_augmented_speed.mp4\n",
      "\n"
     ]
    },
    {
     "name": "stderr",
     "output_type": "stream",
     "text": [
      "                                                             \r"
     ]
    },
    {
     "name": "stdout",
     "output_type": "stream",
     "text": [
      "Moviepy - Done !\n",
      "Moviepy - video ready /Users/vedantpadole/Desktop/Research/ASL_MY_DATASET/cup/277_augmented_speed.mp4\n",
      "Moviepy - Building video /Users/vedantpadole/Desktop/Research/ASL_MY_DATASET/cup/277_augmented_shifting.mp4.\n",
      "Moviepy - Writing video /Users/vedantpadole/Desktop/Research/ASL_MY_DATASET/cup/277_augmented_shifting.mp4\n",
      "\n"
     ]
    },
    {
     "name": "stderr",
     "output_type": "stream",
     "text": [
      "                                                               \r"
     ]
    },
    {
     "name": "stdout",
     "output_type": "stream",
     "text": [
      "Moviepy - Done !\n",
      "Moviepy - video ready /Users/vedantpadole/Desktop/Research/ASL_MY_DATASET/cup/277_augmented_shifting.mp4\n",
      "Moviepy - Building video /Users/vedantpadole/Desktop/Research/ASL_MY_DATASET/cup/277_augmented_shifting.mp4.\n",
      "Moviepy - Writing video /Users/vedantpadole/Desktop/Research/ASL_MY_DATASET/cup/277_augmented_shifting.mp4\n",
      "\n"
     ]
    },
    {
     "name": "stderr",
     "output_type": "stream",
     "text": [
      "                                                               \r"
     ]
    },
    {
     "name": "stdout",
     "output_type": "stream",
     "text": [
      "Moviepy - Done !\n",
      "Moviepy - video ready /Users/vedantpadole/Desktop/Research/ASL_MY_DATASET/cup/277_augmented_shifting.mp4\n",
      "Moviepy - Building video /Users/vedantpadole/Desktop/Research/ASL_MY_DATASET/cup/277_augmented_shifting.mp4.\n",
      "Moviepy - Writing video /Users/vedantpadole/Desktop/Research/ASL_MY_DATASET/cup/277_augmented_shifting.mp4\n",
      "\n"
     ]
    },
    {
     "name": "stderr",
     "output_type": "stream",
     "text": [
      "                                                               \r"
     ]
    },
    {
     "name": "stdout",
     "output_type": "stream",
     "text": [
      "Moviepy - Done !\n",
      "Moviepy - video ready /Users/vedantpadole/Desktop/Research/ASL_MY_DATASET/cup/277_augmented_shifting.mp4\n",
      "Moviepy - Building video /Users/vedantpadole/Desktop/Research/ASL_MY_DATASET/cup/1664926474_augmented_brightness.mp4.\n",
      "Moviepy - Writing video /Users/vedantpadole/Desktop/Research/ASL_MY_DATASET/cup/1664926474_augmented_brightness.mp4\n",
      "\n"
     ]
    },
    {
     "name": "stderr",
     "output_type": "stream",
     "text": [
      "                                                             \r"
     ]
    },
    {
     "name": "stdout",
     "output_type": "stream",
     "text": [
      "Moviepy - Done !\n",
      "Moviepy - video ready /Users/vedantpadole/Desktop/Research/ASL_MY_DATASET/cup/1664926474_augmented_brightness.mp4\n",
      "Moviepy - Building video /Users/vedantpadole/Desktop/Research/ASL_MY_DATASET/cup/1664926474_augmented_brightness.mp4.\n",
      "Moviepy - Writing video /Users/vedantpadole/Desktop/Research/ASL_MY_DATASET/cup/1664926474_augmented_brightness.mp4\n",
      "\n"
     ]
    },
    {
     "name": "stderr",
     "output_type": "stream",
     "text": [
      "                                                             \r"
     ]
    },
    {
     "name": "stdout",
     "output_type": "stream",
     "text": [
      "Moviepy - Done !\n",
      "Moviepy - video ready /Users/vedantpadole/Desktop/Research/ASL_MY_DATASET/cup/1664926474_augmented_brightness.mp4\n",
      "Moviepy - Building video /Users/vedantpadole/Desktop/Research/ASL_MY_DATASET/cup/1664926474_augmented_brightness.mp4.\n",
      "Moviepy - Writing video /Users/vedantpadole/Desktop/Research/ASL_MY_DATASET/cup/1664926474_augmented_brightness.mp4\n",
      "\n"
     ]
    },
    {
     "name": "stderr",
     "output_type": "stream",
     "text": [
      "                                                             \r"
     ]
    },
    {
     "name": "stdout",
     "output_type": "stream",
     "text": [
      "Moviepy - Done !\n",
      "Moviepy - video ready /Users/vedantpadole/Desktop/Research/ASL_MY_DATASET/cup/1664926474_augmented_brightness.mp4\n",
      "Moviepy - Building video /Users/vedantpadole/Desktop/Research/ASL_MY_DATASET/cup/1664926474_augmented_darkness.mp4.\n",
      "Moviepy - Writing video /Users/vedantpadole/Desktop/Research/ASL_MY_DATASET/cup/1664926474_augmented_darkness.mp4\n",
      "\n"
     ]
    },
    {
     "name": "stderr",
     "output_type": "stream",
     "text": [
      "                                                             \r"
     ]
    },
    {
     "name": "stdout",
     "output_type": "stream",
     "text": [
      "Moviepy - Done !\n",
      "Moviepy - video ready /Users/vedantpadole/Desktop/Research/ASL_MY_DATASET/cup/1664926474_augmented_darkness.mp4\n",
      "Moviepy - Building video /Users/vedantpadole/Desktop/Research/ASL_MY_DATASET/cup/1664926474_augmented_darkness.mp4.\n",
      "Moviepy - Writing video /Users/vedantpadole/Desktop/Research/ASL_MY_DATASET/cup/1664926474_augmented_darkness.mp4\n",
      "\n"
     ]
    },
    {
     "name": "stderr",
     "output_type": "stream",
     "text": [
      "                                                             \r"
     ]
    },
    {
     "name": "stdout",
     "output_type": "stream",
     "text": [
      "Moviepy - Done !\n",
      "Moviepy - video ready /Users/vedantpadole/Desktop/Research/ASL_MY_DATASET/cup/1664926474_augmented_darkness.mp4\n",
      "Moviepy - Building video /Users/vedantpadole/Desktop/Research/ASL_MY_DATASET/cup/1664926474_augmented_darkness.mp4.\n",
      "Moviepy - Writing video /Users/vedantpadole/Desktop/Research/ASL_MY_DATASET/cup/1664926474_augmented_darkness.mp4\n",
      "\n"
     ]
    },
    {
     "name": "stderr",
     "output_type": "stream",
     "text": [
      "                                                             \r"
     ]
    },
    {
     "name": "stdout",
     "output_type": "stream",
     "text": [
      "Moviepy - Done !\n",
      "Moviepy - video ready /Users/vedantpadole/Desktop/Research/ASL_MY_DATASET/cup/1664926474_augmented_darkness.mp4\n",
      "Moviepy - Building video /Users/vedantpadole/Desktop/Research/ASL_MY_DATASET/cup/1664926474_augmented_speed.mp4.\n",
      "Moviepy - Writing video /Users/vedantpadole/Desktop/Research/ASL_MY_DATASET/cup/1664926474_augmented_speed.mp4\n",
      "\n"
     ]
    },
    {
     "name": "stderr",
     "output_type": "stream",
     "text": [
      "                                                   \r"
     ]
    },
    {
     "name": "stdout",
     "output_type": "stream",
     "text": [
      "Moviepy - Done !\n",
      "Moviepy - video ready /Users/vedantpadole/Desktop/Research/ASL_MY_DATASET/cup/1664926474_augmented_speed.mp4\n",
      "Moviepy - Building video /Users/vedantpadole/Desktop/Research/ASL_MY_DATASET/cup/1664926474_augmented_speed.mp4.\n",
      "Moviepy - Writing video /Users/vedantpadole/Desktop/Research/ASL_MY_DATASET/cup/1664926474_augmented_speed.mp4\n",
      "\n"
     ]
    },
    {
     "name": "stderr",
     "output_type": "stream",
     "text": [
      "                                                             \r"
     ]
    },
    {
     "name": "stdout",
     "output_type": "stream",
     "text": [
      "Moviepy - Done !\n",
      "Moviepy - video ready /Users/vedantpadole/Desktop/Research/ASL_MY_DATASET/cup/1664926474_augmented_speed.mp4\n",
      "Moviepy - Building video /Users/vedantpadole/Desktop/Research/ASL_MY_DATASET/cup/1664926474_augmented_speed.mp4.\n",
      "Moviepy - Writing video /Users/vedantpadole/Desktop/Research/ASL_MY_DATASET/cup/1664926474_augmented_speed.mp4\n",
      "\n"
     ]
    },
    {
     "name": "stderr",
     "output_type": "stream",
     "text": [
      "                                                             \r"
     ]
    },
    {
     "name": "stdout",
     "output_type": "stream",
     "text": [
      "Moviepy - Done !\n",
      "Moviepy - video ready /Users/vedantpadole/Desktop/Research/ASL_MY_DATASET/cup/1664926474_augmented_speed.mp4\n",
      "Moviepy - Building video /Users/vedantpadole/Desktop/Research/ASL_MY_DATASET/cup/1664926474_augmented_shifting.mp4.\n",
      "Moviepy - Writing video /Users/vedantpadole/Desktop/Research/ASL_MY_DATASET/cup/1664926474_augmented_shifting.mp4\n",
      "\n"
     ]
    },
    {
     "name": "stderr",
     "output_type": "stream",
     "text": [
      "                                                             \r"
     ]
    },
    {
     "name": "stdout",
     "output_type": "stream",
     "text": [
      "Moviepy - Done !\n",
      "Moviepy - video ready /Users/vedantpadole/Desktop/Research/ASL_MY_DATASET/cup/1664926474_augmented_shifting.mp4\n",
      "Moviepy - Building video /Users/vedantpadole/Desktop/Research/ASL_MY_DATASET/cup/1664926474_augmented_shifting.mp4.\n",
      "Moviepy - Writing video /Users/vedantpadole/Desktop/Research/ASL_MY_DATASET/cup/1664926474_augmented_shifting.mp4\n",
      "\n"
     ]
    },
    {
     "name": "stderr",
     "output_type": "stream",
     "text": [
      "                                                             \r"
     ]
    },
    {
     "name": "stdout",
     "output_type": "stream",
     "text": [
      "Moviepy - Done !\n",
      "Moviepy - video ready /Users/vedantpadole/Desktop/Research/ASL_MY_DATASET/cup/1664926474_augmented_shifting.mp4\n",
      "Moviepy - Building video /Users/vedantpadole/Desktop/Research/ASL_MY_DATASET/cup/1664926474_augmented_shifting.mp4.\n",
      "Moviepy - Writing video /Users/vedantpadole/Desktop/Research/ASL_MY_DATASET/cup/1664926474_augmented_shifting.mp4\n",
      "\n"
     ]
    },
    {
     "name": "stderr",
     "output_type": "stream",
     "text": [
      "                                                             \r"
     ]
    },
    {
     "name": "stdout",
     "output_type": "stream",
     "text": [
      "Moviepy - Done !\n",
      "Moviepy - video ready /Users/vedantpadole/Desktop/Research/ASL_MY_DATASET/cup/1664926474_augmented_shifting.mp4\n"
     ]
    }
   ],
   "source": [
    "import os\n",
    "from moviepy.editor import *\n",
    "from scipy.ndimage import gaussian_filter\n",
    "\n",
    "# Set input and output directories\n",
    "input_dir = '/Users/vedantpadole/Desktop/Research/ASL_MY_DATASET/cup'\n",
    "output_dir = input_dir\n",
    "\n",
    "# Get a list of all the video files in the input directory\n",
    "video_files = [f for f in os.listdir(input_dir) if f.endswith('.mp4')]\n",
    "\n",
    "# Loop through each video file\n",
    "for video_file in video_files:\n",
    "    # Load the video clip\n",
    "    clip = VideoFileClip(os.path.join(input_dir, video_file))\n",
    "\n",
    "    # Define the augmentations\n",
    "    augmentations = [\n",
    "        ('brightness', lambda c: c.fx(vfx.colorx, 1.5)),\n",
    "        ('brightness', lambda c: c.fx(vfx.colorx, 1.75)),\n",
    "        ('brightness', lambda c: c.fx(vfx.colorx, 1.25)),\n",
    "        ('darkness', lambda c: c.fx(vfx.colorx, 0.5)),\n",
    "        ('darkness', lambda c: c.fx(vfx.colorx, 0.75)),\n",
    "        ('darkness', lambda c: c.fx(vfx.colorx, 0.8)),\n",
    "        ('speed', lambda c: c.fx(vfx.speedx, 2)),\n",
    "        ('speed', lambda c: c.fx(vfx.speedx, 1.2)),\n",
    "        ('speed', lambda c: c.fx(vfx.speedx, 1.5)),\n",
    "        ('shifting', lambda c: c.fx(vfx.crop, x1=10, y1=10)),\n",
    "        ('shifting', lambda c: c.fx(vfx.crop, x1=20, y1=20)),\n",
    "        ('shifting', lambda c: c.fx(vfx.crop, x1=30, y1=30))\n",
    "    ]\n",
    "\n",
    "    # Apply each augmentation and save the output video\n",
    "    for i, (name, effect) in enumerate(augmentations):\n",
    "        # Apply the effect to the clip\n",
    "        augmented_clip = effect(clip)\n",
    "\n",
    "        # Set the output filename\n",
    "        output_filename = f'{os.path.splitext(video_file)[0]}_augmented_{name}.mp4'\n",
    "        output_path = os.path.join(output_dir, output_filename)\n",
    "\n",
    "        # Save the augmented video\n",
    "        augmented_clip.write_videofile(output_path)\n",
    "\n",
    "    # Close the input video clip\n",
    "    clip.close()\n"
   ]
  },
  {
   "cell_type": "code",
   "execution_count": 4,
   "metadata": {},
   "outputs": [
    {
     "ename": "ValueError",
     "evalue": "MoviePy couldn't find the codec associated with the filename. Provide the 'codec' parameter in write_videofile.",
     "output_type": "error",
     "traceback": [
      "\u001b[0;31m---------------------------------------------------------------------------\u001b[0m",
      "\u001b[0;31mKeyError\u001b[0m                                  Traceback (most recent call last)",
      "File \u001b[0;32m/Library/Frameworks/Python.framework/Versions/3.9/lib/python3.9/site-packages/moviepy/video/VideoClip.py:262\u001b[0m, in \u001b[0;36mVideoClip.write_videofile\u001b[0;34m(self, filename, fps, codec, bitrate, audio, audio_fps, preset, audio_nbytes, audio_codec, audio_bitrate, audio_bufsize, temp_audiofile, rewrite_audio, remove_temp, write_logfile, verbose, threads, ffmpeg_params, logger)\u001b[0m\n\u001b[1;32m    261\u001b[0m \u001b[39mtry\u001b[39;00m:\n\u001b[0;32m--> 262\u001b[0m     codec \u001b[39m=\u001b[39m extensions_dict[ext][\u001b[39m'\u001b[39;49m\u001b[39mcodec\u001b[39;49m\u001b[39m'\u001b[39;49m][\u001b[39m0\u001b[39m]\n\u001b[1;32m    263\u001b[0m \u001b[39mexcept\u001b[39;00m \u001b[39mKeyError\u001b[39;00m:\n",
      "\u001b[0;31mKeyError\u001b[0m: 'codec'",
      "\nDuring handling of the above exception, another exception occurred:\n",
      "\u001b[0;31mValueError\u001b[0m                                Traceback (most recent call last)",
      "\u001b[1;32m/Users/vedantpadole/Desktop/Research/augmentation.ipynb Cell 5\u001b[0m in \u001b[0;36m3\n\u001b[1;32m     <a href='vscode-notebook-cell:/Users/vedantpadole/Desktop/Research/augmentation.ipynb#W4sZmlsZQ%3D%3D?line=32'>33</a>\u001b[0m     output_path \u001b[39m=\u001b[39m os\u001b[39m.\u001b[39mpath\u001b[39m.\u001b[39mjoin(output_dir, output_filename)\n\u001b[1;32m     <a href='vscode-notebook-cell:/Users/vedantpadole/Desktop/Research/augmentation.ipynb#W4sZmlsZQ%3D%3D?line=34'>35</a>\u001b[0m     \u001b[39m# Save the augmented video\u001b[39;00m\n\u001b[0;32m---> <a href='vscode-notebook-cell:/Users/vedantpadole/Desktop/Research/augmentation.ipynb#W4sZmlsZQ%3D%3D?line=35'>36</a>\u001b[0m     augmented_clip\u001b[39m.\u001b[39;49mwrite_videofile(output_path)\n\u001b[1;32m     <a href='vscode-notebook-cell:/Users/vedantpadole/Desktop/Research/augmentation.ipynb#W4sZmlsZQ%3D%3D?line=37'>38</a>\u001b[0m \u001b[39m# Close the input video clip\u001b[39;00m\n\u001b[1;32m     <a href='vscode-notebook-cell:/Users/vedantpadole/Desktop/Research/augmentation.ipynb#W4sZmlsZQ%3D%3D?line=38'>39</a>\u001b[0m clip\u001b[39m.\u001b[39mclose()\n",
      "File \u001b[0;32m<decorator-gen-73>:2\u001b[0m, in \u001b[0;36mwrite_videofile\u001b[0;34m(self, filename, fps, codec, bitrate, audio, audio_fps, preset, audio_nbytes, audio_codec, audio_bitrate, audio_bufsize, temp_audiofile, rewrite_audio, remove_temp, write_logfile, verbose, threads, ffmpeg_params, logger)\u001b[0m\n",
      "File \u001b[0;32m/Library/Frameworks/Python.framework/Versions/3.9/lib/python3.9/site-packages/moviepy/decorators.py:54\u001b[0m, in \u001b[0;36mrequires_duration\u001b[0;34m(f, clip, *a, **k)\u001b[0m\n\u001b[1;32m     52\u001b[0m     \u001b[39mraise\u001b[39;00m \u001b[39mValueError\u001b[39;00m(\u001b[39m\"\u001b[39m\u001b[39mAttribute \u001b[39m\u001b[39m'\u001b[39m\u001b[39mduration\u001b[39m\u001b[39m'\u001b[39m\u001b[39m not set\u001b[39m\u001b[39m\"\u001b[39m)\n\u001b[1;32m     53\u001b[0m \u001b[39melse\u001b[39;00m:\n\u001b[0;32m---> 54\u001b[0m     \u001b[39mreturn\u001b[39;00m f(clip, \u001b[39m*\u001b[39;49ma, \u001b[39m*\u001b[39;49m\u001b[39m*\u001b[39;49mk)\n",
      "File \u001b[0;32m<decorator-gen-72>:2\u001b[0m, in \u001b[0;36mwrite_videofile\u001b[0;34m(self, filename, fps, codec, bitrate, audio, audio_fps, preset, audio_nbytes, audio_codec, audio_bitrate, audio_bufsize, temp_audiofile, rewrite_audio, remove_temp, write_logfile, verbose, threads, ffmpeg_params, logger)\u001b[0m\n",
      "File \u001b[0;32m/Library/Frameworks/Python.framework/Versions/3.9/lib/python3.9/site-packages/moviepy/decorators.py:135\u001b[0m, in \u001b[0;36muse_clip_fps_by_default\u001b[0;34m(f, clip, *a, **k)\u001b[0m\n\u001b[1;32m    130\u001b[0m new_a \u001b[39m=\u001b[39m [fun(arg) \u001b[39mif\u001b[39;00m (name\u001b[39m==\u001b[39m\u001b[39m'\u001b[39m\u001b[39mfps\u001b[39m\u001b[39m'\u001b[39m) \u001b[39melse\u001b[39;00m arg\n\u001b[1;32m    131\u001b[0m          \u001b[39mfor\u001b[39;00m (arg, name) \u001b[39min\u001b[39;00m \u001b[39mzip\u001b[39m(a, names)]\n\u001b[1;32m    132\u001b[0m new_kw \u001b[39m=\u001b[39m {k: fun(v) \u001b[39mif\u001b[39;00m k\u001b[39m==\u001b[39m\u001b[39m'\u001b[39m\u001b[39mfps\u001b[39m\u001b[39m'\u001b[39m \u001b[39melse\u001b[39;00m v\n\u001b[1;32m    133\u001b[0m          \u001b[39mfor\u001b[39;00m (k,v) \u001b[39min\u001b[39;00m k\u001b[39m.\u001b[39mitems()}\n\u001b[0;32m--> 135\u001b[0m \u001b[39mreturn\u001b[39;00m f(clip, \u001b[39m*\u001b[39;49mnew_a, \u001b[39m*\u001b[39;49m\u001b[39m*\u001b[39;49mnew_kw)\n",
      "File \u001b[0;32m<decorator-gen-71>:2\u001b[0m, in \u001b[0;36mwrite_videofile\u001b[0;34m(self, filename, fps, codec, bitrate, audio, audio_fps, preset, audio_nbytes, audio_codec, audio_bitrate, audio_bufsize, temp_audiofile, rewrite_audio, remove_temp, write_logfile, verbose, threads, ffmpeg_params, logger)\u001b[0m\n",
      "File \u001b[0;32m/Library/Frameworks/Python.framework/Versions/3.9/lib/python3.9/site-packages/moviepy/decorators.py:22\u001b[0m, in \u001b[0;36mconvert_masks_to_RGB\u001b[0;34m(f, clip, *a, **k)\u001b[0m\n\u001b[1;32m     20\u001b[0m \u001b[39mif\u001b[39;00m clip\u001b[39m.\u001b[39mismask:\n\u001b[1;32m     21\u001b[0m     clip \u001b[39m=\u001b[39m clip\u001b[39m.\u001b[39mto_RGB()\n\u001b[0;32m---> 22\u001b[0m \u001b[39mreturn\u001b[39;00m f(clip, \u001b[39m*\u001b[39;49ma, \u001b[39m*\u001b[39;49m\u001b[39m*\u001b[39;49mk)\n",
      "File \u001b[0;32m/Library/Frameworks/Python.framework/Versions/3.9/lib/python3.9/site-packages/moviepy/video/VideoClip.py:264\u001b[0m, in \u001b[0;36mVideoClip.write_videofile\u001b[0;34m(self, filename, fps, codec, bitrate, audio, audio_fps, preset, audio_nbytes, audio_codec, audio_bitrate, audio_bufsize, temp_audiofile, rewrite_audio, remove_temp, write_logfile, verbose, threads, ffmpeg_params, logger)\u001b[0m\n\u001b[1;32m    262\u001b[0m         codec \u001b[39m=\u001b[39m extensions_dict[ext][\u001b[39m'\u001b[39m\u001b[39mcodec\u001b[39m\u001b[39m'\u001b[39m][\u001b[39m0\u001b[39m]\n\u001b[1;32m    263\u001b[0m     \u001b[39mexcept\u001b[39;00m \u001b[39mKeyError\u001b[39;00m:\n\u001b[0;32m--> 264\u001b[0m         \u001b[39mraise\u001b[39;00m \u001b[39mValueError\u001b[39;00m(\u001b[39m\"\u001b[39m\u001b[39mMoviePy couldn\u001b[39m\u001b[39m'\u001b[39m\u001b[39mt find the codec associated \u001b[39m\u001b[39m\"\u001b[39m\n\u001b[1;32m    265\u001b[0m                          \u001b[39m\"\u001b[39m\u001b[39mwith the filename. Provide the \u001b[39m\u001b[39m'\u001b[39m\u001b[39mcodec\u001b[39m\u001b[39m'\u001b[39m\u001b[39m \u001b[39m\u001b[39m\"\u001b[39m\n\u001b[1;32m    266\u001b[0m                          \u001b[39m\"\u001b[39m\u001b[39mparameter in write_videofile.\u001b[39m\u001b[39m\"\u001b[39m)\n\u001b[1;32m    268\u001b[0m \u001b[39mif\u001b[39;00m audio_codec \u001b[39mis\u001b[39;00m \u001b[39mNone\u001b[39;00m:\n\u001b[1;32m    269\u001b[0m     \u001b[39mif\u001b[39;00m ext \u001b[39min\u001b[39;00m [\u001b[39m'\u001b[39m\u001b[39mogv\u001b[39m\u001b[39m'\u001b[39m, \u001b[39m'\u001b[39m\u001b[39mwebm\u001b[39m\u001b[39m'\u001b[39m]:\n",
      "\u001b[0;31mValueError\u001b[0m: MoviePy couldn't find the codec associated with the filename. Provide the 'codec' parameter in write_videofile."
     ]
    }
   ],
   "source": [
    "import os\n",
    "from moviepy.editor import *\n",
    "from scipy.ndimage import gaussian_filter\n",
    "\n",
    "# Set input and output directories\n",
    "input_dir = '/Users/vedantpadole/Desktop/Research/Adjectives/Dry'\n",
    "output_dir = input_dir\n",
    "\n",
    "# Get a list of all the video files in the input directory\n",
    "video_files = [f for f in os.listdir(input_dir) if f.endswith('.MOV')]\n",
    "\n",
    "# Loop through each video file\n",
    "for video_file in video_files:\n",
    "    # Load the video clip\n",
    "    clip = VideoFileClip(os.path.join(input_dir, video_file))\n",
    "\n",
    "    # Define the augmentations\n",
    "    augmentations = [\n",
    "        ('darkness', lambda c: c.fx(vfx.colorx, 0.467)),\n",
    "        ('shifting', lambda c: c.fx(vfx.crop, x1=50, y1=50)),\n",
    "        ('darkness', lambda c: c.fx(vfx.colorx, 0.8)),\n",
    "        ('speed', lambda c: c.fx(vfx.speedx, 1.5)),\n",
    "        ('shifting', lambda c: c.fx(vfx.crop, x1=30, y1=30))\n",
    "    ]\n",
    "\n",
    "    # Apply each augmentation and save the output video\n",
    "    for i, (name, effect) in enumerate(augmentations):\n",
    "        # Apply the effect to the clip\n",
    "        augmented_clip = effect(clip)\n",
    "\n",
    "        # Set the output filename\n",
    "        output_filename = f'{os.path.splitext(video_file)[0]}_augmented_{name}.MOV'\n",
    "        output_path = os.path.join(output_dir, output_filename)\n",
    "\n",
    "        # Save the augmented video\n",
    "        augmented_clip.write_videofile(output_path)\n",
    "\n",
    "    # Close the input video clip\n",
    "    clip.close()\n"
   ]
  },
  {
   "cell_type": "code",
   "execution_count": 70,
   "metadata": {},
   "outputs": [
    {
     "name": "stdout",
     "output_type": "stream",
     "text": [
      "Moviepy - Building video 100/drug/17889_augmented_darkness.mp4.\n",
      "MoviePy - Writing audio in 17889_augmented_darknessTEMP_MPY_wvf_snd.mp3\n"
     ]
    },
    {
     "name": "stderr",
     "output_type": "stream",
     "text": [
      "                                                       \r"
     ]
    },
    {
     "name": "stdout",
     "output_type": "stream",
     "text": [
      "MoviePy - Done.\n",
      "Moviepy - Writing video 100/drug/17889_augmented_darkness.mp4\n",
      "\n"
     ]
    },
    {
     "name": "stderr",
     "output_type": "stream",
     "text": [
      "                                                             \r"
     ]
    },
    {
     "name": "stdout",
     "output_type": "stream",
     "text": [
      "Moviepy - Done !\n",
      "Moviepy - video ready 100/drug/17889_augmented_darkness.mp4\n",
      "Moviepy - Building video 100/drug/17889_augmented_shifting.mp4.\n",
      "MoviePy - Writing audio in 17889_augmented_shiftingTEMP_MPY_wvf_snd.mp3\n"
     ]
    },
    {
     "name": "stderr",
     "output_type": "stream",
     "text": [
      "                                                       \r"
     ]
    },
    {
     "name": "stdout",
     "output_type": "stream",
     "text": [
      "MoviePy - Done.\n",
      "Moviepy - Writing video 100/drug/17889_augmented_shifting.mp4\n",
      "\n"
     ]
    },
    {
     "name": "stderr",
     "output_type": "stream",
     "text": [
      "                                                             \r"
     ]
    },
    {
     "name": "stdout",
     "output_type": "stream",
     "text": [
      "Moviepy - Done !\n",
      "Moviepy - video ready 100/drug/17889_augmented_shifting.mp4\n",
      "Moviepy - Building video 100/drug/17877_augmented_darkness.mp4.\n",
      "MoviePy - Writing audio in 17877_augmented_darknessTEMP_MPY_wvf_snd.mp3\n"
     ]
    },
    {
     "name": "stderr",
     "output_type": "stream",
     "text": [
      "                                                       \r"
     ]
    },
    {
     "name": "stdout",
     "output_type": "stream",
     "text": [
      "MoviePy - Done.\n",
      "Moviepy - Writing video 100/drug/17877_augmented_darkness.mp4\n",
      "\n"
     ]
    },
    {
     "name": "stderr",
     "output_type": "stream",
     "text": [
      "                                                            \r"
     ]
    },
    {
     "name": "stdout",
     "output_type": "stream",
     "text": [
      "Moviepy - Done !\n",
      "Moviepy - video ready 100/drug/17877_augmented_darkness.mp4\n",
      "Moviepy - Building video 100/drug/17877_augmented_shifting.mp4.\n",
      "MoviePy - Writing audio in 17877_augmented_shiftingTEMP_MPY_wvf_snd.mp3\n"
     ]
    },
    {
     "name": "stderr",
     "output_type": "stream",
     "text": [
      "                                                                 \r"
     ]
    },
    {
     "name": "stdout",
     "output_type": "stream",
     "text": [
      "MoviePy - Done.\n",
      "Moviepy - Writing video 100/drug/17877_augmented_shifting.mp4\n",
      "\n"
     ]
    },
    {
     "name": "stderr",
     "output_type": "stream",
     "text": [
      "                                                            \r"
     ]
    },
    {
     "name": "stdout",
     "output_type": "stream",
     "text": [
      "Moviepy - Done !\n",
      "Moviepy - video ready 100/drug/17877_augmented_shifting.mp4\n",
      "Moviepy - Building video 100/drug/17883_augmented_darkness.mp4.\n",
      "Moviepy - Writing video 100/drug/17883_augmented_darkness.mp4\n",
      "\n"
     ]
    },
    {
     "name": "stderr",
     "output_type": "stream",
     "text": [
      "                                                   \r"
     ]
    },
    {
     "name": "stdout",
     "output_type": "stream",
     "text": [
      "Moviepy - Done !\n",
      "Moviepy - video ready 100/drug/17883_augmented_darkness.mp4\n",
      "Moviepy - Building video 100/drug/17883_augmented_shifting.mp4.\n",
      "Moviepy - Writing video 100/drug/17883_augmented_shifting.mp4\n",
      "\n"
     ]
    },
    {
     "name": "stderr",
     "output_type": "stream",
     "text": [
      "                                                   \r"
     ]
    },
    {
     "name": "stdout",
     "output_type": "stream",
     "text": [
      "Moviepy - Done !\n",
      "Moviepy - video ready 100/drug/17883_augmented_shifting.mp4\n",
      "Moviepy - Building video 100/drug/17878_augmented_darkness.mp4.\n",
      "MoviePy - Writing audio in 17878_augmented_darknessTEMP_MPY_wvf_snd.mp3\n"
     ]
    },
    {
     "name": "stderr",
     "output_type": "stream",
     "text": [
      "                                                       \r"
     ]
    },
    {
     "name": "stdout",
     "output_type": "stream",
     "text": [
      "MoviePy - Done.\n",
      "Moviepy - Writing video 100/drug/17878_augmented_darkness.mp4\n",
      "\n"
     ]
    },
    {
     "name": "stderr",
     "output_type": "stream",
     "text": [
      "                                                              \r"
     ]
    },
    {
     "name": "stdout",
     "output_type": "stream",
     "text": [
      "Moviepy - Done !\n",
      "Moviepy - video ready 100/drug/17878_augmented_darkness.mp4\n",
      "Moviepy - Building video 100/drug/17878_augmented_shifting.mp4.\n",
      "MoviePy - Writing audio in 17878_augmented_shiftingTEMP_MPY_wvf_snd.mp3\n"
     ]
    },
    {
     "name": "stderr",
     "output_type": "stream",
     "text": [
      "                                                       \r"
     ]
    },
    {
     "name": "stdout",
     "output_type": "stream",
     "text": [
      "MoviePy - Done.\n",
      "Moviepy - Writing video 100/drug/17878_augmented_shifting.mp4\n",
      "\n"
     ]
    },
    {
     "name": "stderr",
     "output_type": "stream",
     "text": [
      "                                                              \r"
     ]
    },
    {
     "name": "stdout",
     "output_type": "stream",
     "text": [
      "Moviepy - Done !\n",
      "Moviepy - video ready 100/drug/17878_augmented_shifting.mp4\n"
     ]
    }
   ],
   "source": [
    "import os\n",
    "from moviepy.editor import *\n",
    "from scipy.ndimage import gaussian_filter\n",
    "\n",
    "# Set input and output directories\n",
    "input_dir = '100/drug'\n",
    "output_dir = input_dir\n",
    "\n",
    "# Get a list of all the video files in the input directory\n",
    "video_files = [f for f in os.listdir(input_dir) if f.endswith('.mp4')]\n",
    "\n",
    "# Loop through each video file\n",
    "for video_file in video_files:\n",
    "    # Load the video clip\n",
    "    clip = VideoFileClip(os.path.join(input_dir, video_file))\n",
    "\n",
    "    # Define the augmentations\n",
    "    augmentations = [\n",
    "        ('darkness', lambda c: c.fx(vfx.colorx, 0.467)),\n",
    "        ('shifting', lambda c: c.fx(vfx.crop, x1=50, y1=50))\n",
    "    ]\n",
    "\n",
    "    # Apply each augmentation and save the output video\n",
    "    for i, (name, effect) in enumerate(augmentations):\n",
    "        # Apply the effect to the clip\n",
    "        augmented_clip = effect(clip)\n",
    "\n",
    "        # Set the output filename\n",
    "        output_filename = f'{os.path.splitext(video_file)[0]}_augmented_{name}.mp4'\n",
    "        output_path = os.path.join(output_dir, output_filename)\n",
    "\n",
    "        # Save the augmented video\n",
    "        augmented_clip.write_videofile(output_path)\n",
    "\n",
    "    # Close the input video clip\n",
    "    clip.close()\n"
   ]
  },
  {
   "cell_type": "code",
   "execution_count": 71,
   "metadata": {},
   "outputs": [
    {
     "name": "stdout",
     "output_type": "stream",
     "text": [
      "Moviepy - Building video 100/drum/17900_augmented_darkness.mp4.\n",
      "MoviePy - Writing audio in 17900_augmented_darknessTEMP_MPY_wvf_snd.mp3\n"
     ]
    },
    {
     "name": "stderr",
     "output_type": "stream",
     "text": [
      "                                                       \r"
     ]
    },
    {
     "name": "stdout",
     "output_type": "stream",
     "text": [
      "MoviePy - Done.\n",
      "Moviepy - Writing video 100/drum/17900_augmented_darkness.mp4\n",
      "\n"
     ]
    },
    {
     "name": "stderr",
     "output_type": "stream",
     "text": [
      "                                                             \r"
     ]
    },
    {
     "name": "stdout",
     "output_type": "stream",
     "text": [
      "Moviepy - Done !\n",
      "Moviepy - video ready 100/drum/17900_augmented_darkness.mp4\n",
      "Moviepy - Building video 100/drum/17900_augmented_shifting.mp4.\n",
      "MoviePy - Writing audio in 17900_augmented_shiftingTEMP_MPY_wvf_snd.mp3\n"
     ]
    },
    {
     "name": "stderr",
     "output_type": "stream",
     "text": [
      "                                                       \r"
     ]
    },
    {
     "name": "stdout",
     "output_type": "stream",
     "text": [
      "MoviePy - Done.\n",
      "Moviepy - Writing video 100/drum/17900_augmented_shifting.mp4\n",
      "\n"
     ]
    },
    {
     "name": "stderr",
     "output_type": "stream",
     "text": [
      "                                                             \r"
     ]
    },
    {
     "name": "stdout",
     "output_type": "stream",
     "text": [
      "Moviepy - Done !\n",
      "Moviepy - video ready 100/drum/17900_augmented_shifting.mp4\n",
      "Moviepy - Building video 100/drum/69303_augmented_darkness.mp4.\n",
      "MoviePy - Writing audio in 69303_augmented_darknessTEMP_MPY_wvf_snd.mp3\n"
     ]
    },
    {
     "name": "stderr",
     "output_type": "stream",
     "text": [
      "                                                       \r"
     ]
    },
    {
     "name": "stdout",
     "output_type": "stream",
     "text": [
      "MoviePy - Done.\n",
      "Moviepy - Writing video 100/drum/69303_augmented_darkness.mp4\n",
      "\n"
     ]
    },
    {
     "name": "stderr",
     "output_type": "stream",
     "text": [
      "                                                            \r"
     ]
    },
    {
     "name": "stdout",
     "output_type": "stream",
     "text": [
      "Moviepy - Done !\n",
      "Moviepy - video ready 100/drum/69303_augmented_darkness.mp4\n",
      "Moviepy - Building video 100/drum/69303_augmented_shifting.mp4.\n",
      "MoviePy - Writing audio in 69303_augmented_shiftingTEMP_MPY_wvf_snd.mp3\n"
     ]
    },
    {
     "name": "stderr",
     "output_type": "stream",
     "text": [
      "                                                       \r"
     ]
    },
    {
     "name": "stdout",
     "output_type": "stream",
     "text": [
      "MoviePy - Done.\n",
      "Moviepy - Writing video 100/drum/69303_augmented_shifting.mp4\n",
      "\n"
     ]
    },
    {
     "name": "stderr",
     "output_type": "stream",
     "text": [
      "                                                            \r"
     ]
    },
    {
     "name": "stdout",
     "output_type": "stream",
     "text": [
      "Moviepy - Done !\n",
      "Moviepy - video ready 100/drum/69303_augmented_shifting.mp4\n",
      "Moviepy - Building video 100/drum/17897_augmented_darkness.mp4.\n",
      "MoviePy - Writing audio in 17897_augmented_darknessTEMP_MPY_wvf_snd.mp3\n"
     ]
    },
    {
     "name": "stderr",
     "output_type": "stream",
     "text": [
      "                                                       \r"
     ]
    },
    {
     "name": "stdout",
     "output_type": "stream",
     "text": [
      "MoviePy - Done.\n",
      "Moviepy - Writing video 100/drum/17897_augmented_darkness.mp4\n",
      "\n"
     ]
    },
    {
     "name": "stderr",
     "output_type": "stream",
     "text": [
      "                                                            \r"
     ]
    },
    {
     "name": "stdout",
     "output_type": "stream",
     "text": [
      "Moviepy - Done !\n",
      "Moviepy - video ready 100/drum/17897_augmented_darkness.mp4\n",
      "Moviepy - Building video 100/drum/17897_augmented_shifting.mp4.\n",
      "MoviePy - Writing audio in 17897_augmented_shiftingTEMP_MPY_wvf_snd.mp3\n"
     ]
    },
    {
     "name": "stderr",
     "output_type": "stream",
     "text": [
      "                                                                \r"
     ]
    },
    {
     "name": "stdout",
     "output_type": "stream",
     "text": [
      "MoviePy - Done.\n",
      "Moviepy - Writing video 100/drum/17897_augmented_shifting.mp4\n",
      "\n"
     ]
    },
    {
     "name": "stderr",
     "output_type": "stream",
     "text": [
      "                                                            \r"
     ]
    },
    {
     "name": "stdout",
     "output_type": "stream",
     "text": [
      "Moviepy - Done !\n",
      "Moviepy - video ready 100/drum/17897_augmented_shifting.mp4\n",
      "Moviepy - Building video 100/drum/17896_augmented_darkness.mp4.\n",
      "Moviepy - Writing video 100/drum/17896_augmented_darkness.mp4\n",
      "\n"
     ]
    },
    {
     "name": "stderr",
     "output_type": "stream",
     "text": [
      "                                                             \r"
     ]
    },
    {
     "name": "stdout",
     "output_type": "stream",
     "text": [
      "Moviepy - Done !\n",
      "Moviepy - video ready 100/drum/17896_augmented_darkness.mp4\n",
      "Moviepy - Building video 100/drum/17896_augmented_shifting.mp4.\n",
      "Moviepy - Writing video 100/drum/17896_augmented_shifting.mp4\n",
      "\n"
     ]
    },
    {
     "name": "stderr",
     "output_type": "stream",
     "text": [
      "                                                             \r"
     ]
    },
    {
     "name": "stdout",
     "output_type": "stream",
     "text": [
      "Moviepy - Done !\n",
      "Moviepy - video ready 100/drum/17896_augmented_shifting.mp4\n",
      "Moviepy - Building video 100/drum/65547_augmented_darkness.mp4.\n",
      "Moviepy - Writing video 100/drum/65547_augmented_darkness.mp4\n",
      "\n"
     ]
    },
    {
     "name": "stderr",
     "output_type": "stream",
     "text": [
      "                                                             \r"
     ]
    },
    {
     "name": "stdout",
     "output_type": "stream",
     "text": [
      "Moviepy - Done !\n",
      "Moviepy - video ready 100/drum/65547_augmented_darkness.mp4\n",
      "Moviepy - Building video 100/drum/65547_augmented_shifting.mp4.\n",
      "Moviepy - Writing video 100/drum/65547_augmented_shifting.mp4\n",
      "\n"
     ]
    },
    {
     "name": "stderr",
     "output_type": "stream",
     "text": [
      "                                                             \r"
     ]
    },
    {
     "name": "stdout",
     "output_type": "stream",
     "text": [
      "Moviepy - Done !\n",
      "Moviepy - video ready 100/drum/65547_augmented_shifting.mp4\n"
     ]
    }
   ],
   "source": [
    "import os\n",
    "from moviepy.editor import *\n",
    "from scipy.ndimage import gaussian_filter\n",
    "\n",
    "# Set input and output directories\n",
    "input_dir = '100/drum'\n",
    "output_dir = input_dir\n",
    "\n",
    "# Get a list of all the video files in the input directory\n",
    "video_files = [f for f in os.listdir(input_dir) if f.endswith('.mp4')]\n",
    "\n",
    "# Loop through each video file\n",
    "for video_file in video_files:\n",
    "    # Load the video clip\n",
    "    clip = VideoFileClip(os.path.join(input_dir, video_file))\n",
    "\n",
    "    # Define the augmentations\n",
    "    augmentations = [\n",
    "        ('darkness', lambda c: c.fx(vfx.colorx, 0.467)),\n",
    "        ('shifting', lambda c: c.fx(vfx.crop, x1=50, y1=50))\n",
    "    ]\n",
    "\n",
    "    # Apply each augmentation and save the output video\n",
    "    for i, (name, effect) in enumerate(augmentations):\n",
    "        # Apply the effect to the clip\n",
    "        augmented_clip = effect(clip)\n",
    "\n",
    "        # Set the output filename\n",
    "        output_filename = f'{os.path.splitext(video_file)[0]}_augmented_{name}.mp4'\n",
    "        output_path = os.path.join(output_dir, output_filename)\n",
    "\n",
    "        # Save the augmented video\n",
    "        augmented_clip.write_videofile(output_path)\n",
    "\n",
    "    # Close the input video clip\n",
    "    clip.close()\n"
   ]
  },
  {
   "cell_type": "code",
   "execution_count": 72,
   "metadata": {},
   "outputs": [
    {
     "name": "stdout",
     "output_type": "stream",
     "text": [
      "Moviepy - Building video 100/drunk/17915_augmented_darkness.mp4.\n",
      "Moviepy - Writing video 100/drunk/17915_augmented_darkness.mp4\n",
      "\n"
     ]
    },
    {
     "name": "stderr",
     "output_type": "stream",
     "text": [
      "                                                   "
     ]
    },
    {
     "name": "stdout",
     "output_type": "stream",
     "text": [
      "Moviepy - Done !\n",
      "Moviepy - video ready 100/drunk/17915_augmented_darkness.mp4\n"
     ]
    },
    {
     "name": "stderr",
     "output_type": "stream",
     "text": [
      "\r"
     ]
    },
    {
     "name": "stdout",
     "output_type": "stream",
     "text": [
      "Moviepy - Building video 100/drunk/17915_augmented_shifting.mp4.\n",
      "Moviepy - Writing video 100/drunk/17915_augmented_shifting.mp4\n",
      "\n"
     ]
    },
    {
     "name": "stderr",
     "output_type": "stream",
     "text": [
      "                                                   "
     ]
    },
    {
     "name": "stdout",
     "output_type": "stream",
     "text": [
      "Moviepy - Done !\n",
      "Moviepy - video ready 100/drunk/17915_augmented_shifting.mp4\n"
     ]
    },
    {
     "name": "stderr",
     "output_type": "stream",
     "text": [
      "\r"
     ]
    },
    {
     "name": "stdout",
     "output_type": "stream",
     "text": [
      "Moviepy - Building video 100/drunk/17910_augmented_darkness_augmented_darkness.mp4.\n",
      "Moviepy - Writing video 100/drunk/17910_augmented_darkness_augmented_darkness.mp4\n",
      "\n"
     ]
    },
    {
     "name": "stderr",
     "output_type": "stream",
     "text": [
      "                                                             \r"
     ]
    },
    {
     "name": "stdout",
     "output_type": "stream",
     "text": [
      "Moviepy - Done !\n",
      "Moviepy - video ready 100/drunk/17910_augmented_darkness_augmented_darkness.mp4\n",
      "Moviepy - Building video 100/drunk/17910_augmented_darkness_augmented_shifting.mp4.\n",
      "Moviepy - Writing video 100/drunk/17910_augmented_darkness_augmented_shifting.mp4\n",
      "\n"
     ]
    },
    {
     "name": "stderr",
     "output_type": "stream",
     "text": [
      "                                                             \r"
     ]
    },
    {
     "name": "stdout",
     "output_type": "stream",
     "text": [
      "Moviepy - Done !\n",
      "Moviepy - video ready 100/drunk/17910_augmented_darkness_augmented_shifting.mp4\n",
      "Moviepy - Building video 100/drunk/65548_augmented_darkness.mp4.\n",
      "MoviePy - Writing audio in 65548_augmented_darknessTEMP_MPY_wvf_snd.mp3\n"
     ]
    },
    {
     "name": "stderr",
     "output_type": "stream",
     "text": [
      "                                                       \r"
     ]
    },
    {
     "name": "stdout",
     "output_type": "stream",
     "text": [
      "MoviePy - Done.\n",
      "Moviepy - Writing video 100/drunk/65548_augmented_darkness.mp4\n",
      "\n"
     ]
    },
    {
     "name": "stderr",
     "output_type": "stream",
     "text": [
      "                                                             \r"
     ]
    },
    {
     "name": "stdout",
     "output_type": "stream",
     "text": [
      "Moviepy - Done !\n",
      "Moviepy - video ready 100/drunk/65548_augmented_darkness.mp4\n",
      "Moviepy - Building video 100/drunk/65548_augmented_shifting.mp4.\n",
      "MoviePy - Writing audio in 65548_augmented_shiftingTEMP_MPY_wvf_snd.mp3\n"
     ]
    },
    {
     "name": "stderr",
     "output_type": "stream",
     "text": [
      "                                                       \r"
     ]
    },
    {
     "name": "stdout",
     "output_type": "stream",
     "text": [
      "MoviePy - Done.\n",
      "Moviepy - Writing video 100/drunk/65548_augmented_shifting.mp4\n",
      "\n"
     ]
    },
    {
     "name": "stderr",
     "output_type": "stream",
     "text": [
      "                                                             \r"
     ]
    },
    {
     "name": "stdout",
     "output_type": "stream",
     "text": [
      "Moviepy - Done !\n",
      "Moviepy - video ready 100/drunk/65548_augmented_shifting.mp4\n",
      "Moviepy - Building video 100/drunk/17915_augmented_shifting_augmented_darkness.mp4.\n",
      "Moviepy - Writing video 100/drunk/17915_augmented_shifting_augmented_darkness.mp4\n",
      "\n"
     ]
    },
    {
     "name": "stderr",
     "output_type": "stream",
     "text": [
      "                                                   "
     ]
    },
    {
     "name": "stdout",
     "output_type": "stream",
     "text": [
      "Moviepy - Done !\n",
      "Moviepy - video ready 100/drunk/17915_augmented_shifting_augmented_darkness.mp4\n"
     ]
    },
    {
     "name": "stderr",
     "output_type": "stream",
     "text": [
      "\r"
     ]
    },
    {
     "name": "stdout",
     "output_type": "stream",
     "text": [
      "Moviepy - Building video 100/drunk/17915_augmented_shifting_augmented_shifting.mp4.\n",
      "Moviepy - Writing video 100/drunk/17915_augmented_shifting_augmented_shifting.mp4\n",
      "\n"
     ]
    },
    {
     "name": "stderr",
     "output_type": "stream",
     "text": [
      "                                                   \r"
     ]
    },
    {
     "name": "stdout",
     "output_type": "stream",
     "text": [
      "Moviepy - Done !\n",
      "Moviepy - video ready 100/drunk/17915_augmented_shifting_augmented_shifting.mp4\n",
      "Moviepy - Building video 100/drunk/17914_augmented_darkness.mp4.\n",
      "Moviepy - Writing video 100/drunk/17914_augmented_darkness.mp4\n",
      "\n"
     ]
    },
    {
     "name": "stderr",
     "output_type": "stream",
     "text": [
      "                                                   \r"
     ]
    },
    {
     "name": "stdout",
     "output_type": "stream",
     "text": [
      "Moviepy - Done !\n",
      "Moviepy - video ready 100/drunk/17914_augmented_darkness.mp4\n",
      "Moviepy - Building video 100/drunk/17914_augmented_shifting.mp4.\n",
      "Moviepy - Writing video 100/drunk/17914_augmented_shifting.mp4\n",
      "\n"
     ]
    },
    {
     "name": "stderr",
     "output_type": "stream",
     "text": [
      "                                                   \r"
     ]
    },
    {
     "name": "stdout",
     "output_type": "stream",
     "text": [
      "Moviepy - Done !\n",
      "Moviepy - video ready 100/drunk/17914_augmented_shifting.mp4\n",
      "Moviepy - Building video 100/drunk/17912_augmented_shifting_augmented_darkness.mp4.\n",
      "MoviePy - Writing audio in 17912_augmented_shifting_augmented_darknessTEMP_MPY_wvf_snd.mp3\n"
     ]
    },
    {
     "name": "stderr",
     "output_type": "stream",
     "text": [
      "                                                       \r"
     ]
    },
    {
     "name": "stdout",
     "output_type": "stream",
     "text": [
      "MoviePy - Done.\n",
      "Moviepy - Writing video 100/drunk/17912_augmented_shifting_augmented_darkness.mp4\n",
      "\n"
     ]
    },
    {
     "name": "stderr",
     "output_type": "stream",
     "text": [
      "                                                             \r"
     ]
    },
    {
     "name": "stdout",
     "output_type": "stream",
     "text": [
      "Moviepy - Done !\n",
      "Moviepy - video ready 100/drunk/17912_augmented_shifting_augmented_darkness.mp4\n",
      "Moviepy - Building video 100/drunk/17912_augmented_shifting_augmented_shifting.mp4.\n",
      "MoviePy - Writing audio in 17912_augmented_shifting_augmented_shiftingTEMP_MPY_wvf_snd.mp3\n"
     ]
    },
    {
     "name": "stderr",
     "output_type": "stream",
     "text": [
      "                                                       \r"
     ]
    },
    {
     "name": "stdout",
     "output_type": "stream",
     "text": [
      "MoviePy - Done.\n",
      "Moviepy - Writing video 100/drunk/17912_augmented_shifting_augmented_shifting.mp4\n",
      "\n"
     ]
    },
    {
     "name": "stderr",
     "output_type": "stream",
     "text": [
      "                                                             \r"
     ]
    },
    {
     "name": "stdout",
     "output_type": "stream",
     "text": [
      "Moviepy - Done !\n",
      "Moviepy - video ready 100/drunk/17912_augmented_shifting_augmented_shifting.mp4\n",
      "Moviepy - Building video 100/drunk/17918_augmented_shifting_augmented_darkness.mp4.\n",
      "MoviePy - Writing audio in 17918_augmented_shifting_augmented_darknessTEMP_MPY_wvf_snd.mp3\n"
     ]
    },
    {
     "name": "stderr",
     "output_type": "stream",
     "text": [
      "                                                       \r"
     ]
    },
    {
     "name": "stdout",
     "output_type": "stream",
     "text": [
      "MoviePy - Done.\n",
      "Moviepy - Writing video 100/drunk/17918_augmented_shifting_augmented_darkness.mp4\n",
      "\n"
     ]
    },
    {
     "name": "stderr",
     "output_type": "stream",
     "text": [
      "                                                             \r"
     ]
    },
    {
     "name": "stdout",
     "output_type": "stream",
     "text": [
      "Moviepy - Done !\n",
      "Moviepy - video ready 100/drunk/17918_augmented_shifting_augmented_darkness.mp4\n",
      "Moviepy - Building video 100/drunk/17918_augmented_shifting_augmented_shifting.mp4.\n",
      "MoviePy - Writing audio in 17918_augmented_shifting_augmented_shiftingTEMP_MPY_wvf_snd.mp3\n"
     ]
    },
    {
     "name": "stderr",
     "output_type": "stream",
     "text": [
      "                                                       \r"
     ]
    },
    {
     "name": "stdout",
     "output_type": "stream",
     "text": [
      "MoviePy - Done.\n",
      "Moviepy - Writing video 100/drunk/17918_augmented_shifting_augmented_shifting.mp4\n",
      "\n"
     ]
    },
    {
     "name": "stderr",
     "output_type": "stream",
     "text": [
      "                                                             \r"
     ]
    },
    {
     "name": "stdout",
     "output_type": "stream",
     "text": [
      "Moviepy - Done !\n",
      "Moviepy - video ready 100/drunk/17918_augmented_shifting_augmented_shifting.mp4\n",
      "Moviepy - Building video 100/drunk/17911_augmented_shifting_augmented_darkness.mp4.\n",
      "MoviePy - Writing audio in 17911_augmented_shifting_augmented_darknessTEMP_MPY_wvf_snd.mp3\n"
     ]
    },
    {
     "name": "stderr",
     "output_type": "stream",
     "text": [
      "                                                       \r"
     ]
    },
    {
     "name": "stdout",
     "output_type": "stream",
     "text": [
      "MoviePy - Done.\n",
      "Moviepy - Writing video 100/drunk/17911_augmented_shifting_augmented_darkness.mp4\n",
      "\n"
     ]
    },
    {
     "name": "stderr",
     "output_type": "stream",
     "text": [
      "                                                            \r"
     ]
    },
    {
     "name": "stdout",
     "output_type": "stream",
     "text": [
      "Moviepy - Done !\n",
      "Moviepy - video ready 100/drunk/17911_augmented_shifting_augmented_darkness.mp4\n",
      "Moviepy - Building video 100/drunk/17911_augmented_shifting_augmented_shifting.mp4.\n",
      "MoviePy - Writing audio in 17911_augmented_shifting_augmented_shiftingTEMP_MPY_wvf_snd.mp3\n"
     ]
    },
    {
     "name": "stderr",
     "output_type": "stream",
     "text": [
      "                                                       \r"
     ]
    },
    {
     "name": "stdout",
     "output_type": "stream",
     "text": [
      "MoviePy - Done.\n",
      "Moviepy - Writing video 100/drunk/17911_augmented_shifting_augmented_shifting.mp4\n",
      "\n"
     ]
    },
    {
     "name": "stderr",
     "output_type": "stream",
     "text": [
      "                                                            \r"
     ]
    },
    {
     "name": "stdout",
     "output_type": "stream",
     "text": [
      "Moviepy - Done !\n",
      "Moviepy - video ready 100/drunk/17911_augmented_shifting_augmented_shifting.mp4\n",
      "Moviepy - Building video 100/drunk/17914_augmented_darkness_augmented_darkness.mp4.\n",
      "Moviepy - Writing video 100/drunk/17914_augmented_darkness_augmented_darkness.mp4\n",
      "\n"
     ]
    },
    {
     "name": "stderr",
     "output_type": "stream",
     "text": [
      "                                                   "
     ]
    },
    {
     "name": "stdout",
     "output_type": "stream",
     "text": [
      "Moviepy - Done !\n",
      "Moviepy - video ready 100/drunk/17914_augmented_darkness_augmented_darkness.mp4\n"
     ]
    },
    {
     "name": "stderr",
     "output_type": "stream",
     "text": [
      "\r"
     ]
    },
    {
     "name": "stdout",
     "output_type": "stream",
     "text": [
      "Moviepy - Building video 100/drunk/17914_augmented_darkness_augmented_shifting.mp4.\n",
      "Moviepy - Writing video 100/drunk/17914_augmented_darkness_augmented_shifting.mp4\n",
      "\n"
     ]
    },
    {
     "name": "stderr",
     "output_type": "stream",
     "text": [
      "                                                   \r"
     ]
    },
    {
     "name": "stdout",
     "output_type": "stream",
     "text": [
      "Moviepy - Done !\n",
      "Moviepy - video ready 100/drunk/17914_augmented_darkness_augmented_shifting.mp4\n",
      "Moviepy - Building video 100/drunk/17912_augmented_darkness.mp4.\n",
      "MoviePy - Writing audio in 17912_augmented_darknessTEMP_MPY_wvf_snd.mp3\n"
     ]
    },
    {
     "name": "stderr",
     "output_type": "stream",
     "text": [
      "                                                       \r"
     ]
    },
    {
     "name": "stdout",
     "output_type": "stream",
     "text": [
      "MoviePy - Done.\n",
      "Moviepy - Writing video 100/drunk/17912_augmented_darkness.mp4\n",
      "\n"
     ]
    },
    {
     "name": "stderr",
     "output_type": "stream",
     "text": [
      "                                                             \r"
     ]
    },
    {
     "name": "stdout",
     "output_type": "stream",
     "text": [
      "Moviepy - Done !\n",
      "Moviepy - video ready 100/drunk/17912_augmented_darkness.mp4\n",
      "Moviepy - Building video 100/drunk/17912_augmented_shifting.mp4.\n",
      "MoviePy - Writing audio in 17912_augmented_shiftingTEMP_MPY_wvf_snd.mp3\n"
     ]
    },
    {
     "name": "stderr",
     "output_type": "stream",
     "text": [
      "                                                       \r"
     ]
    },
    {
     "name": "stdout",
     "output_type": "stream",
     "text": [
      "MoviePy - Done.\n",
      "Moviepy - Writing video 100/drunk/17912_augmented_shifting.mp4\n",
      "\n"
     ]
    },
    {
     "name": "stderr",
     "output_type": "stream",
     "text": [
      "                                                             \r"
     ]
    },
    {
     "name": "stdout",
     "output_type": "stream",
     "text": [
      "Moviepy - Done !\n",
      "Moviepy - video ready 100/drunk/17912_augmented_shifting.mp4\n",
      "Moviepy - Building video 100/drunk/17910_augmented_darkness.mp4.\n",
      "Moviepy - Writing video 100/drunk/17910_augmented_darkness.mp4\n",
      "\n"
     ]
    },
    {
     "name": "stderr",
     "output_type": "stream",
     "text": [
      "                                                             \r"
     ]
    },
    {
     "name": "stdout",
     "output_type": "stream",
     "text": [
      "Moviepy - Done !\n",
      "Moviepy - video ready 100/drunk/17910_augmented_darkness.mp4\n",
      "Moviepy - Building video 100/drunk/17910_augmented_shifting.mp4.\n",
      "Moviepy - Writing video 100/drunk/17910_augmented_shifting.mp4\n",
      "\n"
     ]
    },
    {
     "name": "stderr",
     "output_type": "stream",
     "text": [
      "                                                             \r"
     ]
    },
    {
     "name": "stdout",
     "output_type": "stream",
     "text": [
      "Moviepy - Done !\n",
      "Moviepy - video ready 100/drunk/17910_augmented_shifting.mp4\n",
      "Moviepy - Building video 100/drunk/17911_augmented_darkness.mp4.\n",
      "MoviePy - Writing audio in 17911_augmented_darknessTEMP_MPY_wvf_snd.mp3\n"
     ]
    },
    {
     "name": "stderr",
     "output_type": "stream",
     "text": [
      "                                                       \r"
     ]
    },
    {
     "name": "stdout",
     "output_type": "stream",
     "text": [
      "MoviePy - Done.\n",
      "Moviepy - Writing video 100/drunk/17911_augmented_darkness.mp4\n",
      "\n"
     ]
    },
    {
     "name": "stderr",
     "output_type": "stream",
     "text": [
      "                                                            \r"
     ]
    },
    {
     "name": "stdout",
     "output_type": "stream",
     "text": [
      "Moviepy - Done !\n",
      "Moviepy - video ready 100/drunk/17911_augmented_darkness.mp4\n",
      "Moviepy - Building video 100/drunk/17911_augmented_shifting.mp4.\n",
      "MoviePy - Writing audio in 17911_augmented_shiftingTEMP_MPY_wvf_snd.mp3\n"
     ]
    },
    {
     "name": "stderr",
     "output_type": "stream",
     "text": [
      "                                                       \r"
     ]
    },
    {
     "name": "stdout",
     "output_type": "stream",
     "text": [
      "MoviePy - Done.\n",
      "Moviepy - Writing video 100/drunk/17911_augmented_shifting.mp4\n",
      "\n"
     ]
    },
    {
     "name": "stderr",
     "output_type": "stream",
     "text": [
      "                                                            \r"
     ]
    },
    {
     "name": "stdout",
     "output_type": "stream",
     "text": [
      "Moviepy - Done !\n",
      "Moviepy - video ready 100/drunk/17911_augmented_shifting.mp4\n",
      "Moviepy - Building video 100/drunk/17912_augmented_darkness_augmented_darkness.mp4.\n",
      "MoviePy - Writing audio in 17912_augmented_darkness_augmented_darknessTEMP_MPY_wvf_snd.mp3\n"
     ]
    },
    {
     "name": "stderr",
     "output_type": "stream",
     "text": [
      "                                                       \r"
     ]
    },
    {
     "name": "stdout",
     "output_type": "stream",
     "text": [
      "MoviePy - Done.\n",
      "Moviepy - Writing video 100/drunk/17912_augmented_darkness_augmented_darkness.mp4\n",
      "\n"
     ]
    },
    {
     "name": "stderr",
     "output_type": "stream",
     "text": [
      "                                                             \r"
     ]
    },
    {
     "name": "stdout",
     "output_type": "stream",
     "text": [
      "Moviepy - Done !\n",
      "Moviepy - video ready 100/drunk/17912_augmented_darkness_augmented_darkness.mp4\n",
      "Moviepy - Building video 100/drunk/17912_augmented_darkness_augmented_shifting.mp4.\n",
      "MoviePy - Writing audio in 17912_augmented_darkness_augmented_shiftingTEMP_MPY_wvf_snd.mp3\n"
     ]
    },
    {
     "name": "stderr",
     "output_type": "stream",
     "text": [
      "                                                       \r"
     ]
    },
    {
     "name": "stdout",
     "output_type": "stream",
     "text": [
      "MoviePy - Done.\n",
      "Moviepy - Writing video 100/drunk/17912_augmented_darkness_augmented_shifting.mp4\n",
      "\n"
     ]
    },
    {
     "name": "stderr",
     "output_type": "stream",
     "text": [
      "                                                             \r"
     ]
    },
    {
     "name": "stdout",
     "output_type": "stream",
     "text": [
      "Moviepy - Done !\n",
      "Moviepy - video ready 100/drunk/17912_augmented_darkness_augmented_shifting.mp4\n",
      "Moviepy - Building video 100/drunk/17918_augmented_darkness_augmented_darkness.mp4.\n",
      "MoviePy - Writing audio in 17918_augmented_darkness_augmented_darknessTEMP_MPY_wvf_snd.mp3\n"
     ]
    },
    {
     "name": "stderr",
     "output_type": "stream",
     "text": [
      "                                                       \r"
     ]
    },
    {
     "name": "stdout",
     "output_type": "stream",
     "text": [
      "MoviePy - Done.\n",
      "Moviepy - Writing video 100/drunk/17918_augmented_darkness_augmented_darkness.mp4\n",
      "\n"
     ]
    },
    {
     "name": "stderr",
     "output_type": "stream",
     "text": [
      "                                                             \r"
     ]
    },
    {
     "name": "stdout",
     "output_type": "stream",
     "text": [
      "Moviepy - Done !\n",
      "Moviepy - video ready 100/drunk/17918_augmented_darkness_augmented_darkness.mp4\n",
      "Moviepy - Building video 100/drunk/17918_augmented_darkness_augmented_shifting.mp4.\n",
      "MoviePy - Writing audio in 17918_augmented_darkness_augmented_shiftingTEMP_MPY_wvf_snd.mp3\n"
     ]
    },
    {
     "name": "stderr",
     "output_type": "stream",
     "text": [
      "                                                       \r"
     ]
    },
    {
     "name": "stdout",
     "output_type": "stream",
     "text": [
      "MoviePy - Done.\n",
      "Moviepy - Writing video 100/drunk/17918_augmented_darkness_augmented_shifting.mp4\n",
      "\n"
     ]
    },
    {
     "name": "stderr",
     "output_type": "stream",
     "text": [
      "                                                             \r"
     ]
    },
    {
     "name": "stdout",
     "output_type": "stream",
     "text": [
      "Moviepy - Done !\n",
      "Moviepy - video ready 100/drunk/17918_augmented_darkness_augmented_shifting.mp4\n",
      "Moviepy - Building video 100/drunk/17910_augmented_shifting_augmented_darkness.mp4.\n",
      "Moviepy - Writing video 100/drunk/17910_augmented_shifting_augmented_darkness.mp4\n",
      "\n"
     ]
    },
    {
     "name": "stderr",
     "output_type": "stream",
     "text": [
      "                                                             \r"
     ]
    },
    {
     "name": "stdout",
     "output_type": "stream",
     "text": [
      "Moviepy - Done !\n",
      "Moviepy - video ready 100/drunk/17910_augmented_shifting_augmented_darkness.mp4\n",
      "Moviepy - Building video 100/drunk/17910_augmented_shifting_augmented_shifting.mp4.\n",
      "Moviepy - Writing video 100/drunk/17910_augmented_shifting_augmented_shifting.mp4\n",
      "\n"
     ]
    },
    {
     "name": "stderr",
     "output_type": "stream",
     "text": [
      "                                                             \r"
     ]
    },
    {
     "name": "stdout",
     "output_type": "stream",
     "text": [
      "Moviepy - Done !\n",
      "Moviepy - video ready 100/drunk/17910_augmented_shifting_augmented_shifting.mp4\n",
      "Moviepy - Building video 100/drunk/17915_augmented_darkness_augmented_darkness.mp4.\n",
      "Moviepy - Writing video 100/drunk/17915_augmented_darkness_augmented_darkness.mp4\n",
      "\n"
     ]
    },
    {
     "name": "stderr",
     "output_type": "stream",
     "text": [
      "                                                   \r"
     ]
    },
    {
     "name": "stdout",
     "output_type": "stream",
     "text": [
      "Moviepy - Done !\n",
      "Moviepy - video ready 100/drunk/17915_augmented_darkness_augmented_darkness.mp4\n",
      "Moviepy - Building video 100/drunk/17915_augmented_darkness_augmented_shifting.mp4.\n",
      "Moviepy - Writing video 100/drunk/17915_augmented_darkness_augmented_shifting.mp4\n",
      "\n"
     ]
    },
    {
     "name": "stderr",
     "output_type": "stream",
     "text": [
      "                                                   \r"
     ]
    },
    {
     "name": "stdout",
     "output_type": "stream",
     "text": [
      "Moviepy - Done !\n",
      "Moviepy - video ready 100/drunk/17915_augmented_darkness_augmented_shifting.mp4\n",
      "Moviepy - Building video 100/drunk/17911_augmented_darkness_augmented_darkness.mp4.\n",
      "MoviePy - Writing audio in 17911_augmented_darkness_augmented_darknessTEMP_MPY_wvf_snd.mp3\n"
     ]
    },
    {
     "name": "stderr",
     "output_type": "stream",
     "text": [
      "                                                       \r"
     ]
    },
    {
     "name": "stdout",
     "output_type": "stream",
     "text": [
      "MoviePy - Done.\n",
      "Moviepy - Writing video 100/drunk/17911_augmented_darkness_augmented_darkness.mp4\n",
      "\n"
     ]
    },
    {
     "name": "stderr",
     "output_type": "stream",
     "text": [
      "                                                            \r"
     ]
    },
    {
     "name": "stdout",
     "output_type": "stream",
     "text": [
      "Moviepy - Done !\n",
      "Moviepy - video ready 100/drunk/17911_augmented_darkness_augmented_darkness.mp4\n",
      "Moviepy - Building video 100/drunk/17911_augmented_darkness_augmented_shifting.mp4.\n",
      "MoviePy - Writing audio in 17911_augmented_darkness_augmented_shiftingTEMP_MPY_wvf_snd.mp3\n"
     ]
    },
    {
     "name": "stderr",
     "output_type": "stream",
     "text": [
      "                                                       \r"
     ]
    },
    {
     "name": "stdout",
     "output_type": "stream",
     "text": [
      "MoviePy - Done.\n",
      "Moviepy - Writing video 100/drunk/17911_augmented_darkness_augmented_shifting.mp4\n",
      "\n"
     ]
    },
    {
     "name": "stderr",
     "output_type": "stream",
     "text": [
      "                                                            \r"
     ]
    },
    {
     "name": "stdout",
     "output_type": "stream",
     "text": [
      "Moviepy - Done !\n",
      "Moviepy - video ready 100/drunk/17911_augmented_darkness_augmented_shifting.mp4\n",
      "Moviepy - Building video 100/drunk/17914_augmented_shifting_augmented_darkness.mp4.\n",
      "Moviepy - Writing video 100/drunk/17914_augmented_shifting_augmented_darkness.mp4\n",
      "\n"
     ]
    },
    {
     "name": "stderr",
     "output_type": "stream",
     "text": [
      "                                                   "
     ]
    },
    {
     "name": "stdout",
     "output_type": "stream",
     "text": [
      "Moviepy - Done !\n",
      "Moviepy - video ready 100/drunk/17914_augmented_shifting_augmented_darkness.mp4\n",
      "Moviepy - Building video 100/drunk/17914_augmented_shifting_augmented_shifting.mp4.\n",
      "Moviepy - Writing video 100/drunk/17914_augmented_shifting_augmented_shifting.mp4\n",
      "\n"
     ]
    },
    {
     "name": "stderr",
     "output_type": "stream",
     "text": [
      "                                                   \r"
     ]
    },
    {
     "name": "stdout",
     "output_type": "stream",
     "text": [
      "Moviepy - Done !\n",
      "Moviepy - video ready 100/drunk/17914_augmented_shifting_augmented_shifting.mp4\n",
      "Moviepy - Building video 100/drunk/65548_augmented_darkness_augmented_darkness.mp4.\n",
      "MoviePy - Writing audio in 65548_augmented_darkness_augmented_darknessTEMP_MPY_wvf_snd.mp3\n"
     ]
    },
    {
     "name": "stderr",
     "output_type": "stream",
     "text": [
      "                                                       \r"
     ]
    },
    {
     "name": "stdout",
     "output_type": "stream",
     "text": [
      "MoviePy - Done.\n",
      "Moviepy - Writing video 100/drunk/65548_augmented_darkness_augmented_darkness.mp4\n",
      "\n"
     ]
    },
    {
     "name": "stderr",
     "output_type": "stream",
     "text": [
      "                                                             \r"
     ]
    },
    {
     "name": "stdout",
     "output_type": "stream",
     "text": [
      "Moviepy - Done !\n",
      "Moviepy - video ready 100/drunk/65548_augmented_darkness_augmented_darkness.mp4\n",
      "Moviepy - Building video 100/drunk/65548_augmented_darkness_augmented_shifting.mp4.\n",
      "MoviePy - Writing audio in 65548_augmented_darkness_augmented_shiftingTEMP_MPY_wvf_snd.mp3\n"
     ]
    },
    {
     "name": "stderr",
     "output_type": "stream",
     "text": [
      "                                                       \r"
     ]
    },
    {
     "name": "stdout",
     "output_type": "stream",
     "text": [
      "MoviePy - Done.\n",
      "Moviepy - Writing video 100/drunk/65548_augmented_darkness_augmented_shifting.mp4\n",
      "\n"
     ]
    },
    {
     "name": "stderr",
     "output_type": "stream",
     "text": [
      "                                                             \r"
     ]
    },
    {
     "name": "stdout",
     "output_type": "stream",
     "text": [
      "Moviepy - Done !\n",
      "Moviepy - video ready 100/drunk/65548_augmented_darkness_augmented_shifting.mp4\n",
      "Moviepy - Building video 100/drunk/65548_augmented_shifting_augmented_darkness.mp4.\n",
      "MoviePy - Writing audio in 65548_augmented_shifting_augmented_darknessTEMP_MPY_wvf_snd.mp3\n"
     ]
    },
    {
     "name": "stderr",
     "output_type": "stream",
     "text": [
      "                                                       \r"
     ]
    },
    {
     "name": "stdout",
     "output_type": "stream",
     "text": [
      "MoviePy - Done.\n",
      "Moviepy - Writing video 100/drunk/65548_augmented_shifting_augmented_darkness.mp4\n",
      "\n"
     ]
    },
    {
     "name": "stderr",
     "output_type": "stream",
     "text": [
      "                                                             \r"
     ]
    },
    {
     "name": "stdout",
     "output_type": "stream",
     "text": [
      "Moviepy - Done !\n",
      "Moviepy - video ready 100/drunk/65548_augmented_shifting_augmented_darkness.mp4\n",
      "Moviepy - Building video 100/drunk/65548_augmented_shifting_augmented_shifting.mp4.\n",
      "MoviePy - Writing audio in 65548_augmented_shifting_augmented_shiftingTEMP_MPY_wvf_snd.mp3\n"
     ]
    },
    {
     "name": "stderr",
     "output_type": "stream",
     "text": [
      "                                                       \r"
     ]
    },
    {
     "name": "stdout",
     "output_type": "stream",
     "text": [
      "MoviePy - Done.\n",
      "Moviepy - Writing video 100/drunk/65548_augmented_shifting_augmented_shifting.mp4\n",
      "\n"
     ]
    },
    {
     "name": "stderr",
     "output_type": "stream",
     "text": [
      "                                                             \r"
     ]
    },
    {
     "name": "stdout",
     "output_type": "stream",
     "text": [
      "Moviepy - Done !\n",
      "Moviepy - video ready 100/drunk/65548_augmented_shifting_augmented_shifting.mp4\n",
      "Moviepy - Building video 100/drunk/17918_augmented_darkness.mp4.\n",
      "MoviePy - Writing audio in 17918_augmented_darknessTEMP_MPY_wvf_snd.mp3\n"
     ]
    },
    {
     "name": "stderr",
     "output_type": "stream",
     "text": [
      "                                                       \r"
     ]
    },
    {
     "name": "stdout",
     "output_type": "stream",
     "text": [
      "MoviePy - Done.\n",
      "Moviepy - Writing video 100/drunk/17918_augmented_darkness.mp4\n",
      "\n"
     ]
    },
    {
     "name": "stderr",
     "output_type": "stream",
     "text": [
      "                                                             \r"
     ]
    },
    {
     "name": "stdout",
     "output_type": "stream",
     "text": [
      "Moviepy - Done !\n",
      "Moviepy - video ready 100/drunk/17918_augmented_darkness.mp4\n",
      "Moviepy - Building video 100/drunk/17918_augmented_shifting.mp4.\n",
      "MoviePy - Writing audio in 17918_augmented_shiftingTEMP_MPY_wvf_snd.mp3\n"
     ]
    },
    {
     "name": "stderr",
     "output_type": "stream",
     "text": [
      "                                                       \r"
     ]
    },
    {
     "name": "stdout",
     "output_type": "stream",
     "text": [
      "MoviePy - Done.\n",
      "Moviepy - Writing video 100/drunk/17918_augmented_shifting.mp4\n",
      "\n"
     ]
    },
    {
     "name": "stderr",
     "output_type": "stream",
     "text": [
      "                                                             \r"
     ]
    },
    {
     "name": "stdout",
     "output_type": "stream",
     "text": [
      "Moviepy - Done !\n",
      "Moviepy - video ready 100/drunk/17918_augmented_shifting.mp4\n"
     ]
    }
   ],
   "source": [
    "import os\n",
    "from moviepy.editor import *\n",
    "from scipy.ndimage import gaussian_filter\n",
    "\n",
    "# Set input and output directories\n",
    "input_dir = 'Adjectives/Dry'\n",
    "output_dir = input_dir\n",
    "\n",
    "# Get a list of all the video files in the input directory\n",
    "video_files = [f for f in os.listdir(input_dir) if f.endswith('.MOV')]\n",
    "\n",
    "# Loop through each video file\n",
    "for video_file in video_files:\n",
    "    # Load the video clip\n",
    "    clip = VideoFileClip(os.path.join(input_dir, video_file))\n",
    "\n",
    "    # Define the augmentations\n",
    "    augmentations = [\n",
    "        ('darkness', lambda c: c.fx(vfx.colorx, 0.467)),\n",
    "        ('shifting', lambda c: c.fx(vfx.crop, x1=50, y1=50))\n",
    "    ]\n",
    "\n",
    "    # Apply each augmentation and save the output video\n",
    "    for i, (name, effect) in enumerate(augmentations):\n",
    "        # Apply the effect to the clip\n",
    "        augmented_clip = effect(clip)\n",
    "\n",
    "        # Set the output filename\n",
    "        output_filename = f'{os.path.splitext(video_file)[0]}_augmented_{name}.mp4'\n",
    "        output_path = os.path.join(output_dir, output_filename)\n",
    "\n",
    "        # Save the augmented video\n",
    "        augmented_clip.write_videofile(output_path)\n",
    "\n",
    "    # Close the input video clip\n",
    "    clip.close()\n"
   ]
  },
  {
   "cell_type": "code",
   "execution_count": 73,
   "metadata": {},
   "outputs": [
    {
     "name": "stdout",
     "output_type": "stream",
     "text": [
      "Moviepy - Building video 100/dry/65549_augmented_darkness.mp4.\n",
      "MoviePy - Writing audio in 65549_augmented_darknessTEMP_MPY_wvf_snd.mp3\n"
     ]
    },
    {
     "name": "stderr",
     "output_type": "stream",
     "text": [
      "                                                       \r"
     ]
    },
    {
     "name": "stdout",
     "output_type": "stream",
     "text": [
      "MoviePy - Done.\n",
      "Moviepy - Writing video 100/dry/65549_augmented_darkness.mp4\n",
      "\n"
     ]
    },
    {
     "name": "stderr",
     "output_type": "stream",
     "text": [
      "                                                             \r"
     ]
    },
    {
     "name": "stdout",
     "output_type": "stream",
     "text": [
      "Moviepy - Done !\n",
      "Moviepy - video ready 100/dry/65549_augmented_darkness.mp4\n",
      "Moviepy - Building video 100/dry/65549_augmented_shifting.mp4.\n",
      "MoviePy - Writing audio in 65549_augmented_shiftingTEMP_MPY_wvf_snd.mp3\n"
     ]
    },
    {
     "name": "stderr",
     "output_type": "stream",
     "text": [
      "                                                       \r"
     ]
    },
    {
     "name": "stdout",
     "output_type": "stream",
     "text": [
      "MoviePy - Done.\n",
      "Moviepy - Writing video 100/dry/65549_augmented_shifting.mp4\n",
      "\n"
     ]
    },
    {
     "name": "stderr",
     "output_type": "stream",
     "text": [
      "                                                            \r"
     ]
    },
    {
     "name": "stdout",
     "output_type": "stream",
     "text": [
      "Moviepy - Done !\n",
      "Moviepy - video ready 100/dry/65549_augmented_shifting.mp4\n",
      "Moviepy - Building video 100/dry/17939_augmented_darkness.mp4.\n",
      "MoviePy - Writing audio in 17939_augmented_darknessTEMP_MPY_wvf_snd.mp3\n"
     ]
    },
    {
     "name": "stderr",
     "output_type": "stream",
     "text": [
      "                                                       \r"
     ]
    },
    {
     "name": "stdout",
     "output_type": "stream",
     "text": [
      "MoviePy - Done.\n",
      "Moviepy - Writing video 100/dry/17939_augmented_darkness.mp4\n",
      "\n"
     ]
    },
    {
     "name": "stderr",
     "output_type": "stream",
     "text": [
      "                                                             \r"
     ]
    },
    {
     "name": "stdout",
     "output_type": "stream",
     "text": [
      "Moviepy - Done !\n",
      "Moviepy - video ready 100/dry/17939_augmented_darkness.mp4\n",
      "Moviepy - Building video 100/dry/17939_augmented_shifting.mp4.\n",
      "MoviePy - Writing audio in 17939_augmented_shiftingTEMP_MPY_wvf_snd.mp3\n"
     ]
    },
    {
     "name": "stderr",
     "output_type": "stream",
     "text": [
      "                                                       \r"
     ]
    },
    {
     "name": "stdout",
     "output_type": "stream",
     "text": [
      "MoviePy - Done.\n",
      "Moviepy - Writing video 100/dry/17939_augmented_shifting.mp4\n",
      "\n"
     ]
    },
    {
     "name": "stderr",
     "output_type": "stream",
     "text": [
      "                                                             \r"
     ]
    },
    {
     "name": "stdout",
     "output_type": "stream",
     "text": [
      "Moviepy - Done !\n",
      "Moviepy - video ready 100/dry/17939_augmented_shifting.mp4\n",
      "Moviepy - Building video 100/dry/69304_augmented_darkness.mp4.\n",
      "MoviePy - Writing audio in 69304_augmented_darknessTEMP_MPY_wvf_snd.mp3\n"
     ]
    },
    {
     "name": "stderr",
     "output_type": "stream",
     "text": [
      "                                                       \r"
     ]
    },
    {
     "name": "stdout",
     "output_type": "stream",
     "text": [
      "MoviePy - Done.\n",
      "Moviepy - Writing video 100/dry/69304_augmented_darkness.mp4\n",
      "\n"
     ]
    },
    {
     "name": "stderr",
     "output_type": "stream",
     "text": [
      "                                                            \r"
     ]
    },
    {
     "name": "stdout",
     "output_type": "stream",
     "text": [
      "Moviepy - Done !\n",
      "Moviepy - video ready 100/dry/69304_augmented_darkness.mp4\n",
      "Moviepy - Building video 100/dry/69304_augmented_shifting.mp4.\n",
      "MoviePy - Writing audio in 69304_augmented_shiftingTEMP_MPY_wvf_snd.mp3\n"
     ]
    },
    {
     "name": "stderr",
     "output_type": "stream",
     "text": [
      "                                                       \r"
     ]
    },
    {
     "name": "stdout",
     "output_type": "stream",
     "text": [
      "MoviePy - Done.\n",
      "Moviepy - Writing video 100/dry/69304_augmented_shifting.mp4\n",
      "\n"
     ]
    },
    {
     "name": "stderr",
     "output_type": "stream",
     "text": [
      "                                                            \r"
     ]
    },
    {
     "name": "stdout",
     "output_type": "stream",
     "text": [
      "Moviepy - Done !\n",
      "Moviepy - video ready 100/dry/69304_augmented_shifting.mp4\n",
      "Moviepy - Building video 100/dry/17935_augmented_darkness.mp4.\n",
      "Moviepy - Writing video 100/dry/17935_augmented_darkness.mp4\n",
      "\n"
     ]
    },
    {
     "name": "stderr",
     "output_type": "stream",
     "text": [
      "                                                   \r"
     ]
    },
    {
     "name": "stdout",
     "output_type": "stream",
     "text": [
      "Moviepy - Done !\n",
      "Moviepy - video ready 100/dry/17935_augmented_darkness.mp4\n",
      "Moviepy - Building video 100/dry/17935_augmented_shifting.mp4.\n",
      "Moviepy - Writing video 100/dry/17935_augmented_shifting.mp4\n",
      "\n"
     ]
    },
    {
     "name": "stderr",
     "output_type": "stream",
     "text": [
      "                                                   \r"
     ]
    },
    {
     "name": "stdout",
     "output_type": "stream",
     "text": [
      "Moviepy - Done !\n",
      "Moviepy - video ready 100/dry/17935_augmented_shifting.mp4\n",
      "Moviepy - Building video 100/dry/17936_augmented_darkness.mp4.\n",
      "Moviepy - Writing video 100/dry/17936_augmented_darkness.mp4\n",
      "\n"
     ]
    },
    {
     "name": "stderr",
     "output_type": "stream",
     "text": [
      "                                                   \r"
     ]
    },
    {
     "name": "stdout",
     "output_type": "stream",
     "text": [
      "Moviepy - Done !\n",
      "Moviepy - video ready 100/dry/17936_augmented_darkness.mp4\n",
      "Moviepy - Building video 100/dry/17936_augmented_shifting.mp4.\n",
      "Moviepy - Writing video 100/dry/17936_augmented_shifting.mp4\n",
      "\n"
     ]
    },
    {
     "name": "stderr",
     "output_type": "stream",
     "text": [
      "                                                             \r"
     ]
    },
    {
     "name": "stdout",
     "output_type": "stream",
     "text": [
      "Moviepy - Done !\n",
      "Moviepy - video ready 100/dry/17936_augmented_shifting.mp4\n",
      "Moviepy - Building video 100/dry/17932_augmented_darkness.mp4.\n",
      "MoviePy - Writing audio in 17932_augmented_darknessTEMP_MPY_wvf_snd.mp3\n"
     ]
    },
    {
     "name": "stderr",
     "output_type": "stream",
     "text": [
      "                                                       \r"
     ]
    },
    {
     "name": "stdout",
     "output_type": "stream",
     "text": [
      "MoviePy - Done.\n",
      "Moviepy - Writing video 100/dry/17932_augmented_darkness.mp4\n",
      "\n"
     ]
    },
    {
     "name": "stderr",
     "output_type": "stream",
     "text": [
      "                                                            \r"
     ]
    },
    {
     "name": "stdout",
     "output_type": "stream",
     "text": [
      "Moviepy - Done !\n",
      "Moviepy - video ready 100/dry/17932_augmented_darkness.mp4\n",
      "Moviepy - Building video 100/dry/17932_augmented_shifting.mp4.\n",
      "MoviePy - Writing audio in 17932_augmented_shiftingTEMP_MPY_wvf_snd.mp3\n"
     ]
    },
    {
     "name": "stderr",
     "output_type": "stream",
     "text": [
      "                                                       \r"
     ]
    },
    {
     "name": "stdout",
     "output_type": "stream",
     "text": [
      "MoviePy - Done.\n",
      "Moviepy - Writing video 100/dry/17932_augmented_shifting.mp4\n",
      "\n"
     ]
    },
    {
     "name": "stderr",
     "output_type": "stream",
     "text": [
      "                                                             \r"
     ]
    },
    {
     "name": "stdout",
     "output_type": "stream",
     "text": [
      "Moviepy - Done !\n",
      "Moviepy - video ready 100/dry/17932_augmented_shifting.mp4\n",
      "Moviepy - Building video 100/dry/17933_augmented_darkness.mp4.\n",
      "MoviePy - Writing audio in 17933_augmented_darknessTEMP_MPY_wvf_snd.mp3\n"
     ]
    },
    {
     "name": "stderr",
     "output_type": "stream",
     "text": [
      "                                                       \r"
     ]
    },
    {
     "name": "stdout",
     "output_type": "stream",
     "text": [
      "MoviePy - Done.\n",
      "Moviepy - Writing video 100/dry/17933_augmented_darkness.mp4\n",
      "\n"
     ]
    },
    {
     "name": "stderr",
     "output_type": "stream",
     "text": [
      "                                                             \r"
     ]
    },
    {
     "name": "stdout",
     "output_type": "stream",
     "text": [
      "Moviepy - Done !\n",
      "Moviepy - video ready 100/dry/17933_augmented_darkness.mp4\n",
      "Moviepy - Building video 100/dry/17933_augmented_shifting.mp4.\n",
      "MoviePy - Writing audio in 17933_augmented_shiftingTEMP_MPY_wvf_snd.mp3\n"
     ]
    },
    {
     "name": "stderr",
     "output_type": "stream",
     "text": [
      "                                                       \r"
     ]
    },
    {
     "name": "stdout",
     "output_type": "stream",
     "text": [
      "MoviePy - Done.\n",
      "Moviepy - Writing video 100/dry/17933_augmented_shifting.mp4\n",
      "\n"
     ]
    },
    {
     "name": "stderr",
     "output_type": "stream",
     "text": [
      "                                                             \r"
     ]
    },
    {
     "name": "stdout",
     "output_type": "stream",
     "text": [
      "Moviepy - Done !\n",
      "Moviepy - video ready 100/dry/17933_augmented_shifting.mp4\n",
      "Moviepy - Building video 100/dry/17931_augmented_darkness.mp4.\n",
      "MoviePy - Writing audio in 17931_augmented_darknessTEMP_MPY_wvf_snd.mp3\n"
     ]
    },
    {
     "name": "stderr",
     "output_type": "stream",
     "text": [
      "                                                       \r"
     ]
    },
    {
     "name": "stdout",
     "output_type": "stream",
     "text": [
      "MoviePy - Done.\n",
      "Moviepy - Writing video 100/dry/17931_augmented_darkness.mp4\n",
      "\n"
     ]
    },
    {
     "name": "stderr",
     "output_type": "stream",
     "text": [
      "                                                            \r"
     ]
    },
    {
     "name": "stdout",
     "output_type": "stream",
     "text": [
      "Moviepy - Done !\n",
      "Moviepy - video ready 100/dry/17931_augmented_darkness.mp4\n",
      "Moviepy - Building video 100/dry/17931_augmented_shifting.mp4.\n",
      "MoviePy - Writing audio in 17931_augmented_shiftingTEMP_MPY_wvf_snd.mp3\n"
     ]
    },
    {
     "name": "stderr",
     "output_type": "stream",
     "text": [
      "                                                                 \r"
     ]
    },
    {
     "name": "stdout",
     "output_type": "stream",
     "text": [
      "MoviePy - Done.\n",
      "Moviepy - Writing video 100/dry/17931_augmented_shifting.mp4\n",
      "\n"
     ]
    },
    {
     "name": "stderr",
     "output_type": "stream",
     "text": [
      "                                                            \r"
     ]
    },
    {
     "name": "stdout",
     "output_type": "stream",
     "text": [
      "Moviepy - Done !\n",
      "Moviepy - video ready 100/dry/17931_augmented_shifting.mp4\n",
      "Moviepy - Building video 100/dry/17930_augmented_darkness.mp4.\n",
      "Moviepy - Writing video 100/dry/17930_augmented_darkness.mp4\n",
      "\n"
     ]
    },
    {
     "name": "stderr",
     "output_type": "stream",
     "text": [
      "                                                             \r"
     ]
    },
    {
     "name": "stdout",
     "output_type": "stream",
     "text": [
      "Moviepy - Done !\n",
      "Moviepy - video ready 100/dry/17930_augmented_darkness.mp4\n",
      "Moviepy - Building video 100/dry/17930_augmented_shifting.mp4.\n",
      "Moviepy - Writing video 100/dry/17930_augmented_shifting.mp4\n",
      "\n"
     ]
    },
    {
     "name": "stderr",
     "output_type": "stream",
     "text": [
      "                                                             \r"
     ]
    },
    {
     "name": "stdout",
     "output_type": "stream",
     "text": [
      "Moviepy - Done !\n",
      "Moviepy - video ready 100/dry/17930_augmented_shifting.mp4\n"
     ]
    }
   ],
   "source": [
    "import os\n",
    "from moviepy.editor import *\n",
    "from scipy.ndimage import gaussian_filter\n",
    "\n",
    "# Set input and output directories\n",
    "input_dir = '100/dry'\n",
    "output_dir = input_dir\n",
    "\n",
    "# Get a list of all the video files in the input directory\n",
    "video_files = [f for f in os.listdir(input_dir) if f.endswith('.mp4')]\n",
    "\n",
    "# Loop through each video file\n",
    "for video_file in video_files:\n",
    "    # Load the video clip\n",
    "    clip = VideoFileClip(os.path.join(input_dir, video_file))\n",
    "\n",
    "    # Define the augmentations\n",
    "    augmentations = [\n",
    "        ('darkness', lambda c: c.fx(vfx.colorx, 0.467)),\n",
    "        ('shifting', lambda c: c.fx(vfx.crop, x1=50, y1=50))\n",
    "    ]\n",
    "\n",
    "    # Apply each augmentation and save the output video\n",
    "    for i, (name, effect) in enumerate(augmentations):\n",
    "        # Apply the effect to the clip\n",
    "        augmented_clip = effect(clip)\n",
    "\n",
    "        # Set the output filename\n",
    "        output_filename = f'{os.path.splitext(video_file)[0]}_augmented_{name}.mp4'\n",
    "        output_path = os.path.join(output_dir, output_filename)\n",
    "\n",
    "        # Save the augmented video\n",
    "        augmented_clip.write_videofile(output_path)\n",
    "\n",
    "    # Close the input video clip\n",
    "    clip.close()"
   ]
  },
  {
   "cell_type": "code",
   "execution_count": 74,
   "metadata": {},
   "outputs": [
    {
     "name": "stdout",
     "output_type": "stream",
     "text": [
      "Moviepy - Building video 100/duck/69305_augmented_darkness.mp4.\n",
      "MoviePy - Writing audio in 69305_augmented_darknessTEMP_MPY_wvf_snd.mp3\n"
     ]
    },
    {
     "name": "stderr",
     "output_type": "stream",
     "text": [
      "                                                       \r"
     ]
    },
    {
     "name": "stdout",
     "output_type": "stream",
     "text": [
      "MoviePy - Done.\n",
      "Moviepy - Writing video 100/duck/69305_augmented_darkness.mp4\n",
      "\n"
     ]
    },
    {
     "name": "stderr",
     "output_type": "stream",
     "text": [
      "                                                            \r"
     ]
    },
    {
     "name": "stdout",
     "output_type": "stream",
     "text": [
      "Moviepy - Done !\n",
      "Moviepy - video ready 100/duck/69305_augmented_darkness.mp4\n",
      "Moviepy - Building video 100/duck/69305_augmented_shifting.mp4.\n",
      "MoviePy - Writing audio in 69305_augmented_shiftingTEMP_MPY_wvf_snd.mp3\n"
     ]
    },
    {
     "name": "stderr",
     "output_type": "stream",
     "text": [
      "                                                       \r"
     ]
    },
    {
     "name": "stdout",
     "output_type": "stream",
     "text": [
      "MoviePy - Done.\n",
      "Moviepy - Writing video 100/duck/69305_augmented_shifting.mp4\n",
      "\n"
     ]
    },
    {
     "name": "stderr",
     "output_type": "stream",
     "text": [
      "                                                            \r"
     ]
    },
    {
     "name": "stdout",
     "output_type": "stream",
     "text": [
      "Moviepy - Done !\n",
      "Moviepy - video ready 100/duck/69305_augmented_shifting.mp4\n",
      "Moviepy - Building video 100/duck/17949_augmented_darkness.mp4.\n",
      "MoviePy - Writing audio in 17949_augmented_darknessTEMP_MPY_wvf_snd.mp3\n"
     ]
    },
    {
     "name": "stderr",
     "output_type": "stream",
     "text": [
      "                                                       \r"
     ]
    },
    {
     "name": "stdout",
     "output_type": "stream",
     "text": [
      "MoviePy - Done.\n",
      "Moviepy - Writing video 100/duck/17949_augmented_darkness.mp4\n",
      "\n"
     ]
    },
    {
     "name": "stderr",
     "output_type": "stream",
     "text": [
      "                                                             \r"
     ]
    },
    {
     "name": "stdout",
     "output_type": "stream",
     "text": [
      "Moviepy - Done !\n",
      "Moviepy - video ready 100/duck/17949_augmented_darkness.mp4\n",
      "Moviepy - Building video 100/duck/17949_augmented_shifting.mp4.\n",
      "MoviePy - Writing audio in 17949_augmented_shiftingTEMP_MPY_wvf_snd.mp3\n"
     ]
    },
    {
     "name": "stderr",
     "output_type": "stream",
     "text": [
      "                                                       \r"
     ]
    },
    {
     "name": "stdout",
     "output_type": "stream",
     "text": [
      "MoviePy - Done.\n",
      "Moviepy - Writing video 100/duck/17949_augmented_shifting.mp4\n",
      "\n"
     ]
    },
    {
     "name": "stderr",
     "output_type": "stream",
     "text": [
      "                                                             \r"
     ]
    },
    {
     "name": "stdout",
     "output_type": "stream",
     "text": [
      "Moviepy - Done !\n",
      "Moviepy - video ready 100/duck/17949_augmented_shifting.mp4\n",
      "Moviepy - Building video 100/duck/17948_augmented_darkness.mp4.\n",
      "MoviePy - Writing audio in 17948_augmented_darknessTEMP_MPY_wvf_snd.mp3\n"
     ]
    },
    {
     "name": "stderr",
     "output_type": "stream",
     "text": [
      "                                                       \r"
     ]
    },
    {
     "name": "stdout",
     "output_type": "stream",
     "text": [
      "MoviePy - Done.\n",
      "Moviepy - Writing video 100/duck/17948_augmented_darkness.mp4\n",
      "\n"
     ]
    },
    {
     "name": "stderr",
     "output_type": "stream",
     "text": [
      "                                                             \r"
     ]
    },
    {
     "name": "stdout",
     "output_type": "stream",
     "text": [
      "Moviepy - Done !\n",
      "Moviepy - video ready 100/duck/17948_augmented_darkness.mp4\n",
      "Moviepy - Building video 100/duck/17948_augmented_shifting.mp4.\n",
      "MoviePy - Writing audio in 17948_augmented_shiftingTEMP_MPY_wvf_snd.mp3\n"
     ]
    },
    {
     "name": "stderr",
     "output_type": "stream",
     "text": [
      "                                                       \r"
     ]
    },
    {
     "name": "stdout",
     "output_type": "stream",
     "text": [
      "MoviePy - Done.\n",
      "Moviepy - Writing video 100/duck/17948_augmented_shifting.mp4\n",
      "\n"
     ]
    },
    {
     "name": "stderr",
     "output_type": "stream",
     "text": [
      "                                                            \r"
     ]
    },
    {
     "name": "stdout",
     "output_type": "stream",
     "text": [
      "Moviepy - Done !\n",
      "Moviepy - video ready 100/duck/17948_augmented_shifting.mp4\n",
      "Moviepy - Building video 100/duck/17955_augmented_darkness.mp4.\n",
      "MoviePy - Writing audio in 17955_augmented_darknessTEMP_MPY_wvf_snd.mp3\n"
     ]
    },
    {
     "name": "stderr",
     "output_type": "stream",
     "text": [
      "                                                       \r"
     ]
    },
    {
     "name": "stdout",
     "output_type": "stream",
     "text": [
      "MoviePy - Done.\n",
      "Moviepy - Writing video 100/duck/17955_augmented_darkness.mp4\n",
      "\n"
     ]
    },
    {
     "name": "stderr",
     "output_type": "stream",
     "text": [
      "                                                             \r"
     ]
    },
    {
     "name": "stdout",
     "output_type": "stream",
     "text": [
      "Moviepy - Done !\n",
      "Moviepy - video ready 100/duck/17955_augmented_darkness.mp4\n",
      "Moviepy - Building video 100/duck/17955_augmented_shifting.mp4.\n",
      "MoviePy - Writing audio in 17955_augmented_shiftingTEMP_MPY_wvf_snd.mp3\n"
     ]
    },
    {
     "name": "stderr",
     "output_type": "stream",
     "text": [
      "                                                       \r"
     ]
    },
    {
     "name": "stdout",
     "output_type": "stream",
     "text": [
      "MoviePy - Done.\n",
      "Moviepy - Writing video 100/duck/17955_augmented_shifting.mp4\n",
      "\n"
     ]
    },
    {
     "name": "stderr",
     "output_type": "stream",
     "text": [
      "                                                             \r"
     ]
    },
    {
     "name": "stdout",
     "output_type": "stream",
     "text": [
      "Moviepy - Done !\n",
      "Moviepy - video ready 100/duck/17955_augmented_shifting.mp4\n",
      "Moviepy - Building video 100/duck/17951_augmented_darkness.mp4.\n",
      "Moviepy - Writing video 100/duck/17951_augmented_darkness.mp4\n",
      "\n"
     ]
    },
    {
     "name": "stderr",
     "output_type": "stream",
     "text": [
      "                                                   \r"
     ]
    },
    {
     "name": "stdout",
     "output_type": "stream",
     "text": [
      "Moviepy - Done !\n",
      "Moviepy - video ready 100/duck/17951_augmented_darkness.mp4\n",
      "Moviepy - Building video 100/duck/17951_augmented_shifting.mp4.\n",
      "Moviepy - Writing video 100/duck/17951_augmented_shifting.mp4\n",
      "\n"
     ]
    },
    {
     "name": "stderr",
     "output_type": "stream",
     "text": [
      "                                                             \r"
     ]
    },
    {
     "name": "stdout",
     "output_type": "stream",
     "text": [
      "Moviepy - Done !\n",
      "Moviepy - video ready 100/duck/17951_augmented_shifting.mp4\n",
      "Moviepy - Building video 100/duck/65551_augmented_darkness.mp4.\n",
      "MoviePy - Writing audio in 65551_augmented_darknessTEMP_MPY_wvf_snd.mp3\n"
     ]
    },
    {
     "name": "stderr",
     "output_type": "stream",
     "text": [
      "                                                       \r"
     ]
    },
    {
     "name": "stdout",
     "output_type": "stream",
     "text": [
      "MoviePy - Done.\n",
      "Moviepy - Writing video 100/duck/65551_augmented_darkness.mp4\n",
      "\n"
     ]
    },
    {
     "name": "stderr",
     "output_type": "stream",
     "text": [
      "                                                             \r"
     ]
    },
    {
     "name": "stdout",
     "output_type": "stream",
     "text": [
      "Moviepy - Done !\n",
      "Moviepy - video ready 100/duck/65551_augmented_darkness.mp4\n",
      "Moviepy - Building video 100/duck/65551_augmented_shifting.mp4.\n",
      "MoviePy - Writing audio in 65551_augmented_shiftingTEMP_MPY_wvf_snd.mp3\n"
     ]
    },
    {
     "name": "stderr",
     "output_type": "stream",
     "text": [
      "                                                       \r"
     ]
    },
    {
     "name": "stdout",
     "output_type": "stream",
     "text": [
      "MoviePy - Done.\n",
      "Moviepy - Writing video 100/duck/65551_augmented_shifting.mp4\n",
      "\n"
     ]
    },
    {
     "name": "stderr",
     "output_type": "stream",
     "text": [
      "                                                             \r"
     ]
    },
    {
     "name": "stdout",
     "output_type": "stream",
     "text": [
      "Moviepy - Done !\n",
      "Moviepy - video ready 100/duck/65551_augmented_shifting.mp4\n"
     ]
    }
   ],
   "source": [
    "import os\n",
    "from moviepy.editor import *\n",
    "from scipy.ndimage import gaussian_filter\n",
    "\n",
    "# Set input and output directories\n",
    "input_dir = '100/duck'\n",
    "output_dir = input_dir\n",
    "\n",
    "# Get a list of all the video files in the input directory\n",
    "video_files = [f for f in os.listdir(input_dir) if f.endswith('.mp4')]\n",
    "\n",
    "# Loop through each video file\n",
    "for video_file in video_files:\n",
    "    # Load the video clip\n",
    "    clip = VideoFileClip(os.path.join(input_dir, video_file))\n",
    "\n",
    "    # Define the augmentations\n",
    "    augmentations = [\n",
    "        ('darkness', lambda c: c.fx(vfx.colorx, 0.467)),\n",
    "        ('shifting', lambda c: c.fx(vfx.crop, x1=50, y1=50))\n",
    "    ]\n",
    "\n",
    "    # Apply each augmentation and save the output video\n",
    "    for i, (name, effect) in enumerate(augmentations):\n",
    "        # Apply the effect to the clip\n",
    "        augmented_clip = effect(clip)\n",
    "\n",
    "        # Set the output filename\n",
    "        output_filename = f'{os.path.splitext(video_file)[0]}_augmented_{name}.mp4'\n",
    "        output_path = os.path.join(output_dir, output_filename)\n",
    "\n",
    "        # Save the augmented video\n",
    "        augmented_clip.write_videofile(output_path)\n",
    "\n",
    "    # Close the input video clip\n",
    "    clip.close()"
   ]
  },
  {
   "cell_type": "code",
   "execution_count": 75,
   "metadata": {},
   "outputs": [
    {
     "name": "stdout",
     "output_type": "stream",
     "text": [
      "Moviepy - Building video 100/due/17961_augmented_darkness.mp4.\n",
      "MoviePy - Writing audio in 17961_augmented_darknessTEMP_MPY_wvf_snd.mp3\n"
     ]
    },
    {
     "name": "stderr",
     "output_type": "stream",
     "text": [
      "                                                       \r"
     ]
    },
    {
     "name": "stdout",
     "output_type": "stream",
     "text": [
      "MoviePy - Done.\n",
      "Moviepy - Writing video 100/due/17961_augmented_darkness.mp4\n",
      "\n"
     ]
    },
    {
     "name": "stderr",
     "output_type": "stream",
     "text": [
      "                                                             \r"
     ]
    },
    {
     "name": "stdout",
     "output_type": "stream",
     "text": [
      "Moviepy - Done !\n",
      "Moviepy - video ready 100/due/17961_augmented_darkness.mp4\n",
      "Moviepy - Building video 100/due/17961_augmented_shifting.mp4.\n",
      "MoviePy - Writing audio in 17961_augmented_shiftingTEMP_MPY_wvf_snd.mp3\n"
     ]
    },
    {
     "name": "stderr",
     "output_type": "stream",
     "text": [
      "                                                       \r"
     ]
    },
    {
     "name": "stdout",
     "output_type": "stream",
     "text": [
      "MoviePy - Done.\n",
      "Moviepy - Writing video 100/due/17961_augmented_shifting.mp4\n",
      "\n"
     ]
    },
    {
     "name": "stderr",
     "output_type": "stream",
     "text": [
      "                                                             \r"
     ]
    },
    {
     "name": "stdout",
     "output_type": "stream",
     "text": [
      "Moviepy - Done !\n",
      "Moviepy - video ready 100/due/17961_augmented_shifting.mp4\n",
      "Moviepy - Building video 100/due/17960_augmented_darkness.mp4.\n",
      "MoviePy - Writing audio in 17960_augmented_darknessTEMP_MPY_wvf_snd.mp3\n"
     ]
    },
    {
     "name": "stderr",
     "output_type": "stream",
     "text": [
      "                                                       \r"
     ]
    },
    {
     "name": "stdout",
     "output_type": "stream",
     "text": [
      "MoviePy - Done.\n",
      "Moviepy - Writing video 100/due/17960_augmented_darkness.mp4\n",
      "\n"
     ]
    },
    {
     "name": "stderr",
     "output_type": "stream",
     "text": [
      "                                                             \r"
     ]
    },
    {
     "name": "stdout",
     "output_type": "stream",
     "text": [
      "Moviepy - Done !\n",
      "Moviepy - video ready 100/due/17960_augmented_darkness.mp4\n",
      "Moviepy - Building video 100/due/17960_augmented_shifting.mp4.\n",
      "MoviePy - Writing audio in 17960_augmented_shiftingTEMP_MPY_wvf_snd.mp3\n"
     ]
    },
    {
     "name": "stderr",
     "output_type": "stream",
     "text": [
      "                                                                 \r"
     ]
    },
    {
     "name": "stdout",
     "output_type": "stream",
     "text": [
      "MoviePy - Done.\n",
      "Moviepy - Writing video 100/due/17960_augmented_shifting.mp4\n",
      "\n"
     ]
    },
    {
     "name": "stderr",
     "output_type": "stream",
     "text": [
      "                                                             \r"
     ]
    },
    {
     "name": "stdout",
     "output_type": "stream",
     "text": [
      "Moviepy - Done !\n",
      "Moviepy - video ready 100/due/17960_augmented_shifting.mp4\n",
      "Moviepy - Building video 100/due/17964_augmented_darkness.mp4.\n",
      "Moviepy - Writing video 100/due/17964_augmented_darkness.mp4\n",
      "\n"
     ]
    },
    {
     "name": "stderr",
     "output_type": "stream",
     "text": [
      "                                                   "
     ]
    },
    {
     "name": "stdout",
     "output_type": "stream",
     "text": [
      "Moviepy - Done !\n",
      "Moviepy - video ready 100/due/17964_augmented_darkness.mp4\n"
     ]
    },
    {
     "name": "stderr",
     "output_type": "stream",
     "text": [
      "\r"
     ]
    },
    {
     "name": "stdout",
     "output_type": "stream",
     "text": [
      "Moviepy - Building video 100/due/17964_augmented_shifting.mp4.\n",
      "Moviepy - Writing video 100/due/17964_augmented_shifting.mp4\n",
      "\n"
     ]
    },
    {
     "name": "stderr",
     "output_type": "stream",
     "text": [
      "                                                   \r"
     ]
    },
    {
     "name": "stdout",
     "output_type": "stream",
     "text": [
      "Moviepy - Done !\n",
      "Moviepy - video ready 100/due/17964_augmented_shifting.mp4\n",
      "Moviepy - Building video 100/due/17965_augmented_darkness.mp4.\n",
      "MoviePy - Writing audio in 17965_augmented_darknessTEMP_MPY_wvf_snd.mp3\n"
     ]
    },
    {
     "name": "stderr",
     "output_type": "stream",
     "text": [
      "                                                       \r"
     ]
    },
    {
     "name": "stdout",
     "output_type": "stream",
     "text": [
      "MoviePy - Done.\n",
      "Moviepy - Writing video 100/due/17965_augmented_darkness.mp4\n",
      "\n"
     ]
    },
    {
     "name": "stderr",
     "output_type": "stream",
     "text": [
      "                                                             \r"
     ]
    },
    {
     "name": "stdout",
     "output_type": "stream",
     "text": [
      "Moviepy - Done !\n",
      "Moviepy - video ready 100/due/17965_augmented_darkness.mp4\n",
      "Moviepy - Building video 100/due/17965_augmented_shifting.mp4.\n",
      "MoviePy - Writing audio in 17965_augmented_shiftingTEMP_MPY_wvf_snd.mp3\n"
     ]
    },
    {
     "name": "stderr",
     "output_type": "stream",
     "text": [
      "                                                       \r"
     ]
    },
    {
     "name": "stdout",
     "output_type": "stream",
     "text": [
      "MoviePy - Done.\n",
      "Moviepy - Writing video 100/due/17965_augmented_shifting.mp4\n",
      "\n"
     ]
    },
    {
     "name": "stderr",
     "output_type": "stream",
     "text": [
      "                                                             \r"
     ]
    },
    {
     "name": "stdout",
     "output_type": "stream",
     "text": [
      "Moviepy - Done !\n",
      "Moviepy - video ready 100/due/17965_augmented_shifting.mp4\n",
      "Moviepy - Building video 100/due/17959_augmented_darkness.mp4.\n",
      "Moviepy - Writing video 100/due/17959_augmented_darkness.mp4\n",
      "\n"
     ]
    },
    {
     "name": "stderr",
     "output_type": "stream",
     "text": [
      "                                                             \r"
     ]
    },
    {
     "name": "stdout",
     "output_type": "stream",
     "text": [
      "Moviepy - Done !\n",
      "Moviepy - video ready 100/due/17959_augmented_darkness.mp4\n",
      "Moviepy - Building video 100/due/17959_augmented_shifting.mp4.\n",
      "Moviepy - Writing video 100/due/17959_augmented_shifting.mp4\n",
      "\n"
     ]
    },
    {
     "name": "stderr",
     "output_type": "stream",
     "text": [
      "                                                             \r"
     ]
    },
    {
     "name": "stdout",
     "output_type": "stream",
     "text": [
      "Moviepy - Done !\n",
      "Moviepy - video ready 100/due/17959_augmented_shifting.mp4\n",
      "Moviepy - Building video 100/due/65552_augmented_darkness.mp4.\n",
      "Moviepy - Writing video 100/due/65552_augmented_darkness.mp4\n",
      "\n"
     ]
    },
    {
     "name": "stderr",
     "output_type": "stream",
     "text": [
      "                                                             \r"
     ]
    },
    {
     "name": "stdout",
     "output_type": "stream",
     "text": [
      "Moviepy - Done !\n",
      "Moviepy - video ready 100/due/65552_augmented_darkness.mp4\n",
      "Moviepy - Building video 100/due/65552_augmented_shifting.mp4.\n",
      "Moviepy - Writing video 100/due/65552_augmented_shifting.mp4\n",
      "\n"
     ]
    },
    {
     "name": "stderr",
     "output_type": "stream",
     "text": [
      "                                                             \r"
     ]
    },
    {
     "name": "stdout",
     "output_type": "stream",
     "text": [
      "Moviepy - Done !\n",
      "Moviepy - video ready 100/due/65552_augmented_shifting.mp4\n"
     ]
    }
   ],
   "source": [
    "import os\n",
    "from moviepy.editor import *\n",
    "from scipy.ndimage import gaussian_filter\n",
    "\n",
    "# Set input and output directories\n",
    "input_dir = '100/due'\n",
    "output_dir = input_dir\n",
    "\n",
    "# Get a list of all the video files in the input directory\n",
    "video_files = [f for f in os.listdir(input_dir) if f.endswith('.mp4')]\n",
    "\n",
    "# Loop through each video file\n",
    "for video_file in video_files:\n",
    "    # Load the video clip\n",
    "    clip = VideoFileClip(os.path.join(input_dir, video_file))\n",
    "\n",
    "    # Define the augmentations\n",
    "    augmentations = [\n",
    "        ('darkness', lambda c: c.fx(vfx.colorx, 0.467)),\n",
    "        ('shifting', lambda c: c.fx(vfx.crop, x1=50, y1=50))\n",
    "    ]\n",
    "\n",
    "    # Apply each augmentation and save the output video\n",
    "    for i, (name, effect) in enumerate(augmentations):\n",
    "        # Apply the effect to the clip\n",
    "        augmented_clip = effect(clip)\n",
    "\n",
    "        # Set the output filename\n",
    "        output_filename = f'{os.path.splitext(video_file)[0]}_augmented_{name}.mp4'\n",
    "        output_path = os.path.join(output_dir, output_filename)\n",
    "\n",
    "        # Save the augmented video\n",
    "        augmented_clip.write_videofile(output_path)\n",
    "\n",
    "    # Close the input video clip\n",
    "    clip.close()"
   ]
  },
  {
   "cell_type": "code",
   "execution_count": 76,
   "metadata": {},
   "outputs": [
    {
     "name": "stdout",
     "output_type": "stream",
     "text": [
      "Moviepy - Building video 100/dull/17976_augmented_darkness.mp4.\n",
      "Moviepy - Writing video 100/dull/17976_augmented_darkness.mp4\n",
      "\n"
     ]
    },
    {
     "name": "stderr",
     "output_type": "stream",
     "text": [
      "                                                   "
     ]
    },
    {
     "name": "stdout",
     "output_type": "stream",
     "text": [
      "Moviepy - Done !\n",
      "Moviepy - video ready 100/dull/17976_augmented_darkness.mp4\n"
     ]
    },
    {
     "name": "stderr",
     "output_type": "stream",
     "text": [
      "\r"
     ]
    },
    {
     "name": "stdout",
     "output_type": "stream",
     "text": [
      "Moviepy - Building video 100/dull/17976_augmented_shifting.mp4.\n",
      "Moviepy - Writing video 100/dull/17976_augmented_shifting.mp4\n",
      "\n"
     ]
    },
    {
     "name": "stderr",
     "output_type": "stream",
     "text": [
      "                                                   \r"
     ]
    },
    {
     "name": "stdout",
     "output_type": "stream",
     "text": [
      "Moviepy - Done !\n",
      "Moviepy - video ready 100/dull/17976_augmented_shifting.mp4\n",
      "Moviepy - Building video 100/dull/17975_augmented_darkness.mp4.\n",
      "Moviepy - Writing video 100/dull/17975_augmented_darkness.mp4\n",
      "\n"
     ]
    },
    {
     "name": "stderr",
     "output_type": "stream",
     "text": [
      "                                                   "
     ]
    },
    {
     "name": "stdout",
     "output_type": "stream",
     "text": [
      "Moviepy - Done !\n",
      "Moviepy - video ready 100/dull/17975_augmented_darkness.mp4\n"
     ]
    },
    {
     "name": "stderr",
     "output_type": "stream",
     "text": [
      "\r"
     ]
    },
    {
     "name": "stdout",
     "output_type": "stream",
     "text": [
      "Moviepy - Building video 100/dull/17975_augmented_shifting.mp4.\n",
      "Moviepy - Writing video 100/dull/17975_augmented_shifting.mp4\n",
      "\n"
     ]
    },
    {
     "name": "stderr",
     "output_type": "stream",
     "text": [
      "                                                   \r"
     ]
    },
    {
     "name": "stdout",
     "output_type": "stream",
     "text": [
      "Moviepy - Done !\n",
      "Moviepy - video ready 100/dull/17975_augmented_shifting.mp4\n",
      "Moviepy - Building video 100/dull/17974_augmented_darkness.mp4.\n",
      "Moviepy - Writing video 100/dull/17974_augmented_darkness.mp4\n",
      "\n"
     ]
    },
    {
     "name": "stderr",
     "output_type": "stream",
     "text": [
      "                                                   \r"
     ]
    },
    {
     "name": "stdout",
     "output_type": "stream",
     "text": [
      "Moviepy - Done !\n",
      "Moviepy - video ready 100/dull/17974_augmented_darkness.mp4\n",
      "Moviepy - Building video 100/dull/17974_augmented_shifting.mp4.\n",
      "Moviepy - Writing video 100/dull/17974_augmented_shifting.mp4\n",
      "\n"
     ]
    },
    {
     "name": "stderr",
     "output_type": "stream",
     "text": [
      "                                                             \r"
     ]
    },
    {
     "name": "stdout",
     "output_type": "stream",
     "text": [
      "Moviepy - Done !\n",
      "Moviepy - video ready 100/dull/17974_augmented_shifting.mp4\n",
      "Moviepy - Building video 100/dull/17968_augmented_darkness.mp4.\n",
      "Moviepy - Writing video 100/dull/17968_augmented_darkness.mp4\n",
      "\n"
     ]
    },
    {
     "name": "stderr",
     "output_type": "stream",
     "text": [
      "                                                             \r"
     ]
    },
    {
     "name": "stdout",
     "output_type": "stream",
     "text": [
      "Moviepy - Done !\n",
      "Moviepy - video ready 100/dull/17968_augmented_darkness.mp4\n",
      "Moviepy - Building video 100/dull/17968_augmented_shifting.mp4.\n",
      "Moviepy - Writing video 100/dull/17968_augmented_shifting.mp4\n",
      "\n"
     ]
    },
    {
     "name": "stderr",
     "output_type": "stream",
     "text": [
      "                                                             \r"
     ]
    },
    {
     "name": "stdout",
     "output_type": "stream",
     "text": [
      "Moviepy - Done !\n",
      "Moviepy - video ready 100/dull/17968_augmented_shifting.mp4\n",
      "Moviepy - Building video 100/dull/17969_augmented_darkness.mp4.\n",
      "MoviePy - Writing audio in 17969_augmented_darknessTEMP_MPY_wvf_snd.mp3\n"
     ]
    },
    {
     "name": "stderr",
     "output_type": "stream",
     "text": [
      "                                                       \r"
     ]
    },
    {
     "name": "stdout",
     "output_type": "stream",
     "text": [
      "MoviePy - Done.\n",
      "Moviepy - Writing video 100/dull/17969_augmented_darkness.mp4\n",
      "\n"
     ]
    },
    {
     "name": "stderr",
     "output_type": "stream",
     "text": [
      "                                                             \r"
     ]
    },
    {
     "name": "stdout",
     "output_type": "stream",
     "text": [
      "Moviepy - Done !\n",
      "Moviepy - video ready 100/dull/17969_augmented_darkness.mp4\n",
      "Moviepy - Building video 100/dull/17969_augmented_shifting.mp4.\n",
      "MoviePy - Writing audio in 17969_augmented_shiftingTEMP_MPY_wvf_snd.mp3\n"
     ]
    },
    {
     "name": "stderr",
     "output_type": "stream",
     "text": [
      "                                                       \r"
     ]
    },
    {
     "name": "stdout",
     "output_type": "stream",
     "text": [
      "MoviePy - Done.\n",
      "Moviepy - Writing video 100/dull/17969_augmented_shifting.mp4\n",
      "\n"
     ]
    },
    {
     "name": "stderr",
     "output_type": "stream",
     "text": [
      "                                                             \r"
     ]
    },
    {
     "name": "stdout",
     "output_type": "stream",
     "text": [
      "Moviepy - Done !\n",
      "Moviepy - video ready 100/dull/17969_augmented_shifting.mp4\n",
      "Moviepy - Building video 100/dull/17979_augmented_darkness.mp4.\n",
      "MoviePy - Writing audio in 17979_augmented_darknessTEMP_MPY_wvf_snd.mp3\n"
     ]
    },
    {
     "name": "stderr",
     "output_type": "stream",
     "text": [
      "                                                       \r"
     ]
    },
    {
     "name": "stdout",
     "output_type": "stream",
     "text": [
      "MoviePy - Done.\n",
      "Moviepy - Writing video 100/dull/17979_augmented_darkness.mp4\n",
      "\n"
     ]
    },
    {
     "name": "stderr",
     "output_type": "stream",
     "text": [
      "                                                               \r"
     ]
    },
    {
     "name": "stdout",
     "output_type": "stream",
     "text": [
      "Moviepy - Done !\n",
      "Moviepy - video ready 100/dull/17979_augmented_darkness.mp4\n",
      "Moviepy - Building video 100/dull/17979_augmented_shifting.mp4.\n",
      "MoviePy - Writing audio in 17979_augmented_shiftingTEMP_MPY_wvf_snd.mp3\n"
     ]
    },
    {
     "name": "stderr",
     "output_type": "stream",
     "text": [
      "                                                       \r"
     ]
    },
    {
     "name": "stdout",
     "output_type": "stream",
     "text": [
      "MoviePy - Done.\n",
      "Moviepy - Writing video 100/dull/17979_augmented_shifting.mp4\n",
      "\n"
     ]
    },
    {
     "name": "stderr",
     "output_type": "stream",
     "text": [
      "                                                              \r"
     ]
    },
    {
     "name": "stdout",
     "output_type": "stream",
     "text": [
      "Moviepy - Done !\n",
      "Moviepy - video ready 100/dull/17979_augmented_shifting.mp4\n"
     ]
    }
   ],
   "source": [
    "import os\n",
    "from moviepy.editor import *\n",
    "from scipy.ndimage import gaussian_filter\n",
    "\n",
    "# Set input and output directories\n",
    "input_dir = '100/dull'\n",
    "output_dir = input_dir\n",
    "\n",
    "# Get a list of all the video files in the input directory\n",
    "video_files = [f for f in os.listdir(input_dir) if f.endswith('.mp4')]\n",
    "\n",
    "# Loop through each video file\n",
    "for video_file in video_files:\n",
    "    # Load the video clip\n",
    "    clip = VideoFileClip(os.path.join(input_dir, video_file))\n",
    "\n",
    "    # Define the augmentations\n",
    "    augmentations = [\n",
    "        ('darkness', lambda c: c.fx(vfx.colorx, 0.467)),\n",
    "        ('shifting', lambda c: c.fx(vfx.crop, x1=50, y1=50))\n",
    "    ]\n",
    "\n",
    "    # Apply each augmentation and save the output video\n",
    "    for i, (name, effect) in enumerate(augmentations):\n",
    "        # Apply the effect to the clip\n",
    "        augmented_clip = effect(clip)\n",
    "\n",
    "        # Set the output filename\n",
    "        output_filename = f'{os.path.splitext(video_file)[0]}_augmented_{name}.mp4'\n",
    "        output_path = os.path.join(output_dir, output_filename)\n",
    "\n",
    "        # Save the augmented video\n",
    "        augmented_clip.write_videofile(output_path)\n",
    "\n",
    "    # Close the input video clip\n",
    "    clip.close()"
   ]
  },
  {
   "cell_type": "code",
   "execution_count": 77,
   "metadata": {},
   "outputs": [
    {
     "name": "stdout",
     "output_type": "stream",
     "text": [
      "Moviepy - Building video 100/dumb/17988_augmented_darkness.mp4.\n",
      "MoviePy - Writing audio in 17988_augmented_darknessTEMP_MPY_wvf_snd.mp3\n"
     ]
    },
    {
     "name": "stderr",
     "output_type": "stream",
     "text": [
      "                                                       \r"
     ]
    },
    {
     "name": "stdout",
     "output_type": "stream",
     "text": [
      "MoviePy - Done.\n",
      "Moviepy - Writing video 100/dumb/17988_augmented_darkness.mp4\n",
      "\n"
     ]
    },
    {
     "name": "stderr",
     "output_type": "stream",
     "text": [
      "                                                             \r"
     ]
    },
    {
     "name": "stdout",
     "output_type": "stream",
     "text": [
      "Moviepy - Done !\n",
      "Moviepy - video ready 100/dumb/17988_augmented_darkness.mp4\n",
      "Moviepy - Building video 100/dumb/17988_augmented_shifting.mp4.\n",
      "MoviePy - Writing audio in 17988_augmented_shiftingTEMP_MPY_wvf_snd.mp3\n"
     ]
    },
    {
     "name": "stderr",
     "output_type": "stream",
     "text": [
      "                                                       \r"
     ]
    },
    {
     "name": "stdout",
     "output_type": "stream",
     "text": [
      "MoviePy - Done.\n",
      "Moviepy - Writing video 100/dumb/17988_augmented_shifting.mp4\n",
      "\n"
     ]
    },
    {
     "name": "stderr",
     "output_type": "stream",
     "text": [
      "                                                             \r"
     ]
    },
    {
     "name": "stdout",
     "output_type": "stream",
     "text": [
      "Moviepy - Done !\n",
      "Moviepy - video ready 100/dumb/17988_augmented_shifting.mp4\n",
      "Moviepy - Building video 100/dumb/17995_augmented_darkness.mp4.\n",
      "MoviePy - Writing audio in 17995_augmented_darknessTEMP_MPY_wvf_snd.mp3\n"
     ]
    },
    {
     "name": "stderr",
     "output_type": "stream",
     "text": [
      "                                                       \r"
     ]
    },
    {
     "name": "stdout",
     "output_type": "stream",
     "text": [
      "MoviePy - Done.\n",
      "Moviepy - Writing video 100/dumb/17995_augmented_darkness.mp4\n",
      "\n"
     ]
    },
    {
     "name": "stderr",
     "output_type": "stream",
     "text": [
      "                                                             \r"
     ]
    },
    {
     "name": "stdout",
     "output_type": "stream",
     "text": [
      "Moviepy - Done !\n",
      "Moviepy - video ready 100/dumb/17995_augmented_darkness.mp4\n",
      "Moviepy - Building video 100/dumb/17995_augmented_shifting.mp4.\n",
      "MoviePy - Writing audio in 17995_augmented_shiftingTEMP_MPY_wvf_snd.mp3\n"
     ]
    },
    {
     "name": "stderr",
     "output_type": "stream",
     "text": [
      "                                                       \r"
     ]
    },
    {
     "name": "stdout",
     "output_type": "stream",
     "text": [
      "MoviePy - Done.\n",
      "Moviepy - Writing video 100/dumb/17995_augmented_shifting.mp4\n",
      "\n"
     ]
    },
    {
     "name": "stderr",
     "output_type": "stream",
     "text": [
      "                                                            \r"
     ]
    },
    {
     "name": "stdout",
     "output_type": "stream",
     "text": [
      "Moviepy - Done !\n",
      "Moviepy - video ready 100/dumb/17995_augmented_shifting.mp4\n",
      "Moviepy - Building video 100/dumb/17992_augmented_darkness.mp4.\n",
      "Moviepy - Writing video 100/dumb/17992_augmented_darkness.mp4\n",
      "\n"
     ]
    },
    {
     "name": "stderr",
     "output_type": "stream",
     "text": [
      "                                                   \r"
     ]
    },
    {
     "name": "stdout",
     "output_type": "stream",
     "text": [
      "Moviepy - Done !\n",
      "Moviepy - video ready 100/dumb/17992_augmented_darkness.mp4\n",
      "Moviepy - Building video 100/dumb/17992_augmented_shifting.mp4.\n",
      "Moviepy - Writing video 100/dumb/17992_augmented_shifting.mp4\n",
      "\n"
     ]
    },
    {
     "name": "stderr",
     "output_type": "stream",
     "text": [
      "                                                   \r"
     ]
    },
    {
     "name": "stdout",
     "output_type": "stream",
     "text": [
      "Moviepy - Done !\n",
      "Moviepy - video ready 100/dumb/17992_augmented_shifting.mp4\n",
      "Moviepy - Building video 100/dumb/65553_augmented_darkness.mp4.\n",
      "MoviePy - Writing audio in 65553_augmented_darknessTEMP_MPY_wvf_snd.mp3\n"
     ]
    },
    {
     "name": "stderr",
     "output_type": "stream",
     "text": [
      "                                                       \r"
     ]
    },
    {
     "name": "stdout",
     "output_type": "stream",
     "text": [
      "MoviePy - Done.\n",
      "Moviepy - Writing video 100/dumb/65553_augmented_darkness.mp4\n",
      "\n"
     ]
    },
    {
     "name": "stderr",
     "output_type": "stream",
     "text": [
      "                                                             \r"
     ]
    },
    {
     "name": "stdout",
     "output_type": "stream",
     "text": [
      "Moviepy - Done !\n",
      "Moviepy - video ready 100/dumb/65553_augmented_darkness.mp4\n",
      "Moviepy - Building video 100/dumb/65553_augmented_shifting.mp4.\n",
      "MoviePy - Writing audio in 65553_augmented_shiftingTEMP_MPY_wvf_snd.mp3\n"
     ]
    },
    {
     "name": "stderr",
     "output_type": "stream",
     "text": [
      "                                                       "
     ]
    },
    {
     "name": "stdout",
     "output_type": "stream",
     "text": [
      "MoviePy - Done.\n",
      "Moviepy - Writing video 100/dumb/65553_augmented_shifting.mp4\n",
      "\n"
     ]
    },
    {
     "name": "stderr",
     "output_type": "stream",
     "text": [
      "                                                             \r"
     ]
    },
    {
     "name": "stdout",
     "output_type": "stream",
     "text": [
      "Moviepy - Done !\n",
      "Moviepy - video ready 100/dumb/65553_augmented_shifting.mp4\n"
     ]
    }
   ],
   "source": [
    "import os\n",
    "from moviepy.editor import *\n",
    "from scipy.ndimage import gaussian_filter\n",
    "\n",
    "# Set input and output directories\n",
    "input_dir = '100/dumb'\n",
    "output_dir = input_dir\n",
    "\n",
    "# Get a list of all the video files in the input directory\n",
    "video_files = [f for f in os.listdir(input_dir) if f.endswith('.mp4')]\n",
    "\n",
    "# Loop through each video file\n",
    "for video_file in video_files:\n",
    "    # Load the video clip\n",
    "    clip = VideoFileClip(os.path.join(input_dir, video_file))\n",
    "\n",
    "    # Define the augmentations\n",
    "    augmentations = [\n",
    "        ('darkness', lambda c: c.fx(vfx.colorx, 0.467)),\n",
    "        ('shifting', lambda c: c.fx(vfx.crop, x1=50, y1=50))\n",
    "    ]\n",
    "\n",
    "    # Apply each augmentation and save the output video\n",
    "    for i, (name, effect) in enumerate(augmentations):\n",
    "        # Apply the effect to the clip\n",
    "        augmented_clip = effect(clip)\n",
    "\n",
    "        # Set the output filename\n",
    "        output_filename = f'{os.path.splitext(video_file)[0]}_augmented_{name}.mp4'\n",
    "        output_path = os.path.join(output_dir, output_filename)\n",
    "\n",
    "        # Save the augmented video\n",
    "        augmented_clip.write_videofile(output_path)\n",
    "\n",
    "    # Close the input video clip\n",
    "    clip.close()"
   ]
  },
  {
   "cell_type": "code",
   "execution_count": 1,
   "metadata": {},
   "outputs": [
    {
     "name": "stdout",
     "output_type": "stream",
     "text": [
      "Moviepy - Building video /Users/vedantpadole/Desktop/Research/Adjectives_real/Sick/MVI_5252_augmented_brightness.mp4.\n",
      "MoviePy - Writing audio in MVI_5252_augmented_brightnessTEMP_MPY_wvf_snd.mp3\n"
     ]
    },
    {
     "name": "stderr",
     "output_type": "stream",
     "text": [
      "                                                       \r"
     ]
    },
    {
     "name": "stdout",
     "output_type": "stream",
     "text": [
      "MoviePy - Done.\n",
      "Moviepy - Writing video /Users/vedantpadole/Desktop/Research/Adjectives_real/Sick/MVI_5252_augmented_brightness.mp4\n",
      "\n"
     ]
    },
    {
     "name": "stderr",
     "output_type": "stream",
     "text": [
      "                                                            \r"
     ]
    },
    {
     "name": "stdout",
     "output_type": "stream",
     "text": [
      "Moviepy - Done !\n",
      "Moviepy - video ready /Users/vedantpadole/Desktop/Research/Adjectives_real/Sick/MVI_5252_augmented_brightness.mp4\n",
      "Moviepy - Building video /Users/vedantpadole/Desktop/Research/Adjectives_real/Sick/MVI_5252_augmented_darkness.mp4.\n",
      "MoviePy - Writing audio in MVI_5252_augmented_darknessTEMP_MPY_wvf_snd.mp3\n"
     ]
    },
    {
     "name": "stderr",
     "output_type": "stream",
     "text": [
      "                                                                 \r"
     ]
    },
    {
     "name": "stdout",
     "output_type": "stream",
     "text": [
      "MoviePy - Done.\n",
      "Moviepy - Writing video /Users/vedantpadole/Desktop/Research/Adjectives_real/Sick/MVI_5252_augmented_darkness.mp4\n",
      "\n"
     ]
    },
    {
     "name": "stderr",
     "output_type": "stream",
     "text": [
      "                                                            \r"
     ]
    },
    {
     "name": "stdout",
     "output_type": "stream",
     "text": [
      "Moviepy - Done !\n",
      "Moviepy - video ready /Users/vedantpadole/Desktop/Research/Adjectives_real/Sick/MVI_5252_augmented_darkness.mp4\n",
      "Moviepy - Building video /Users/vedantpadole/Desktop/Research/Adjectives_real/Sick/MVI_5252_augmented_darkness.mp4.\n",
      "MoviePy - Writing audio in MVI_5252_augmented_darknessTEMP_MPY_wvf_snd.mp3\n"
     ]
    },
    {
     "name": "stderr",
     "output_type": "stream",
     "text": [
      "                                                               \r"
     ]
    },
    {
     "name": "stdout",
     "output_type": "stream",
     "text": [
      "MoviePy - Done.\n",
      "Moviepy - Writing video /Users/vedantpadole/Desktop/Research/Adjectives_real/Sick/MVI_5252_augmented_darkness.mp4\n",
      "\n"
     ]
    },
    {
     "name": "stderr",
     "output_type": "stream",
     "text": [
      "                                                            \r"
     ]
    },
    {
     "name": "stdout",
     "output_type": "stream",
     "text": [
      "Moviepy - Done !\n",
      "Moviepy - video ready /Users/vedantpadole/Desktop/Research/Adjectives_real/Sick/MVI_5252_augmented_darkness.mp4\n",
      "Moviepy - Building video /Users/vedantpadole/Desktop/Research/Adjectives_real/Sick/MVI_5252_augmented_speed.mp4.\n",
      "MoviePy - Writing audio in MVI_5252_augmented_speedTEMP_MPY_wvf_snd.mp3\n"
     ]
    },
    {
     "name": "stderr",
     "output_type": "stream",
     "text": [
      "                                                       \r"
     ]
    },
    {
     "name": "stdout",
     "output_type": "stream",
     "text": [
      "MoviePy - Done.\n",
      "Moviepy - Writing video /Users/vedantpadole/Desktop/Research/Adjectives_real/Sick/MVI_5252_augmented_speed.mp4\n",
      "\n"
     ]
    },
    {
     "name": "stderr",
     "output_type": "stream",
     "text": [
      "                                                            \r"
     ]
    },
    {
     "name": "stdout",
     "output_type": "stream",
     "text": [
      "Moviepy - Done !\n",
      "Moviepy - video ready /Users/vedantpadole/Desktop/Research/Adjectives_real/Sick/MVI_5252_augmented_speed.mp4\n",
      "Moviepy - Building video /Users/vedantpadole/Desktop/Research/Adjectives_real/Sick/MVI_5252_augmented_shifting.mp4.\n",
      "MoviePy - Writing audio in MVI_5252_augmented_shiftingTEMP_MPY_wvf_snd.mp3\n"
     ]
    },
    {
     "name": "stderr",
     "output_type": "stream",
     "text": [
      "                                                                 \r"
     ]
    },
    {
     "name": "stdout",
     "output_type": "stream",
     "text": [
      "MoviePy - Done.\n",
      "Moviepy - Writing video /Users/vedantpadole/Desktop/Research/Adjectives_real/Sick/MVI_5252_augmented_shifting.mp4\n",
      "\n"
     ]
    },
    {
     "name": "stderr",
     "output_type": "stream",
     "text": [
      "                                                            \r"
     ]
    },
    {
     "name": "stdout",
     "output_type": "stream",
     "text": [
      "Moviepy - Done !\n",
      "Moviepy - video ready /Users/vedantpadole/Desktop/Research/Adjectives_real/Sick/MVI_5252_augmented_shifting.mp4\n",
      "Moviepy - Building video /Users/vedantpadole/Desktop/Research/Adjectives_real/Sick/MVI_5253_augmented_brightness.mp4.\n",
      "MoviePy - Writing audio in MVI_5253_augmented_brightnessTEMP_MPY_wvf_snd.mp3\n"
     ]
    },
    {
     "name": "stderr",
     "output_type": "stream",
     "text": [
      "                                                       \r"
     ]
    },
    {
     "name": "stdout",
     "output_type": "stream",
     "text": [
      "MoviePy - Done.\n",
      "Moviepy - Writing video /Users/vedantpadole/Desktop/Research/Adjectives_real/Sick/MVI_5253_augmented_brightness.mp4\n",
      "\n"
     ]
    },
    {
     "name": "stderr",
     "output_type": "stream",
     "text": [
      "                                                            \r"
     ]
    },
    {
     "name": "stdout",
     "output_type": "stream",
     "text": [
      "Moviepy - Done !\n",
      "Moviepy - video ready /Users/vedantpadole/Desktop/Research/Adjectives_real/Sick/MVI_5253_augmented_brightness.mp4\n",
      "Moviepy - Building video /Users/vedantpadole/Desktop/Research/Adjectives_real/Sick/MVI_5253_augmented_darkness.mp4.\n",
      "MoviePy - Writing audio in MVI_5253_augmented_darknessTEMP_MPY_wvf_snd.mp3\n"
     ]
    },
    {
     "name": "stderr",
     "output_type": "stream",
     "text": [
      "                                                       \r"
     ]
    },
    {
     "name": "stdout",
     "output_type": "stream",
     "text": [
      "MoviePy - Done.\n",
      "Moviepy - Writing video /Users/vedantpadole/Desktop/Research/Adjectives_real/Sick/MVI_5253_augmented_darkness.mp4\n",
      "\n"
     ]
    },
    {
     "name": "stderr",
     "output_type": "stream",
     "text": [
      "                                                            \r"
     ]
    },
    {
     "name": "stdout",
     "output_type": "stream",
     "text": [
      "Moviepy - Done !\n",
      "Moviepy - video ready /Users/vedantpadole/Desktop/Research/Adjectives_real/Sick/MVI_5253_augmented_darkness.mp4\n",
      "Moviepy - Building video /Users/vedantpadole/Desktop/Research/Adjectives_real/Sick/MVI_5253_augmented_darkness.mp4.\n",
      "MoviePy - Writing audio in MVI_5253_augmented_darknessTEMP_MPY_wvf_snd.mp3\n"
     ]
    },
    {
     "name": "stderr",
     "output_type": "stream",
     "text": [
      "                                                                 \r"
     ]
    },
    {
     "name": "stdout",
     "output_type": "stream",
     "text": [
      "MoviePy - Done.\n",
      "Moviepy - Writing video /Users/vedantpadole/Desktop/Research/Adjectives_real/Sick/MVI_5253_augmented_darkness.mp4\n",
      "\n"
     ]
    },
    {
     "name": "stderr",
     "output_type": "stream",
     "text": [
      "                                                            \r"
     ]
    },
    {
     "name": "stdout",
     "output_type": "stream",
     "text": [
      "Moviepy - Done !\n",
      "Moviepy - video ready /Users/vedantpadole/Desktop/Research/Adjectives_real/Sick/MVI_5253_augmented_darkness.mp4\n",
      "Moviepy - Building video /Users/vedantpadole/Desktop/Research/Adjectives_real/Sick/MVI_5253_augmented_speed.mp4.\n",
      "MoviePy - Writing audio in MVI_5253_augmented_speedTEMP_MPY_wvf_snd.mp3\n"
     ]
    },
    {
     "name": "stderr",
     "output_type": "stream",
     "text": [
      "                                                                 \r"
     ]
    },
    {
     "name": "stdout",
     "output_type": "stream",
     "text": [
      "MoviePy - Done.\n",
      "Moviepy - Writing video /Users/vedantpadole/Desktop/Research/Adjectives_real/Sick/MVI_5253_augmented_speed.mp4\n",
      "\n"
     ]
    },
    {
     "name": "stderr",
     "output_type": "stream",
     "text": [
      "                                                            \r"
     ]
    },
    {
     "name": "stdout",
     "output_type": "stream",
     "text": [
      "Moviepy - Done !\n",
      "Moviepy - video ready /Users/vedantpadole/Desktop/Research/Adjectives_real/Sick/MVI_5253_augmented_speed.mp4\n",
      "Moviepy - Building video /Users/vedantpadole/Desktop/Research/Adjectives_real/Sick/MVI_5253_augmented_shifting.mp4.\n",
      "MoviePy - Writing audio in MVI_5253_augmented_shiftingTEMP_MPY_wvf_snd.mp3\n"
     ]
    },
    {
     "name": "stderr",
     "output_type": "stream",
     "text": [
      "                                                                 \r"
     ]
    },
    {
     "name": "stdout",
     "output_type": "stream",
     "text": [
      "MoviePy - Done.\n",
      "Moviepy - Writing video /Users/vedantpadole/Desktop/Research/Adjectives_real/Sick/MVI_5253_augmented_shifting.mp4\n",
      "\n"
     ]
    },
    {
     "name": "stderr",
     "output_type": "stream",
     "text": [
      "                                                            \r"
     ]
    },
    {
     "name": "stdout",
     "output_type": "stream",
     "text": [
      "Moviepy - Done !\n",
      "Moviepy - video ready /Users/vedantpadole/Desktop/Research/Adjectives_real/Sick/MVI_5253_augmented_shifting.mp4\n",
      "Moviepy - Building video /Users/vedantpadole/Desktop/Research/Adjectives_real/Sick/MVI_9443_augmented_brightness.mp4.\n",
      "MoviePy - Writing audio in MVI_9443_augmented_brightnessTEMP_MPY_wvf_snd.mp3\n"
     ]
    },
    {
     "name": "stderr",
     "output_type": "stream",
     "text": [
      "                                                                 \r"
     ]
    },
    {
     "name": "stdout",
     "output_type": "stream",
     "text": [
      "MoviePy - Done.\n",
      "Moviepy - Writing video /Users/vedantpadole/Desktop/Research/Adjectives_real/Sick/MVI_9443_augmented_brightness.mp4\n",
      "\n"
     ]
    },
    {
     "name": "stderr",
     "output_type": "stream",
     "text": [
      "                                                            \r"
     ]
    },
    {
     "name": "stdout",
     "output_type": "stream",
     "text": [
      "Moviepy - Done !\n",
      "Moviepy - video ready /Users/vedantpadole/Desktop/Research/Adjectives_real/Sick/MVI_9443_augmented_brightness.mp4\n",
      "Moviepy - Building video /Users/vedantpadole/Desktop/Research/Adjectives_real/Sick/MVI_9443_augmented_darkness.mp4.\n",
      "MoviePy - Writing audio in MVI_9443_augmented_darknessTEMP_MPY_wvf_snd.mp3\n"
     ]
    },
    {
     "name": "stderr",
     "output_type": "stream",
     "text": [
      "                                                                 \r"
     ]
    },
    {
     "name": "stdout",
     "output_type": "stream",
     "text": [
      "MoviePy - Done.\n",
      "Moviepy - Writing video /Users/vedantpadole/Desktop/Research/Adjectives_real/Sick/MVI_9443_augmented_darkness.mp4\n",
      "\n"
     ]
    },
    {
     "name": "stderr",
     "output_type": "stream",
     "text": [
      "                                                            \r"
     ]
    },
    {
     "name": "stdout",
     "output_type": "stream",
     "text": [
      "Moviepy - Done !\n",
      "Moviepy - video ready /Users/vedantpadole/Desktop/Research/Adjectives_real/Sick/MVI_9443_augmented_darkness.mp4\n",
      "Moviepy - Building video /Users/vedantpadole/Desktop/Research/Adjectives_real/Sick/MVI_9443_augmented_darkness.mp4.\n",
      "MoviePy - Writing audio in MVI_9443_augmented_darknessTEMP_MPY_wvf_snd.mp3\n"
     ]
    },
    {
     "name": "stderr",
     "output_type": "stream",
     "text": [
      "                                                                 \r"
     ]
    },
    {
     "name": "stdout",
     "output_type": "stream",
     "text": [
      "MoviePy - Done.\n",
      "Moviepy - Writing video /Users/vedantpadole/Desktop/Research/Adjectives_real/Sick/MVI_9443_augmented_darkness.mp4\n",
      "\n"
     ]
    },
    {
     "name": "stderr",
     "output_type": "stream",
     "text": [
      "                                                            \r"
     ]
    },
    {
     "name": "stdout",
     "output_type": "stream",
     "text": [
      "Moviepy - Done !\n",
      "Moviepy - video ready /Users/vedantpadole/Desktop/Research/Adjectives_real/Sick/MVI_9443_augmented_darkness.mp4\n",
      "Moviepy - Building video /Users/vedantpadole/Desktop/Research/Adjectives_real/Sick/MVI_9443_augmented_speed.mp4.\n",
      "MoviePy - Writing audio in MVI_9443_augmented_speedTEMP_MPY_wvf_snd.mp3\n"
     ]
    },
    {
     "name": "stderr",
     "output_type": "stream",
     "text": [
      "                                                       \r"
     ]
    },
    {
     "name": "stdout",
     "output_type": "stream",
     "text": [
      "MoviePy - Done.\n",
      "Moviepy - Writing video /Users/vedantpadole/Desktop/Research/Adjectives_real/Sick/MVI_9443_augmented_speed.mp4\n",
      "\n"
     ]
    },
    {
     "name": "stderr",
     "output_type": "stream",
     "text": [
      "                                                            \r"
     ]
    },
    {
     "name": "stdout",
     "output_type": "stream",
     "text": [
      "Moviepy - Done !\n",
      "Moviepy - video ready /Users/vedantpadole/Desktop/Research/Adjectives_real/Sick/MVI_9443_augmented_speed.mp4\n",
      "Moviepy - Building video /Users/vedantpadole/Desktop/Research/Adjectives_real/Sick/MVI_9443_augmented_shifting.mp4.\n",
      "MoviePy - Writing audio in MVI_9443_augmented_shiftingTEMP_MPY_wvf_snd.mp3\n"
     ]
    },
    {
     "name": "stderr",
     "output_type": "stream",
     "text": [
      "                                                                 \r"
     ]
    },
    {
     "name": "stdout",
     "output_type": "stream",
     "text": [
      "MoviePy - Done.\n",
      "Moviepy - Writing video /Users/vedantpadole/Desktop/Research/Adjectives_real/Sick/MVI_9443_augmented_shifting.mp4\n",
      "\n"
     ]
    },
    {
     "name": "stderr",
     "output_type": "stream",
     "text": [
      "                                                            \r"
     ]
    },
    {
     "name": "stdout",
     "output_type": "stream",
     "text": [
      "Moviepy - Done !\n",
      "Moviepy - video ready /Users/vedantpadole/Desktop/Research/Adjectives_real/Sick/MVI_9443_augmented_shifting.mp4\n",
      "Moviepy - Building video /Users/vedantpadole/Desktop/Research/Adjectives_real/Sick/MVI_5251_augmented_brightness.mp4.\n",
      "MoviePy - Writing audio in MVI_5251_augmented_brightnessTEMP_MPY_wvf_snd.mp3\n"
     ]
    },
    {
     "name": "stderr",
     "output_type": "stream",
     "text": [
      "                                                       \r"
     ]
    },
    {
     "name": "stdout",
     "output_type": "stream",
     "text": [
      "MoviePy - Done.\n",
      "Moviepy - Writing video /Users/vedantpadole/Desktop/Research/Adjectives_real/Sick/MVI_5251_augmented_brightness.mp4\n",
      "\n"
     ]
    },
    {
     "name": "stderr",
     "output_type": "stream",
     "text": [
      "                                                            \r"
     ]
    },
    {
     "name": "stdout",
     "output_type": "stream",
     "text": [
      "Moviepy - Done !\n",
      "Moviepy - video ready /Users/vedantpadole/Desktop/Research/Adjectives_real/Sick/MVI_5251_augmented_brightness.mp4\n",
      "Moviepy - Building video /Users/vedantpadole/Desktop/Research/Adjectives_real/Sick/MVI_5251_augmented_darkness.mp4.\n",
      "MoviePy - Writing audio in MVI_5251_augmented_darknessTEMP_MPY_wvf_snd.mp3\n"
     ]
    },
    {
     "name": "stderr",
     "output_type": "stream",
     "text": [
      "                                                                 \r"
     ]
    },
    {
     "name": "stdout",
     "output_type": "stream",
     "text": [
      "MoviePy - Done.\n",
      "Moviepy - Writing video /Users/vedantpadole/Desktop/Research/Adjectives_real/Sick/MVI_5251_augmented_darkness.mp4\n",
      "\n"
     ]
    },
    {
     "name": "stderr",
     "output_type": "stream",
     "text": [
      "                                                            \r"
     ]
    },
    {
     "name": "stdout",
     "output_type": "stream",
     "text": [
      "Moviepy - Done !\n",
      "Moviepy - video ready /Users/vedantpadole/Desktop/Research/Adjectives_real/Sick/MVI_5251_augmented_darkness.mp4\n",
      "Moviepy - Building video /Users/vedantpadole/Desktop/Research/Adjectives_real/Sick/MVI_5251_augmented_darkness.mp4.\n",
      "MoviePy - Writing audio in MVI_5251_augmented_darknessTEMP_MPY_wvf_snd.mp3\n"
     ]
    },
    {
     "name": "stderr",
     "output_type": "stream",
     "text": [
      "                                                                 \r"
     ]
    },
    {
     "name": "stdout",
     "output_type": "stream",
     "text": [
      "MoviePy - Done.\n",
      "Moviepy - Writing video /Users/vedantpadole/Desktop/Research/Adjectives_real/Sick/MVI_5251_augmented_darkness.mp4\n",
      "\n"
     ]
    },
    {
     "name": "stderr",
     "output_type": "stream",
     "text": [
      "                                                            \r"
     ]
    },
    {
     "name": "stdout",
     "output_type": "stream",
     "text": [
      "Moviepy - Done !\n",
      "Moviepy - video ready /Users/vedantpadole/Desktop/Research/Adjectives_real/Sick/MVI_5251_augmented_darkness.mp4\n",
      "Moviepy - Building video /Users/vedantpadole/Desktop/Research/Adjectives_real/Sick/MVI_5251_augmented_speed.mp4.\n",
      "MoviePy - Writing audio in MVI_5251_augmented_speedTEMP_MPY_wvf_snd.mp3\n"
     ]
    },
    {
     "name": "stderr",
     "output_type": "stream",
     "text": [
      "                                                       \r"
     ]
    },
    {
     "name": "stdout",
     "output_type": "stream",
     "text": [
      "MoviePy - Done.\n",
      "Moviepy - Writing video /Users/vedantpadole/Desktop/Research/Adjectives_real/Sick/MVI_5251_augmented_speed.mp4\n",
      "\n"
     ]
    },
    {
     "name": "stderr",
     "output_type": "stream",
     "text": [
      "                                                            \r"
     ]
    },
    {
     "name": "stdout",
     "output_type": "stream",
     "text": [
      "Moviepy - Done !\n",
      "Moviepy - video ready /Users/vedantpadole/Desktop/Research/Adjectives_real/Sick/MVI_5251_augmented_speed.mp4\n",
      "Moviepy - Building video /Users/vedantpadole/Desktop/Research/Adjectives_real/Sick/MVI_5251_augmented_shifting.mp4.\n",
      "MoviePy - Writing audio in MVI_5251_augmented_shiftingTEMP_MPY_wvf_snd.mp3\n"
     ]
    },
    {
     "name": "stderr",
     "output_type": "stream",
     "text": [
      "                                                                 \r"
     ]
    },
    {
     "name": "stdout",
     "output_type": "stream",
     "text": [
      "MoviePy - Done.\n",
      "Moviepy - Writing video /Users/vedantpadole/Desktop/Research/Adjectives_real/Sick/MVI_5251_augmented_shifting.mp4\n",
      "\n"
     ]
    },
    {
     "name": "stderr",
     "output_type": "stream",
     "text": [
      "                                                            \r"
     ]
    },
    {
     "name": "stdout",
     "output_type": "stream",
     "text": [
      "Moviepy - Done !\n",
      "Moviepy - video ready /Users/vedantpadole/Desktop/Research/Adjectives_real/Sick/MVI_5251_augmented_shifting.mp4\n",
      "Moviepy - Building video /Users/vedantpadole/Desktop/Research/Adjectives_real/Sick/MVI_5331_augmented_brightness.mp4.\n",
      "MoviePy - Writing audio in MVI_5331_augmented_brightnessTEMP_MPY_wvf_snd.mp3\n"
     ]
    },
    {
     "name": "stderr",
     "output_type": "stream",
     "text": [
      "                                                       \r"
     ]
    },
    {
     "name": "stdout",
     "output_type": "stream",
     "text": [
      "MoviePy - Done.\n",
      "Moviepy - Writing video /Users/vedantpadole/Desktop/Research/Adjectives_real/Sick/MVI_5331_augmented_brightness.mp4\n",
      "\n"
     ]
    },
    {
     "name": "stderr",
     "output_type": "stream",
     "text": [
      "                                                            \r"
     ]
    },
    {
     "name": "stdout",
     "output_type": "stream",
     "text": [
      "Moviepy - Done !\n",
      "Moviepy - video ready /Users/vedantpadole/Desktop/Research/Adjectives_real/Sick/MVI_5331_augmented_brightness.mp4\n",
      "Moviepy - Building video /Users/vedantpadole/Desktop/Research/Adjectives_real/Sick/MVI_5331_augmented_darkness.mp4.\n",
      "MoviePy - Writing audio in MVI_5331_augmented_darknessTEMP_MPY_wvf_snd.mp3\n"
     ]
    },
    {
     "name": "stderr",
     "output_type": "stream",
     "text": [
      "                                                       \r"
     ]
    },
    {
     "name": "stdout",
     "output_type": "stream",
     "text": [
      "MoviePy - Done.\n",
      "Moviepy - Writing video /Users/vedantpadole/Desktop/Research/Adjectives_real/Sick/MVI_5331_augmented_darkness.mp4\n",
      "\n"
     ]
    },
    {
     "name": "stderr",
     "output_type": "stream",
     "text": [
      "                                                            \r"
     ]
    },
    {
     "name": "stdout",
     "output_type": "stream",
     "text": [
      "Moviepy - Done !\n",
      "Moviepy - video ready /Users/vedantpadole/Desktop/Research/Adjectives_real/Sick/MVI_5331_augmented_darkness.mp4\n",
      "Moviepy - Building video /Users/vedantpadole/Desktop/Research/Adjectives_real/Sick/MVI_5331_augmented_darkness.mp4.\n",
      "MoviePy - Writing audio in MVI_5331_augmented_darknessTEMP_MPY_wvf_snd.mp3\n"
     ]
    },
    {
     "name": "stderr",
     "output_type": "stream",
     "text": [
      "                                                       \r"
     ]
    },
    {
     "name": "stdout",
     "output_type": "stream",
     "text": [
      "MoviePy - Done.\n",
      "Moviepy - Writing video /Users/vedantpadole/Desktop/Research/Adjectives_real/Sick/MVI_5331_augmented_darkness.mp4\n",
      "\n"
     ]
    },
    {
     "name": "stderr",
     "output_type": "stream",
     "text": [
      "                                                            \r"
     ]
    },
    {
     "name": "stdout",
     "output_type": "stream",
     "text": [
      "Moviepy - Done !\n",
      "Moviepy - video ready /Users/vedantpadole/Desktop/Research/Adjectives_real/Sick/MVI_5331_augmented_darkness.mp4\n",
      "Moviepy - Building video /Users/vedantpadole/Desktop/Research/Adjectives_real/Sick/MVI_5331_augmented_speed.mp4.\n",
      "MoviePy - Writing audio in MVI_5331_augmented_speedTEMP_MPY_wvf_snd.mp3\n"
     ]
    },
    {
     "name": "stderr",
     "output_type": "stream",
     "text": [
      "                                                       \r"
     ]
    },
    {
     "name": "stdout",
     "output_type": "stream",
     "text": [
      "MoviePy - Done.\n",
      "Moviepy - Writing video /Users/vedantpadole/Desktop/Research/Adjectives_real/Sick/MVI_5331_augmented_speed.mp4\n",
      "\n"
     ]
    },
    {
     "name": "stderr",
     "output_type": "stream",
     "text": [
      "                                                            \r"
     ]
    },
    {
     "name": "stdout",
     "output_type": "stream",
     "text": [
      "Moviepy - Done !\n",
      "Moviepy - video ready /Users/vedantpadole/Desktop/Research/Adjectives_real/Sick/MVI_5331_augmented_speed.mp4\n",
      "Moviepy - Building video /Users/vedantpadole/Desktop/Research/Adjectives_real/Sick/MVI_5331_augmented_shifting.mp4.\n",
      "MoviePy - Writing audio in MVI_5331_augmented_shiftingTEMP_MPY_wvf_snd.mp3\n"
     ]
    },
    {
     "name": "stderr",
     "output_type": "stream",
     "text": [
      "                                                                 \r"
     ]
    },
    {
     "name": "stdout",
     "output_type": "stream",
     "text": [
      "MoviePy - Done.\n",
      "Moviepy - Writing video /Users/vedantpadole/Desktop/Research/Adjectives_real/Sick/MVI_5331_augmented_shifting.mp4\n",
      "\n"
     ]
    },
    {
     "name": "stderr",
     "output_type": "stream",
     "text": [
      "                                                            \r"
     ]
    },
    {
     "name": "stdout",
     "output_type": "stream",
     "text": [
      "Moviepy - Done !\n",
      "Moviepy - video ready /Users/vedantpadole/Desktop/Research/Adjectives_real/Sick/MVI_5331_augmented_shifting.mp4\n",
      "Moviepy - Building video /Users/vedantpadole/Desktop/Research/Adjectives_real/Sick/MVI_5330_augmented_brightness.mp4.\n",
      "MoviePy - Writing audio in MVI_5330_augmented_brightnessTEMP_MPY_wvf_snd.mp3\n"
     ]
    },
    {
     "name": "stderr",
     "output_type": "stream",
     "text": [
      "                                                       \r"
     ]
    },
    {
     "name": "stdout",
     "output_type": "stream",
     "text": [
      "MoviePy - Done.\n",
      "Moviepy - Writing video /Users/vedantpadole/Desktop/Research/Adjectives_real/Sick/MVI_5330_augmented_brightness.mp4\n",
      "\n"
     ]
    },
    {
     "name": "stderr",
     "output_type": "stream",
     "text": [
      "                                                            \r"
     ]
    },
    {
     "name": "stdout",
     "output_type": "stream",
     "text": [
      "Moviepy - Done !\n",
      "Moviepy - video ready /Users/vedantpadole/Desktop/Research/Adjectives_real/Sick/MVI_5330_augmented_brightness.mp4\n",
      "Moviepy - Building video /Users/vedantpadole/Desktop/Research/Adjectives_real/Sick/MVI_5330_augmented_darkness.mp4.\n",
      "MoviePy - Writing audio in MVI_5330_augmented_darknessTEMP_MPY_wvf_snd.mp3\n"
     ]
    },
    {
     "name": "stderr",
     "output_type": "stream",
     "text": [
      "                                                                 \r"
     ]
    },
    {
     "name": "stdout",
     "output_type": "stream",
     "text": [
      "MoviePy - Done.\n",
      "Moviepy - Writing video /Users/vedantpadole/Desktop/Research/Adjectives_real/Sick/MVI_5330_augmented_darkness.mp4\n",
      "\n"
     ]
    },
    {
     "name": "stderr",
     "output_type": "stream",
     "text": [
      "                                                            \r"
     ]
    },
    {
     "name": "stdout",
     "output_type": "stream",
     "text": [
      "Moviepy - Done !\n",
      "Moviepy - video ready /Users/vedantpadole/Desktop/Research/Adjectives_real/Sick/MVI_5330_augmented_darkness.mp4\n",
      "Moviepy - Building video /Users/vedantpadole/Desktop/Research/Adjectives_real/Sick/MVI_5330_augmented_darkness.mp4.\n",
      "MoviePy - Writing audio in MVI_5330_augmented_darknessTEMP_MPY_wvf_snd.mp3\n"
     ]
    },
    {
     "name": "stderr",
     "output_type": "stream",
     "text": [
      "                                                                 \r"
     ]
    },
    {
     "name": "stdout",
     "output_type": "stream",
     "text": [
      "MoviePy - Done.\n",
      "Moviepy - Writing video /Users/vedantpadole/Desktop/Research/Adjectives_real/Sick/MVI_5330_augmented_darkness.mp4\n",
      "\n"
     ]
    },
    {
     "name": "stderr",
     "output_type": "stream",
     "text": [
      "                                                            \r"
     ]
    },
    {
     "name": "stdout",
     "output_type": "stream",
     "text": [
      "Moviepy - Done !\n",
      "Moviepy - video ready /Users/vedantpadole/Desktop/Research/Adjectives_real/Sick/MVI_5330_augmented_darkness.mp4\n",
      "Moviepy - Building video /Users/vedantpadole/Desktop/Research/Adjectives_real/Sick/MVI_5330_augmented_speed.mp4.\n",
      "MoviePy - Writing audio in MVI_5330_augmented_speedTEMP_MPY_wvf_snd.mp3\n"
     ]
    },
    {
     "name": "stderr",
     "output_type": "stream",
     "text": [
      "                                                       \r"
     ]
    },
    {
     "name": "stdout",
     "output_type": "stream",
     "text": [
      "MoviePy - Done.\n",
      "Moviepy - Writing video /Users/vedantpadole/Desktop/Research/Adjectives_real/Sick/MVI_5330_augmented_speed.mp4\n",
      "\n"
     ]
    },
    {
     "name": "stderr",
     "output_type": "stream",
     "text": [
      "                                                            \r"
     ]
    },
    {
     "name": "stdout",
     "output_type": "stream",
     "text": [
      "Moviepy - Done !\n",
      "Moviepy - video ready /Users/vedantpadole/Desktop/Research/Adjectives_real/Sick/MVI_5330_augmented_speed.mp4\n",
      "Moviepy - Building video /Users/vedantpadole/Desktop/Research/Adjectives_real/Sick/MVI_5330_augmented_shifting.mp4.\n",
      "MoviePy - Writing audio in MVI_5330_augmented_shiftingTEMP_MPY_wvf_snd.mp3\n"
     ]
    },
    {
     "name": "stderr",
     "output_type": "stream",
     "text": [
      "                                                                 \r"
     ]
    },
    {
     "name": "stdout",
     "output_type": "stream",
     "text": [
      "MoviePy - Done.\n",
      "Moviepy - Writing video /Users/vedantpadole/Desktop/Research/Adjectives_real/Sick/MVI_5330_augmented_shifting.mp4\n",
      "\n"
     ]
    },
    {
     "name": "stderr",
     "output_type": "stream",
     "text": [
      "                                                            \r"
     ]
    },
    {
     "name": "stdout",
     "output_type": "stream",
     "text": [
      "Moviepy - Done !\n",
      "Moviepy - video ready /Users/vedantpadole/Desktop/Research/Adjectives_real/Sick/MVI_5330_augmented_shifting.mp4\n",
      "Moviepy - Building video /Users/vedantpadole/Desktop/Research/Adjectives_real/Sick/MVI_9442_augmented_brightness.mp4.\n",
      "MoviePy - Writing audio in MVI_9442_augmented_brightnessTEMP_MPY_wvf_snd.mp3\n"
     ]
    },
    {
     "name": "stderr",
     "output_type": "stream",
     "text": [
      "                                                       \r"
     ]
    },
    {
     "name": "stdout",
     "output_type": "stream",
     "text": [
      "MoviePy - Done.\n",
      "Moviepy - Writing video /Users/vedantpadole/Desktop/Research/Adjectives_real/Sick/MVI_9442_augmented_brightness.mp4\n",
      "\n"
     ]
    },
    {
     "name": "stderr",
     "output_type": "stream",
     "text": [
      "                                                            \r"
     ]
    },
    {
     "name": "stdout",
     "output_type": "stream",
     "text": [
      "Moviepy - Done !\n",
      "Moviepy - video ready /Users/vedantpadole/Desktop/Research/Adjectives_real/Sick/MVI_9442_augmented_brightness.mp4\n",
      "Moviepy - Building video /Users/vedantpadole/Desktop/Research/Adjectives_real/Sick/MVI_9442_augmented_darkness.mp4.\n",
      "MoviePy - Writing audio in MVI_9442_augmented_darknessTEMP_MPY_wvf_snd.mp3\n"
     ]
    },
    {
     "name": "stderr",
     "output_type": "stream",
     "text": [
      "                                                                 \r"
     ]
    },
    {
     "name": "stdout",
     "output_type": "stream",
     "text": [
      "MoviePy - Done.\n",
      "Moviepy - Writing video /Users/vedantpadole/Desktop/Research/Adjectives_real/Sick/MVI_9442_augmented_darkness.mp4\n",
      "\n"
     ]
    },
    {
     "name": "stderr",
     "output_type": "stream",
     "text": [
      "                                                            \r"
     ]
    },
    {
     "name": "stdout",
     "output_type": "stream",
     "text": [
      "Moviepy - Done !\n",
      "Moviepy - video ready /Users/vedantpadole/Desktop/Research/Adjectives_real/Sick/MVI_9442_augmented_darkness.mp4\n",
      "Moviepy - Building video /Users/vedantpadole/Desktop/Research/Adjectives_real/Sick/MVI_9442_augmented_darkness.mp4.\n",
      "MoviePy - Writing audio in MVI_9442_augmented_darknessTEMP_MPY_wvf_snd.mp3\n"
     ]
    },
    {
     "name": "stderr",
     "output_type": "stream",
     "text": [
      "                                                                 "
     ]
    },
    {
     "name": "stdout",
     "output_type": "stream",
     "text": [
      "MoviePy - Done.\n",
      "Moviepy - Writing video /Users/vedantpadole/Desktop/Research/Adjectives_real/Sick/MVI_9442_augmented_darkness.mp4\n",
      "\n"
     ]
    },
    {
     "name": "stderr",
     "output_type": "stream",
     "text": [
      "                                                            \r"
     ]
    },
    {
     "name": "stdout",
     "output_type": "stream",
     "text": [
      "Moviepy - Done !\n",
      "Moviepy - video ready /Users/vedantpadole/Desktop/Research/Adjectives_real/Sick/MVI_9442_augmented_darkness.mp4\n",
      "Moviepy - Building video /Users/vedantpadole/Desktop/Research/Adjectives_real/Sick/MVI_9442_augmented_speed.mp4.\n",
      "MoviePy - Writing audio in MVI_9442_augmented_speedTEMP_MPY_wvf_snd.mp3\n"
     ]
    },
    {
     "name": "stderr",
     "output_type": "stream",
     "text": [
      "                                                               \r"
     ]
    },
    {
     "name": "stdout",
     "output_type": "stream",
     "text": [
      "MoviePy - Done.\n",
      "Moviepy - Writing video /Users/vedantpadole/Desktop/Research/Adjectives_real/Sick/MVI_9442_augmented_speed.mp4\n",
      "\n"
     ]
    },
    {
     "name": "stderr",
     "output_type": "stream",
     "text": [
      "                                                            \r"
     ]
    },
    {
     "name": "stdout",
     "output_type": "stream",
     "text": [
      "Moviepy - Done !\n",
      "Moviepy - video ready /Users/vedantpadole/Desktop/Research/Adjectives_real/Sick/MVI_9442_augmented_speed.mp4\n",
      "Moviepy - Building video /Users/vedantpadole/Desktop/Research/Adjectives_real/Sick/MVI_9442_augmented_shifting.mp4.\n",
      "MoviePy - Writing audio in MVI_9442_augmented_shiftingTEMP_MPY_wvf_snd.mp3\n"
     ]
    },
    {
     "name": "stderr",
     "output_type": "stream",
     "text": [
      "                                                               \r"
     ]
    },
    {
     "name": "stdout",
     "output_type": "stream",
     "text": [
      "MoviePy - Done.\n",
      "Moviepy - Writing video /Users/vedantpadole/Desktop/Research/Adjectives_real/Sick/MVI_9442_augmented_shifting.mp4\n",
      "\n"
     ]
    },
    {
     "name": "stderr",
     "output_type": "stream",
     "text": [
      "                                                            \r"
     ]
    },
    {
     "name": "stdout",
     "output_type": "stream",
     "text": [
      "Moviepy - Done !\n",
      "Moviepy - video ready /Users/vedantpadole/Desktop/Research/Adjectives_real/Sick/MVI_9442_augmented_shifting.mp4\n",
      "Moviepy - Building video /Users/vedantpadole/Desktop/Research/Adjectives_real/Sick/MVI_9527_augmented_brightness.mp4.\n",
      "MoviePy - Writing audio in MVI_9527_augmented_brightnessTEMP_MPY_wvf_snd.mp3\n"
     ]
    },
    {
     "name": "stderr",
     "output_type": "stream",
     "text": [
      "                                                       \r"
     ]
    },
    {
     "name": "stdout",
     "output_type": "stream",
     "text": [
      "MoviePy - Done.\n",
      "Moviepy - Writing video /Users/vedantpadole/Desktop/Research/Adjectives_real/Sick/MVI_9527_augmented_brightness.mp4\n",
      "\n"
     ]
    },
    {
     "name": "stderr",
     "output_type": "stream",
     "text": [
      "                                                            \r"
     ]
    },
    {
     "name": "stdout",
     "output_type": "stream",
     "text": [
      "Moviepy - Done !\n",
      "Moviepy - video ready /Users/vedantpadole/Desktop/Research/Adjectives_real/Sick/MVI_9527_augmented_brightness.mp4\n",
      "Moviepy - Building video /Users/vedantpadole/Desktop/Research/Adjectives_real/Sick/MVI_9527_augmented_darkness.mp4.\n",
      "MoviePy - Writing audio in MVI_9527_augmented_darknessTEMP_MPY_wvf_snd.mp3\n"
     ]
    },
    {
     "name": "stderr",
     "output_type": "stream",
     "text": [
      "                                                               \r"
     ]
    },
    {
     "name": "stdout",
     "output_type": "stream",
     "text": [
      "MoviePy - Done.\n",
      "Moviepy - Writing video /Users/vedantpadole/Desktop/Research/Adjectives_real/Sick/MVI_9527_augmented_darkness.mp4\n",
      "\n"
     ]
    },
    {
     "name": "stderr",
     "output_type": "stream",
     "text": [
      "                                                            \r"
     ]
    },
    {
     "name": "stdout",
     "output_type": "stream",
     "text": [
      "Moviepy - Done !\n",
      "Moviepy - video ready /Users/vedantpadole/Desktop/Research/Adjectives_real/Sick/MVI_9527_augmented_darkness.mp4\n",
      "Moviepy - Building video /Users/vedantpadole/Desktop/Research/Adjectives_real/Sick/MVI_9527_augmented_darkness.mp4.\n",
      "MoviePy - Writing audio in MVI_9527_augmented_darknessTEMP_MPY_wvf_snd.mp3\n"
     ]
    },
    {
     "name": "stderr",
     "output_type": "stream",
     "text": [
      "                                                               \r"
     ]
    },
    {
     "name": "stdout",
     "output_type": "stream",
     "text": [
      "MoviePy - Done.\n",
      "Moviepy - Writing video /Users/vedantpadole/Desktop/Research/Adjectives_real/Sick/MVI_9527_augmented_darkness.mp4\n",
      "\n"
     ]
    },
    {
     "name": "stderr",
     "output_type": "stream",
     "text": [
      "                                                            \r"
     ]
    },
    {
     "name": "stdout",
     "output_type": "stream",
     "text": [
      "Moviepy - Done !\n",
      "Moviepy - video ready /Users/vedantpadole/Desktop/Research/Adjectives_real/Sick/MVI_9527_augmented_darkness.mp4\n",
      "Moviepy - Building video /Users/vedantpadole/Desktop/Research/Adjectives_real/Sick/MVI_9527_augmented_speed.mp4.\n",
      "MoviePy - Writing audio in MVI_9527_augmented_speedTEMP_MPY_wvf_snd.mp3\n"
     ]
    },
    {
     "name": "stderr",
     "output_type": "stream",
     "text": [
      "                                                                 \r"
     ]
    },
    {
     "name": "stdout",
     "output_type": "stream",
     "text": [
      "MoviePy - Done.\n",
      "Moviepy - Writing video /Users/vedantpadole/Desktop/Research/Adjectives_real/Sick/MVI_9527_augmented_speed.mp4\n",
      "\n"
     ]
    },
    {
     "name": "stderr",
     "output_type": "stream",
     "text": [
      "                                                            \r"
     ]
    },
    {
     "name": "stdout",
     "output_type": "stream",
     "text": [
      "Moviepy - Done !\n",
      "Moviepy - video ready /Users/vedantpadole/Desktop/Research/Adjectives_real/Sick/MVI_9527_augmented_speed.mp4\n",
      "Moviepy - Building video /Users/vedantpadole/Desktop/Research/Adjectives_real/Sick/MVI_9527_augmented_shifting.mp4.\n",
      "MoviePy - Writing audio in MVI_9527_augmented_shiftingTEMP_MPY_wvf_snd.mp3\n"
     ]
    },
    {
     "name": "stderr",
     "output_type": "stream",
     "text": [
      "                                                               \r"
     ]
    },
    {
     "name": "stdout",
     "output_type": "stream",
     "text": [
      "MoviePy - Done.\n",
      "Moviepy - Writing video /Users/vedantpadole/Desktop/Research/Adjectives_real/Sick/MVI_9527_augmented_shifting.mp4\n",
      "\n"
     ]
    },
    {
     "name": "stderr",
     "output_type": "stream",
     "text": [
      "                                                            \r"
     ]
    },
    {
     "name": "stdout",
     "output_type": "stream",
     "text": [
      "Moviepy - Done !\n",
      "Moviepy - video ready /Users/vedantpadole/Desktop/Research/Adjectives_real/Sick/MVI_9527_augmented_shifting.mp4\n",
      "Moviepy - Building video /Users/vedantpadole/Desktop/Research/Adjectives_real/Sick/MVI_9282_augmented_brightness.mp4.\n",
      "MoviePy - Writing audio in MVI_9282_augmented_brightnessTEMP_MPY_wvf_snd.mp3\n"
     ]
    },
    {
     "name": "stderr",
     "output_type": "stream",
     "text": [
      "                                                                 \r"
     ]
    },
    {
     "name": "stdout",
     "output_type": "stream",
     "text": [
      "MoviePy - Done.\n",
      "Moviepy - Writing video /Users/vedantpadole/Desktop/Research/Adjectives_real/Sick/MVI_9282_augmented_brightness.mp4\n",
      "\n"
     ]
    },
    {
     "name": "stderr",
     "output_type": "stream",
     "text": [
      "                                                            \r"
     ]
    },
    {
     "name": "stdout",
     "output_type": "stream",
     "text": [
      "Moviepy - Done !\n",
      "Moviepy - video ready /Users/vedantpadole/Desktop/Research/Adjectives_real/Sick/MVI_9282_augmented_brightness.mp4\n",
      "Moviepy - Building video /Users/vedantpadole/Desktop/Research/Adjectives_real/Sick/MVI_9282_augmented_darkness.mp4.\n",
      "MoviePy - Writing audio in MVI_9282_augmented_darknessTEMP_MPY_wvf_snd.mp3\n"
     ]
    },
    {
     "name": "stderr",
     "output_type": "stream",
     "text": [
      "                                                                 \r"
     ]
    },
    {
     "name": "stdout",
     "output_type": "stream",
     "text": [
      "MoviePy - Done.\n",
      "Moviepy - Writing video /Users/vedantpadole/Desktop/Research/Adjectives_real/Sick/MVI_9282_augmented_darkness.mp4\n",
      "\n"
     ]
    },
    {
     "name": "stderr",
     "output_type": "stream",
     "text": [
      "                                                            \r"
     ]
    },
    {
     "name": "stdout",
     "output_type": "stream",
     "text": [
      "Moviepy - Done !\n",
      "Moviepy - video ready /Users/vedantpadole/Desktop/Research/Adjectives_real/Sick/MVI_9282_augmented_darkness.mp4\n",
      "Moviepy - Building video /Users/vedantpadole/Desktop/Research/Adjectives_real/Sick/MVI_9282_augmented_darkness.mp4.\n",
      "MoviePy - Writing audio in MVI_9282_augmented_darknessTEMP_MPY_wvf_snd.mp3\n"
     ]
    },
    {
     "name": "stderr",
     "output_type": "stream",
     "text": [
      "                                                                 "
     ]
    },
    {
     "name": "stdout",
     "output_type": "stream",
     "text": [
      "MoviePy - Done.\n",
      "Moviepy - Writing video /Users/vedantpadole/Desktop/Research/Adjectives_real/Sick/MVI_9282_augmented_darkness.mp4\n",
      "\n"
     ]
    },
    {
     "name": "stderr",
     "output_type": "stream",
     "text": [
      "                                                            \r"
     ]
    },
    {
     "name": "stdout",
     "output_type": "stream",
     "text": [
      "Moviepy - Done !\n",
      "Moviepy - video ready /Users/vedantpadole/Desktop/Research/Adjectives_real/Sick/MVI_9282_augmented_darkness.mp4\n",
      "Moviepy - Building video /Users/vedantpadole/Desktop/Research/Adjectives_real/Sick/MVI_9282_augmented_speed.mp4.\n",
      "MoviePy - Writing audio in MVI_9282_augmented_speedTEMP_MPY_wvf_snd.mp3\n"
     ]
    },
    {
     "name": "stderr",
     "output_type": "stream",
     "text": [
      "                                                                \r"
     ]
    },
    {
     "name": "stdout",
     "output_type": "stream",
     "text": [
      "MoviePy - Done.\n",
      "Moviepy - Writing video /Users/vedantpadole/Desktop/Research/Adjectives_real/Sick/MVI_9282_augmented_speed.mp4\n",
      "\n"
     ]
    },
    {
     "name": "stderr",
     "output_type": "stream",
     "text": [
      "                                                            \r"
     ]
    },
    {
     "name": "stdout",
     "output_type": "stream",
     "text": [
      "Moviepy - Done !\n",
      "Moviepy - video ready /Users/vedantpadole/Desktop/Research/Adjectives_real/Sick/MVI_9282_augmented_speed.mp4\n",
      "Moviepy - Building video /Users/vedantpadole/Desktop/Research/Adjectives_real/Sick/MVI_9282_augmented_shifting.mp4.\n",
      "MoviePy - Writing audio in MVI_9282_augmented_shiftingTEMP_MPY_wvf_snd.mp3\n"
     ]
    },
    {
     "name": "stderr",
     "output_type": "stream",
     "text": [
      "                                                                 \r"
     ]
    },
    {
     "name": "stdout",
     "output_type": "stream",
     "text": [
      "MoviePy - Done.\n",
      "Moviepy - Writing video /Users/vedantpadole/Desktop/Research/Adjectives_real/Sick/MVI_9282_augmented_shifting.mp4\n",
      "\n"
     ]
    },
    {
     "name": "stderr",
     "output_type": "stream",
     "text": [
      "                                                            \r"
     ]
    },
    {
     "name": "stdout",
     "output_type": "stream",
     "text": [
      "Moviepy - Done !\n",
      "Moviepy - video ready /Users/vedantpadole/Desktop/Research/Adjectives_real/Sick/MVI_9282_augmented_shifting.mp4\n",
      "Moviepy - Building video /Users/vedantpadole/Desktop/Research/Adjectives_real/Sick/MVI_9280_augmented_brightness.mp4.\n",
      "MoviePy - Writing audio in MVI_9280_augmented_brightnessTEMP_MPY_wvf_snd.mp3\n"
     ]
    },
    {
     "name": "stderr",
     "output_type": "stream",
     "text": [
      "                                                       \r"
     ]
    },
    {
     "name": "stdout",
     "output_type": "stream",
     "text": [
      "MoviePy - Done.\n",
      "Moviepy - Writing video /Users/vedantpadole/Desktop/Research/Adjectives_real/Sick/MVI_9280_augmented_brightness.mp4\n",
      "\n"
     ]
    },
    {
     "name": "stderr",
     "output_type": "stream",
     "text": [
      "                                                            \r"
     ]
    },
    {
     "name": "stdout",
     "output_type": "stream",
     "text": [
      "Moviepy - Done !\n",
      "Moviepy - video ready /Users/vedantpadole/Desktop/Research/Adjectives_real/Sick/MVI_9280_augmented_brightness.mp4\n",
      "Moviepy - Building video /Users/vedantpadole/Desktop/Research/Adjectives_real/Sick/MVI_9280_augmented_darkness.mp4.\n",
      "MoviePy - Writing audio in MVI_9280_augmented_darknessTEMP_MPY_wvf_snd.mp3\n"
     ]
    },
    {
     "name": "stderr",
     "output_type": "stream",
     "text": [
      "                                                                 \r"
     ]
    },
    {
     "name": "stdout",
     "output_type": "stream",
     "text": [
      "MoviePy - Done.\n",
      "Moviepy - Writing video /Users/vedantpadole/Desktop/Research/Adjectives_real/Sick/MVI_9280_augmented_darkness.mp4\n",
      "\n"
     ]
    },
    {
     "name": "stderr",
     "output_type": "stream",
     "text": [
      "                                                            \r"
     ]
    },
    {
     "name": "stdout",
     "output_type": "stream",
     "text": [
      "Moviepy - Done !\n",
      "Moviepy - video ready /Users/vedantpadole/Desktop/Research/Adjectives_real/Sick/MVI_9280_augmented_darkness.mp4\n",
      "Moviepy - Building video /Users/vedantpadole/Desktop/Research/Adjectives_real/Sick/MVI_9280_augmented_darkness.mp4.\n",
      "MoviePy - Writing audio in MVI_9280_augmented_darknessTEMP_MPY_wvf_snd.mp3\n"
     ]
    },
    {
     "name": "stderr",
     "output_type": "stream",
     "text": [
      "                                                                 \r"
     ]
    },
    {
     "name": "stdout",
     "output_type": "stream",
     "text": [
      "MoviePy - Done.\n",
      "Moviepy - Writing video /Users/vedantpadole/Desktop/Research/Adjectives_real/Sick/MVI_9280_augmented_darkness.mp4\n",
      "\n"
     ]
    },
    {
     "name": "stderr",
     "output_type": "stream",
     "text": [
      "                                                            \r"
     ]
    },
    {
     "name": "stdout",
     "output_type": "stream",
     "text": [
      "Moviepy - Done !\n",
      "Moviepy - video ready /Users/vedantpadole/Desktop/Research/Adjectives_real/Sick/MVI_9280_augmented_darkness.mp4\n",
      "Moviepy - Building video /Users/vedantpadole/Desktop/Research/Adjectives_real/Sick/MVI_9280_augmented_speed.mp4.\n",
      "MoviePy - Writing audio in MVI_9280_augmented_speedTEMP_MPY_wvf_snd.mp3\n"
     ]
    },
    {
     "name": "stderr",
     "output_type": "stream",
     "text": [
      "                                                               \r"
     ]
    },
    {
     "name": "stdout",
     "output_type": "stream",
     "text": [
      "MoviePy - Done.\n",
      "Moviepy - Writing video /Users/vedantpadole/Desktop/Research/Adjectives_real/Sick/MVI_9280_augmented_speed.mp4\n",
      "\n"
     ]
    },
    {
     "name": "stderr",
     "output_type": "stream",
     "text": [
      "                                                            \r"
     ]
    },
    {
     "name": "stdout",
     "output_type": "stream",
     "text": [
      "Moviepy - Done !\n",
      "Moviepy - video ready /Users/vedantpadole/Desktop/Research/Adjectives_real/Sick/MVI_9280_augmented_speed.mp4\n",
      "Moviepy - Building video /Users/vedantpadole/Desktop/Research/Adjectives_real/Sick/MVI_9280_augmented_shifting.mp4.\n",
      "MoviePy - Writing audio in MVI_9280_augmented_shiftingTEMP_MPY_wvf_snd.mp3\n"
     ]
    },
    {
     "name": "stderr",
     "output_type": "stream",
     "text": [
      "                                                                \r"
     ]
    },
    {
     "name": "stdout",
     "output_type": "stream",
     "text": [
      "MoviePy - Done.\n",
      "Moviepy - Writing video /Users/vedantpadole/Desktop/Research/Adjectives_real/Sick/MVI_9280_augmented_shifting.mp4\n",
      "\n"
     ]
    },
    {
     "name": "stderr",
     "output_type": "stream",
     "text": [
      "                                                            \r"
     ]
    },
    {
     "name": "stdout",
     "output_type": "stream",
     "text": [
      "Moviepy - Done !\n",
      "Moviepy - video ready /Users/vedantpadole/Desktop/Research/Adjectives_real/Sick/MVI_9280_augmented_shifting.mp4\n",
      "Moviepy - Building video /Users/vedantpadole/Desktop/Research/Adjectives_real/Sick/MVI_9281_augmented_brightness.mp4.\n",
      "MoviePy - Writing audio in MVI_9281_augmented_brightnessTEMP_MPY_wvf_snd.mp3\n"
     ]
    },
    {
     "name": "stderr",
     "output_type": "stream",
     "text": [
      "                                                       \r"
     ]
    },
    {
     "name": "stdout",
     "output_type": "stream",
     "text": [
      "MoviePy - Done.\n",
      "Moviepy - Writing video /Users/vedantpadole/Desktop/Research/Adjectives_real/Sick/MVI_9281_augmented_brightness.mp4\n",
      "\n"
     ]
    },
    {
     "name": "stderr",
     "output_type": "stream",
     "text": [
      "                                                            \r"
     ]
    },
    {
     "name": "stdout",
     "output_type": "stream",
     "text": [
      "Moviepy - Done !\n",
      "Moviepy - video ready /Users/vedantpadole/Desktop/Research/Adjectives_real/Sick/MVI_9281_augmented_brightness.mp4\n",
      "Moviepy - Building video /Users/vedantpadole/Desktop/Research/Adjectives_real/Sick/MVI_9281_augmented_darkness.mp4.\n",
      "MoviePy - Writing audio in MVI_9281_augmented_darknessTEMP_MPY_wvf_snd.mp3\n"
     ]
    },
    {
     "name": "stderr",
     "output_type": "stream",
     "text": [
      "                                                                 \r"
     ]
    },
    {
     "name": "stdout",
     "output_type": "stream",
     "text": [
      "MoviePy - Done.\n",
      "Moviepy - Writing video /Users/vedantpadole/Desktop/Research/Adjectives_real/Sick/MVI_9281_augmented_darkness.mp4\n",
      "\n"
     ]
    },
    {
     "name": "stderr",
     "output_type": "stream",
     "text": [
      "                                                            \r"
     ]
    },
    {
     "name": "stdout",
     "output_type": "stream",
     "text": [
      "Moviepy - Done !\n",
      "Moviepy - video ready /Users/vedantpadole/Desktop/Research/Adjectives_real/Sick/MVI_9281_augmented_darkness.mp4\n",
      "Moviepy - Building video /Users/vedantpadole/Desktop/Research/Adjectives_real/Sick/MVI_9281_augmented_darkness.mp4.\n",
      "MoviePy - Writing audio in MVI_9281_augmented_darknessTEMP_MPY_wvf_snd.mp3\n"
     ]
    },
    {
     "name": "stderr",
     "output_type": "stream",
     "text": [
      "                                                                 \r"
     ]
    },
    {
     "name": "stdout",
     "output_type": "stream",
     "text": [
      "MoviePy - Done.\n",
      "Moviepy - Writing video /Users/vedantpadole/Desktop/Research/Adjectives_real/Sick/MVI_9281_augmented_darkness.mp4\n",
      "\n"
     ]
    },
    {
     "name": "stderr",
     "output_type": "stream",
     "text": [
      "                                                            \r"
     ]
    },
    {
     "name": "stdout",
     "output_type": "stream",
     "text": [
      "Moviepy - Done !\n",
      "Moviepy - video ready /Users/vedantpadole/Desktop/Research/Adjectives_real/Sick/MVI_9281_augmented_darkness.mp4\n",
      "Moviepy - Building video /Users/vedantpadole/Desktop/Research/Adjectives_real/Sick/MVI_9281_augmented_speed.mp4.\n",
      "MoviePy - Writing audio in MVI_9281_augmented_speedTEMP_MPY_wvf_snd.mp3\n"
     ]
    },
    {
     "name": "stderr",
     "output_type": "stream",
     "text": [
      "                                                               \r"
     ]
    },
    {
     "name": "stdout",
     "output_type": "stream",
     "text": [
      "MoviePy - Done.\n",
      "Moviepy - Writing video /Users/vedantpadole/Desktop/Research/Adjectives_real/Sick/MVI_9281_augmented_speed.mp4\n",
      "\n"
     ]
    },
    {
     "name": "stderr",
     "output_type": "stream",
     "text": [
      "                                                            \r"
     ]
    },
    {
     "name": "stdout",
     "output_type": "stream",
     "text": [
      "Moviepy - Done !\n",
      "Moviepy - video ready /Users/vedantpadole/Desktop/Research/Adjectives_real/Sick/MVI_9281_augmented_speed.mp4\n",
      "Moviepy - Building video /Users/vedantpadole/Desktop/Research/Adjectives_real/Sick/MVI_9281_augmented_shifting.mp4.\n",
      "MoviePy - Writing audio in MVI_9281_augmented_shiftingTEMP_MPY_wvf_snd.mp3\n"
     ]
    },
    {
     "name": "stderr",
     "output_type": "stream",
     "text": [
      "                                                                 \r"
     ]
    },
    {
     "name": "stdout",
     "output_type": "stream",
     "text": [
      "MoviePy - Done.\n",
      "Moviepy - Writing video /Users/vedantpadole/Desktop/Research/Adjectives_real/Sick/MVI_9281_augmented_shifting.mp4\n",
      "\n"
     ]
    },
    {
     "name": "stderr",
     "output_type": "stream",
     "text": [
      "                                                            \r"
     ]
    },
    {
     "name": "stdout",
     "output_type": "stream",
     "text": [
      "Moviepy - Done !\n",
      "Moviepy - video ready /Users/vedantpadole/Desktop/Research/Adjectives_real/Sick/MVI_9281_augmented_shifting.mp4\n",
      "Moviepy - Building video /Users/vedantpadole/Desktop/Research/Adjectives_real/Sick/MVI_9444_augmented_brightness.mp4.\n",
      "MoviePy - Writing audio in MVI_9444_augmented_brightnessTEMP_MPY_wvf_snd.mp3\n"
     ]
    },
    {
     "name": "stderr",
     "output_type": "stream",
     "text": [
      "                                                       \r"
     ]
    },
    {
     "name": "stdout",
     "output_type": "stream",
     "text": [
      "MoviePy - Done.\n",
      "Moviepy - Writing video /Users/vedantpadole/Desktop/Research/Adjectives_real/Sick/MVI_9444_augmented_brightness.mp4\n",
      "\n"
     ]
    },
    {
     "name": "stderr",
     "output_type": "stream",
     "text": [
      "                                                            \r"
     ]
    },
    {
     "name": "stdout",
     "output_type": "stream",
     "text": [
      "Moviepy - Done !\n",
      "Moviepy - video ready /Users/vedantpadole/Desktop/Research/Adjectives_real/Sick/MVI_9444_augmented_brightness.mp4\n",
      "Moviepy - Building video /Users/vedantpadole/Desktop/Research/Adjectives_real/Sick/MVI_9444_augmented_darkness.mp4.\n",
      "MoviePy - Writing audio in MVI_9444_augmented_darknessTEMP_MPY_wvf_snd.mp3\n"
     ]
    },
    {
     "name": "stderr",
     "output_type": "stream",
     "text": [
      "                                                       \r"
     ]
    },
    {
     "name": "stdout",
     "output_type": "stream",
     "text": [
      "MoviePy - Done.\n",
      "Moviepy - Writing video /Users/vedantpadole/Desktop/Research/Adjectives_real/Sick/MVI_9444_augmented_darkness.mp4\n",
      "\n"
     ]
    },
    {
     "name": "stderr",
     "output_type": "stream",
     "text": [
      "                                                            \r"
     ]
    },
    {
     "name": "stdout",
     "output_type": "stream",
     "text": [
      "Moviepy - Done !\n",
      "Moviepy - video ready /Users/vedantpadole/Desktop/Research/Adjectives_real/Sick/MVI_9444_augmented_darkness.mp4\n",
      "Moviepy - Building video /Users/vedantpadole/Desktop/Research/Adjectives_real/Sick/MVI_9444_augmented_darkness.mp4.\n",
      "MoviePy - Writing audio in MVI_9444_augmented_darknessTEMP_MPY_wvf_snd.mp3\n"
     ]
    },
    {
     "name": "stderr",
     "output_type": "stream",
     "text": [
      "                                                       \r"
     ]
    },
    {
     "name": "stdout",
     "output_type": "stream",
     "text": [
      "MoviePy - Done.\n",
      "Moviepy - Writing video /Users/vedantpadole/Desktop/Research/Adjectives_real/Sick/MVI_9444_augmented_darkness.mp4\n",
      "\n"
     ]
    },
    {
     "name": "stderr",
     "output_type": "stream",
     "text": [
      "                                                            \r"
     ]
    },
    {
     "name": "stdout",
     "output_type": "stream",
     "text": [
      "Moviepy - Done !\n",
      "Moviepy - video ready /Users/vedantpadole/Desktop/Research/Adjectives_real/Sick/MVI_9444_augmented_darkness.mp4\n",
      "Moviepy - Building video /Users/vedantpadole/Desktop/Research/Adjectives_real/Sick/MVI_9444_augmented_speed.mp4.\n",
      "MoviePy - Writing audio in MVI_9444_augmented_speedTEMP_MPY_wvf_snd.mp3\n"
     ]
    },
    {
     "name": "stderr",
     "output_type": "stream",
     "text": [
      "                                                               \r"
     ]
    },
    {
     "name": "stdout",
     "output_type": "stream",
     "text": [
      "MoviePy - Done.\n",
      "Moviepy - Writing video /Users/vedantpadole/Desktop/Research/Adjectives_real/Sick/MVI_9444_augmented_speed.mp4\n",
      "\n"
     ]
    },
    {
     "name": "stderr",
     "output_type": "stream",
     "text": [
      "                                                            \r"
     ]
    },
    {
     "name": "stdout",
     "output_type": "stream",
     "text": [
      "Moviepy - Done !\n",
      "Moviepy - video ready /Users/vedantpadole/Desktop/Research/Adjectives_real/Sick/MVI_9444_augmented_speed.mp4\n",
      "Moviepy - Building video /Users/vedantpadole/Desktop/Research/Adjectives_real/Sick/MVI_9444_augmented_shifting.mp4.\n",
      "MoviePy - Writing audio in MVI_9444_augmented_shiftingTEMP_MPY_wvf_snd.mp3\n"
     ]
    },
    {
     "name": "stderr",
     "output_type": "stream",
     "text": [
      "                                                                 \r"
     ]
    },
    {
     "name": "stdout",
     "output_type": "stream",
     "text": [
      "MoviePy - Done.\n",
      "Moviepy - Writing video /Users/vedantpadole/Desktop/Research/Adjectives_real/Sick/MVI_9444_augmented_shifting.mp4\n",
      "\n"
     ]
    },
    {
     "name": "stderr",
     "output_type": "stream",
     "text": [
      "                                                            \r"
     ]
    },
    {
     "name": "stdout",
     "output_type": "stream",
     "text": [
      "Moviepy - Done !\n",
      "Moviepy - video ready /Users/vedantpadole/Desktop/Research/Adjectives_real/Sick/MVI_9444_augmented_shifting.mp4\n",
      "Moviepy - Building video /Users/vedantpadole/Desktop/Research/Adjectives_real/Sick/MVI_9364_augmented_brightness.mp4.\n",
      "MoviePy - Writing audio in MVI_9364_augmented_brightnessTEMP_MPY_wvf_snd.mp3\n"
     ]
    },
    {
     "name": "stderr",
     "output_type": "stream",
     "text": [
      "                                                       \r"
     ]
    },
    {
     "name": "stdout",
     "output_type": "stream",
     "text": [
      "MoviePy - Done.\n",
      "Moviepy - Writing video /Users/vedantpadole/Desktop/Research/Adjectives_real/Sick/MVI_9364_augmented_brightness.mp4\n",
      "\n"
     ]
    },
    {
     "name": "stderr",
     "output_type": "stream",
     "text": [
      "                                                            \r"
     ]
    },
    {
     "name": "stdout",
     "output_type": "stream",
     "text": [
      "Moviepy - Done !\n",
      "Moviepy - video ready /Users/vedantpadole/Desktop/Research/Adjectives_real/Sick/MVI_9364_augmented_brightness.mp4\n",
      "Moviepy - Building video /Users/vedantpadole/Desktop/Research/Adjectives_real/Sick/MVI_9364_augmented_darkness.mp4.\n",
      "MoviePy - Writing audio in MVI_9364_augmented_darknessTEMP_MPY_wvf_snd.mp3\n"
     ]
    },
    {
     "name": "stderr",
     "output_type": "stream",
     "text": [
      "                                                                 \r"
     ]
    },
    {
     "name": "stdout",
     "output_type": "stream",
     "text": [
      "MoviePy - Done.\n",
      "Moviepy - Writing video /Users/vedantpadole/Desktop/Research/Adjectives_real/Sick/MVI_9364_augmented_darkness.mp4\n",
      "\n"
     ]
    },
    {
     "name": "stderr",
     "output_type": "stream",
     "text": [
      "                                                            \r"
     ]
    },
    {
     "name": "stdout",
     "output_type": "stream",
     "text": [
      "Moviepy - Done !\n",
      "Moviepy - video ready /Users/vedantpadole/Desktop/Research/Adjectives_real/Sick/MVI_9364_augmented_darkness.mp4\n",
      "Moviepy - Building video /Users/vedantpadole/Desktop/Research/Adjectives_real/Sick/MVI_9364_augmented_darkness.mp4.\n",
      "MoviePy - Writing audio in MVI_9364_augmented_darknessTEMP_MPY_wvf_snd.mp3\n"
     ]
    },
    {
     "name": "stderr",
     "output_type": "stream",
     "text": [
      "                                                                 \r"
     ]
    },
    {
     "name": "stdout",
     "output_type": "stream",
     "text": [
      "MoviePy - Done.\n",
      "Moviepy - Writing video /Users/vedantpadole/Desktop/Research/Adjectives_real/Sick/MVI_9364_augmented_darkness.mp4\n",
      "\n"
     ]
    },
    {
     "name": "stderr",
     "output_type": "stream",
     "text": [
      "                                                            \r"
     ]
    },
    {
     "name": "stdout",
     "output_type": "stream",
     "text": [
      "Moviepy - Done !\n",
      "Moviepy - video ready /Users/vedantpadole/Desktop/Research/Adjectives_real/Sick/MVI_9364_augmented_darkness.mp4\n",
      "Moviepy - Building video /Users/vedantpadole/Desktop/Research/Adjectives_real/Sick/MVI_9364_augmented_speed.mp4.\n",
      "MoviePy - Writing audio in MVI_9364_augmented_speedTEMP_MPY_wvf_snd.mp3\n"
     ]
    },
    {
     "name": "stderr",
     "output_type": "stream",
     "text": [
      "                                                               \r"
     ]
    },
    {
     "name": "stdout",
     "output_type": "stream",
     "text": [
      "MoviePy - Done.\n",
      "Moviepy - Writing video /Users/vedantpadole/Desktop/Research/Adjectives_real/Sick/MVI_9364_augmented_speed.mp4\n",
      "\n"
     ]
    },
    {
     "name": "stderr",
     "output_type": "stream",
     "text": [
      "                                                            \r"
     ]
    },
    {
     "name": "stdout",
     "output_type": "stream",
     "text": [
      "Moviepy - Done !\n",
      "Moviepy - video ready /Users/vedantpadole/Desktop/Research/Adjectives_real/Sick/MVI_9364_augmented_speed.mp4\n",
      "Moviepy - Building video /Users/vedantpadole/Desktop/Research/Adjectives_real/Sick/MVI_9364_augmented_shifting.mp4.\n",
      "MoviePy - Writing audio in MVI_9364_augmented_shiftingTEMP_MPY_wvf_snd.mp3\n"
     ]
    },
    {
     "name": "stderr",
     "output_type": "stream",
     "text": [
      "                                                               \r"
     ]
    },
    {
     "name": "stdout",
     "output_type": "stream",
     "text": [
      "MoviePy - Done.\n",
      "Moviepy - Writing video /Users/vedantpadole/Desktop/Research/Adjectives_real/Sick/MVI_9364_augmented_shifting.mp4\n",
      "\n"
     ]
    },
    {
     "name": "stderr",
     "output_type": "stream",
     "text": [
      "                                                            \r"
     ]
    },
    {
     "name": "stdout",
     "output_type": "stream",
     "text": [
      "Moviepy - Done !\n",
      "Moviepy - video ready /Users/vedantpadole/Desktop/Research/Adjectives_real/Sick/MVI_9364_augmented_shifting.mp4\n",
      "Moviepy - Building video /Users/vedantpadole/Desktop/Research/Adjectives_real/Sick/MVI_5172_augmented_brightness.mp4.\n",
      "MoviePy - Writing audio in MVI_5172_augmented_brightnessTEMP_MPY_wvf_snd.mp3\n"
     ]
    },
    {
     "name": "stderr",
     "output_type": "stream",
     "text": [
      "                                                       \r"
     ]
    },
    {
     "name": "stdout",
     "output_type": "stream",
     "text": [
      "MoviePy - Done.\n",
      "Moviepy - Writing video /Users/vedantpadole/Desktop/Research/Adjectives_real/Sick/MVI_5172_augmented_brightness.mp4\n",
      "\n"
     ]
    },
    {
     "name": "stderr",
     "output_type": "stream",
     "text": [
      "                                                            \r"
     ]
    },
    {
     "name": "stdout",
     "output_type": "stream",
     "text": [
      "Moviepy - Done !\n",
      "Moviepy - video ready /Users/vedantpadole/Desktop/Research/Adjectives_real/Sick/MVI_5172_augmented_brightness.mp4\n",
      "Moviepy - Building video /Users/vedantpadole/Desktop/Research/Adjectives_real/Sick/MVI_5172_augmented_darkness.mp4.\n",
      "MoviePy - Writing audio in MVI_5172_augmented_darknessTEMP_MPY_wvf_snd.mp3\n"
     ]
    },
    {
     "name": "stderr",
     "output_type": "stream",
     "text": [
      "                                                                 \r"
     ]
    },
    {
     "name": "stdout",
     "output_type": "stream",
     "text": [
      "MoviePy - Done.\n",
      "Moviepy - Writing video /Users/vedantpadole/Desktop/Research/Adjectives_real/Sick/MVI_5172_augmented_darkness.mp4\n",
      "\n"
     ]
    },
    {
     "name": "stderr",
     "output_type": "stream",
     "text": [
      "                                                            \r"
     ]
    },
    {
     "name": "stdout",
     "output_type": "stream",
     "text": [
      "Moviepy - Done !\n",
      "Moviepy - video ready /Users/vedantpadole/Desktop/Research/Adjectives_real/Sick/MVI_5172_augmented_darkness.mp4\n",
      "Moviepy - Building video /Users/vedantpadole/Desktop/Research/Adjectives_real/Sick/MVI_5172_augmented_darkness.mp4.\n",
      "MoviePy - Writing audio in MVI_5172_augmented_darknessTEMP_MPY_wvf_snd.mp3\n"
     ]
    },
    {
     "name": "stderr",
     "output_type": "stream",
     "text": [
      "                                                                 \r"
     ]
    },
    {
     "name": "stdout",
     "output_type": "stream",
     "text": [
      "MoviePy - Done.\n",
      "Moviepy - Writing video /Users/vedantpadole/Desktop/Research/Adjectives_real/Sick/MVI_5172_augmented_darkness.mp4\n",
      "\n"
     ]
    },
    {
     "name": "stderr",
     "output_type": "stream",
     "text": [
      "                                                            \r"
     ]
    },
    {
     "name": "stdout",
     "output_type": "stream",
     "text": [
      "Moviepy - Done !\n",
      "Moviepy - video ready /Users/vedantpadole/Desktop/Research/Adjectives_real/Sick/MVI_5172_augmented_darkness.mp4\n",
      "Moviepy - Building video /Users/vedantpadole/Desktop/Research/Adjectives_real/Sick/MVI_5172_augmented_speed.mp4.\n",
      "MoviePy - Writing audio in MVI_5172_augmented_speedTEMP_MPY_wvf_snd.mp3\n"
     ]
    },
    {
     "name": "stderr",
     "output_type": "stream",
     "text": [
      "                                                                 \r"
     ]
    },
    {
     "name": "stdout",
     "output_type": "stream",
     "text": [
      "MoviePy - Done.\n",
      "Moviepy - Writing video /Users/vedantpadole/Desktop/Research/Adjectives_real/Sick/MVI_5172_augmented_speed.mp4\n",
      "\n"
     ]
    },
    {
     "name": "stderr",
     "output_type": "stream",
     "text": [
      "                                                            \r"
     ]
    },
    {
     "name": "stdout",
     "output_type": "stream",
     "text": [
      "Moviepy - Done !\n",
      "Moviepy - video ready /Users/vedantpadole/Desktop/Research/Adjectives_real/Sick/MVI_5172_augmented_speed.mp4\n",
      "Moviepy - Building video /Users/vedantpadole/Desktop/Research/Adjectives_real/Sick/MVI_5172_augmented_shifting.mp4.\n",
      "MoviePy - Writing audio in MVI_5172_augmented_shiftingTEMP_MPY_wvf_snd.mp3\n"
     ]
    },
    {
     "name": "stderr",
     "output_type": "stream",
     "text": [
      "                                                                 \r"
     ]
    },
    {
     "name": "stdout",
     "output_type": "stream",
     "text": [
      "MoviePy - Done.\n",
      "Moviepy - Writing video /Users/vedantpadole/Desktop/Research/Adjectives_real/Sick/MVI_5172_augmented_shifting.mp4\n",
      "\n"
     ]
    },
    {
     "name": "stderr",
     "output_type": "stream",
     "text": [
      "                                                            \r"
     ]
    },
    {
     "name": "stdout",
     "output_type": "stream",
     "text": [
      "Moviepy - Done !\n",
      "Moviepy - video ready /Users/vedantpadole/Desktop/Research/Adjectives_real/Sick/MVI_5172_augmented_shifting.mp4\n",
      "Moviepy - Building video /Users/vedantpadole/Desktop/Research/Adjectives_real/Sick/MVI_5171_augmented_brightness.mp4.\n",
      "MoviePy - Writing audio in MVI_5171_augmented_brightnessTEMP_MPY_wvf_snd.mp3\n"
     ]
    },
    {
     "name": "stderr",
     "output_type": "stream",
     "text": [
      "                                                                 \r"
     ]
    },
    {
     "name": "stdout",
     "output_type": "stream",
     "text": [
      "MoviePy - Done.\n",
      "Moviepy - Writing video /Users/vedantpadole/Desktop/Research/Adjectives_real/Sick/MVI_5171_augmented_brightness.mp4\n",
      "\n"
     ]
    },
    {
     "name": "stderr",
     "output_type": "stream",
     "text": [
      "                                                            \r"
     ]
    },
    {
     "name": "stdout",
     "output_type": "stream",
     "text": [
      "Moviepy - Done !\n",
      "Moviepy - video ready /Users/vedantpadole/Desktop/Research/Adjectives_real/Sick/MVI_5171_augmented_brightness.mp4\n",
      "Moviepy - Building video /Users/vedantpadole/Desktop/Research/Adjectives_real/Sick/MVI_5171_augmented_darkness.mp4.\n",
      "MoviePy - Writing audio in MVI_5171_augmented_darknessTEMP_MPY_wvf_snd.mp3\n"
     ]
    },
    {
     "name": "stderr",
     "output_type": "stream",
     "text": [
      "                                                       \r"
     ]
    },
    {
     "name": "stdout",
     "output_type": "stream",
     "text": [
      "MoviePy - Done.\n",
      "Moviepy - Writing video /Users/vedantpadole/Desktop/Research/Adjectives_real/Sick/MVI_5171_augmented_darkness.mp4\n",
      "\n"
     ]
    },
    {
     "name": "stderr",
     "output_type": "stream",
     "text": [
      "                                                            \r"
     ]
    },
    {
     "name": "stdout",
     "output_type": "stream",
     "text": [
      "Moviepy - Done !\n",
      "Moviepy - video ready /Users/vedantpadole/Desktop/Research/Adjectives_real/Sick/MVI_5171_augmented_darkness.mp4\n",
      "Moviepy - Building video /Users/vedantpadole/Desktop/Research/Adjectives_real/Sick/MVI_5171_augmented_darkness.mp4.\n",
      "MoviePy - Writing audio in MVI_5171_augmented_darknessTEMP_MPY_wvf_snd.mp3\n"
     ]
    },
    {
     "name": "stderr",
     "output_type": "stream",
     "text": [
      "                                                                 \r"
     ]
    },
    {
     "name": "stdout",
     "output_type": "stream",
     "text": [
      "MoviePy - Done.\n",
      "Moviepy - Writing video /Users/vedantpadole/Desktop/Research/Adjectives_real/Sick/MVI_5171_augmented_darkness.mp4\n",
      "\n"
     ]
    },
    {
     "name": "stderr",
     "output_type": "stream",
     "text": [
      "                                                            \r"
     ]
    },
    {
     "name": "stdout",
     "output_type": "stream",
     "text": [
      "Moviepy - Done !\n",
      "Moviepy - video ready /Users/vedantpadole/Desktop/Research/Adjectives_real/Sick/MVI_5171_augmented_darkness.mp4\n",
      "Moviepy - Building video /Users/vedantpadole/Desktop/Research/Adjectives_real/Sick/MVI_5171_augmented_speed.mp4.\n",
      "MoviePy - Writing audio in MVI_5171_augmented_speedTEMP_MPY_wvf_snd.mp3\n"
     ]
    },
    {
     "name": "stderr",
     "output_type": "stream",
     "text": [
      "                                                                 \r"
     ]
    },
    {
     "name": "stdout",
     "output_type": "stream",
     "text": [
      "MoviePy - Done.\n",
      "Moviepy - Writing video /Users/vedantpadole/Desktop/Research/Adjectives_real/Sick/MVI_5171_augmented_speed.mp4\n",
      "\n"
     ]
    },
    {
     "name": "stderr",
     "output_type": "stream",
     "text": [
      "                                                            \r"
     ]
    },
    {
     "name": "stdout",
     "output_type": "stream",
     "text": [
      "Moviepy - Done !\n",
      "Moviepy - video ready /Users/vedantpadole/Desktop/Research/Adjectives_real/Sick/MVI_5171_augmented_speed.mp4\n",
      "Moviepy - Building video /Users/vedantpadole/Desktop/Research/Adjectives_real/Sick/MVI_5171_augmented_shifting.mp4.\n",
      "MoviePy - Writing audio in MVI_5171_augmented_shiftingTEMP_MPY_wvf_snd.mp3\n"
     ]
    },
    {
     "name": "stderr",
     "output_type": "stream",
     "text": [
      "                                                                 \r"
     ]
    },
    {
     "name": "stdout",
     "output_type": "stream",
     "text": [
      "MoviePy - Done.\n",
      "Moviepy - Writing video /Users/vedantpadole/Desktop/Research/Adjectives_real/Sick/MVI_5171_augmented_shifting.mp4\n",
      "\n"
     ]
    },
    {
     "name": "stderr",
     "output_type": "stream",
     "text": [
      "                                                            \r"
     ]
    },
    {
     "name": "stdout",
     "output_type": "stream",
     "text": [
      "Moviepy - Done !\n",
      "Moviepy - video ready /Users/vedantpadole/Desktop/Research/Adjectives_real/Sick/MVI_5171_augmented_shifting.mp4\n",
      "Moviepy - Building video /Users/vedantpadole/Desktop/Research/Adjectives_real/Sick/MVI_5170_augmented_brightness.mp4.\n",
      "MoviePy - Writing audio in MVI_5170_augmented_brightnessTEMP_MPY_wvf_snd.mp3\n"
     ]
    },
    {
     "name": "stderr",
     "output_type": "stream",
     "text": [
      "                                                       \r"
     ]
    },
    {
     "name": "stdout",
     "output_type": "stream",
     "text": [
      "MoviePy - Done.\n",
      "Moviepy - Writing video /Users/vedantpadole/Desktop/Research/Adjectives_real/Sick/MVI_5170_augmented_brightness.mp4\n",
      "\n"
     ]
    },
    {
     "name": "stderr",
     "output_type": "stream",
     "text": [
      "                                                            \r"
     ]
    },
    {
     "name": "stdout",
     "output_type": "stream",
     "text": [
      "Moviepy - Done !\n",
      "Moviepy - video ready /Users/vedantpadole/Desktop/Research/Adjectives_real/Sick/MVI_5170_augmented_brightness.mp4\n",
      "Moviepy - Building video /Users/vedantpadole/Desktop/Research/Adjectives_real/Sick/MVI_5170_augmented_darkness.mp4.\n",
      "MoviePy - Writing audio in MVI_5170_augmented_darknessTEMP_MPY_wvf_snd.mp3\n"
     ]
    },
    {
     "name": "stderr",
     "output_type": "stream",
     "text": [
      "                                                                 \r"
     ]
    },
    {
     "name": "stdout",
     "output_type": "stream",
     "text": [
      "MoviePy - Done.\n",
      "Moviepy - Writing video /Users/vedantpadole/Desktop/Research/Adjectives_real/Sick/MVI_5170_augmented_darkness.mp4\n",
      "\n"
     ]
    },
    {
     "name": "stderr",
     "output_type": "stream",
     "text": [
      "                                                            \r"
     ]
    },
    {
     "name": "stdout",
     "output_type": "stream",
     "text": [
      "Moviepy - Done !\n",
      "Moviepy - video ready /Users/vedantpadole/Desktop/Research/Adjectives_real/Sick/MVI_5170_augmented_darkness.mp4\n",
      "Moviepy - Building video /Users/vedantpadole/Desktop/Research/Adjectives_real/Sick/MVI_5170_augmented_darkness.mp4.\n",
      "MoviePy - Writing audio in MVI_5170_augmented_darknessTEMP_MPY_wvf_snd.mp3\n"
     ]
    },
    {
     "name": "stderr",
     "output_type": "stream",
     "text": [
      "                                                               \r"
     ]
    },
    {
     "name": "stdout",
     "output_type": "stream",
     "text": [
      "MoviePy - Done.\n",
      "Moviepy - Writing video /Users/vedantpadole/Desktop/Research/Adjectives_real/Sick/MVI_5170_augmented_darkness.mp4\n",
      "\n"
     ]
    },
    {
     "name": "stderr",
     "output_type": "stream",
     "text": [
      "                                                            \r"
     ]
    },
    {
     "name": "stdout",
     "output_type": "stream",
     "text": [
      "Moviepy - Done !\n",
      "Moviepy - video ready /Users/vedantpadole/Desktop/Research/Adjectives_real/Sick/MVI_5170_augmented_darkness.mp4\n",
      "Moviepy - Building video /Users/vedantpadole/Desktop/Research/Adjectives_real/Sick/MVI_5170_augmented_speed.mp4.\n",
      "MoviePy - Writing audio in MVI_5170_augmented_speedTEMP_MPY_wvf_snd.mp3\n"
     ]
    },
    {
     "name": "stderr",
     "output_type": "stream",
     "text": [
      "                                                       \r"
     ]
    },
    {
     "name": "stdout",
     "output_type": "stream",
     "text": [
      "MoviePy - Done.\n",
      "Moviepy - Writing video /Users/vedantpadole/Desktop/Research/Adjectives_real/Sick/MVI_5170_augmented_speed.mp4\n",
      "\n"
     ]
    },
    {
     "name": "stderr",
     "output_type": "stream",
     "text": [
      "                                                            \r"
     ]
    },
    {
     "name": "stdout",
     "output_type": "stream",
     "text": [
      "Moviepy - Done !\n",
      "Moviepy - video ready /Users/vedantpadole/Desktop/Research/Adjectives_real/Sick/MVI_5170_augmented_speed.mp4\n",
      "Moviepy - Building video /Users/vedantpadole/Desktop/Research/Adjectives_real/Sick/MVI_5170_augmented_shifting.mp4.\n",
      "MoviePy - Writing audio in MVI_5170_augmented_shiftingTEMP_MPY_wvf_snd.mp3\n"
     ]
    },
    {
     "name": "stderr",
     "output_type": "stream",
     "text": [
      "                                                                 \r"
     ]
    },
    {
     "name": "stdout",
     "output_type": "stream",
     "text": [
      "MoviePy - Done.\n",
      "Moviepy - Writing video /Users/vedantpadole/Desktop/Research/Adjectives_real/Sick/MVI_5170_augmented_shifting.mp4\n",
      "\n"
     ]
    },
    {
     "name": "stderr",
     "output_type": "stream",
     "text": [
      "                                                            \r"
     ]
    },
    {
     "name": "stdout",
     "output_type": "stream",
     "text": [
      "Moviepy - Done !\n",
      "Moviepy - video ready /Users/vedantpadole/Desktop/Research/Adjectives_real/Sick/MVI_5170_augmented_shifting.mp4\n",
      "Moviepy - Building video /Users/vedantpadole/Desktop/Research/Adjectives_real/Sick/MVI_9362_augmented_brightness.mp4.\n",
      "MoviePy - Writing audio in MVI_9362_augmented_brightnessTEMP_MPY_wvf_snd.mp3\n"
     ]
    },
    {
     "name": "stderr",
     "output_type": "stream",
     "text": [
      "                                                       \r"
     ]
    },
    {
     "name": "stdout",
     "output_type": "stream",
     "text": [
      "MoviePy - Done.\n",
      "Moviepy - Writing video /Users/vedantpadole/Desktop/Research/Adjectives_real/Sick/MVI_9362_augmented_brightness.mp4\n",
      "\n"
     ]
    },
    {
     "name": "stderr",
     "output_type": "stream",
     "text": [
      "                                                            \r"
     ]
    },
    {
     "name": "stdout",
     "output_type": "stream",
     "text": [
      "Moviepy - Done !\n",
      "Moviepy - video ready /Users/vedantpadole/Desktop/Research/Adjectives_real/Sick/MVI_9362_augmented_brightness.mp4\n",
      "Moviepy - Building video /Users/vedantpadole/Desktop/Research/Adjectives_real/Sick/MVI_9362_augmented_darkness.mp4.\n",
      "MoviePy - Writing audio in MVI_9362_augmented_darknessTEMP_MPY_wvf_snd.mp3\n"
     ]
    },
    {
     "name": "stderr",
     "output_type": "stream",
     "text": [
      "                                                                 \r"
     ]
    },
    {
     "name": "stdout",
     "output_type": "stream",
     "text": [
      "MoviePy - Done.\n",
      "Moviepy - Writing video /Users/vedantpadole/Desktop/Research/Adjectives_real/Sick/MVI_9362_augmented_darkness.mp4\n",
      "\n"
     ]
    },
    {
     "name": "stderr",
     "output_type": "stream",
     "text": [
      "                                                            \r"
     ]
    },
    {
     "name": "stdout",
     "output_type": "stream",
     "text": [
      "Moviepy - Done !\n",
      "Moviepy - video ready /Users/vedantpadole/Desktop/Research/Adjectives_real/Sick/MVI_9362_augmented_darkness.mp4\n",
      "Moviepy - Building video /Users/vedantpadole/Desktop/Research/Adjectives_real/Sick/MVI_9362_augmented_darkness.mp4.\n",
      "MoviePy - Writing audio in MVI_9362_augmented_darknessTEMP_MPY_wvf_snd.mp3\n"
     ]
    },
    {
     "name": "stderr",
     "output_type": "stream",
     "text": [
      "                                                                 \r"
     ]
    },
    {
     "name": "stdout",
     "output_type": "stream",
     "text": [
      "MoviePy - Done.\n",
      "Moviepy - Writing video /Users/vedantpadole/Desktop/Research/Adjectives_real/Sick/MVI_9362_augmented_darkness.mp4\n",
      "\n"
     ]
    },
    {
     "name": "stderr",
     "output_type": "stream",
     "text": [
      "                                                            \r"
     ]
    },
    {
     "name": "stdout",
     "output_type": "stream",
     "text": [
      "Moviepy - Done !\n",
      "Moviepy - video ready /Users/vedantpadole/Desktop/Research/Adjectives_real/Sick/MVI_9362_augmented_darkness.mp4\n",
      "Moviepy - Building video /Users/vedantpadole/Desktop/Research/Adjectives_real/Sick/MVI_9362_augmented_speed.mp4.\n",
      "MoviePy - Writing audio in MVI_9362_augmented_speedTEMP_MPY_wvf_snd.mp3\n"
     ]
    },
    {
     "name": "stderr",
     "output_type": "stream",
     "text": [
      "                                                               \r"
     ]
    },
    {
     "name": "stdout",
     "output_type": "stream",
     "text": [
      "MoviePy - Done.\n",
      "Moviepy - Writing video /Users/vedantpadole/Desktop/Research/Adjectives_real/Sick/MVI_9362_augmented_speed.mp4\n",
      "\n"
     ]
    },
    {
     "name": "stderr",
     "output_type": "stream",
     "text": [
      "                                                            \r"
     ]
    },
    {
     "name": "stdout",
     "output_type": "stream",
     "text": [
      "Moviepy - Done !\n",
      "Moviepy - video ready /Users/vedantpadole/Desktop/Research/Adjectives_real/Sick/MVI_9362_augmented_speed.mp4\n",
      "Moviepy - Building video /Users/vedantpadole/Desktop/Research/Adjectives_real/Sick/MVI_9362_augmented_shifting.mp4.\n",
      "MoviePy - Writing audio in MVI_9362_augmented_shiftingTEMP_MPY_wvf_snd.mp3\n"
     ]
    },
    {
     "name": "stderr",
     "output_type": "stream",
     "text": [
      "                                                                 \r"
     ]
    },
    {
     "name": "stdout",
     "output_type": "stream",
     "text": [
      "MoviePy - Done.\n",
      "Moviepy - Writing video /Users/vedantpadole/Desktop/Research/Adjectives_real/Sick/MVI_9362_augmented_shifting.mp4\n",
      "\n"
     ]
    },
    {
     "name": "stderr",
     "output_type": "stream",
     "text": [
      "                                                            \r"
     ]
    },
    {
     "name": "stdout",
     "output_type": "stream",
     "text": [
      "Moviepy - Done !\n",
      "Moviepy - video ready /Users/vedantpadole/Desktop/Research/Adjectives_real/Sick/MVI_9362_augmented_shifting.mp4\n",
      "Moviepy - Building video /Users/vedantpadole/Desktop/Research/Adjectives_real/Sick/MVI_9363_augmented_brightness.mp4.\n",
      "MoviePy - Writing audio in MVI_9363_augmented_brightnessTEMP_MPY_wvf_snd.mp3\n"
     ]
    },
    {
     "name": "stderr",
     "output_type": "stream",
     "text": [
      "                                                       \r"
     ]
    },
    {
     "name": "stdout",
     "output_type": "stream",
     "text": [
      "MoviePy - Done.\n",
      "Moviepy - Writing video /Users/vedantpadole/Desktop/Research/Adjectives_real/Sick/MVI_9363_augmented_brightness.mp4\n",
      "\n"
     ]
    },
    {
     "name": "stderr",
     "output_type": "stream",
     "text": [
      "                                                            \r"
     ]
    },
    {
     "name": "stdout",
     "output_type": "stream",
     "text": [
      "Moviepy - Done !\n",
      "Moviepy - video ready /Users/vedantpadole/Desktop/Research/Adjectives_real/Sick/MVI_9363_augmented_brightness.mp4\n",
      "Moviepy - Building video /Users/vedantpadole/Desktop/Research/Adjectives_real/Sick/MVI_9363_augmented_darkness.mp4.\n",
      "MoviePy - Writing audio in MVI_9363_augmented_darknessTEMP_MPY_wvf_snd.mp3\n"
     ]
    },
    {
     "name": "stderr",
     "output_type": "stream",
     "text": [
      "                                                                 \r"
     ]
    },
    {
     "name": "stdout",
     "output_type": "stream",
     "text": [
      "MoviePy - Done.\n",
      "Moviepy - Writing video /Users/vedantpadole/Desktop/Research/Adjectives_real/Sick/MVI_9363_augmented_darkness.mp4\n",
      "\n"
     ]
    },
    {
     "name": "stderr",
     "output_type": "stream",
     "text": [
      "                                                            \r"
     ]
    },
    {
     "name": "stdout",
     "output_type": "stream",
     "text": [
      "Moviepy - Done !\n",
      "Moviepy - video ready /Users/vedantpadole/Desktop/Research/Adjectives_real/Sick/MVI_9363_augmented_darkness.mp4\n",
      "Moviepy - Building video /Users/vedantpadole/Desktop/Research/Adjectives_real/Sick/MVI_9363_augmented_darkness.mp4.\n",
      "MoviePy - Writing audio in MVI_9363_augmented_darknessTEMP_MPY_wvf_snd.mp3\n"
     ]
    },
    {
     "name": "stderr",
     "output_type": "stream",
     "text": [
      "                                                               \r"
     ]
    },
    {
     "name": "stdout",
     "output_type": "stream",
     "text": [
      "MoviePy - Done.\n",
      "Moviepy - Writing video /Users/vedantpadole/Desktop/Research/Adjectives_real/Sick/MVI_9363_augmented_darkness.mp4\n",
      "\n"
     ]
    },
    {
     "name": "stderr",
     "output_type": "stream",
     "text": [
      "                                                            \r"
     ]
    },
    {
     "name": "stdout",
     "output_type": "stream",
     "text": [
      "Moviepy - Done !\n",
      "Moviepy - video ready /Users/vedantpadole/Desktop/Research/Adjectives_real/Sick/MVI_9363_augmented_darkness.mp4\n",
      "Moviepy - Building video /Users/vedantpadole/Desktop/Research/Adjectives_real/Sick/MVI_9363_augmented_speed.mp4.\n",
      "MoviePy - Writing audio in MVI_9363_augmented_speedTEMP_MPY_wvf_snd.mp3\n"
     ]
    },
    {
     "name": "stderr",
     "output_type": "stream",
     "text": [
      "                                                       \r"
     ]
    },
    {
     "name": "stdout",
     "output_type": "stream",
     "text": [
      "MoviePy - Done.\n",
      "Moviepy - Writing video /Users/vedantpadole/Desktop/Research/Adjectives_real/Sick/MVI_9363_augmented_speed.mp4\n",
      "\n"
     ]
    },
    {
     "name": "stderr",
     "output_type": "stream",
     "text": [
      "                                                            \r"
     ]
    },
    {
     "name": "stdout",
     "output_type": "stream",
     "text": [
      "Moviepy - Done !\n",
      "Moviepy - video ready /Users/vedantpadole/Desktop/Research/Adjectives_real/Sick/MVI_9363_augmented_speed.mp4\n",
      "Moviepy - Building video /Users/vedantpadole/Desktop/Research/Adjectives_real/Sick/MVI_9363_augmented_shifting.mp4.\n",
      "MoviePy - Writing audio in MVI_9363_augmented_shiftingTEMP_MPY_wvf_snd.mp3\n"
     ]
    },
    {
     "name": "stderr",
     "output_type": "stream",
     "text": [
      "                                                       \r"
     ]
    },
    {
     "name": "stdout",
     "output_type": "stream",
     "text": [
      "MoviePy - Done.\n",
      "Moviepy - Writing video /Users/vedantpadole/Desktop/Research/Adjectives_real/Sick/MVI_9363_augmented_shifting.mp4\n",
      "\n"
     ]
    },
    {
     "name": "stderr",
     "output_type": "stream",
     "text": [
      "                                                            \r"
     ]
    },
    {
     "name": "stdout",
     "output_type": "stream",
     "text": [
      "Moviepy - Done !\n",
      "Moviepy - video ready /Users/vedantpadole/Desktop/Research/Adjectives_real/Sick/MVI_9363_augmented_shifting.mp4\n",
      "Moviepy - Building video /Users/vedantpadole/Desktop/Research/Adjectives_real/Sick/MVI_9529_augmented_brightness.mp4.\n",
      "MoviePy - Writing audio in MVI_9529_augmented_brightnessTEMP_MPY_wvf_snd.mp3\n"
     ]
    },
    {
     "name": "stderr",
     "output_type": "stream",
     "text": [
      "                                                       \r"
     ]
    },
    {
     "name": "stdout",
     "output_type": "stream",
     "text": [
      "MoviePy - Done.\n",
      "Moviepy - Writing video /Users/vedantpadole/Desktop/Research/Adjectives_real/Sick/MVI_9529_augmented_brightness.mp4\n",
      "\n"
     ]
    },
    {
     "name": "stderr",
     "output_type": "stream",
     "text": [
      "                                                            \r"
     ]
    },
    {
     "name": "stdout",
     "output_type": "stream",
     "text": [
      "Moviepy - Done !\n",
      "Moviepy - video ready /Users/vedantpadole/Desktop/Research/Adjectives_real/Sick/MVI_9529_augmented_brightness.mp4\n",
      "Moviepy - Building video /Users/vedantpadole/Desktop/Research/Adjectives_real/Sick/MVI_9529_augmented_darkness.mp4.\n",
      "MoviePy - Writing audio in MVI_9529_augmented_darknessTEMP_MPY_wvf_snd.mp3\n"
     ]
    },
    {
     "name": "stderr",
     "output_type": "stream",
     "text": [
      "                                                       \r"
     ]
    },
    {
     "name": "stdout",
     "output_type": "stream",
     "text": [
      "MoviePy - Done.\n",
      "Moviepy - Writing video /Users/vedantpadole/Desktop/Research/Adjectives_real/Sick/MVI_9529_augmented_darkness.mp4\n",
      "\n"
     ]
    },
    {
     "name": "stderr",
     "output_type": "stream",
     "text": [
      "                                                            \r"
     ]
    },
    {
     "name": "stdout",
     "output_type": "stream",
     "text": [
      "Moviepy - Done !\n",
      "Moviepy - video ready /Users/vedantpadole/Desktop/Research/Adjectives_real/Sick/MVI_9529_augmented_darkness.mp4\n",
      "Moviepy - Building video /Users/vedantpadole/Desktop/Research/Adjectives_real/Sick/MVI_9529_augmented_darkness.mp4.\n",
      "MoviePy - Writing audio in MVI_9529_augmented_darknessTEMP_MPY_wvf_snd.mp3\n"
     ]
    },
    {
     "name": "stderr",
     "output_type": "stream",
     "text": [
      "                                                                 \r"
     ]
    },
    {
     "name": "stdout",
     "output_type": "stream",
     "text": [
      "MoviePy - Done.\n",
      "Moviepy - Writing video /Users/vedantpadole/Desktop/Research/Adjectives_real/Sick/MVI_9529_augmented_darkness.mp4\n",
      "\n"
     ]
    },
    {
     "name": "stderr",
     "output_type": "stream",
     "text": [
      "                                                            \r"
     ]
    },
    {
     "name": "stdout",
     "output_type": "stream",
     "text": [
      "Moviepy - Done !\n",
      "Moviepy - video ready /Users/vedantpadole/Desktop/Research/Adjectives_real/Sick/MVI_9529_augmented_darkness.mp4\n",
      "Moviepy - Building video /Users/vedantpadole/Desktop/Research/Adjectives_real/Sick/MVI_9529_augmented_speed.mp4.\n",
      "MoviePy - Writing audio in MVI_9529_augmented_speedTEMP_MPY_wvf_snd.mp3\n"
     ]
    },
    {
     "name": "stderr",
     "output_type": "stream",
     "text": [
      "                                                                 \r"
     ]
    },
    {
     "name": "stdout",
     "output_type": "stream",
     "text": [
      "MoviePy - Done.\n",
      "Moviepy - Writing video /Users/vedantpadole/Desktop/Research/Adjectives_real/Sick/MVI_9529_augmented_speed.mp4\n",
      "\n"
     ]
    },
    {
     "name": "stderr",
     "output_type": "stream",
     "text": [
      "                                                            \r"
     ]
    },
    {
     "name": "stdout",
     "output_type": "stream",
     "text": [
      "Moviepy - Done !\n",
      "Moviepy - video ready /Users/vedantpadole/Desktop/Research/Adjectives_real/Sick/MVI_9529_augmented_speed.mp4\n",
      "Moviepy - Building video /Users/vedantpadole/Desktop/Research/Adjectives_real/Sick/MVI_9529_augmented_shifting.mp4.\n",
      "MoviePy - Writing audio in MVI_9529_augmented_shiftingTEMP_MPY_wvf_snd.mp3\n"
     ]
    },
    {
     "name": "stderr",
     "output_type": "stream",
     "text": [
      "                                                                 \r"
     ]
    },
    {
     "name": "stdout",
     "output_type": "stream",
     "text": [
      "MoviePy - Done.\n",
      "Moviepy - Writing video /Users/vedantpadole/Desktop/Research/Adjectives_real/Sick/MVI_9529_augmented_shifting.mp4\n",
      "\n"
     ]
    },
    {
     "name": "stderr",
     "output_type": "stream",
     "text": [
      "                                                            \r"
     ]
    },
    {
     "name": "stdout",
     "output_type": "stream",
     "text": [
      "Moviepy - Done !\n",
      "Moviepy - video ready /Users/vedantpadole/Desktop/Research/Adjectives_real/Sick/MVI_9529_augmented_shifting.mp4\n",
      "Moviepy - Building video /Users/vedantpadole/Desktop/Research/Adjectives_real/Sick/MVI_9528_augmented_brightness.mp4.\n",
      "MoviePy - Writing audio in MVI_9528_augmented_brightnessTEMP_MPY_wvf_snd.mp3\n"
     ]
    },
    {
     "name": "stderr",
     "output_type": "stream",
     "text": [
      "                                                       \r"
     ]
    },
    {
     "name": "stdout",
     "output_type": "stream",
     "text": [
      "MoviePy - Done.\n",
      "Moviepy - Writing video /Users/vedantpadole/Desktop/Research/Adjectives_real/Sick/MVI_9528_augmented_brightness.mp4\n",
      "\n"
     ]
    },
    {
     "name": "stderr",
     "output_type": "stream",
     "text": [
      "                                                            \r"
     ]
    },
    {
     "name": "stdout",
     "output_type": "stream",
     "text": [
      "Moviepy - Done !\n",
      "Moviepy - video ready /Users/vedantpadole/Desktop/Research/Adjectives_real/Sick/MVI_9528_augmented_brightness.mp4\n",
      "Moviepy - Building video /Users/vedantpadole/Desktop/Research/Adjectives_real/Sick/MVI_9528_augmented_darkness.mp4.\n",
      "MoviePy - Writing audio in MVI_9528_augmented_darknessTEMP_MPY_wvf_snd.mp3\n"
     ]
    },
    {
     "name": "stderr",
     "output_type": "stream",
     "text": [
      "                                                               \r"
     ]
    },
    {
     "name": "stdout",
     "output_type": "stream",
     "text": [
      "MoviePy - Done.\n",
      "Moviepy - Writing video /Users/vedantpadole/Desktop/Research/Adjectives_real/Sick/MVI_9528_augmented_darkness.mp4\n",
      "\n"
     ]
    },
    {
     "name": "stderr",
     "output_type": "stream",
     "text": [
      "                                                            \r"
     ]
    },
    {
     "name": "stdout",
     "output_type": "stream",
     "text": [
      "Moviepy - Done !\n",
      "Moviepy - video ready /Users/vedantpadole/Desktop/Research/Adjectives_real/Sick/MVI_9528_augmented_darkness.mp4\n",
      "Moviepy - Building video /Users/vedantpadole/Desktop/Research/Adjectives_real/Sick/MVI_9528_augmented_darkness.mp4.\n",
      "MoviePy - Writing audio in MVI_9528_augmented_darknessTEMP_MPY_wvf_snd.mp3\n"
     ]
    },
    {
     "name": "stderr",
     "output_type": "stream",
     "text": [
      "                                                                 \r"
     ]
    },
    {
     "name": "stdout",
     "output_type": "stream",
     "text": [
      "MoviePy - Done.\n",
      "Moviepy - Writing video /Users/vedantpadole/Desktop/Research/Adjectives_real/Sick/MVI_9528_augmented_darkness.mp4\n",
      "\n"
     ]
    },
    {
     "name": "stderr",
     "output_type": "stream",
     "text": [
      "                                                            \r"
     ]
    },
    {
     "name": "stdout",
     "output_type": "stream",
     "text": [
      "Moviepy - Done !\n",
      "Moviepy - video ready /Users/vedantpadole/Desktop/Research/Adjectives_real/Sick/MVI_9528_augmented_darkness.mp4\n",
      "Moviepy - Building video /Users/vedantpadole/Desktop/Research/Adjectives_real/Sick/MVI_9528_augmented_speed.mp4.\n",
      "MoviePy - Writing audio in MVI_9528_augmented_speedTEMP_MPY_wvf_snd.mp3\n"
     ]
    },
    {
     "name": "stderr",
     "output_type": "stream",
     "text": [
      "                                                               \r"
     ]
    },
    {
     "name": "stdout",
     "output_type": "stream",
     "text": [
      "MoviePy - Done.\n",
      "Moviepy - Writing video /Users/vedantpadole/Desktop/Research/Adjectives_real/Sick/MVI_9528_augmented_speed.mp4\n",
      "\n"
     ]
    },
    {
     "name": "stderr",
     "output_type": "stream",
     "text": [
      "                                                            \r"
     ]
    },
    {
     "name": "stdout",
     "output_type": "stream",
     "text": [
      "Moviepy - Done !\n",
      "Moviepy - video ready /Users/vedantpadole/Desktop/Research/Adjectives_real/Sick/MVI_9528_augmented_speed.mp4\n",
      "Moviepy - Building video /Users/vedantpadole/Desktop/Research/Adjectives_real/Sick/MVI_9528_augmented_shifting.mp4.\n",
      "MoviePy - Writing audio in MVI_9528_augmented_shiftingTEMP_MPY_wvf_snd.mp3\n"
     ]
    },
    {
     "name": "stderr",
     "output_type": "stream",
     "text": [
      "                                                               \r"
     ]
    },
    {
     "name": "stdout",
     "output_type": "stream",
     "text": [
      "MoviePy - Done.\n",
      "Moviepy - Writing video /Users/vedantpadole/Desktop/Research/Adjectives_real/Sick/MVI_9528_augmented_shifting.mp4\n",
      "\n"
     ]
    },
    {
     "name": "stderr",
     "output_type": "stream",
     "text": [
      "                                                            \r"
     ]
    },
    {
     "name": "stdout",
     "output_type": "stream",
     "text": [
      "Moviepy - Done !\n",
      "Moviepy - video ready /Users/vedantpadole/Desktop/Research/Adjectives_real/Sick/MVI_9528_augmented_shifting.mp4\n",
      "Moviepy - Building video /Users/vedantpadole/Desktop/Research/Adjectives_real/Sick/MVI_5329_augmented_brightness.mp4.\n",
      "MoviePy - Writing audio in MVI_5329_augmented_brightnessTEMP_MPY_wvf_snd.mp3\n"
     ]
    },
    {
     "name": "stderr",
     "output_type": "stream",
     "text": [
      "                                                       \r"
     ]
    },
    {
     "name": "stdout",
     "output_type": "stream",
     "text": [
      "MoviePy - Done.\n",
      "Moviepy - Writing video /Users/vedantpadole/Desktop/Research/Adjectives_real/Sick/MVI_5329_augmented_brightness.mp4\n",
      "\n"
     ]
    },
    {
     "name": "stderr",
     "output_type": "stream",
     "text": [
      "                                                            \r"
     ]
    },
    {
     "name": "stdout",
     "output_type": "stream",
     "text": [
      "Moviepy - Done !\n",
      "Moviepy - video ready /Users/vedantpadole/Desktop/Research/Adjectives_real/Sick/MVI_5329_augmented_brightness.mp4\n",
      "Moviepy - Building video /Users/vedantpadole/Desktop/Research/Adjectives_real/Sick/MVI_5329_augmented_darkness.mp4.\n",
      "MoviePy - Writing audio in MVI_5329_augmented_darknessTEMP_MPY_wvf_snd.mp3\n"
     ]
    },
    {
     "name": "stderr",
     "output_type": "stream",
     "text": [
      "                                                                 \r"
     ]
    },
    {
     "name": "stdout",
     "output_type": "stream",
     "text": [
      "MoviePy - Done.\n",
      "Moviepy - Writing video /Users/vedantpadole/Desktop/Research/Adjectives_real/Sick/MVI_5329_augmented_darkness.mp4\n",
      "\n"
     ]
    },
    {
     "name": "stderr",
     "output_type": "stream",
     "text": [
      "                                                            \r"
     ]
    },
    {
     "name": "stdout",
     "output_type": "stream",
     "text": [
      "Moviepy - Done !\n",
      "Moviepy - video ready /Users/vedantpadole/Desktop/Research/Adjectives_real/Sick/MVI_5329_augmented_darkness.mp4\n",
      "Moviepy - Building video /Users/vedantpadole/Desktop/Research/Adjectives_real/Sick/MVI_5329_augmented_darkness.mp4.\n",
      "MoviePy - Writing audio in MVI_5329_augmented_darknessTEMP_MPY_wvf_snd.mp3\n"
     ]
    },
    {
     "name": "stderr",
     "output_type": "stream",
     "text": [
      "                                                                 \r"
     ]
    },
    {
     "name": "stdout",
     "output_type": "stream",
     "text": [
      "MoviePy - Done.\n",
      "Moviepy - Writing video /Users/vedantpadole/Desktop/Research/Adjectives_real/Sick/MVI_5329_augmented_darkness.mp4\n",
      "\n"
     ]
    },
    {
     "name": "stderr",
     "output_type": "stream",
     "text": [
      "                                                            \r"
     ]
    },
    {
     "name": "stdout",
     "output_type": "stream",
     "text": [
      "Moviepy - Done !\n",
      "Moviepy - video ready /Users/vedantpadole/Desktop/Research/Adjectives_real/Sick/MVI_5329_augmented_darkness.mp4\n",
      "Moviepy - Building video /Users/vedantpadole/Desktop/Research/Adjectives_real/Sick/MVI_5329_augmented_speed.mp4.\n",
      "MoviePy - Writing audio in MVI_5329_augmented_speedTEMP_MPY_wvf_snd.mp3\n"
     ]
    },
    {
     "name": "stderr",
     "output_type": "stream",
     "text": [
      "                                                       \r"
     ]
    },
    {
     "name": "stdout",
     "output_type": "stream",
     "text": [
      "MoviePy - Done.\n",
      "Moviepy - Writing video /Users/vedantpadole/Desktop/Research/Adjectives_real/Sick/MVI_5329_augmented_speed.mp4\n",
      "\n"
     ]
    },
    {
     "name": "stderr",
     "output_type": "stream",
     "text": [
      "                                                            \r"
     ]
    },
    {
     "name": "stdout",
     "output_type": "stream",
     "text": [
      "Moviepy - Done !\n",
      "Moviepy - video ready /Users/vedantpadole/Desktop/Research/Adjectives_real/Sick/MVI_5329_augmented_speed.mp4\n",
      "Moviepy - Building video /Users/vedantpadole/Desktop/Research/Adjectives_real/Sick/MVI_5329_augmented_shifting.mp4.\n",
      "MoviePy - Writing audio in MVI_5329_augmented_shiftingTEMP_MPY_wvf_snd.mp3\n"
     ]
    },
    {
     "name": "stderr",
     "output_type": "stream",
     "text": [
      "                                                                 \r"
     ]
    },
    {
     "name": "stdout",
     "output_type": "stream",
     "text": [
      "MoviePy - Done.\n",
      "Moviepy - Writing video /Users/vedantpadole/Desktop/Research/Adjectives_real/Sick/MVI_5329_augmented_shifting.mp4\n",
      "\n"
     ]
    },
    {
     "name": "stderr",
     "output_type": "stream",
     "text": [
      "                                                            \r"
     ]
    },
    {
     "name": "stdout",
     "output_type": "stream",
     "text": [
      "Moviepy - Done !\n",
      "Moviepy - video ready /Users/vedantpadole/Desktop/Research/Adjectives_real/Sick/MVI_5329_augmented_shifting.mp4\n"
     ]
    }
   ],
   "source": [
    "import os\n",
    "from moviepy.editor import *\n",
    "from scipy.ndimage import gaussian_filter\n",
    "\n",
    "# Set input and output directories\n",
    "input_dir = '/Users/vedantpadole/Desktop/Research/Adjectives_real/Sick'\n",
    "output_dir = input_dir\n",
    "\n",
    "# Get a list of all the video files in the input directory\n",
    "video_files = [f for f in os.listdir(input_dir) if f.endswith('.mp4')]\n",
    "\n",
    "# Loop through each video file\n",
    "for video_file in video_files:\n",
    "    # Load the video clip\n",
    "    clip = VideoFileClip(os.path.join(input_dir, video_file))\n",
    "\n",
    "    # Define the augmentations\n",
    "    augmentations = [\n",
    "        ('brightness', lambda c: c.fx(vfx.colorx, 1.5)),\n",
    "        ('darkness', lambda c: c.fx(vfx.colorx, 0.5)),\n",
    "        ('darkness', lambda c: c.fx(vfx.colorx, 0.75)),\n",
    "        ('speed', lambda c: c.fx(vfx.speedx, 2)),\n",
    "        ('shifting', lambda c: c.fx(vfx.crop, x1=30, y1=30))\n",
    "    ]\n",
    "\n",
    "    # Apply each augmentation and save the output video\n",
    "    for i, (name, effect) in enumerate(augmentations):\n",
    "        # Apply the effect to the clip\n",
    "        augmented_clip = effect(clip)\n",
    "\n",
    "        # Set the output filename\n",
    "        output_filename = f'{os.path.splitext(video_file)[0]}_augmented_{name}.mp4'\n",
    "        output_path = os.path.join(output_dir, output_filename)\n",
    "\n",
    "        # Save the augmented video\n",
    "        augmented_clip.write_videofile(output_path)\n",
    "\n",
    "    # Close the input video clip\n",
    "    clip.close()"
   ]
  },
  {
   "cell_type": "code",
   "execution_count": null,
   "metadata": {},
   "outputs": [],
   "source": []
  },
  {
   "cell_type": "code",
   "execution_count": null,
   "metadata": {},
   "outputs": [],
   "source": []
  }
 ],
 "metadata": {
  "kernelspec": {
   "display_name": "Python 3",
   "language": "python",
   "name": "python3"
  },
  "language_info": {
   "codemirror_mode": {
    "name": "ipython",
    "version": 3
   },
   "file_extension": ".py",
   "mimetype": "text/x-python",
   "name": "python",
   "nbconvert_exporter": "python",
   "pygments_lexer": "ipython3",
   "version": "3.9.0"
  },
  "orig_nbformat": 4,
  "vscode": {
   "interpreter": {
    "hash": "aee8b7b246df8f9039afb4144a1f6fd8d2ca17a180786b69acc140d282b71a49"
   }
  }
 },
 "nbformat": 4,
 "nbformat_minor": 2
}
