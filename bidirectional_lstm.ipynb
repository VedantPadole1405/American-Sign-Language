{
 "cells": [
  {
   "cell_type": "code",
   "execution_count": 1,
   "metadata": {},
   "outputs": [],
   "source": [
    "import os\n",
    "import cv2\n",
    "import random\n",
    "import math\n",
    "import numpy as np\n",
    "import datetime as dt\n",
    "import tensorflow as tf\n",
    "import matplotlib.pyplot as plt"
   ]
  },
  {
   "cell_type": "code",
   "execution_count": 2,
   "metadata": {},
   "outputs": [
    {
     "name": "stdout",
     "output_type": "stream",
     "text": [
      "['sugar', 'cup', 'sweet', 'ac', 'bill', 'thank-you', 'water', 'no', 'vegetables', 'pop corn', 'bitter', 'milk', 'allergy', 'spicy', 'cost', 'ice cream', 'chair', 'cheese', 'napkin', 'about', 'small', 'french fries', 'manager', 'salt', 'cold', 'warm', 'ingredients', 'burger', 'alcohol', 'eggs', 'chicken', 'what', 'bread', 'hello', 'sauce', 'bag', 'pizza', 'pepper', 'drink', 'which', 'gluten free']\n"
     ]
    },
    {
     "data": {
      "text/plain": [
       "41"
      ]
     },
     "execution_count": 2,
     "metadata": {},
     "output_type": "execute_result"
    }
   ],
   "source": [
    "import numpy as np \n",
    "import pandas as pd \n",
    "import matplotlib.pyplot as plt\n",
    "import os\n",
    "\n",
    "dataset_path = os.listdir('/Users/vedantpadole/Desktop/Research/ASL_MY_DATASET')\n",
    "\n",
    "all_classes = os.listdir('/Users/vedantpadole/Desktop/Research/ASL_MY_DATASET')\n",
    "print (all_classes)  \n",
    "len(all_classes)"
   ]
  },
  {
   "cell_type": "code",
   "execution_count": 3,
   "metadata": {},
   "outputs": [],
   "source": [
    "plt.figure(figsize=(20,20))\n",
    "random_range=random.sample(range(len(all_classes)),22)\n",
    "for counter,random_index in enumerate(random_range,1):\n",
    "  selected_Class=all_classes[random_index]\n",
    "  video_files_names_list=os.listdir(f'/Users/vedantpadole/Desktop/Research/ASL_MY_DATASET/{selected_Class}')\n",
    "  selected_video_file_name=random.choice(video_files_names_list)\n",
    "  video_reader=cv2.VideoCapture(f'/Users/vedantpadole/Desktop/Research/ASL_MY_DATASET/{selected_Class}/{selected_video_file_name}')\n",
    "  _,bgr_frame=video_reader.read()\n",
    "  rgb_frame=cv2.cvtColor(bgr_frame,cv2.COLOR_BGR2RGB)\n",
    "  cv2.putText(rgb_frame,selected_Class,(10,30),cv2.FONT_HERSHEY_SIMPLEX,1,(255,255,255),2)\n",
    "  plt.subplot(11,2,counter);plt.imshow(rgb_frame);plt.axis('off')"
   ]
  },
  {
   "cell_type": "code",
   "execution_count": 4,
   "metadata": {},
   "outputs": [],
   "source": [
    "IMAGE_HEIGHT,IMAGE_WIDTH=128,128\n",
    "SEQUENCE_LENGTH=10\n",
    "DATASET='/Users/vedantpadole/Desktop/Research/ASL_MY_DATASET'\n",
    "CLASSES_LIST=all_classes"
   ]
  },
  {
   "cell_type": "code",
   "execution_count": 5,
   "metadata": {},
   "outputs": [],
   "source": [
    "def frames_extraction(video_path):\n",
    "  frames_list=[]\n",
    "  video_reader=cv2.VideoCapture(video_path)\n",
    "  video_frames_count=int(video_reader.get(cv2.CAP_PROP_FRAME_COUNT))\n",
    "  skip_frames_window=max(int(video_frames_count/SEQUENCE_LENGTH),1)\n",
    "  for frame_counter in range(SEQUENCE_LENGTH):\n",
    "    video_reader.set(cv2.CAP_PROP_POS_FRAMES,frame_counter*skip_frames_window)\n",
    "    success,frame=video_reader.read()\n",
    "    if not success:\n",
    "      break\n",
    "    resized_frame=cv2.resize(frame,(IMAGE_HEIGHT,IMAGE_WIDTH))\n",
    "    normalized_frame=resized_frame/255\n",
    "    frames_list.append(normalized_frame)\n",
    "  video_reader.release()\n",
    "  return frames_list"
   ]
  },
  {
   "cell_type": "code",
   "execution_count": 6,
   "metadata": {},
   "outputs": [],
   "source": [
    "def create_dataset():\n",
    "  features=[]\n",
    "  labels=[]\n",
    "  video_files_path=[]\n",
    "  for class_index,class_name in enumerate(CLASSES_LIST):\n",
    "    print(f'Extracting the data of class:  {class_name}')\n",
    "    files_list=os.listdir(os.path.join(DATASET,class_name))\n",
    "    for file_name in files_list:\n",
    "      video_file_path=os.path.join(DATASET,class_name,file_name)\n",
    "      frames=frames_extraction(video_file_path)\n",
    "      if len(frames)==SEQUENCE_LENGTH:\n",
    "        features.append(frames)\n",
    "        labels.append(class_index)\n",
    "        video_files_path.append(video_file_path)\n",
    "  features=np.asarray(features)\n",
    "  labels=np.array(labels)\n",
    "  return features,labels,video_files_path"
   ]
  },
  {
   "cell_type": "code",
   "execution_count": 7,
   "metadata": {},
   "outputs": [
    {
     "name": "stdout",
     "output_type": "stream",
     "text": [
      "Extracting the data of class:  sugar\n",
      "Extracting the data of class:  cup\n",
      "Extracting the data of class:  sweet\n",
      "Extracting the data of class:  ac\n",
      "Extracting the data of class:  bill\n",
      "Extracting the data of class:  thank-you\n",
      "Extracting the data of class:  water\n",
      "Extracting the data of class:  no\n",
      "Extracting the data of class:  vegetables\n",
      "Extracting the data of class:  pop corn\n",
      "Extracting the data of class:  bitter\n",
      "Extracting the data of class:  milk\n",
      "Extracting the data of class:  allergy\n",
      "Extracting the data of class:  spicy\n",
      "Extracting the data of class:  cost\n",
      "Extracting the data of class:  ice cream\n",
      "Extracting the data of class:  chair\n",
      "Extracting the data of class:  cheese\n",
      "Extracting the data of class:  napkin\n",
      "Extracting the data of class:  about\n",
      "Extracting the data of class:  small\n",
      "Extracting the data of class:  french fries\n",
      "Extracting the data of class:  manager\n",
      "Extracting the data of class:  salt\n",
      "Extracting the data of class:  cold\n",
      "Extracting the data of class:  warm\n",
      "Extracting the data of class:  ingredients\n",
      "Extracting the data of class:  burger\n",
      "Extracting the data of class:  alcohol\n",
      "Extracting the data of class:  eggs\n",
      "Extracting the data of class:  chicken\n",
      "Extracting the data of class:  what\n",
      "Extracting the data of class:  bread\n",
      "Extracting the data of class:  hello\n",
      "Extracting the data of class:  sauce\n",
      "Extracting the data of class:  bag\n",
      "Extracting the data of class:  pizza\n",
      "Extracting the data of class:  pepper\n",
      "Extracting the data of class:  drink\n",
      "Extracting the data of class:  which\n",
      "Extracting the data of class:  gluten free\n"
     ]
    }
   ],
   "source": [
    "features,labels,video_files_path=create_dataset()"
   ]
  },
  {
   "cell_type": "code",
   "execution_count": 8,
   "metadata": {},
   "outputs": [],
   "source": [
    "from keras.utils import to_categorical\n",
    "one_hot_encoded_labels=to_categorical(labels)"
   ]
  },
  {
   "cell_type": "code",
   "execution_count": 9,
   "metadata": {},
   "outputs": [],
   "source": [
    "seed_constant=27\n",
    "np.random.seed(seed_constant)\n",
    "random.seed(seed_constant)\n",
    "tf.random.set_seed(seed_constant)"
   ]
  },
  {
   "cell_type": "code",
   "execution_count": 10,
   "metadata": {},
   "outputs": [],
   "source": [
    "from sklearn.model_selection import train_test_split\n",
    "features_train,features_test,labels_train,labels_test=train_test_split(features,one_hot_encoded_labels,test_size=0.2,shuffle=True,random_state=seed_constant)"
   ]
  },
  {
   "cell_type": "code",
   "execution_count": 11,
   "metadata": {},
   "outputs": [],
   "source": [
    "a=features_train.shape[0]"
   ]
  },
  {
   "cell_type": "code",
   "execution_count": 12,
   "metadata": {},
   "outputs": [],
   "source": [
    "from keras import Sequential\n",
    "from keras.layers import ConvLSTM2D, MaxPooling3D, TimeDistributed, Dropout, Flatten, Dense, Bidirectional, LSTM\n",
    "\n",
    "def create_bidirectional_convlstm_model():\n",
    "    model = Sequential()\n",
    "    model.add(ConvLSTM2D(filters=4, kernel_size=(3, 3), activation='relu', data_format='channels_last',\n",
    "                         recurrent_dropout=0.2, return_sequences=True, input_shape=(SEQUENCE_LENGTH, IMAGE_HEIGHT, IMAGE_WIDTH, 3)))\n",
    "    model.add(MaxPooling3D(pool_size=(1, 2, 2), padding='same', data_format='channels_last'))\n",
    "    model.add(TimeDistributed(Dropout(0.2)))\n",
    "\n",
    "    model.add(ConvLSTM2D(filters=14, kernel_size=(3, 3), activation='relu', data_format='channels_last',\n",
    "                         recurrent_dropout=0.2, return_sequences=True))\n",
    "    model.add(MaxPooling3D(pool_size=(1, 2, 2), padding='same', data_format='channels_last'))\n",
    "    model.add(TimeDistributed(Dropout(0.2)))\n",
    "\n",
    "    model.add(ConvLSTM2D(filters=16, kernel_size=(3, 3), activation='relu', data_format='channels_last',\n",
    "                         recurrent_dropout=0.2, return_sequences=True))\n",
    "    model.add(MaxPooling3D(pool_size=(1, 2, 2), padding='same', data_format='channels_last'))\n",
    "    model.add(TimeDistributed(Dropout(0.2)))\n",
    "\n",
    "    model.add(TimeDistributed(Flatten()))\n",
    "    model.add(Bidirectional(LSTM(units=32, activation='relu', return_sequences=True)))\n",
    "    model.add(Bidirectional(LSTM(units=64, activation='relu', return_sequences=True)))\n",
    "    model.add(Flatten())\n",
    "    model.add(Dense(len(CLASSES_LIST), activation='softmax'))\n",
    "    model.summary()\n",
    "    return model\n"
   ]
  },
  {
   "cell_type": "code",
   "execution_count": 13,
   "metadata": {},
   "outputs": [
    {
     "name": "stdout",
     "output_type": "stream",
     "text": [
      "Model: \"sequential\"\n",
      "_________________________________________________________________\n",
      " Layer (type)                Output Shape              Param #   \n",
      "=================================================================\n",
      " conv_lstm2d (ConvLSTM2D)    (None, 10, 126, 126, 4)   1024      \n",
      "                                                                 \n",
      " max_pooling3d (MaxPooling3D  (None, 10, 63, 63, 4)    0         \n",
      " )                                                               \n",
      "                                                                 \n",
      " time_distributed (TimeDistr  (None, 10, 63, 63, 4)    0         \n",
      " ibuted)                                                         \n",
      "                                                                 \n",
      " conv_lstm2d_1 (ConvLSTM2D)  (None, 10, 61, 61, 14)    9128      \n",
      "                                                                 \n",
      " max_pooling3d_1 (MaxPooling  (None, 10, 31, 31, 14)   0         \n",
      " 3D)                                                             \n",
      "                                                                 \n",
      " time_distributed_1 (TimeDis  (None, 10, 31, 31, 14)   0         \n",
      " tributed)                                                       \n",
      "                                                                 \n",
      " conv_lstm2d_2 (ConvLSTM2D)  (None, 10, 29, 29, 16)    17344     \n",
      "                                                                 \n",
      " max_pooling3d_2 (MaxPooling  (None, 10, 15, 15, 16)   0         \n",
      " 3D)                                                             \n",
      "                                                                 \n",
      " time_distributed_2 (TimeDis  (None, 10, 15, 15, 16)   0         \n",
      " tributed)                                                       \n",
      "                                                                 \n",
      " time_distributed_3 (TimeDis  (None, 10, 3600)         0         \n",
      " tributed)                                                       \n",
      "                                                                 \n",
      " bidirectional (Bidirectiona  (None, 10, 64)           930048    \n",
      " l)                                                              \n",
      "                                                                 \n",
      " bidirectional_1 (Bidirectio  (None, 10, 128)          66048     \n",
      " nal)                                                            \n",
      "                                                                 \n",
      " flatten_1 (Flatten)         (None, 1280)              0         \n",
      "                                                                 \n",
      " dense (Dense)               (None, 41)                52521     \n",
      "                                                                 \n",
      "=================================================================\n",
      "Total params: 1,076,113\n",
      "Trainable params: 1,076,113\n",
      "Non-trainable params: 0\n",
      "_________________________________________________________________\n"
     ]
    }
   ],
   "source": [
    "model1=create_bidirectional_convlstm_model()"
   ]
  },
  {
   "cell_type": "code",
   "execution_count": 14,
   "metadata": {},
   "outputs": [
    {
     "name": "stdout",
     "output_type": "stream",
     "text": [
      "You must install pydot (`pip install pydot`) and install graphviz (see instructions at https://graphviz.gitlab.io/download/) for plot_model to work.\n"
     ]
    }
   ],
   "source": [
    "from keras.utils import plot_model\n",
    "plot_model(model1,to_file='model1.png',show_shapes=True,show_layer_names=True)"
   ]
  },
  {
   "cell_type": "code",
   "execution_count": 15,
   "metadata": {},
   "outputs": [
    {
     "name": "stdout",
     "output_type": "stream",
     "text": [
      "Epoch 1/50\n",
      "25/25 [==============================] - 480s 18s/step - loss: 3.6650 - accuracy: 0.0368 - val_loss: 3.6666 - val_accuracy: 0.0354\n",
      "Epoch 2/50\n",
      "25/25 [==============================] - 458s 18s/step - loss: 3.4500 - accuracy: 0.0824 - val_loss: 3.4545 - val_accuracy: 0.0657\n",
      "Epoch 3/50\n",
      "25/25 [==============================] - 455s 18s/step - loss: 3.2882 - accuracy: 0.1103 - val_loss: 3.3082 - val_accuracy: 0.0859\n",
      "Epoch 4/50\n",
      "25/25 [==============================] - 463s 19s/step - loss: 2.8763 - accuracy: 0.2167 - val_loss: 3.0809 - val_accuracy: 0.1869\n",
      "Epoch 5/50\n",
      "25/25 [==============================] - 507s 20s/step - loss: 2.4771 - accuracy: 0.2991 - val_loss: 2.7046 - val_accuracy: 0.2677\n",
      "Epoch 6/50\n",
      "25/25 [==============================] - 512s 20s/step - loss: 2.1245 - accuracy: 0.3587 - val_loss: 2.2618 - val_accuracy: 0.4242\n",
      "Epoch 7/50\n",
      "25/25 [==============================] - 521s 21s/step - loss: 1.6846 - accuracy: 0.4956 - val_loss: 1.9151 - val_accuracy: 0.4091\n",
      "Epoch 8/50\n",
      "25/25 [==============================] - 444s 17s/step - loss: 1.3497 - accuracy: 0.5932 - val_loss: 1.9078 - val_accuracy: 0.4646\n",
      "Epoch 9/50\n",
      "25/25 [==============================] - 593s 24s/step - loss: 1.2508 - accuracy: 0.6198 - val_loss: 1.5344 - val_accuracy: 0.6162\n",
      "Epoch 10/50\n",
      "25/25 [==============================] - 418s 17s/step - loss: 0.9682 - accuracy: 0.7199 - val_loss: 1.5105 - val_accuracy: 0.6212\n",
      "Epoch 11/50\n",
      "25/25 [==============================] - 429s 17s/step - loss: 0.8470 - accuracy: 0.7452 - val_loss: 1.3941 - val_accuracy: 0.6263\n",
      "Epoch 12/50\n",
      "25/25 [==============================] - 548s 22s/step - loss: 0.7843 - accuracy: 0.7579 - val_loss: 1.4232 - val_accuracy: 0.6061\n",
      "Epoch 13/50\n",
      "25/25 [==============================] - 492s 20s/step - loss: 0.6690 - accuracy: 0.7845 - val_loss: 1.3031 - val_accuracy: 0.6869\n",
      "Epoch 14/50\n",
      "25/25 [==============================] - 473s 19s/step - loss: 0.5801 - accuracy: 0.7985 - val_loss: 1.2877 - val_accuracy: 0.7677\n",
      "Epoch 15/50\n",
      "25/25 [==============================] - 509s 20s/step - loss: 0.5080 - accuracy: 0.8403 - val_loss: 1.3562 - val_accuracy: 0.7273\n",
      "Epoch 16/50\n",
      "25/25 [==============================] - 485s 19s/step - loss: 0.4370 - accuracy: 0.8606 - val_loss: 1.5322 - val_accuracy: 0.6818\n",
      "Epoch 17/50\n",
      "25/25 [==============================] - 492s 20s/step - loss: 0.4160 - accuracy: 0.8454 - val_loss: 1.3507 - val_accuracy: 0.7424\n",
      "Epoch 18/50\n",
      "25/25 [==============================] - 488s 19s/step - loss: 0.4609 - accuracy: 0.8466 - val_loss: 1.4241 - val_accuracy: 0.6414\n",
      "Epoch 19/50\n",
      "25/25 [==============================] - 431s 17s/step - loss: 0.4883 - accuracy: 0.8416 - val_loss: 1.5123 - val_accuracy: 0.7020\n",
      "Epoch 20/50\n",
      "25/25 [==============================] - 448s 18s/step - loss: 0.3954 - accuracy: 0.8619 - val_loss: 1.0538 - val_accuracy: 0.8081\n",
      "Epoch 21/50\n",
      "25/25 [==============================] - 456s 18s/step - loss: 0.4322 - accuracy: 0.8758 - val_loss: 2.1129 - val_accuracy: 0.5808\n",
      "Epoch 22/50\n",
      "25/25 [==============================] - 439s 18s/step - loss: 0.7087 - accuracy: 0.8023 - val_loss: 1.3803 - val_accuracy: 0.7222\n",
      "Epoch 23/50\n",
      "25/25 [==============================] - 444s 18s/step - loss: 0.4875 - accuracy: 0.8517 - val_loss: 1.2352 - val_accuracy: 0.7374\n",
      "Epoch 24/50\n",
      "25/25 [==============================] - 478s 19s/step - loss: 0.3319 - accuracy: 0.8859 - val_loss: 1.4214 - val_accuracy: 0.7980\n",
      "Epoch 25/50\n",
      "25/25 [==============================] - 423s 17s/step - loss: 0.3651 - accuracy: 0.9011 - val_loss: 1.2694 - val_accuracy: 0.7576\n",
      "Epoch 26/50\n",
      "25/25 [==============================] - 480s 19s/step - loss: 0.2892 - accuracy: 0.8999 - val_loss: 1.4018 - val_accuracy: 0.7626\n",
      "Epoch 27/50\n",
      "25/25 [==============================] - 549s 22s/step - loss: 0.4072 - accuracy: 0.8821 - val_loss: 1.2504 - val_accuracy: 0.7222\n",
      "Epoch 28/50\n",
      "25/25 [==============================] - 554s 22s/step - loss: 0.2969 - accuracy: 0.9075 - val_loss: 1.1823 - val_accuracy: 0.7727\n",
      "Epoch 29/50\n",
      "25/25 [==============================] - 495s 20s/step - loss: 0.2543 - accuracy: 0.9075 - val_loss: 0.9090 - val_accuracy: 0.8333\n",
      "Epoch 30/50\n",
      "25/25 [==============================] - 482s 19s/step - loss: 0.1841 - accuracy: 0.9392 - val_loss: 1.0330 - val_accuracy: 0.8232\n",
      "Epoch 31/50\n",
      "25/25 [==============================] - 478s 19s/step - loss: 0.1471 - accuracy: 0.9493 - val_loss: 1.1584 - val_accuracy: 0.8131\n",
      "Epoch 32/50\n",
      "25/25 [==============================] - 456s 18s/step - loss: 0.1197 - accuracy: 0.9544 - val_loss: 1.3319 - val_accuracy: 0.8283\n",
      "Epoch 33/50\n",
      "25/25 [==============================] - 449s 18s/step - loss: 0.1413 - accuracy: 0.9493 - val_loss: 1.5798 - val_accuracy: 0.7374\n",
      "Epoch 34/50\n",
      "25/25 [==============================] - 432s 17s/step - loss: 0.2345 - accuracy: 0.9290 - val_loss: 1.2133 - val_accuracy: 0.7222\n",
      "Epoch 35/50\n",
      "25/25 [==============================] - 464s 19s/step - loss: 0.7448 - accuracy: 0.8910 - val_loss: 1.6249 - val_accuracy: 0.5859\n",
      "Epoch 36/50\n"
     ]
    }
   ],
   "source": [
    "from keras.callbacks import EarlyStopping\n",
    "early_stopping_call=EarlyStopping(monitor='val_loss',patience=10,mode='min',restore_best_weights=True)\n",
    "model1.compile(loss='categorical_crossentropy',optimizer='Adam',metrics=['accuracy'])\n",
    "r=model1.fit(x=features_train,y=labels_train,epochs=50,batch_size=32,shuffle=True,validation_split=0.2,callbacks=[early_stopping_call])"
   ]
  },
  {
   "cell_type": "code",
   "execution_count": null,
   "metadata": {},
   "outputs": [],
   "source": [
    "model1."
   ]
  }
 ],
 "metadata": {
  "kernelspec": {
   "display_name": "Python 3",
   "language": "python",
   "name": "python3"
  },
  "language_info": {
   "codemirror_mode": {
    "name": "ipython",
    "version": 3
   },
   "file_extension": ".py",
   "mimetype": "text/x-python",
   "name": "python",
   "nbconvert_exporter": "python",
   "pygments_lexer": "ipython3",
   "version": "3.9.0"
  },
  "orig_nbformat": 4
 },
 "nbformat": 4,
 "nbformat_minor": 2
}
