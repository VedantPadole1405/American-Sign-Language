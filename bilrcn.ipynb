{
 "cells": [
  {
   "cell_type": "code",
   "execution_count": null,
   "metadata": {},
   "outputs": [],
   "source": [
    "import os\n",
    "import cv2\n",
    "import random\n",
    "import math\n",
    "import numpy as np\n",
    "import datetime as dt\n",
    "import tensorflow as tf\n",
    "import matplotlib.pyplot as plt"
   ]
  },
  {
   "cell_type": "code",
   "execution_count": null,
   "metadata": {},
   "outputs": [],
   "source": [
    "import numpy as np \n",
    "import pandas as pd \n",
    "import matplotlib.pyplot as plt\n",
    "import os\n",
    "\n",
    "dataset_path = os.listdir('/Users/vedantpadole/Desktop/Research/ASL_MY_DATASET')\n",
    "\n",
    "all_classes = os.listdir('/Users/vedantpadole/Desktop/Research/ASL_MY_DATASET')\n",
    "print (all_classes)  \n",
    "len(all_classes)"
   ]
  },
  {
   "cell_type": "code",
   "execution_count": null,
   "metadata": {},
   "outputs": [],
   "source": [
    "plt.figure(figsize=(20,20))\n",
    "random_range=random.sample(range(len(all_classes)),22)\n",
    "for counter,random_index in enumerate(random_range,1):\n",
    "  selected_Class=all_classes[random_index]\n",
    "  video_files_names_list=os.listdir(f'/Users/vedantpadole/Desktop/Research/ASL_MY_DATASET/{selected_Class}')\n",
    "  selected_video_file_name=random.choice(video_files_names_list)\n",
    "  video_reader=cv2.VideoCapture(f'/Users/vedantpadole/Desktop/Research/ASL_MY_DATASET/{selected_Class}/{selected_video_file_name}')\n",
    "  _,bgr_frame=video_reader.read()\n",
    "  rgb_frame=cv2.cvtColor(bgr_frame,cv2.COLOR_BGR2RGB)\n",
    "  cv2.putText(rgb_frame,selected_Class,(10,30),cv2.FONT_HERSHEY_SIMPLEX,1,(255,255,255),2)\n",
    "  plt.subplot(11,2,counter);plt.imshow(rgb_frame);plt.axis('off')"
   ]
  },
  {
   "cell_type": "code",
   "execution_count": null,
   "metadata": {},
   "outputs": [],
   "source": [
    "IMAGE_HEIGHT,IMAGE_WIDTH=128,128\n",
    "SEQUENCE_LENGTH=10\n",
    "DATASET='/Users/vedantpadole/Desktop/Research/ASL_MY_DATASET'\n",
    "CLASSES_LIST=all_classes"
   ]
  },
  {
   "cell_type": "code",
   "execution_count": null,
   "metadata": {},
   "outputs": [],
   "source": [
    "def frames_extraction(video_path):\n",
    "  frames_list=[]\n",
    "  video_reader=cv2.VideoCapture(video_path)\n",
    "  video_frames_count=int(video_reader.get(cv2.CAP_PROP_FRAME_COUNT))\n",
    "  skip_frames_window=max(int(video_frames_count/SEQUENCE_LENGTH),1)\n",
    "  for frame_counter in range(SEQUENCE_LENGTH):\n",
    "    video_reader.set(cv2.CAP_PROP_POS_FRAMES,frame_counter*skip_frames_window)\n",
    "    success,frame=video_reader.read()\n",
    "    if not success:\n",
    "      break\n",
    "    resized_frame=cv2.resize(frame,(IMAGE_HEIGHT,IMAGE_WIDTH))\n",
    "    normalized_frame=resized_frame/255\n",
    "    frames_list.append(normalized_frame)\n",
    "  video_reader.release()\n",
    "  return frames_list"
   ]
  },
  {
   "cell_type": "code",
   "execution_count": null,
   "metadata": {},
   "outputs": [],
   "source": [
    "def create_dataset():\n",
    "  features=[]\n",
    "  labels=[]\n",
    "  video_files_path=[]\n",
    "  for class_index,class_name in enumerate(CLASSES_LIST):\n",
    "    print(f'Extracting the data of class:  {class_name}')\n",
    "    files_list=os.listdir(os.path.join(DATASET,class_name))\n",
    "    for file_name in files_list:\n",
    "      video_file_path=os.path.join(DATASET,class_name,file_name)\n",
    "      frames=frames_extraction(video_file_path)\n",
    "      if len(frames)==SEQUENCE_LENGTH:\n",
    "        features.append(frames)\n",
    "        labels.append(class_index)\n",
    "        video_files_path.append(video_file_path)\n",
    "  features=np.asarray(features)\n",
    "  labels=np.array(labels)\n",
    "  return features,labels,video_files_path"
   ]
  },
  {
   "cell_type": "code",
   "execution_count": null,
   "metadata": {},
   "outputs": [],
   "source": [
    "features,labels,video_files_path=create_dataset()"
   ]
  },
  {
   "cell_type": "code",
   "execution_count": null,
   "metadata": {},
   "outputs": [],
   "source": [
    "from keras.utils import to_categorical\n",
    "one_hot_encoded_labels=to_categorical(labels)"
   ]
  },
  {
   "cell_type": "code",
   "execution_count": null,
   "metadata": {},
   "outputs": [],
   "source": [
    "seed_constant=27\n",
    "np.random.seed(seed_constant)\n",
    "random.seed(seed_constant)\n",
    "tf.random.set_seed(seed_constant)"
   ]
  },
  {
   "cell_type": "code",
   "execution_count": null,
   "metadata": {},
   "outputs": [],
   "source": [
    "from sklearn.model_selection import train_test_split\n",
    "features_train,features_test,labels_train,labels_test=train_test_split(features,one_hot_encoded_labels,test_size=0.2,shuffle=True,random_state=seed_constant)"
   ]
  },
  {
   "cell_type": "code",
   "execution_count": null,
   "metadata": {},
   "outputs": [],
   "source": [
    "a=features_train.shape[0]"
   ]
  },
  {
   "cell_type": "code",
   "execution_count": null,
   "metadata": {},
   "outputs": [],
   "source": [
    "from keras import Sequential\n",
    "from keras.layers import Conv2D, MaxPooling2D, Flatten, Dense, TimeDistributed, Dropout, Bidirectional, LSTM\n",
    "from keras.applications import ResNet50\n",
    "\n",
    "def create_resnet_bilstm_model():\n",
    "    # Load pre-trained ResNet50 model without top layers\n",
    "    resnet_model = ResNet50(include_top=False, weights='imagenet', input_shape=(IMAGE_HEIGHT, IMAGE_WIDTH, 3))\n",
    "    \n",
    "    # Set ResNet layers as non-trainable (freeze them)\n",
    "    for layer in resnet_model.layers:\n",
    "        layer.trainable = False\n",
    "    \n",
    "    model = Sequential()\n",
    "    \n",
    "    # Add ResNet model as the first layer\n",
    "    model.add(resnet_model)\n",
    "    \n",
    "    model.add(TimeDistributed(Flatten()))\n",
    "    model.add(Bidirectional(LSTM(units=32, activation='relu', return_sequences=True)))\n",
    "    model.add(Bidirectional(LSTM(units=64, activation='relu', return_sequences=True)))\n",
    "    model.add(Flatten())\n",
    "    model.add(Dense(len(CLASSES_LIST), activation='softmax'))\n",
    "    \n",
    "    model.summary()\n",
    "    return model\n"
   ]
  },
  {
   "cell_type": "code",
   "execution_count": null,
   "metadata": {},
   "outputs": [],
   "source": [
    "model1=create_resnet_bilstm_model()"
   ]
  },
  {
   "cell_type": "code",
   "execution_count": null,
   "metadata": {},
   "outputs": [],
   "source": [
    "from keras.utils import plot_model\n",
    "plot_model(model1,to_file='model1.png',show_shapes=True,show_layer_names=True)"
   ]
  },
  {
   "cell_type": "code",
   "execution_count": null,
   "metadata": {},
   "outputs": [],
   "source": [
    "from keras.callbacks import EarlyStopping\n",
    "early_stopping_call=EarlyStopping(monitor='val_loss',patience=10,mode='min',restore_best_weights=True)\n",
    "model1.compile(loss='categorical_crossentropy',optimizer='Adam',metrics=['accuracy'])\n",
    "r=model1.fit(x=features_train,y=labels_train,epochs=50,batch_size=32,shuffle=True,validation_split=0.2,callbacks=[early_stopping_call])"
   ]
  },
  {
   "cell_type": "code",
   "execution_count": null,
   "metadata": {},
   "outputs": [],
   "source": []
  }
 ],
 "metadata": {
  "language_info": {
   "name": "python"
  },
  "orig_nbformat": 4
 },
 "nbformat": 4,
 "nbformat_minor": 2
}
