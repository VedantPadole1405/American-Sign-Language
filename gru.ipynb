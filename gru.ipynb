{
 "cells": [
  {
   "cell_type": "code",
   "execution_count": 1,
   "metadata": {},
   "outputs": [],
   "source": [
    "import keras\n",
    "from keras.models import Sequential\n",
    "from keras.layers import GRU, Dense, TimeDistributed"
   ]
  },
  {
   "cell_type": "code",
   "execution_count": 3,
   "metadata": {},
   "outputs": [],
   "source": [
    "import os\n",
    "import numpy as np\n",
    "import cv2\n",
    "from keras.models import Sequential\n",
    "from keras.layers import LSTM, Dense, TimeDistributed\n",
    "from keras.preprocessing import image\n",
    "from keras.utils import to_categorical\n",
    "\n",
    "def process_frame(frame, previous_frame):\n",
    "    # Convert frame to grayscale\n",
    "    gray = cv2.cvtColor(frame, cv2.COLOR_BGR2GRAY)\n",
    "\n",
    "    # Apply Gaussian blur to reduce noise\n",
    "    blurred = cv2.GaussianBlur(gray, (5, 5), 0)\n",
    "\n",
    "    # Compute the absolute difference between current and previous frame\n",
    "    if previous_frame is not None:\n",
    "        diff = cv2.absdiff(blurred, previous_frame)\n",
    "    else:\n",
    "        diff = blurred\n",
    "\n",
    "    # Apply thresholding to emphasize moving regions\n",
    "    _, threshold = cv2.threshold(diff, 30, 255, cv2.THRESH_BINARY)\n",
    "\n",
    "    # Find contours of moving objects\n",
    "    contours, _ = cv2.findContours(threshold, cv2.RETR_EXTERNAL, cv2.CHAIN_APPROX_SIMPLE)\n",
    "\n",
    "    # Draw bounding boxes around moving objects\n",
    "    for contour in contours:\n",
    "        (x, y, w, h) = cv2.boundingRect(contour)\n",
    "        cv2.rectangle(frame, (x, y), (x + w, y + h), (0, 255, 0), 2)\n",
    "\n",
    "    # Update the previous frame\n",
    "    previous_frame = blurred.copy()\n",
    "\n",
    "    return frame, previous_frame\n",
    "\n",
    "\n",
    "# Define the dataset path\n",
    "dataset_path = '/Users/vedantpadole/Desktop/Research/ASL_MY_DATASET'\n",
    "\n",
    "# Get the list of labels from the subfolder names\n",
    "labels = sorted(os.listdir(dataset_path))\n",
    "\n",
    "# Create an empty list to store the frames and labels\n",
    "frames = []\n",
    "labels_encoded = []\n",
    "\n",
    "# Iterate through the subfolders\n",
    "for label_idx, label in enumerate(labels):\n",
    "    label_path = os.path.join(dataset_path, label)\n",
    "    if os.path.isdir(label_path):\n",
    "        # Iterate through the video files in each subfolder\n",
    "        for video_file in os.listdir(label_path):\n",
    "            video_path = os.path.join(label_path, video_file)\n",
    "            if video_path.endswith('.avi') or video_path.endswith('.mp4'):\n",
    "                # Process each video frame by frame\n",
    "                cap = cv2.VideoCapture(video_path)\n",
    "                previous_frame = None\n",
    "                while cap.isOpened():\n",
    "                    ret, frame = cap.read()\n",
    "                    if not ret:\n",
    "                        break\n",
    "                    processed_frame, previous_frame = process_frame(frame, previous_frame)\n",
    "                    frames.append(processed_frame)\n",
    "                    labels_encoded.append(label_idx)\n",
    "                cap.release()\n",
    "\n",
    "# Convert the frames and labels to numpy arrays\n",
    "frames = np.array(frames)\n",
    "labels_encoded = np.array(labels_encoded)\n",
    "\n",
    "# Convert the labels to one-hot encoding\n",
    "labels_onehot = to_categorical(labels_encoded)\n",
    "\n",
    "# Split the data into training and testing sets\n",
    "split_ratio = 0.8\n",
    "split_idx = int(len(frames) * split_ratio)\n",
    "\n",
    "train_frames = frames[:split_idx]\n",
    "train_labels = labels_onehot[:split_idx]\n",
    "\n",
    "test_frames = frames[split_idx:]\n",
    "test_labels = labels_onehot[split_idx:]\n",
    "\n",
    "# Define the RNN model\n",
    "model = Sequential()\n",
    "model.add(TimeDistributed(LSTM(128, return_sequences=True), input_shape=(None, frame_shape)))\n",
    "model.add(TimeDistributed(LSTM(128)))\n",
    "model.add(Dense(len(labels), activation='softmax'))\n",
    "\n",
    "# Compile the model\n",
    "model.compile(optimizer='adam', loss='categorical_crossentropy', metrics=['accuracy'])\n",
    "\n",
    "# Train the model\n",
    "model.fit(train_frames, train_labels, epochs=10, batch_size=16, validation_data=(test_frames, test_labels))\n",
    "\n",
    "# Evaluate the model on the test data\n",
    "loss, accuracy = model.evaluate(test_frames, test_labels)\n",
    "print('Test Loss:', loss)\n",
    "print('Test Accuracy:', accuracy)\n"
   ]
  },
  {
   "cell_type": "code",
   "execution_count": 1,
   "metadata": {},
   "outputs": [],
   "source": [
    "import os\n",
    "import numpy as np\n",
    "import cv2\n",
    "from keras.models import Sequential\n",
    "from keras.layers import LSTM, Dense, TimeDistributed\n",
    "from keras.preprocessing import image\n",
    "from keras.utils import to_categorical"
   ]
  },
  {
   "cell_type": "code",
   "execution_count": 2,
   "metadata": {},
   "outputs": [],
   "source": [
    "def process_frame(frame, previous_frame):\n",
    "    gray = cv2.cvtColor(frame, cv2.COLOR_BGR2GRAY)\n",
    "    blurred = cv2.GaussianBlur(gray, (5, 5), 0)\n",
    "    if previous_frame is not None:\n",
    "        diff = cv2.absdiff(blurred, previous_frame)\n",
    "    else:\n",
    "        diff = blurred\n",
    "    _, threshold = cv2.threshold(diff, 30, 255, cv2.THRESH_BINARY)\n",
    "    contours, _ = cv2.findContours(threshold, cv2.RETR_EXTERNAL, cv2.CHAIN_APPROX_SIMPLE)\n",
    "    for contour in contours:\n",
    "        (x, y, w, h) = cv2.boundingRect(contour)\n",
    "        cv2.rectangle(frame, (x, y), (x + w, y + h), (0, 255, 0), 2)\n",
    "    previous_frame = blurred.copy()\n",
    "    return frame, previous_frame"
   ]
  },
  {
   "cell_type": "code",
   "execution_count": 3,
   "metadata": {},
   "outputs": [],
   "source": [
    "dataset_path = '/Users/vedantpadole/Desktop/Research/ASL_MY_DATASET'\n",
    "labels = sorted(os.listdir(dataset_path))\n",
    "frames = []\n",
    "labels_encoded = []\n",
    "for label_idx, label in enumerate(labels):\n",
    "    label_path = os.path.join(dataset_path, label)\n",
    "    if os.path.isdir(label_path):\n",
    "        for video_file in os.listdir(label_path):\n",
    "            video_path = os.path.join(label_path, video_file)\n",
    "            if video_path.endswith('.avi') or video_path.endswith('.mp4'):\n",
    "                cap = cv2.VideoCapture(video_path)\n",
    "                previous_frame = None\n",
    "                while cap.isOpened():\n",
    "                    ret, frame = cap.read()\n",
    "                    if not ret:\n",
    "                        break\n",
    "                    processed_frame, previous_frame = process_frame(frame, previous_frame)\n",
    "                    frames.append(processed_frame)\n",
    "                    labels_encoded.append(label_idx)\n",
    "                cap.release()"
   ]
  },
  {
   "cell_type": "code",
   "execution_count": 4,
   "metadata": {},
   "outputs": [
    {
     "name": "stderr",
     "output_type": "stream",
     "text": [
      "<ipython-input-4-2dcfd2ff8cbf>:1: VisibleDeprecationWarning: Creating an ndarray from ragged nested sequences (which is a list-or-tuple of lists-or-tuples-or ndarrays with different lengths or shapes) is deprecated. If you meant to do this, you must specify 'dtype=object' when creating the ndarray.\n",
      "  frames = np.array(frames)\n"
     ]
    }
   ],
   "source": [
    "frames = np.array(frames)\n",
    "labels_encoded = np.array(labels_encoded)\n",
    "labels_onehot = to_categorical(labels_encoded)\n",
    "\n",
    "\n",
    "split_ratio = 0.8\n",
    "split_idx = int(len(frames) * split_ratio)\n",
    "\n",
    "train_frames = frames[:split_idx]\n",
    "train_labels = labels_onehot[:split_idx]\n",
    "\n",
    "test_frames = frames[split_idx:]\n",
    "test_labels = labels_onehot[split_idx:]\n",
    "\n",
    "\n",
    "frame_shape = train_frames.shape[1:]\n"
   ]
  },
  {
   "cell_type": "code",
   "execution_count": 14,
   "metadata": {},
   "outputs": [
    {
     "data": {
      "text/plain": [
       "74902"
      ]
     },
     "execution_count": 14,
     "metadata": {},
     "output_type": "execute_result"
    }
   ],
   "source": [
    "frame_shape = train_frames.shape[0]\n",
    "frame_shape"
   ]
  },
  {
   "cell_type": "code",
   "execution_count": 15,
   "metadata": {},
   "outputs": [
    {
     "ename": "ValueError",
     "evalue": "not enough values to unpack (expected 4, got 1)",
     "output_type": "error",
     "traceback": [
      "\u001b[0;31m---------------------------------------------------------------------------\u001b[0m",
      "\u001b[0;31mValueError\u001b[0m                                Traceback (most recent call last)",
      "\u001b[1;32m/Users/vedantpadole/Desktop/Research/gru.ipynb Cell 8\u001b[0m in \u001b[0;36m1\n\u001b[0;32m----> <a href='vscode-notebook-cell:/Users/vedantpadole/Desktop/Research/gru.ipynb#X12sZmlsZQ%3D%3D?line=0'>1</a>\u001b[0m num_frames, num_rows, num_cols, num_channels \u001b[39m=\u001b[39m frames\u001b[39m.\u001b[39mshape\n\u001b[1;32m      <a href='vscode-notebook-cell:/Users/vedantpadole/Desktop/Research/gru.ipynb#X12sZmlsZQ%3D%3D?line=1'>2</a>\u001b[0m train_frames \u001b[39m=\u001b[39m train_frames\u001b[39m.\u001b[39mreshape(num_frames, num_rows \u001b[39m*\u001b[39m num_cols \u001b[39m*\u001b[39m num_channels)\n\u001b[1;32m      <a href='vscode-notebook-cell:/Users/vedantpadole/Desktop/Research/gru.ipynb#X12sZmlsZQ%3D%3D?line=2'>3</a>\u001b[0m test_frames \u001b[39m=\u001b[39m test_frames\u001b[39m.\u001b[39mreshape(\u001b[39mlen\u001b[39m(test_frames), num_rows \u001b[39m*\u001b[39m num_cols \u001b[39m*\u001b[39m num_channels)\n",
      "\u001b[0;31mValueError\u001b[0m: not enough values to unpack (expected 4, got 1)"
     ]
    }
   ],
   "source": [
    "num_frames, num_rows, num_cols, num_channels = frames.shape\n",
    "train_frames = train_frames.reshape(num_frames, num_rows * num_cols * num_channels)\n",
    "test_frames = test_frames.reshape(len(test_frames), num_rows * num_cols * num_channels)"
   ]
  },
  {
   "cell_type": "code",
   "execution_count": 18,
   "metadata": {},
   "outputs": [
    {
     "ename": "NameError",
     "evalue": "name 'num_rows' is not defined",
     "output_type": "error",
     "traceback": [
      "\u001b[0;31m---------------------------------------------------------------------------\u001b[0m",
      "\u001b[0;31mNameError\u001b[0m                                 Traceback (most recent call last)",
      "\u001b[1;32m/Users/vedantpadole/Desktop/Research/gru.ipynb Cell 9\u001b[0m in \u001b[0;36m1\n\u001b[1;32m     <a href='vscode-notebook-cell:/Users/vedantpadole/Desktop/Research/gru.ipynb#X14sZmlsZQ%3D%3D?line=16'>17</a>\u001b[0m \u001b[39m# Reshape the frames to have consistent dimensions\u001b[39;00m\n\u001b[1;32m     <a href='vscode-notebook-cell:/Users/vedantpadole/Desktop/Research/gru.ipynb#X14sZmlsZQ%3D%3D?line=17'>18</a>\u001b[0m num_frames\u001b[39m=\u001b[39m frames\u001b[39m.\u001b[39mshape\n\u001b[0;32m---> <a href='vscode-notebook-cell:/Users/vedantpadole/Desktop/Research/gru.ipynb#X14sZmlsZQ%3D%3D?line=18'>19</a>\u001b[0m train_frames \u001b[39m=\u001b[39m train_frames\u001b[39m.\u001b[39mreshape(num_frames, num_rows, num_cols, num_channels)\n\u001b[1;32m     <a href='vscode-notebook-cell:/Users/vedantpadole/Desktop/Research/gru.ipynb#X14sZmlsZQ%3D%3D?line=19'>20</a>\u001b[0m test_frames \u001b[39m=\u001b[39m test_frames\u001b[39m.\u001b[39mreshape(\u001b[39mlen\u001b[39m(test_frames), num_rows, num_cols, num_channels)\n\u001b[1;32m     <a href='vscode-notebook-cell:/Users/vedantpadole/Desktop/Research/gru.ipynb#X14sZmlsZQ%3D%3D?line=21'>22</a>\u001b[0m \u001b[39m# Define the RNN model\u001b[39;00m\n",
      "\u001b[0;31mNameError\u001b[0m: name 'num_rows' is not defined"
     ]
    }
   ],
   "source": [
    "frames = np.array(frames)\n",
    "labels_encoded = np.array(labels_encoded)\n",
    "\n",
    "# Convert the labels to one-hot encoding\n",
    "labels_onehot = to_categorical(labels_encoded)\n",
    "\n",
    "# Split the data into training and testing sets\n",
    "split_ratio = 0.8\n",
    "split_idx = int(len(frames) * split_ratio)\n",
    "\n",
    "train_frames = frames[:split_idx]\n",
    "train_labels = labels_onehot[:split_idx]\n",
    "\n",
    "test_frames = frames[split_idx:]\n",
    "test_labels = labels_onehot[split_idx:]\n",
    "\n",
    "# Reshape the frames to have consistent dimensions\n",
    "num_frames= frames.shape\n",
    "train_frames = train_frames.reshape(num_frames, num_rows, num_cols, num_channels)\n",
    "test_frames = test_frames.reshape(len(test_frames), num_rows, num_cols, num_channels)\n",
    "\n",
    "# Define the RNN model"
   ]
  },
  {
   "cell_type": "code",
   "execution_count": null,
   "metadata": {},
   "outputs": [],
   "source": []
  }
 ],
 "metadata": {
  "kernelspec": {
   "display_name": "Python 3",
   "language": "python",
   "name": "python3"
  },
  "language_info": {
   "codemirror_mode": {
    "name": "ipython",
    "version": 3
   },
   "file_extension": ".py",
   "mimetype": "text/x-python",
   "name": "python",
   "nbconvert_exporter": "python",
   "pygments_lexer": "ipython3",
   "version": "3.9.0"
  },
  "orig_nbformat": 4
 },
 "nbformat": 4,
 "nbformat_minor": 2
}
