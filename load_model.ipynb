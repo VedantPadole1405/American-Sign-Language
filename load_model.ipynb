{
 "cells": [
  {
   "cell_type": "code",
   "execution_count": 6,
   "metadata": {},
   "outputs": [],
   "source": [
    "labels=['your', 'ready', 'safe', 'order', 'fork', 'repeat', 'sandwich', 'biscuit', 'please', 'wait', 'sugar', 'cup', 'sweet', 'ac', 'refill', 'lettuce', 'bill', 'thank-you', 'water', 'no', 'vegetables', 'dessert', 'pop corn', 'would', 'bitter', 'milk', 'enjoy', 'cash', 'allergy', 'pepsi', 'coca-cola', 'is', 'spicy', 'nacho', 'cost', 'fresh', 'ice cream', 'chair', 'cheese', 'napkin', 'good night', 'mayonnaise', 'about', 'brownie', 'soda', 'bye', 'coupon', 'small', 'mustard', 'urgent', 'credit card', 'french fries', 'ketchup', 'you_ll', 'manager', 'salt', 'eat', 'total', 'receipt', 'juicy', 'cold', 'extra', 'lid', 'yogurt', 'warm', 'menu', 'ingredients', 'burger', 'alcohol', 'relish', 'eggs', 'chicken', 'hot', 'what', 'tissues', 'pickle', 'spoon', 'bread', 'additional', 'hello', 'straw', 'sauce', 'lactose', 'bag', 'drive', 'pizza', 'bacon', 'pepper', 'tomato', 'sorry', 'coke', 'drink', 'which', 'gluten free', 'I_ve', 'cake', 'barbecue']"
   ]
  },
  {
   "cell_type": "code",
   "execution_count": 7,
   "metadata": {},
   "outputs": [
    {
     "name": "stdout",
     "output_type": "stream",
     "text": [
      "bread\n"
     ]
    }
   ],
   "source": [
    "max_index = np.argmax(pred)\n",
    "print(labels[max_index])"
   ]
  },
  {
   "cell_type": "code",
   "execution_count": 13,
   "metadata": {},
   "outputs": [
    {
     "name": "stdout",
     "output_type": "stream",
     "text": [
      "1/1 [==============================] - 0s 498ms/step\n",
      "1/1 [==============================] - 0s 44ms/step\n",
      "1/1 [==============================] - 0s 41ms/step\n",
      "1/1 [==============================] - 0s 43ms/step\n",
      "1/1 [==============================] - 0s 38ms/step\n",
      "1/1 [==============================] - 0s 38ms/step\n",
      "Predicted label: 13\n",
      "1/1 [==============================] - 0s 41ms/step\n",
      "1/1 [==============================] - 0s 39ms/step\n",
      "1/1 [==============================] - 0s 36ms/step\n",
      "1/1 [==============================] - 0s 39ms/step\n",
      "1/1 [==============================] - 0s 37ms/step\n",
      "1/1 [==============================] - 0s 36ms/step\n",
      "Predicted label: 60\n",
      "1/1 [==============================] - 0s 40ms/step\n",
      "1/1 [==============================] - 0s 37ms/step\n",
      "1/1 [==============================] - 0s 37ms/step\n",
      "1/1 [==============================] - 0s 39ms/step\n",
      "1/1 [==============================] - 0s 36ms/step\n",
      "1/1 [==============================] - 0s 39ms/step\n",
      "Predicted label: 60\n",
      "1/1 [==============================] - 0s 37ms/step\n",
      "1/1 [==============================] - 0s 37ms/step\n",
      "1/1 [==============================] - 0s 37ms/step\n",
      "1/1 [==============================] - 0s 37ms/step\n",
      "1/1 [==============================] - 0s 37ms/step\n",
      "1/1 [==============================] - 0s 36ms/step\n",
      "Predicted label: 60\n",
      "1/1 [==============================] - 0s 38ms/step\n",
      "1/1 [==============================] - 0s 38ms/step\n",
      "1/1 [==============================] - 0s 37ms/step\n",
      "1/1 [==============================] - 0s 38ms/step\n",
      "1/1 [==============================] - 0s 36ms/step\n",
      "1/1 [==============================] - 0s 39ms/step\n",
      "Predicted label: 60\n",
      "1/1 [==============================] - 0s 36ms/step\n",
      "1/1 [==============================] - 0s 40ms/step\n",
      "1/1 [==============================] - 0s 37ms/step\n",
      "1/1 [==============================] - 0s 42ms/step\n",
      "1/1 [==============================] - 0s 41ms/step\n",
      "1/1 [==============================] - 0s 38ms/step\n",
      "Predicted label: 60\n",
      "1/1 [==============================] - 0s 38ms/step\n",
      "1/1 [==============================] - 0s 38ms/step\n"
     ]
    }
   ],
   "source": [
    "import os\n",
    "import cv2\n",
    "import numpy as np\n",
    "from keras.models import load_model\n",
    "pred_labels=[]\n",
    "# Load pre-trained LRCN model\n",
    "model = load_model('/Users/vedantpadole/Desktop/Research/LRCN_finalized.h5')\n",
    "\n",
    "# Set parameters for sequence length and image size\n",
    "seq_length = 10\n",
    "img_height = 128\n",
    "img_width = 128\n",
    "\n",
    "# Initialize buffer for video frames\n",
    "frame_buffer = []\n",
    "\n",
    "# Initialize list for storing predicted labels\n",
    "label_list = []\n",
    "\n",
    "# Create video capture object\n",
    "cap = cv2.VideoCapture(0)\n",
    "\n",
    "# Define codec and output path for saving video\n",
    "fourcc = cv2.VideoWriter_fourcc(*'XVID')\n",
    "output_folder = 'output_videos'\n",
    "os.makedirs(output_folder, exist_ok=True)\n",
    "output_path = os.path.join(output_folder, 'output.mp4')\n",
    "out = cv2.VideoWriter(output_path, fourcc, 20.0, (640, 480))\n",
    "\n",
    "# Set timer for label prediction\n",
    "timer = 0\n",
    "\n",
    "while True:\n",
    "    # Capture frame-by-frame\n",
    "    ret, frame = cap.read()\n",
    "    \n",
    "    # Resize frame to desired height and width\n",
    "    frame_resized = cv2.resize(frame, (img_height, img_width))\n",
    "    \n",
    "    # Add frame to buffer\n",
    "    frame_buffer.append(frame_resized)\n",
    "    \n",
    "    # Once buffer is filled, predict on sequence of frames\n",
    "    if len(frame_buffer) == seq_length:\n",
    "        # Convert buffer to numpy array\n",
    "        input_seq = np.array(frame_buffer)\n",
    "        \n",
    "        # Preprocess input sequence\n",
    "        input_seq = input_seq.astype('float32') / 255.0\n",
    "        \n",
    "        # Reshape input sequence for LRCN model\n",
    "        input_seq = np.expand_dims(input_seq, axis=0)\n",
    "        \n",
    "        # Make prediction on input sequence\n",
    "        pred = model.predict(input_seq)\n",
    "        pred_label = np.argmax(pred)\n",
    "        \n",
    "        # Add predicted label to list\n",
    "        label_list.append(pred_label)\n",
    "        \n",
    "        # Clear buffer\n",
    "        frame_buffer = []\n",
    "    \n",
    "    # Display original frame\n",
    "    cv2.imshow('Live video', frame)\n",
    "    \n",
    "    # Write frame to output video file\n",
    "    out.write(frame)\n",
    "    \n",
    "    # Increment timer\n",
    "    timer += 1\n",
    "    \n",
    "    # If timer reaches 60 (i.e. 3 seconds have elapsed), predict label\n",
    "    if timer == 60:\n",
    "        # If there are at least 3 labels in the list, compute mode of last 3 labels\n",
    "        if len(label_list) >= 2.5:\n",
    "            mode_label = np.argmax(np.bincount(label_list[-3:]))\n",
    "            pred_labels.append(mode_label)\n",
    "            print('Predicted label:', mode_label)\n",
    "        # Reset timer and label list\n",
    "        timer = 0\n",
    "        label_list = []\n",
    "    \n",
    "    # Exit loop if 'q' key is pressed\n",
    "    if cv2.waitKey(1) & 0xFF == ord('q'):\n",
    "        break\n",
    "\n",
    "# Release video capture object, output file, and close all windows\n",
    "cap.release()\n",
    "out.release()\n",
    "cv2.destroyAllWindows()\n"
   ]
  },
  {
   "cell_type": "code",
   "execution_count": 14,
   "metadata": {},
   "outputs": [
    {
     "data": {
      "text/plain": [
       "['sweet', 'juicy', 'juicy', 'juicy', 'juicy', 'juicy']"
      ]
     },
     "execution_count": 14,
     "metadata": {},
     "output_type": "execute_result"
    }
   ],
   "source": [
    "final=[]\n",
    "for i in pred_labels:\n",
    "    final.append(labels[i-1])\n",
    "final"
   ]
  },
  {
   "cell_type": "code",
   "execution_count": 15,
   "metadata": {},
   "outputs": [
    {
     "data": {
      "text/plain": [
       "{'juicy', 'sweet'}"
      ]
     },
     "execution_count": 15,
     "metadata": {},
     "output_type": "execute_result"
    }
   ],
   "source": [
    "final=set(final)\n",
    "final"
   ]
  },
  {
   "cell_type": "code",
   "execution_count": null,
   "metadata": {},
   "outputs": [],
   "source": []
  }
 ],
 "metadata": {
  "kernelspec": {
   "display_name": "Python 3",
   "language": "python",
   "name": "python3"
  },
  "language_info": {
   "codemirror_mode": {
    "name": "ipython",
    "version": 3
   },
   "file_extension": ".py",
   "mimetype": "text/x-python",
   "name": "python",
   "nbconvert_exporter": "python",
   "pygments_lexer": "ipython3",
   "version": "3.9.0"
  },
  "orig_nbformat": 4
 },
 "nbformat": 4,
 "nbformat_minor": 2
}
