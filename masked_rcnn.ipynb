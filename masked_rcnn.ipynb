{
 "cells": [
  {
   "cell_type": "code",
   "execution_count": 4,
   "metadata": {},
   "outputs": [
    {
     "ename": "FileNotFoundError",
     "evalue": "Couldn't find any class folder in /Users/vedantpadole/Desktop/Research/American sign language.v2i.yolov5pytorch/train/images.",
     "output_type": "error",
     "traceback": [
      "\u001b[0;31m---------------------------------------------------------------------------\u001b[0m",
      "\u001b[0;31mFileNotFoundError\u001b[0m                         Traceback (most recent call last)",
      "\u001b[1;32m/Users/vedantpadole/Desktop/Research/masked_rcnn.ipynb Cell 1\u001b[0m in \u001b[0;36m3\n\u001b[1;32m     <a href='vscode-notebook-cell:/Users/vedantpadole/Desktop/Research/masked_rcnn.ipynb#W0sZmlsZQ%3D%3D?line=30'>31</a>\u001b[0m     config \u001b[39m=\u001b[39m yaml\u001b[39m.\u001b[39msafe_load(f)\n\u001b[1;32m     <a href='vscode-notebook-cell:/Users/vedantpadole/Desktop/Research/masked_rcnn.ipynb#W0sZmlsZQ%3D%3D?line=31'>32</a>\u001b[0m transform \u001b[39m=\u001b[39m ToTensor()\n\u001b[0;32m---> <a href='vscode-notebook-cell:/Users/vedantpadole/Desktop/Research/masked_rcnn.ipynb#W0sZmlsZQ%3D%3D?line=32'>33</a>\u001b[0m train_dataset \u001b[39m=\u001b[39m CustomDataset(train_folder, transform)\n\u001b[1;32m     <a href='vscode-notebook-cell:/Users/vedantpadole/Desktop/Research/masked_rcnn.ipynb#W0sZmlsZQ%3D%3D?line=33'>34</a>\u001b[0m test_dataset \u001b[39m=\u001b[39m CustomDataset(test_folder, transform)\n\u001b[1;32m     <a href='vscode-notebook-cell:/Users/vedantpadole/Desktop/Research/masked_rcnn.ipynb#W0sZmlsZQ%3D%3D?line=34'>35</a>\u001b[0m validate_dataset \u001b[39m=\u001b[39m CustomDataset(validate_folder, transform)\n",
      "\u001b[1;32m/Users/vedantpadole/Desktop/Research/masked_rcnn.ipynb Cell 1\u001b[0m in \u001b[0;36m1\n\u001b[1;32m     <a href='vscode-notebook-cell:/Users/vedantpadole/Desktop/Research/masked_rcnn.ipynb#W0sZmlsZQ%3D%3D?line=10'>11</a>\u001b[0m \u001b[39mself\u001b[39m\u001b[39m.\u001b[39mroot \u001b[39m=\u001b[39m root\n\u001b[1;32m     <a href='vscode-notebook-cell:/Users/vedantpadole/Desktop/Research/masked_rcnn.ipynb#W0sZmlsZQ%3D%3D?line=11'>12</a>\u001b[0m \u001b[39mself\u001b[39m\u001b[39m.\u001b[39mtransforms \u001b[39m=\u001b[39m transforms\n\u001b[0;32m---> <a href='vscode-notebook-cell:/Users/vedantpadole/Desktop/Research/masked_rcnn.ipynb#W0sZmlsZQ%3D%3D?line=12'>13</a>\u001b[0m \u001b[39mself\u001b[39m\u001b[39m.\u001b[39mdataset \u001b[39m=\u001b[39m DatasetFolder(root, loader\u001b[39m=\u001b[39;49mtorchvision\u001b[39m.\u001b[39;49mdatasets\u001b[39m.\u001b[39;49mfolder\u001b[39m.\u001b[39;49mdefault_loader, extensions\u001b[39m=\u001b[39;49m(\u001b[39m'\u001b[39;49m\u001b[39m.jpg\u001b[39;49m\u001b[39m'\u001b[39;49m, \u001b[39m'\u001b[39;49m\u001b[39m.png\u001b[39;49m\u001b[39m'\u001b[39;49m, \u001b[39m'\u001b[39;49m\u001b[39m.jpeg\u001b[39;49m\u001b[39m'\u001b[39;49m))\n",
      "File \u001b[0;32m/Library/Frameworks/Python.framework/Versions/3.9/lib/python3.9/site-packages/torchvision/datasets/folder.py:144\u001b[0m, in \u001b[0;36mDatasetFolder.__init__\u001b[0;34m(self, root, loader, extensions, transform, target_transform, is_valid_file)\u001b[0m\n\u001b[1;32m    134\u001b[0m \u001b[39mdef\u001b[39;00m \u001b[39m__init__\u001b[39m(\n\u001b[1;32m    135\u001b[0m     \u001b[39mself\u001b[39m,\n\u001b[1;32m    136\u001b[0m     root: \u001b[39mstr\u001b[39m,\n\u001b[0;32m   (...)\u001b[0m\n\u001b[1;32m    141\u001b[0m     is_valid_file: Optional[Callable[[\u001b[39mstr\u001b[39m], \u001b[39mbool\u001b[39m]] \u001b[39m=\u001b[39m \u001b[39mNone\u001b[39;00m,\n\u001b[1;32m    142\u001b[0m ) \u001b[39m-\u001b[39m\u001b[39m>\u001b[39m \u001b[39mNone\u001b[39;00m:\n\u001b[1;32m    143\u001b[0m     \u001b[39msuper\u001b[39m()\u001b[39m.\u001b[39m\u001b[39m__init__\u001b[39m(root, transform\u001b[39m=\u001b[39mtransform, target_transform\u001b[39m=\u001b[39mtarget_transform)\n\u001b[0;32m--> 144\u001b[0m     classes, class_to_idx \u001b[39m=\u001b[39m \u001b[39mself\u001b[39;49m\u001b[39m.\u001b[39;49mfind_classes(\u001b[39mself\u001b[39;49m\u001b[39m.\u001b[39;49mroot)\n\u001b[1;32m    145\u001b[0m     samples \u001b[39m=\u001b[39m \u001b[39mself\u001b[39m\u001b[39m.\u001b[39mmake_dataset(\u001b[39mself\u001b[39m\u001b[39m.\u001b[39mroot, class_to_idx, extensions, is_valid_file)\n\u001b[1;32m    147\u001b[0m     \u001b[39mself\u001b[39m\u001b[39m.\u001b[39mloader \u001b[39m=\u001b[39m loader\n",
      "File \u001b[0;32m/Library/Frameworks/Python.framework/Versions/3.9/lib/python3.9/site-packages/torchvision/datasets/folder.py:218\u001b[0m, in \u001b[0;36mDatasetFolder.find_classes\u001b[0;34m(self, directory)\u001b[0m\n\u001b[1;32m    191\u001b[0m \u001b[39mdef\u001b[39;00m \u001b[39mfind_classes\u001b[39m(\u001b[39mself\u001b[39m, directory: \u001b[39mstr\u001b[39m) \u001b[39m-\u001b[39m\u001b[39m>\u001b[39m Tuple[List[\u001b[39mstr\u001b[39m], Dict[\u001b[39mstr\u001b[39m, \u001b[39mint\u001b[39m]]:\n\u001b[1;32m    192\u001b[0m     \u001b[39m\"\"\"Find the class folders in a dataset structured as follows::\u001b[39;00m\n\u001b[1;32m    193\u001b[0m \n\u001b[1;32m    194\u001b[0m \u001b[39m        directory/\u001b[39;00m\n\u001b[0;32m   (...)\u001b[0m\n\u001b[1;32m    216\u001b[0m \u001b[39m        (Tuple[List[str], Dict[str, int]]): List of all classes and dictionary mapping each class to an index.\u001b[39;00m\n\u001b[1;32m    217\u001b[0m \u001b[39m    \"\"\"\u001b[39;00m\n\u001b[0;32m--> 218\u001b[0m     \u001b[39mreturn\u001b[39;00m find_classes(directory)\n",
      "File \u001b[0;32m/Library/Frameworks/Python.framework/Versions/3.9/lib/python3.9/site-packages/torchvision/datasets/folder.py:42\u001b[0m, in \u001b[0;36mfind_classes\u001b[0;34m(directory)\u001b[0m\n\u001b[1;32m     40\u001b[0m classes \u001b[39m=\u001b[39m \u001b[39msorted\u001b[39m(entry\u001b[39m.\u001b[39mname \u001b[39mfor\u001b[39;00m entry \u001b[39min\u001b[39;00m os\u001b[39m.\u001b[39mscandir(directory) \u001b[39mif\u001b[39;00m entry\u001b[39m.\u001b[39mis_dir())\n\u001b[1;32m     41\u001b[0m \u001b[39mif\u001b[39;00m \u001b[39mnot\u001b[39;00m classes:\n\u001b[0;32m---> 42\u001b[0m     \u001b[39mraise\u001b[39;00m \u001b[39mFileNotFoundError\u001b[39;00m(\u001b[39mf\u001b[39m\u001b[39m\"\u001b[39m\u001b[39mCouldn\u001b[39m\u001b[39m'\u001b[39m\u001b[39mt find any class folder in \u001b[39m\u001b[39m{\u001b[39;00mdirectory\u001b[39m}\u001b[39;00m\u001b[39m.\u001b[39m\u001b[39m\"\u001b[39m)\n\u001b[1;32m     44\u001b[0m class_to_idx \u001b[39m=\u001b[39m {cls_name: i \u001b[39mfor\u001b[39;00m i, cls_name \u001b[39min\u001b[39;00m \u001b[39menumerate\u001b[39m(classes)}\n\u001b[1;32m     45\u001b[0m \u001b[39mreturn\u001b[39;00m classes, class_to_idx\n",
      "\u001b[0;31mFileNotFoundError\u001b[0m: Couldn't find any class folder in /Users/vedantpadole/Desktop/Research/American sign language.v2i.yolov5pytorch/train/images."
     ]
    }
   ],
   "source": [
    "import torchvision\n",
    "import torch\n",
    "from PIL import Image\n",
    "from torchvision.models.detection.mask_rcnn import MaskRCNN\n",
    "from torchvision.transforms import ToTensor\n",
    "from torchvision.datasets import DatasetFolder\n",
    "from torch.utils.data import DataLoader\n",
    "\n",
    "class CustomDataset(torch.utils.data.Dataset):\n",
    "    def __init__(self, root, transforms):\n",
    "        self.root = root\n",
    "        self.transforms = transforms\n",
    "        self.dataset = DatasetFolder(root, loader=torchvision.datasets.folder.default_loader, extensions=('.jpg', '.png', '.jpeg'))\n",
    "\n",
    "    def __getitem__(self, idx):\n",
    "        img_path, target = self.dataset.samples[idx]\n",
    "        image = Image.open(img_path).convert(\"RGB\")\n",
    "        image = self.transforms(image)\n",
    "        return image, target\n",
    "\n",
    "    def __len__(self):\n",
    "        return len(self.dataset.samples)\n",
    "train_folder = \"/Users/vedantpadole/Desktop/Research/American sign language.v2i.yolov5pytorch/train/images\"\n",
    "test_folder = \"/Users/vedantpadole/Desktop/Research/American sign language.v2i.yolov5pytorch/test/images\"\n",
    "validate_folder = \"/Users/vedantpadole/Desktop/Research/American sign language.v2i.yolov5pytorch/valid/images\"\n",
    "data_yaml = \"/Users/vedantpadole/Desktop/Research/American sign language.v2i.yolov5pytorch/data.yaml\"\n",
    "\n",
    "\n",
    "import yaml\n",
    "with open(data_yaml, 'r') as f:\n",
    "    config = yaml.safe_load(f)\n",
    "transform = ToTensor()\n",
    "train_dataset = CustomDataset(train_folder, transform)\n",
    "test_dataset = CustomDataset(test_folder, transform)\n",
    "validate_dataset = CustomDataset(validate_folder, transform)\n",
    "train_dataloader = DataLoader(train_dataset, batch_size=2, shuffle=True, num_workers=4)\n",
    "test_dataloader = DataLoader(test_dataset, batch_size=1, shuffle=False, num_workers=4)\n",
    "validate_dataloader = DataLoader(validate_dataset, batch_size=1, shuffle=False, num_workers=4)\n",
    "model = MaskRCNN(num_classes=len(config['names']), pretrained=True)\n",
    "device = torch.device('cuda') if torch.cuda.is_available() else torch.device('cpu')\n",
    "model.to(device)\n",
    "optimizer = torch.optim.SGD(model.parameters(), lr=0.001, momentum=0.9)\n",
    "lr_scheduler = torch.optim.lr_scheduler.StepLR(optimizer, step_size=3, gamma=0.1)\n",
    "\n",
    "num_epochs = 10\n",
    "for epoch in range(num_epochs):\n",
    "    model.train()\n",
    "    for images, targets in train_dataloader:\n",
    "        images = list(image.to(device) for image in images)\n",
    "        targets = [{k: v.to(device) for k, v in t.items()} for t in targets]\n",
    "\n",
    "        loss_dict = model(images, targets)\n",
    "        losses = sum(loss for loss in loss_dict.values())\n",
    "\n",
    "        optimizer.zero_grad()\n",
    "        losses.backward()\n",
    "        optimizer.step()\n",
    "    lr_scheduler.step()\n",
    "    model.eval()\n",
    "    with torch.no_grad():\n",
    "        for images, targets in validate_dataloader:\n",
    "            images = list(image.to(device) for image in images)\n",
    "            targets = [{k: v.to(device) for k, v in t.items()} for t in targets]\n",
    "            output = model(images)\n",
    "torch.save(model.state_dict(), 'mask_rcnn_trained.pth')\n"
   ]
  },
  {
   "cell_type": "code",
   "execution_count": null,
   "metadata": {},
   "outputs": [],
   "source": []
  }
 ],
 "metadata": {
  "kernelspec": {
   "display_name": "Python 3",
   "language": "python",
   "name": "python3"
  },
  "language_info": {
   "codemirror_mode": {
    "name": "ipython",
    "version": 3
   },
   "file_extension": ".py",
   "mimetype": "text/x-python",
   "name": "python",
   "nbconvert_exporter": "python",
   "pygments_lexer": "ipython3",
   "version": "3.9.0"
  },
  "orig_nbformat": 4
 },
 "nbformat": 4,
 "nbformat_minor": 2
}
