{
 "cells": [
  {
   "cell_type": "code",
   "execution_count": 16,
   "metadata": {},
   "outputs": [],
   "source": [
    "import os\n",
    "import cv2\n",
    "import random\n",
    "import math\n",
    "import numpy as np\n",
    "import datetime as dt\n",
    "import tensorflow as tf\n",
    "import matplotlib.pyplot as plt"
   ]
  },
  {
   "cell_type": "code",
   "execution_count": 17,
   "metadata": {},
   "outputs": [
    {
     "name": "stdout",
     "output_type": "stream",
     "text": [
      "['sugar', 'cup', 'sweet', 'ac', 'bill', 'thank-you', 'water', 'no', 'vegetables', 'pop corn', 'bitter', 'milk', 'allergy', 'spicy', 'cost', 'ice cream', 'chair', 'cheese', 'napkin', 'about', 'small', 'french fries', 'manager', 'salt', 'cold', 'warm', 'ingredients', 'burger', 'alcohol', 'eggs', 'chicken', 'what', 'bread', 'hello', 'sauce', 'bag', 'pizza', 'pepper', 'drink', 'which', 'gluten free']\n"
     ]
    },
    {
     "data": {
      "text/plain": [
       "41"
      ]
     },
     "execution_count": 17,
     "metadata": {},
     "output_type": "execute_result"
    }
   ],
   "source": [
    "import numpy as np \n",
    "import pandas as pd \n",
    "import matplotlib.pyplot as plt\n",
    "import os\n",
    "\n",
    "dataset_path = os.listdir('/Users/vedantpadole/Desktop/Research/ASL_MY_DATASET')\n",
    "\n",
    "all_classes = os.listdir('/Users/vedantpadole/Desktop/Research/ASL_MY_DATASET')\n",
    "print (all_classes)  \n",
    "len(all_classes)"
   ]
  },
  {
   "cell_type": "code",
   "execution_count": 18,
   "metadata": {},
   "outputs": [],
   "source": [
    "plt.figure(figsize=(20,20))\n",
    "random_range=random.sample(range(len(all_classes)),22)\n",
    "for counter,random_index in enumerate(random_range,1):\n",
    "  selected_Class=all_classes[random_index]\n",
    "  video_files_names_list=os.listdir(f'/Users/vedantpadole/Desktop/Research/ASL_MY_DATASET/{selected_Class}')\n",
    "  selected_video_file_name=random.choice(video_files_names_list)\n",
    "  video_reader=cv2.VideoCapture(f'/Users/vedantpadole/Desktop/Research/ASL_MY_DATASET/{selected_Class}/{selected_video_file_name}')\n",
    "  _,bgr_frame=video_reader.read()\n",
    "  rgb_frame=cv2.cvtColor(bgr_frame,cv2.COLOR_BGR2RGB)\n",
    "  cv2.putText(rgb_frame,selected_Class,(10,30),cv2.FONT_HERSHEY_SIMPLEX,1,(255,255,255),2)\n",
    "  plt.subplot(11,2,counter);plt.imshow(rgb_frame);plt.axis('off')"
   ]
  },
  {
   "cell_type": "code",
   "execution_count": 19,
   "metadata": {},
   "outputs": [],
   "source": [
    "IMAGE_HEIGHT,IMAGE_WIDTH=128,128\n",
    "SEQUENCE_LENGTH=10\n",
    "DATASET='/Users/vedantpadole/Desktop/Research/ASL_MY_DATASET'\n",
    "CLASSES_LIST=all_classes"
   ]
  },
  {
   "cell_type": "code",
   "execution_count": 20,
   "metadata": {},
   "outputs": [],
   "source": [
    "def frames_extraction(video_path):\n",
    "  frames_list=[]\n",
    "  video_reader=cv2.VideoCapture(video_path)\n",
    "  video_frames_count=int(video_reader.get(cv2.CAP_PROP_FRAME_COUNT))\n",
    "  skip_frames_window=max(int(video_frames_count/SEQUENCE_LENGTH),1)\n",
    "  for frame_counter in range(SEQUENCE_LENGTH):\n",
    "    video_reader.set(cv2.CAP_PROP_POS_FRAMES,frame_counter*skip_frames_window)\n",
    "    success,frame=video_reader.read()\n",
    "    if not success:\n",
    "      break\n",
    "    resized_frame=cv2.resize(frame,(IMAGE_HEIGHT,IMAGE_WIDTH))\n",
    "    normalized_frame=resized_frame/255\n",
    "    frames_list.append(normalized_frame)\n",
    "  video_reader.release()\n",
    "  return frames_list"
   ]
  },
  {
   "cell_type": "code",
   "execution_count": 21,
   "metadata": {},
   "outputs": [],
   "source": [
    "def create_dataset():\n",
    "  features=[]\n",
    "  labels=[]\n",
    "  video_files_path=[]\n",
    "  for class_index,class_name in enumerate(CLASSES_LIST):\n",
    "    print(f'Extracting the data of class:  {class_name}')\n",
    "    files_list=os.listdir(os.path.join(DATASET,class_name))\n",
    "    for file_name in files_list:\n",
    "      video_file_path=os.path.join(DATASET,class_name,file_name)\n",
    "      frames=frames_extraction(video_file_path)\n",
    "      if len(frames)==SEQUENCE_LENGTH:\n",
    "        features.append(frames)\n",
    "        labels.append(class_index)\n",
    "        video_files_path.append(video_file_path)\n",
    "  features=np.asarray(features)\n",
    "  labels=np.array(labels)\n",
    "  return features,labels,video_files_path"
   ]
  },
  {
   "cell_type": "code",
   "execution_count": 22,
   "metadata": {},
   "outputs": [
    {
     "name": "stdout",
     "output_type": "stream",
     "text": [
      "Extracting the data of class:  sugar\n",
      "Extracting the data of class:  cup\n",
      "Extracting the data of class:  sweet\n",
      "Extracting the data of class:  ac\n",
      "Extracting the data of class:  bill\n",
      "Extracting the data of class:  thank-you\n",
      "Extracting the data of class:  water\n",
      "Extracting the data of class:  no\n",
      "Extracting the data of class:  vegetables\n",
      "Extracting the data of class:  pop corn\n",
      "Extracting the data of class:  bitter\n",
      "Extracting the data of class:  milk\n",
      "Extracting the data of class:  allergy\n",
      "Extracting the data of class:  spicy\n",
      "Extracting the data of class:  cost\n",
      "Extracting the data of class:  ice cream\n",
      "Extracting the data of class:  chair\n",
      "Extracting the data of class:  cheese\n",
      "Extracting the data of class:  napkin\n",
      "Extracting the data of class:  about\n",
      "Extracting the data of class:  small\n",
      "Extracting the data of class:  french fries\n",
      "Extracting the data of class:  manager\n",
      "Extracting the data of class:  salt\n",
      "Extracting the data of class:  cold\n",
      "Extracting the data of class:  warm\n",
      "Extracting the data of class:  ingredients\n",
      "Extracting the data of class:  burger\n",
      "Extracting the data of class:  alcohol\n",
      "Extracting the data of class:  eggs\n",
      "Extracting the data of class:  chicken\n",
      "Extracting the data of class:  what\n",
      "Extracting the data of class:  bread\n",
      "Extracting the data of class:  hello\n",
      "Extracting the data of class:  sauce\n",
      "Extracting the data of class:  bag\n",
      "Extracting the data of class:  pizza\n",
      "Extracting the data of class:  pepper\n",
      "Extracting the data of class:  drink\n",
      "Extracting the data of class:  which\n",
      "Extracting the data of class:  gluten free\n"
     ]
    }
   ],
   "source": [
    "features,labels,video_files_path=create_dataset()"
   ]
  },
  {
   "cell_type": "code",
   "execution_count": 23,
   "metadata": {},
   "outputs": [],
   "source": [
    "from keras.utils import to_categorical\n",
    "one_hot_encoded_labels=to_categorical(labels)"
   ]
  },
  {
   "cell_type": "code",
   "execution_count": 24,
   "metadata": {},
   "outputs": [],
   "source": [
    "seed_constant=27\n",
    "np.random.seed(seed_constant)\n",
    "random.seed(seed_constant)\n",
    "tf.random.set_seed(seed_constant)"
   ]
  },
  {
   "cell_type": "code",
   "execution_count": 27,
   "metadata": {},
   "outputs": [],
   "source": [
    "from sklearn.model_selection import train_test_split\n",
    "features_train,features_test,labels_train,labels_test=train_test_split(features,one_hot_encoded_labels,test_size=0.2,shuffle=True,random_state=seed_constant)"
   ]
  },
  {
   "cell_type": "code",
   "execution_count": 29,
   "metadata": {},
   "outputs": [],
   "source": [
    "a=features_train.shape[0]"
   ]
  },
  {
   "cell_type": "code",
   "execution_count": 30,
   "metadata": {},
   "outputs": [],
   "source": [
    "from keras import Sequential\n",
    "from keras.layers import Conv2D,MaxPooling2D,TimeDistributed,Dropout,Flatten,Dense,LSTM\n",
    "model=Sequential()\n",
    "model.add(TimeDistributed(Conv2D(32, (3, 3), activation='relu'), input_shape=(SEQUENCE_LENGTH,IMAGE_HEIGHT,IMAGE_WIDTH,3)))\n",
    "model.add(TimeDistributed(MaxPooling2D(pool_size=(2, 2))))\n",
    "model.add(TimeDistributed(Dropout(0.25)))\n",
    "model.add(TimeDistributed(Conv2D(64, (3, 3), activation='relu')))\n",
    "model.add(TimeDistributed(MaxPooling2D(pool_size=(2, 2))))\n",
    "model.add(TimeDistributed(Dropout(0.25)))\n",
    "model.add(TimeDistributed(Conv2D(128, (3, 3), activation='relu')))\n",
    "model.add(TimeDistributed(MaxPooling2D(pool_size=(2, 2))))\n",
    "model.add(TimeDistributed(Dropout(0.25)))\n",
    "model.add(TimeDistributed(Conv2D(256, (3, 3), activation='relu')))\n",
    "model.add(TimeDistributed(MaxPooling2D(pool_size=(2, 2))))\n",
    "model.add(TimeDistributed(Flatten()))\n",
    "model.add(LSTM(256, return_sequences=True))\n",
    "model.add(LSTM(256))\n",
    "model.add(Dense(128, activation='relu'))\n",
    "model.add(Dropout(0.5))\n",
    "model.add(Dense(len(CLASSES_LIST), activation='softmax'))"
   ]
  },
  {
   "cell_type": "code",
   "execution_count": 31,
   "metadata": {},
   "outputs": [
    {
     "name": "stdout",
     "output_type": "stream",
     "text": [
      "Model: \"sequential_1\"\n",
      "_________________________________________________________________\n",
      " Layer (type)                Output Shape              Param #   \n",
      "=================================================================\n",
      " time_distributed_12 (TimeDi  (None, 10, 126, 126, 32)  896      \n",
      " stributed)                                                      \n",
      "                                                                 \n",
      " time_distributed_13 (TimeDi  (None, 10, 63, 63, 32)   0         \n",
      " stributed)                                                      \n",
      "                                                                 \n",
      " time_distributed_14 (TimeDi  (None, 10, 63, 63, 32)   0         \n",
      " stributed)                                                      \n",
      "                                                                 \n",
      " time_distributed_15 (TimeDi  (None, 10, 61, 61, 64)   18496     \n",
      " stributed)                                                      \n",
      "                                                                 \n",
      " time_distributed_16 (TimeDi  (None, 10, 30, 30, 64)   0         \n",
      " stributed)                                                      \n",
      "                                                                 \n",
      " time_distributed_17 (TimeDi  (None, 10, 30, 30, 64)   0         \n",
      " stributed)                                                      \n",
      "                                                                 \n",
      " time_distributed_18 (TimeDi  (None, 10, 28, 28, 128)  73856     \n",
      " stributed)                                                      \n",
      "                                                                 \n",
      " time_distributed_19 (TimeDi  (None, 10, 14, 14, 128)  0         \n",
      " stributed)                                                      \n",
      "                                                                 \n",
      " time_distributed_20 (TimeDi  (None, 10, 14, 14, 128)  0         \n",
      " stributed)                                                      \n",
      "                                                                 \n",
      " time_distributed_21 (TimeDi  (None, 10, 12, 12, 256)  295168    \n",
      " stributed)                                                      \n",
      "                                                                 \n",
      " time_distributed_22 (TimeDi  (None, 10, 6, 6, 256)    0         \n",
      " stributed)                                                      \n",
      "                                                                 \n",
      " time_distributed_23 (TimeDi  (None, 10, 9216)         0         \n",
      " stributed)                                                      \n",
      "                                                                 \n",
      " lstm_2 (LSTM)               (None, 10, 256)           9700352   \n",
      "                                                                 \n",
      " lstm_3 (LSTM)               (None, 256)               525312    \n",
      "                                                                 \n",
      " dense_2 (Dense)             (None, 128)               32896     \n",
      "                                                                 \n",
      " dropout_7 (Dropout)         (None, 128)               0         \n",
      "                                                                 \n",
      " dense_3 (Dense)             (None, 41)                5289      \n",
      "                                                                 \n",
      "=================================================================\n",
      "Total params: 10,652,265\n",
      "Trainable params: 10,652,265\n",
      "Non-trainable params: 0\n",
      "_________________________________________________________________\n"
     ]
    }
   ],
   "source": [
    "model.summary()"
   ]
  },
  {
   "cell_type": "code",
   "execution_count": 32,
   "metadata": {},
   "outputs": [
    {
     "name": "stdout",
     "output_type": "stream",
     "text": [
      "Epoch 1/50\n",
      "25/25 [==============================] - 248s 9s/step - loss: 3.7460 - accuracy: 0.0279 - val_loss: 3.7105 - val_accuracy: 0.0707\n",
      "Epoch 2/50\n",
      "25/25 [==============================] - 253s 10s/step - loss: 3.6599 - accuracy: 0.0406 - val_loss: 3.6197 - val_accuracy: 0.0455\n",
      "Epoch 3/50\n",
      "25/25 [==============================] - 205s 8s/step - loss: 3.4778 - accuracy: 0.1001 - val_loss: 3.4479 - val_accuracy: 0.0960\n",
      "Epoch 4/50\n",
      "25/25 [==============================] - 209s 8s/step - loss: 3.2833 - accuracy: 0.1394 - val_loss: 3.1925 - val_accuracy: 0.1515\n",
      "Epoch 5/50\n",
      "25/25 [==============================] - 226s 9s/step - loss: 2.9292 - accuracy: 0.2003 - val_loss: 2.8150 - val_accuracy: 0.2879\n",
      "Epoch 6/50\n",
      "25/25 [==============================] - 199s 8s/step - loss: 2.7227 - accuracy: 0.2548 - val_loss: 2.4242 - val_accuracy: 0.3384\n",
      "Epoch 7/50\n",
      "25/25 [==============================] - 185s 7s/step - loss: 2.3567 - accuracy: 0.3397 - val_loss: 2.5590 - val_accuracy: 0.3030\n",
      "Epoch 8/50\n",
      "25/25 [==============================] - 185s 7s/step - loss: 2.2336 - accuracy: 0.3853 - val_loss: 2.0252 - val_accuracy: 0.4545\n",
      "Epoch 9/50\n",
      "25/25 [==============================] - 182s 7s/step - loss: 1.9787 - accuracy: 0.4259 - val_loss: 1.8971 - val_accuracy: 0.4899\n",
      "Epoch 10/50\n",
      "25/25 [==============================] - 177s 7s/step - loss: 1.8138 - accuracy: 0.4842 - val_loss: 1.7319 - val_accuracy: 0.4596\n",
      "Epoch 11/50\n",
      "25/25 [==============================] - 181s 7s/step - loss: 1.6932 - accuracy: 0.5120 - val_loss: 1.8240 - val_accuracy: 0.5101\n",
      "Epoch 12/50\n",
      "25/25 [==============================] - 181s 7s/step - loss: 1.6616 - accuracy: 0.4994 - val_loss: 1.4259 - val_accuracy: 0.6515\n",
      "Epoch 13/50\n",
      "25/25 [==============================] - 176s 7s/step - loss: 1.4345 - accuracy: 0.5627 - val_loss: 1.3738 - val_accuracy: 0.5960\n",
      "Epoch 14/50\n",
      "25/25 [==============================] - 176s 7s/step - loss: 1.2749 - accuracy: 0.6185 - val_loss: 1.3372 - val_accuracy: 0.6414\n",
      "Epoch 15/50\n",
      "25/25 [==============================] - 182s 7s/step - loss: 1.2445 - accuracy: 0.6096 - val_loss: 1.3544 - val_accuracy: 0.6566\n",
      "Epoch 16/50\n",
      "25/25 [==============================] - 175s 7s/step - loss: 1.1028 - accuracy: 0.6667 - val_loss: 1.2029 - val_accuracy: 0.6667\n",
      "Epoch 17/50\n",
      "25/25 [==============================] - 175s 7s/step - loss: 0.9893 - accuracy: 0.7047 - val_loss: 1.1900 - val_accuracy: 0.6818\n",
      "Epoch 18/50\n",
      "25/25 [==============================] - 177s 7s/step - loss: 0.9025 - accuracy: 0.7136 - val_loss: 1.3203 - val_accuracy: 0.6414\n",
      "Epoch 19/50\n",
      "25/25 [==============================] - 175s 7s/step - loss: 0.7990 - accuracy: 0.7351 - val_loss: 1.0976 - val_accuracy: 0.7374\n",
      "Epoch 20/50\n",
      "25/25 [==============================] - 215s 9s/step - loss: 0.7154 - accuracy: 0.7833 - val_loss: 0.9015 - val_accuracy: 0.7525\n",
      "Epoch 21/50\n",
      "25/25 [==============================] - 236s 9s/step - loss: 0.7011 - accuracy: 0.7833 - val_loss: 1.0572 - val_accuracy: 0.7172\n",
      "Epoch 22/50\n",
      "25/25 [==============================] - 224s 9s/step - loss: 0.6606 - accuracy: 0.7997 - val_loss: 0.9512 - val_accuracy: 0.7525\n",
      "Epoch 23/50\n",
      "25/25 [==============================] - 195s 8s/step - loss: 0.6001 - accuracy: 0.7959 - val_loss: 0.9274 - val_accuracy: 0.7879\n",
      "Epoch 24/50\n",
      "25/25 [==============================] - 185s 7s/step - loss: 0.6010 - accuracy: 0.8162 - val_loss: 0.8955 - val_accuracy: 0.7727\n",
      "Epoch 25/50\n",
      "25/25 [==============================] - 239s 10s/step - loss: 0.5197 - accuracy: 0.8365 - val_loss: 0.8270 - val_accuracy: 0.8232\n",
      "Epoch 26/50\n",
      "25/25 [==============================] - 247s 10s/step - loss: 0.4885 - accuracy: 0.8555 - val_loss: 0.8091 - val_accuracy: 0.8030\n",
      "Epoch 27/50\n",
      "25/25 [==============================] - 222s 9s/step - loss: 0.4873 - accuracy: 0.8517 - val_loss: 0.8019 - val_accuracy: 0.8131\n",
      "Epoch 28/50\n",
      "25/25 [==============================] - 220s 9s/step - loss: 0.4264 - accuracy: 0.8669 - val_loss: 0.8263 - val_accuracy: 0.8232\n",
      "Epoch 29/50\n",
      "25/25 [==============================] - 216s 9s/step - loss: 0.3838 - accuracy: 0.8821 - val_loss: 0.7118 - val_accuracy: 0.8636\n",
      "Epoch 30/50\n",
      "25/25 [==============================] - 253s 10s/step - loss: 0.3268 - accuracy: 0.8961 - val_loss: 0.7778 - val_accuracy: 0.8384\n",
      "Epoch 31/50\n",
      "25/25 [==============================] - 182s 7s/step - loss: 0.3703 - accuracy: 0.8935 - val_loss: 0.9192 - val_accuracy: 0.8384\n",
      "Epoch 32/50\n",
      "25/25 [==============================] - 180s 7s/step - loss: 0.3564 - accuracy: 0.8872 - val_loss: 0.6994 - val_accuracy: 0.8586\n",
      "Epoch 33/50\n",
      "25/25 [==============================] - 167s 7s/step - loss: 0.3185 - accuracy: 0.8948 - val_loss: 0.6855 - val_accuracy: 0.8737\n",
      "Epoch 34/50\n",
      "25/25 [==============================] - 242s 10s/step - loss: 0.2995 - accuracy: 0.9037 - val_loss: 0.9795 - val_accuracy: 0.7980\n",
      "Epoch 35/50\n",
      "25/25 [==============================] - 236s 9s/step - loss: 0.2967 - accuracy: 0.8973 - val_loss: 0.7026 - val_accuracy: 0.8535\n",
      "Epoch 36/50\n",
      "25/25 [==============================] - 226s 9s/step - loss: 0.2637 - accuracy: 0.9163 - val_loss: 0.7078 - val_accuracy: 0.8636\n",
      "Epoch 37/50\n",
      "25/25 [==============================] - 203s 8s/step - loss: 0.2454 - accuracy: 0.9354 - val_loss: 0.6666 - val_accuracy: 0.8687\n",
      "Epoch 38/50\n",
      "25/25 [==============================] - 239s 10s/step - loss: 0.2189 - accuracy: 0.9303 - val_loss: 0.6112 - val_accuracy: 0.8939\n",
      "Epoch 39/50\n",
      "25/25 [==============================] - 236s 9s/step - loss: 0.2231 - accuracy: 0.9278 - val_loss: 0.6772 - val_accuracy: 0.8687\n",
      "Epoch 40/50\n",
      "25/25 [==============================] - 248s 10s/step - loss: 0.2378 - accuracy: 0.9316 - val_loss: 0.6291 - val_accuracy: 0.8838\n",
      "Epoch 41/50\n",
      "25/25 [==============================] - 230s 9s/step - loss: 0.2112 - accuracy: 0.9379 - val_loss: 0.5889 - val_accuracy: 0.8838\n",
      "Epoch 42/50\n",
      "25/25 [==============================] - 206s 8s/step - loss: 0.1740 - accuracy: 0.9455 - val_loss: 0.6072 - val_accuracy: 0.8939\n",
      "Epoch 43/50\n",
      "25/25 [==============================] - 182s 7s/step - loss: 0.1838 - accuracy: 0.9480 - val_loss: 0.7007 - val_accuracy: 0.8788\n",
      "Epoch 44/50\n",
      "25/25 [==============================] - 183s 7s/step - loss: 0.1638 - accuracy: 0.9430 - val_loss: 0.6581 - val_accuracy: 0.8990\n",
      "Epoch 45/50\n",
      "25/25 [==============================] - 206s 8s/step - loss: 0.1456 - accuracy: 0.9506 - val_loss: 0.6560 - val_accuracy: 0.8990\n",
      "Epoch 46/50\n",
      "25/25 [==============================] - 218s 9s/step - loss: 0.1645 - accuracy: 0.9455 - val_loss: 0.7710 - val_accuracy: 0.8687\n",
      "Epoch 47/50\n",
      "25/25 [==============================] - 207s 8s/step - loss: 0.1703 - accuracy: 0.9366 - val_loss: 0.7332 - val_accuracy: 0.8838\n",
      "Epoch 48/50\n",
      "25/25 [==============================] - 218s 9s/step - loss: 0.1434 - accuracy: 0.9493 - val_loss: 0.6937 - val_accuracy: 0.8939\n",
      "Epoch 49/50\n",
      "25/25 [==============================] - 209s 8s/step - loss: 0.1390 - accuracy: 0.9556 - val_loss: 0.7290 - val_accuracy: 0.8788\n",
      "Epoch 50/50\n",
      "25/25 [==============================] - 221s 9s/step - loss: 0.1558 - accuracy: 0.9493 - val_loss: 0.7938 - val_accuracy: 0.8687\n"
     ]
    }
   ],
   "source": [
    "from keras.callbacks import EarlyStopping\n",
    "early_stopping_call=EarlyStopping(monitor='val_loss',patience=10,mode='min',restore_best_weights=True)\n",
    "model.compile(loss='categorical_crossentropy',optimizer='Adam',metrics=['accuracy'])\n",
    "r=model.fit(x=features_train,y=labels_train,epochs=50,batch_size=32,shuffle=True,validation_split=0.2,callbacks=[early_stopping_call])"
   ]
  },
  {
   "cell_type": "code",
   "execution_count": 33,
   "metadata": {},
   "outputs": [],
   "source": [
    "model.save(\"LRCN_small_model.h5\")"
   ]
  },
  {
   "cell_type": "code",
   "execution_count": 37,
   "metadata": {},
   "outputs": [
    {
     "data": {
      "image/png": "[encoded data removed]",
      "text/plain": [
       "<Figure size 640x480 with 1 Axes>"
      ]
     },
     "metadata": {},
     "output_type": "display_data"
    }
   ],
   "source": [
    "plt.plot(r.history['accuracy'],label='accuracy')\n",
    "plt.plot(r.history['val_accuracy'],label='val_acc')\n",
    "plt.legend()\n",
    "plt.show()"
   ]
  },
  {
   "cell_type": "code",
   "execution_count": 36,
   "metadata": {},
   "outputs": [
    {
     "data": {
      "image/png": "[encoded data removed]",
      "text/plain": [
       "<Figure size 640x480 with 1 Axes>"
      ]
     },
     "metadata": {},
     "output_type": "display_data"
    }
   ],
   "source": [
    "import matplotlib.pyplot as plt\n",
    "plt.plot(r.history['loss'],label='loss')\n",
    "plt.plot(r.history['val_loss'],label='val_loss')\n",
    "plt.legend()\n",
    "plt.show()"
   ]
  },
  {
   "cell_type": "code",
   "execution_count": 38,
   "metadata": {},
   "outputs": [
    {
     "name": "stdout",
     "output_type": "stream",
     "text": [
      "8/8 [==============================] - 17s 2s/step - loss: 0.6499 - accuracy: 0.8988\n"
     ]
    }
   ],
   "source": [
    "history=model.evaluate(features_test,labels_test)"
   ]
  },
  {
   "cell_type": "code",
   "execution_count": null,
   "metadata": {},
   "outputs": [],
   "source": []
  }
 ],
 "metadata": {
  "kernelspec": {
   "display_name": "Python 3",
   "language": "python",
   "name": "python3"
  },
  "language_info": {
   "codemirror_mode": {
    "name": "ipython",
    "version": 3
   },
   "file_extension": ".py",
   "mimetype": "text/x-python",
   "name": "python",
   "nbconvert_exporter": "python",
   "pygments_lexer": "ipython3",
   "version": "3.9.0"
  },
  "orig_nbformat": 4
 },
 "nbformat": 4,
 "nbformat_minor": 2
}
