{
 "cells": [
  {
   "cell_type": "code",
   "execution_count": 6,
   "metadata": {},
   "outputs": [
    {
     "ename": "KeyboardInterrupt",
     "evalue": "",
     "output_type": "error",
     "traceback": [
      "\u001b[0;31m---------------------------------------------------------------------------\u001b[0m",
      "\u001b[0;31mKeyboardInterrupt\u001b[0m                         Traceback (most recent call last)",
      "\u001b[1;32m/Users/vedantpadole/Desktop/Research/nlp.ipynb Cell 1\u001b[0m in \u001b[0;36m3\n\u001b[1;32m     <a href='vscode-notebook-cell:/Users/vedantpadole/Desktop/Research/nlp.ipynb#W2sZmlsZQ%3D%3D?line=31'>32</a>\u001b[0m     \u001b[39mreturn\u001b[39;00m most_similar_sentences\n\u001b[1;32m     <a href='vscode-notebook-cell:/Users/vedantpadole/Desktop/Research/nlp.ipynb#W2sZmlsZQ%3D%3D?line=32'>33</a>\u001b[0m input_words \u001b[39m=\u001b[39m [\u001b[39m\"\u001b[39m\u001b[39mcat\u001b[39m\u001b[39m\"\u001b[39m, \u001b[39m\"\u001b[39m\u001b[39mjumped\u001b[39m\u001b[39m\"\u001b[39m]\n\u001b[0;32m---> <a href='vscode-notebook-cell:/Users/vedantpadole/Desktop/Research/nlp.ipynb#W2sZmlsZQ%3D%3D?line=33'>34</a>\u001b[0m sentences \u001b[39m=\u001b[39m generate_sentence(input_words)\n\u001b[1;32m     <a href='vscode-notebook-cell:/Users/vedantpadole/Desktop/Research/nlp.ipynb#W2sZmlsZQ%3D%3D?line=34'>35</a>\u001b[0m \u001b[39mprint\u001b[39m(\u001b[39m\"\u001b[39m\u001b[39mPossible sentences:\u001b[39m\u001b[39m\"\u001b[39m)\n\u001b[1;32m     <a href='vscode-notebook-cell:/Users/vedantpadole/Desktop/Research/nlp.ipynb#W2sZmlsZQ%3D%3D?line=35'>36</a>\u001b[0m \u001b[39mfor\u001b[39;00m sentence \u001b[39min\u001b[39;00m sentences:\n",
      "\u001b[1;32m/Users/vedantpadole/Desktop/Research/nlp.ipynb Cell 1\u001b[0m in \u001b[0;36m2\n\u001b[1;32m     <a href='vscode-notebook-cell:/Users/vedantpadole/Desktop/Research/nlp.ipynb#W2sZmlsZQ%3D%3D?line=22'>23</a>\u001b[0m         \u001b[39melse\u001b[39;00m:\n\u001b[1;32m     <a href='vscode-notebook-cell:/Users/vedantpadole/Desktop/Research/nlp.ipynb#W2sZmlsZQ%3D%3D?line=23'>24</a>\u001b[0m             \u001b[39mfor\u001b[39;00m synonym \u001b[39min\u001b[39;00m get_similar_word(word):\n\u001b[0;32m---> <a href='vscode-notebook-cell:/Users/vedantpadole/Desktop/Research/nlp.ipynb#W2sZmlsZQ%3D%3D?line=24'>25</a>\u001b[0m                 \u001b[39mif\u001b[39;00m edit_distance(token\u001b[39m.\u001b[39;49mlower(), synonym\u001b[39m.\u001b[39;49mlower()) \u001b[39m<\u001b[39m\u001b[39m=\u001b[39m \u001b[39m2\u001b[39m:\n\u001b[1;32m     <a href='vscode-notebook-cell:/Users/vedantpadole/Desktop/Research/nlp.ipynb#W2sZmlsZQ%3D%3D?line=25'>26</a>\u001b[0m                     similarity \u001b[39m+\u001b[39m\u001b[39m=\u001b[39m \u001b[39m0.5\u001b[39m\n\u001b[1;32m     <a href='vscode-notebook-cell:/Users/vedantpadole/Desktop/Research/nlp.ipynb#W2sZmlsZQ%3D%3D?line=26'>27</a>\u001b[0m similarity_scores\u001b[39m.\u001b[39mappend(similarity)\n",
      "File \u001b[0;32m/Library/Frameworks/Python.framework/Versions/3.9/lib/python3.9/site-packages/nltk/metrics/distance.py:91\u001b[0m, in \u001b[0;36medit_distance\u001b[0;34m(s1, s2, substitution_cost, transpositions)\u001b[0m\n\u001b[1;32m     89\u001b[0m len1 \u001b[39m=\u001b[39m \u001b[39mlen\u001b[39m(s1)\n\u001b[1;32m     90\u001b[0m len2 \u001b[39m=\u001b[39m \u001b[39mlen\u001b[39m(s2)\n\u001b[0;32m---> 91\u001b[0m lev \u001b[39m=\u001b[39m _edit_dist_init(len1 \u001b[39m+\u001b[39;49m \u001b[39m1\u001b[39;49m, len2 \u001b[39m+\u001b[39;49m \u001b[39m1\u001b[39;49m)\n\u001b[1;32m     93\u001b[0m \u001b[39m# retrieve alphabet\u001b[39;00m\n\u001b[1;32m     94\u001b[0m sigma \u001b[39m=\u001b[39m \u001b[39mset\u001b[39m()\n",
      "File \u001b[0;32m/Library/Frameworks/Python.framework/Versions/3.9/lib/python3.9/site-packages/nltk/metrics/distance.py:31\u001b[0m, in \u001b[0;36m_edit_dist_init\u001b[0;34m(len1, len2)\u001b[0m\n\u001b[1;32m     29\u001b[0m     lev\u001b[39m.\u001b[39mappend([\u001b[39m0\u001b[39m] \u001b[39m*\u001b[39m len2)  \u001b[39m# initialize 2D array to zero\u001b[39;00m\n\u001b[1;32m     30\u001b[0m \u001b[39mfor\u001b[39;00m i \u001b[39min\u001b[39;00m \u001b[39mrange\u001b[39m(len1):\n\u001b[0;32m---> 31\u001b[0m     lev[i][\u001b[39m0\u001b[39m] \u001b[39m=\u001b[39m i  \u001b[39m# column 0: 0,1,2,3,4,...\u001b[39;00m\n\u001b[1;32m     32\u001b[0m \u001b[39mfor\u001b[39;00m j \u001b[39min\u001b[39;00m \u001b[39mrange\u001b[39m(len2):\n\u001b[1;32m     33\u001b[0m     lev[\u001b[39m0\u001b[39m][j] \u001b[39m=\u001b[39m j  \u001b[39m# row 0: 0,1,2,3,4,...\u001b[39;00m\n",
      "\u001b[0;31mKeyboardInterrupt\u001b[0m: "
     ]
    }
   ],
   "source": [
    "import nltk\n",
    "from nltk.corpus import brown\n",
    "from nltk.corpus import wordnet\n",
    "from nltk.metrics import edit_distance\n",
    "\n",
    "def get_similar_word(word):\n",
    "    synonyms = []\n",
    "    for syn in wordnet.synsets(word):\n",
    "        for lemma in syn.lemmas():\n",
    "            synonyms.append(lemma.name())\n",
    "    return synonyms\n",
    "\n",
    "def generate_sentence(words):\n",
    "    sentences = brown.sents()\n",
    "    similarity_scores = []\n",
    "    \n",
    "    for sentence in sentences:\n",
    "        similarity = 0\n",
    "        for word in words:\n",
    "            for token in sentence:\n",
    "                if token.lower() == word.lower():\n",
    "                    similarity += 1\n",
    "                else:\n",
    "                    for synonym in get_similar_word(word):\n",
    "                        if edit_distance(token.lower(), synonym.lower()) <= 2:\n",
    "                            similarity += 0.5\n",
    "        similarity_scores.append(similarity)\n",
    "    \n",
    "    max_similarity = max(similarity_scores)\n",
    "    most_similar_sentences = [sentences[i] for i, score in enumerate(similarity_scores) if score == max_similarity]\n",
    "    \n",
    "    return most_similar_sentences\n",
    "input_words = [\"cat\", \"jumped\"]\n",
    "sentences = generate_sentence(input_words)\n",
    "print(\"Possible sentences:\")\n",
    "for sentence in sentences:\n",
    "    print(' '.join(sentence))\n",
    "\n"
   ]
  },
  {
   "cell_type": "code",
   "execution_count": null,
   "metadata": {},
   "outputs": [],
   "source": []
  }
 ],
 "metadata": {
  "kernelspec": {
   "display_name": "Python 3",
   "language": "python",
   "name": "python3"
  },
  "language_info": {
   "codemirror_mode": {
    "name": "ipython",
    "version": 3
   },
   "file_extension": ".py",
   "mimetype": "text/x-python",
   "name": "python",
   "nbconvert_exporter": "python",
   "pygments_lexer": "ipython3",
   "version": "3.9.0"
  },
  "orig_nbformat": 4
 },
 "nbformat": 4,
 "nbformat_minor": 2
}
