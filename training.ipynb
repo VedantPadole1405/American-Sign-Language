{
 "cells": [
  {
   "cell_type": "code",
   "execution_count": 1,
   "id": "33d140a8",
   "metadata": {
    "collapsed": true
   },
   "outputs": [
    {
     "name": "stdout",
     "output_type": "stream",
     "text": [
      "Requirement already satisfied: torch in /Users/vedantpadole/opt/anaconda3/lib/python3.8/site-packages (2.0.0)\n",
      "Requirement already satisfied: torchvision in /Users/vedantpadole/opt/anaconda3/lib/python3.8/site-packages (0.15.1)\n",
      "Requirement already satisfied: jinja2 in /Users/vedantpadole/opt/anaconda3/lib/python3.8/site-packages (from torch) (3.0.3)\n",
      "Requirement already satisfied: filelock in /Users/vedantpadole/opt/anaconda3/lib/python3.8/site-packages (from torch) (3.8.0)\n",
      "Requirement already satisfied: networkx in /Users/vedantpadole/opt/anaconda3/lib/python3.8/site-packages (from torch) (2.4)\n",
      "Requirement already satisfied: typing-extensions in /Users/vedantpadole/opt/anaconda3/lib/python3.8/site-packages (from torch) (4.4.0)\n",
      "Requirement already satisfied: sympy in /Users/vedantpadole/opt/anaconda3/lib/python3.8/site-packages (from torch) (1.6.1)\n",
      "Requirement already satisfied: requests in /Users/vedantpadole/opt/anaconda3/lib/python3.8/site-packages (from torchvision) (2.28.1)\n",
      "Requirement already satisfied: numpy in /Users/vedantpadole/opt/anaconda3/lib/python3.8/site-packages (from torchvision) (1.23.2)\n",
      "Requirement already satisfied: pillow!=8.3.*,>=5.3.0 in /Users/vedantpadole/opt/anaconda3/lib/python3.8/site-packages (from torchvision) (7.2.0)\n",
      "Requirement already satisfied: MarkupSafe>=2.0 in /Users/vedantpadole/.local/lib/python3.8/site-packages (from jinja2->torch) (2.1.1)\n",
      "Requirement already satisfied: decorator>=4.3.0 in /Users/vedantpadole/opt/anaconda3/lib/python3.8/site-packages (from networkx->torch) (4.4.2)\n",
      "Requirement already satisfied: urllib3<1.27,>=1.21.1 in /Users/vedantpadole/opt/anaconda3/lib/python3.8/site-packages (from requests->torchvision) (1.26.15)\n",
      "Requirement already satisfied: certifi>=2017.4.17 in /Users/vedantpadole/opt/anaconda3/lib/python3.8/site-packages (from requests->torchvision) (2020.6.20)\n",
      "Requirement already satisfied: charset-normalizer<3,>=2 in /Users/vedantpadole/opt/anaconda3/lib/python3.8/site-packages (from requests->torchvision) (2.1.1)\n",
      "Requirement already satisfied: idna<4,>=2.5 in /Users/vedantpadole/opt/anaconda3/lib/python3.8/site-packages (from requests->torchvision) (2.10)\n",
      "Requirement already satisfied: mpmath>=0.19 in /Users/vedantpadole/opt/anaconda3/lib/python3.8/site-packages (from sympy->torch) (1.1.0)\n",
      "\n",
      "\u001b[1m[\u001b[0m\u001b[34;49mnotice\u001b[0m\u001b[1;39;49m]\u001b[0m\u001b[39;49m A new release of pip available: \u001b[0m\u001b[31;49m22.3.1\u001b[0m\u001b[39;49m -> \u001b[0m\u001b[32;49m23.1.2\u001b[0m\n",
      "\u001b[1m[\u001b[0m\u001b[34;49mnotice\u001b[0m\u001b[1;39;49m]\u001b[0m\u001b[39;49m To update, run: \u001b[0m\u001b[32;49mpip install --upgrade pip\u001b[0m\n",
      "Collecting wandb\n",
      "  Using cached wandb-0.15.4-py3-none-any.whl (2.1 MB)\n",
      "Requirement already satisfied: sentry-sdk>=1.0.0 in /Users/vedantpadole/opt/anaconda3/lib/python3.8/site-packages (from wandb) (1.22.1)\n",
      "Requirement already satisfied: pathtools in /Users/vedantpadole/opt/anaconda3/lib/python3.8/site-packages (from wandb) (0.1.2)\n",
      "Requirement already satisfied: appdirs>=1.4.3 in /Users/vedantpadole/opt/anaconda3/lib/python3.8/site-packages (from wandb) (1.4.4)\n",
      "Requirement already satisfied: requests<3,>=2.0.0 in /Users/vedantpadole/opt/anaconda3/lib/python3.8/site-packages (from wandb) (2.28.1)\n",
      "Collecting docker-pycreds>=0.4.0\n",
      "  Using cached docker_pycreds-0.4.0-py2.py3-none-any.whl (9.0 kB)\n",
      "Requirement already satisfied: psutil>=5.0.0 in /Users/vedantpadole/opt/anaconda3/lib/python3.8/site-packages (from wandb) (5.7.0)\n",
      "Requirement already satisfied: setuptools in /Users/vedantpadole/opt/anaconda3/lib/python3.8/site-packages (from wandb) (67.7.2)\n",
      "Requirement already satisfied: GitPython!=3.1.29,>=1.0.0 in /Users/vedantpadole/opt/anaconda3/lib/python3.8/site-packages (from wandb) (3.1.31)\n",
      "Requirement already satisfied: typing-extensions in /Users/vedantpadole/opt/anaconda3/lib/python3.8/site-packages (from wandb) (4.4.0)\n",
      "Requirement already satisfied: Click!=8.0.0,>=7.0 in /Users/vedantpadole/opt/anaconda3/lib/python3.8/site-packages (from wandb) (8.1.3)\n",
      "Requirement already satisfied: PyYAML in /Users/vedantpadole/opt/anaconda3/lib/python3.8/site-packages (from wandb) (5.3.1)\n",
      "Requirement already satisfied: protobuf!=4.21.0,<5,>=3.19.0 in /Users/vedantpadole/opt/anaconda3/lib/python3.8/site-packages (from wandb) (3.19.6)\n",
      "Collecting setproctitle\n",
      "  Downloading setproctitle-1.3.2-cp38-cp38-macosx_10_9_x86_64.whl (11 kB)\n",
      "Requirement already satisfied: six>=1.4.0 in /Users/vedantpadole/opt/anaconda3/lib/python3.8/site-packages (from docker-pycreds>=0.4.0->wandb) (1.15.0)\n",
      "Requirement already satisfied: gitdb<5,>=4.0.1 in /Users/vedantpadole/opt/anaconda3/lib/python3.8/site-packages (from GitPython!=3.1.29,>=1.0.0->wandb) (4.0.9)\n",
      "Requirement already satisfied: idna<4,>=2.5 in /Users/vedantpadole/opt/anaconda3/lib/python3.8/site-packages (from requests<3,>=2.0.0->wandb) (2.10)\n",
      "Requirement already satisfied: charset-normalizer<3,>=2 in /Users/vedantpadole/opt/anaconda3/lib/python3.8/site-packages (from requests<3,>=2.0.0->wandb) (2.1.1)\n",
      "Requirement already satisfied: certifi>=2017.4.17 in /Users/vedantpadole/opt/anaconda3/lib/python3.8/site-packages (from requests<3,>=2.0.0->wandb) (2020.6.20)\n",
      "Requirement already satisfied: urllib3<1.27,>=1.21.1 in /Users/vedantpadole/opt/anaconda3/lib/python3.8/site-packages (from requests<3,>=2.0.0->wandb) (1.26.15)\n",
      "Requirement already satisfied: smmap<6,>=3.0.1 in /Users/vedantpadole/opt/anaconda3/lib/python3.8/site-packages (from gitdb<5,>=4.0.1->GitPython!=3.1.29,>=1.0.0->wandb) (5.0.0)\n",
      "Installing collected packages: setproctitle, docker-pycreds, wandb\n",
      "Successfully installed docker-pycreds-0.4.0 setproctitle-1.3.2 wandb-0.15.4\n",
      "\n",
      "\u001b[1m[\u001b[0m\u001b[34;49mnotice\u001b[0m\u001b[1;39;49m]\u001b[0m\u001b[39;49m A new release of pip available: \u001b[0m\u001b[31;49m22.3.1\u001b[0m\u001b[39;49m -> \u001b[0m\u001b[32;49m23.1.2\u001b[0m\n",
      "\u001b[1m[\u001b[0m\u001b[34;49mnotice\u001b[0m\u001b[1;39;49m]\u001b[0m\u001b[39;49m To update, run: \u001b[0m\u001b[32;49mpip install --upgrade pip\u001b[0m\n",
      "Requirement already satisfied: numpy in /Users/vedantpadole/opt/anaconda3/lib/python3.8/site-packages (1.23.2)\n",
      "\n",
      "\u001b[1m[\u001b[0m\u001b[34;49mnotice\u001b[0m\u001b[1;39;49m]\u001b[0m\u001b[39;49m A new release of pip available: \u001b[0m\u001b[31;49m22.3.1\u001b[0m\u001b[39;49m -> \u001b[0m\u001b[32;49m23.1.2\u001b[0m\n",
      "\u001b[1m[\u001b[0m\u001b[34;49mnotice\u001b[0m\u001b[1;39;49m]\u001b[0m\u001b[39;49m To update, run: \u001b[0m\u001b[32;49mpip install --upgrade pip\u001b[0m\n",
      "Requirement already satisfied: opencv-python in /Users/vedantpadole/opt/anaconda3/lib/python3.8/site-packages (4.7.0.72)\n",
      "Requirement already satisfied: numpy>=1.17.0 in /Users/vedantpadole/opt/anaconda3/lib/python3.8/site-packages (from opencv-python) (1.23.2)\n",
      "\n",
      "\u001b[1m[\u001b[0m\u001b[34;49mnotice\u001b[0m\u001b[1;39;49m]\u001b[0m\u001b[39;49m A new release of pip available: \u001b[0m\u001b[31;49m22.3.1\u001b[0m\u001b[39;49m -> \u001b[0m\u001b[32;49m23.1.2\u001b[0m\n",
      "\u001b[1m[\u001b[0m\u001b[34;49mnotice\u001b[0m\u001b[1;39;49m]\u001b[0m\u001b[39;49m To update, run: \u001b[0m\u001b[32;49mpip install --upgrade pip\u001b[0m\n"
     ]
    }
   ],
   "source": [
    "!pip install torch torchvision\n",
    "!pip install wandb\n",
    "!pip install numpy\n",
    "!pip install opencv-python"
   ]
  },
  {
   "cell_type": "code",
   "execution_count": 2,
   "id": "509d44e9",
   "metadata": {
    "scrolled": true
   },
   "outputs": [
    {
     "name": "stdout",
     "output_type": "stream",
     "text": [
      "fatal: destination path 'yolov5' already exists and is not an empty directory.\n"
     ]
    }
   ],
   "source": [
    "!git clone https://github.com/ultralytics/yolov5.git\n",
    "import os\n",
    "os.chdir(\"yolov5\")"
   ]
  },
  {
   "cell_type": "code",
   "execution_count": 3,
   "id": "c212093d",
   "metadata": {
    "collapsed": true
   },
   "outputs": [
    {
     "name": "stdout",
     "output_type": "stream",
     "text": [
      "Requirement already satisfied: gitpython>=3.1.30 in /Users/vedantpadole/opt/anaconda3/lib/python3.8/site-packages (from -r /Users/vedantpadole/Desktop/Research/yolov5/requirements.txt (line 5)) (3.1.31)\n",
      "Requirement already satisfied: matplotlib>=3.3 in /Users/vedantpadole/opt/anaconda3/lib/python3.8/site-packages (from -r /Users/vedantpadole/Desktop/Research/yolov5/requirements.txt (line 6)) (3.6.2)\n",
      "Requirement already satisfied: numpy>=1.18.5 in /Users/vedantpadole/opt/anaconda3/lib/python3.8/site-packages (from -r /Users/vedantpadole/Desktop/Research/yolov5/requirements.txt (line 7)) (1.23.2)\n",
      "Requirement already satisfied: opencv-python>=4.1.1 in /Users/vedantpadole/opt/anaconda3/lib/python3.8/site-packages (from -r /Users/vedantpadole/Desktop/Research/yolov5/requirements.txt (line 8)) (4.7.0.72)\n",
      "Requirement already satisfied: Pillow>=7.1.2 in /Users/vedantpadole/opt/anaconda3/lib/python3.8/site-packages (from -r /Users/vedantpadole/Desktop/Research/yolov5/requirements.txt (line 9)) (7.2.0)\n",
      "Requirement already satisfied: psutil in /Users/vedantpadole/opt/anaconda3/lib/python3.8/site-packages (from -r /Users/vedantpadole/Desktop/Research/yolov5/requirements.txt (line 10)) (5.7.0)\n",
      "Requirement already satisfied: PyYAML>=5.3.1 in /Users/vedantpadole/opt/anaconda3/lib/python3.8/site-packages (from -r /Users/vedantpadole/Desktop/Research/yolov5/requirements.txt (line 11)) (5.3.1)\n",
      "Requirement already satisfied: requests>=2.23.0 in /Users/vedantpadole/opt/anaconda3/lib/python3.8/site-packages (from -r /Users/vedantpadole/Desktop/Research/yolov5/requirements.txt (line 12)) (2.28.1)\n",
      "Requirement already satisfied: scipy>=1.4.1 in /Users/vedantpadole/opt/anaconda3/lib/python3.8/site-packages (from -r /Users/vedantpadole/Desktop/Research/yolov5/requirements.txt (line 13)) (1.9.3)\n",
      "Requirement already satisfied: thop>=0.1.1 in /Users/vedantpadole/opt/anaconda3/lib/python3.8/site-packages (from -r /Users/vedantpadole/Desktop/Research/yolov5/requirements.txt (line 14)) (0.1.1.post2209072238)\n",
      "Requirement already satisfied: torch>=1.7.0 in /Users/vedantpadole/opt/anaconda3/lib/python3.8/site-packages (from -r /Users/vedantpadole/Desktop/Research/yolov5/requirements.txt (line 15)) (2.0.0)\n",
      "Requirement already satisfied: torchvision>=0.8.1 in /Users/vedantpadole/opt/anaconda3/lib/python3.8/site-packages (from -r /Users/vedantpadole/Desktop/Research/yolov5/requirements.txt (line 16)) (0.15.1)\n",
      "Requirement already satisfied: tqdm>=4.64.0 in /Users/vedantpadole/opt/anaconda3/lib/python3.8/site-packages (from -r /Users/vedantpadole/Desktop/Research/yolov5/requirements.txt (line 17)) (4.65.0)\n",
      "Requirement already satisfied: pandas>=1.1.4 in /Users/vedantpadole/opt/anaconda3/lib/python3.8/site-packages (from -r /Users/vedantpadole/Desktop/Research/yolov5/requirements.txt (line 26)) (1.5.1)\n",
      "Requirement already satisfied: seaborn>=0.11.0 in /Users/vedantpadole/opt/anaconda3/lib/python3.8/site-packages (from -r /Users/vedantpadole/Desktop/Research/yolov5/requirements.txt (line 27)) (0.12.2)\n",
      "Requirement already satisfied: setuptools>=65.5.1 in /Users/vedantpadole/opt/anaconda3/lib/python3.8/site-packages (from -r /Users/vedantpadole/Desktop/Research/yolov5/requirements.txt (line 41)) (67.7.2)\n",
      "Requirement already satisfied: gitdb<5,>=4.0.1 in /Users/vedantpadole/opt/anaconda3/lib/python3.8/site-packages (from gitpython>=3.1.30->-r /Users/vedantpadole/Desktop/Research/yolov5/requirements.txt (line 5)) (4.0.9)\n",
      "Requirement already satisfied: fonttools>=4.22.0 in /Users/vedantpadole/opt/anaconda3/lib/python3.8/site-packages (from matplotlib>=3.3->-r /Users/vedantpadole/Desktop/Research/yolov5/requirements.txt (line 6)) (4.38.0)\n",
      "Requirement already satisfied: cycler>=0.10 in /Users/vedantpadole/opt/anaconda3/lib/python3.8/site-packages (from matplotlib>=3.3->-r /Users/vedantpadole/Desktop/Research/yolov5/requirements.txt (line 6)) (0.10.0)\n",
      "Requirement already satisfied: contourpy>=1.0.1 in /Users/vedantpadole/opt/anaconda3/lib/python3.8/site-packages (from matplotlib>=3.3->-r /Users/vedantpadole/Desktop/Research/yolov5/requirements.txt (line 6)) (1.0.6)\n",
      "Requirement already satisfied: pyparsing>=2.2.1 in /Users/vedantpadole/opt/anaconda3/lib/python3.8/site-packages (from matplotlib>=3.3->-r /Users/vedantpadole/Desktop/Research/yolov5/requirements.txt (line 6)) (2.4.7)\n",
      "Requirement already satisfied: packaging>=20.0 in /Users/vedantpadole/opt/anaconda3/lib/python3.8/site-packages (from matplotlib>=3.3->-r /Users/vedantpadole/Desktop/Research/yolov5/requirements.txt (line 6)) (20.4)\n",
      "Requirement already satisfied: kiwisolver>=1.0.1 in /Users/vedantpadole/opt/anaconda3/lib/python3.8/site-packages (from matplotlib>=3.3->-r /Users/vedantpadole/Desktop/Research/yolov5/requirements.txt (line 6)) (1.2.0)\n",
      "Requirement already satisfied: python-dateutil>=2.7 in /Users/vedantpadole/opt/anaconda3/lib/python3.8/site-packages (from matplotlib>=3.3->-r /Users/vedantpadole/Desktop/Research/yolov5/requirements.txt (line 6)) (2.8.1)\n",
      "Requirement already satisfied: idna<4,>=2.5 in /Users/vedantpadole/opt/anaconda3/lib/python3.8/site-packages (from requests>=2.23.0->-r /Users/vedantpadole/Desktop/Research/yolov5/requirements.txt (line 12)) (2.10)\n",
      "Requirement already satisfied: certifi>=2017.4.17 in /Users/vedantpadole/opt/anaconda3/lib/python3.8/site-packages (from requests>=2.23.0->-r /Users/vedantpadole/Desktop/Research/yolov5/requirements.txt (line 12)) (2020.6.20)\n",
      "Requirement already satisfied: charset-normalizer<3,>=2 in /Users/vedantpadole/opt/anaconda3/lib/python3.8/site-packages (from requests>=2.23.0->-r /Users/vedantpadole/Desktop/Research/yolov5/requirements.txt (line 12)) (2.1.1)\n",
      "Requirement already satisfied: urllib3<1.27,>=1.21.1 in /Users/vedantpadole/opt/anaconda3/lib/python3.8/site-packages (from requests>=2.23.0->-r /Users/vedantpadole/Desktop/Research/yolov5/requirements.txt (line 12)) (1.26.15)\n",
      "Requirement already satisfied: networkx in /Users/vedantpadole/opt/anaconda3/lib/python3.8/site-packages (from torch>=1.7.0->-r /Users/vedantpadole/Desktop/Research/yolov5/requirements.txt (line 15)) (2.4)\n",
      "Requirement already satisfied: typing-extensions in /Users/vedantpadole/opt/anaconda3/lib/python3.8/site-packages (from torch>=1.7.0->-r /Users/vedantpadole/Desktop/Research/yolov5/requirements.txt (line 15)) (4.4.0)\n",
      "Requirement already satisfied: jinja2 in /Users/vedantpadole/opt/anaconda3/lib/python3.8/site-packages (from torch>=1.7.0->-r /Users/vedantpadole/Desktop/Research/yolov5/requirements.txt (line 15)) (3.0.3)\n",
      "Requirement already satisfied: filelock in /Users/vedantpadole/opt/anaconda3/lib/python3.8/site-packages (from torch>=1.7.0->-r /Users/vedantpadole/Desktop/Research/yolov5/requirements.txt (line 15)) (3.8.0)\n",
      "Requirement already satisfied: sympy in /Users/vedantpadole/opt/anaconda3/lib/python3.8/site-packages (from torch>=1.7.0->-r /Users/vedantpadole/Desktop/Research/yolov5/requirements.txt (line 15)) (1.6.1)\n",
      "Requirement already satisfied: pytz>=2020.1 in /Users/vedantpadole/opt/anaconda3/lib/python3.8/site-packages (from pandas>=1.1.4->-r /Users/vedantpadole/Desktop/Research/yolov5/requirements.txt (line 26)) (2020.1)\n",
      "Requirement already satisfied: six in /Users/vedantpadole/opt/anaconda3/lib/python3.8/site-packages (from cycler>=0.10->matplotlib>=3.3->-r /Users/vedantpadole/Desktop/Research/yolov5/requirements.txt (line 6)) (1.15.0)\n",
      "Requirement already satisfied: smmap<6,>=3.0.1 in /Users/vedantpadole/opt/anaconda3/lib/python3.8/site-packages (from gitdb<5,>=4.0.1->gitpython>=3.1.30->-r /Users/vedantpadole/Desktop/Research/yolov5/requirements.txt (line 5)) (5.0.0)\n",
      "Requirement already satisfied: MarkupSafe>=2.0 in /Users/vedantpadole/.local/lib/python3.8/site-packages (from jinja2->torch>=1.7.0->-r /Users/vedantpadole/Desktop/Research/yolov5/requirements.txt (line 15)) (2.1.1)\n",
      "Requirement already satisfied: decorator>=4.3.0 in /Users/vedantpadole/opt/anaconda3/lib/python3.8/site-packages (from networkx->torch>=1.7.0->-r /Users/vedantpadole/Desktop/Research/yolov5/requirements.txt (line 15)) (4.4.2)\n",
      "Requirement already satisfied: mpmath>=0.19 in /Users/vedantpadole/opt/anaconda3/lib/python3.8/site-packages (from sympy->torch>=1.7.0->-r /Users/vedantpadole/Desktop/Research/yolov5/requirements.txt (line 15)) (1.1.0)\n",
      "\n",
      "\u001b[1m[\u001b[0m\u001b[34;49mnotice\u001b[0m\u001b[1;39;49m]\u001b[0m\u001b[39;49m A new release of pip available: \u001b[0m\u001b[31;49m22.3.1\u001b[0m\u001b[39;49m -> \u001b[0m\u001b[32;49m23.1.2\u001b[0m\n",
      "\u001b[1m[\u001b[0m\u001b[34;49mnotice\u001b[0m\u001b[1;39;49m]\u001b[0m\u001b[39;49m To update, run: \u001b[0m\u001b[32;49mpip install --upgrade pip\u001b[0m\n"
     ]
    }
   ],
   "source": [
    "!pip install -r /Users/vedantpadole/Desktop/Research/yolov5/requirements.txt"
   ]
  },
  {
   "cell_type": "code",
   "execution_count": 4,
   "id": "3ae5ea76",
   "metadata": {},
   "outputs": [],
   "source": [
    "import torch\n",
    "from IPython.display import Image, clear_output\n",
    "from pathlib import Path"
   ]
  },
  {
   "cell_type": "code",
   "execution_count": 8,
   "id": "c1fc61ef",
   "metadata": {},
   "outputs": [],
   "source": [
    "# train_path = \"C:/Users/DELL/Desktop/ASL-YOLOv5/train\"\n",
    "# val_path = \"C:/Users/DELL/Desktop/ASL-YOLOv5/valid\""
   ]
  },
  {
   "cell_type": "code",
   "execution_count": 9,
   "id": "fe9b01e5",
   "metadata": {},
   "outputs": [],
   "source": [
    "# command = f\"python train.py --img 640 --batch 16 --epochs 100 --data ./data/custom.data --cfg ./models/yolov5s.yaml --weights yolov5s.pt --cache\""
   ]
  },
  {
   "cell_type": "code",
   "execution_count": 10,
   "id": "0307e7bc",
   "metadata": {
    "collapsed": true
   },
   "outputs": [
    {
     "name": "stderr",
     "output_type": "stream",
     "text": [
      "Traceback (most recent call last):\n",
      "  File \"C:\\Users\\DELL\\Desktop\\ASL-YOLOv5\\yolov5\\train.py\", line 36, in <module>\n",
      "    import torch.distributed as dist\n",
      "ModuleNotFoundError: No module named 'torch.distributed'\n"
     ]
    }
   ],
   "source": [
    "# !{command}\n",
    "# !python train.py"
   ]
  },
  {
   "cell_type": "code",
   "execution_count": 1,
   "id": "764e0926",
   "metadata": {
    "collapsed": true
   },
   "outputs": [
    {
     "name": "stderr",
     "output_type": "stream",
     "text": [
      "Traceback (most recent call last):\n",
      "  File \"C:\\Users\\DELL\\Desktop\\ASL-YOLOv5\\yolov5\\detect.py\", line 45, in <module>\n",
      "    from models.common import DetectMultiBackend\n",
      "  File \"C:\\Users\\DELL\\Desktop\\ASL-YOLOv5\\yolov5\\models\\common.py\", line 23, in <module>\n",
      "    import torch.nn as nn\n",
      "  File \"C:\\Users\\DELL\\anaconda3\\lib\\site-packages\\torch\\nn\\__init__.py\", line 1, in <module>\n",
      "    from .modules import *  # noqa: F403\n",
      "  File \"C:\\Users\\DELL\\anaconda3\\lib\\site-packages\\torch\\nn\\modules\\__init__.py\", line 1, in <module>\n",
      "    from .module import Module\n",
      "  File \"C:\\Users\\DELL\\anaconda3\\lib\\site-packages\\torch\\nn\\modules\\module.py\", line 8, in <module>\n",
      "    from ..parameter import Parameter\n",
      "  File \"C:\\Users\\DELL\\anaconda3\\lib\\site-packages\\torch\\nn\\parameter.py\", line 2, in <module>\n",
      "    from torch._C import _disabled_torch_function_impl\n",
      "ModuleNotFoundError: No module named 'torch._C'\n"
     ]
    }
   ],
   "source": [
    "# !python yolov5\\detect.py --weights best.pt --source 0"
   ]
  },
  {
   "cell_type": "code",
   "execution_count": 6,
   "id": "696e2baa",
   "metadata": {},
   "outputs": [],
   "source": [
    "# import torch"
   ]
  },
  {
   "cell_type": "code",
   "execution_count": 16,
   "id": "47923632",
   "metadata": {
    "collapsed": true
   },
   "outputs": [
    {
     "name": "stderr",
     "output_type": "stream",
     "text": [
      "Traceback (most recent call last):\n",
      "  File \"C:\\Users\\DELL\\anaconda3\\lib\\runpy.py\", line 197, in _run_module_as_main\n",
      "    return _run_code(code, main_globals, None,\n",
      "  File \"C:\\Users\\DELL\\anaconda3\\lib\\runpy.py\", line 87, in _run_code\n",
      "    exec(code, run_globals)\n",
      "  File \"C:\\Users\\DELL\\anaconda3\\Scripts\\yolo.exe\\__main__.py\", line 4, in <module>\n",
      "  File \"C:\\Users\\DELL\\anaconda3\\lib\\site-packages\\ultralytics\\__init__.py\", line 5, in <module>\n",
      "    from ultralytics.hub import start\n",
      "  File \"C:\\Users\\DELL\\anaconda3\\lib\\site-packages\\ultralytics\\hub\\__init__.py\", line 5, in <module>\n",
      "    from ultralytics.hub.auth import Auth\n",
      "  File \"C:\\Users\\DELL\\anaconda3\\lib\\site-packages\\ultralytics\\hub\\auth.py\", line 5, in <module>\n",
      "    from ultralytics.hub.utils import HUB_API_ROOT, PREFIX, request_with_credentials\n",
      "  File \"C:\\Users\\DELL\\anaconda3\\lib\\site-packages\\ultralytics\\hub\\utils.py\", line 14, in <module>\n",
      "    from ultralytics.yolo.utils import (ENVIRONMENT, LOGGER, ONLINE, RANK, SETTINGS, TESTS_RUNNING, TQDM_BAR_FORMAT,\n",
      "  File \"C:\\Users\\DELL\\anaconda3\\lib\\site-packages\\ultralytics\\yolo\\__init__.py\", line 3, in <module>\n",
      "    from . import v8\n",
      "  File \"C:\\Users\\DELL\\anaconda3\\lib\\site-packages\\ultralytics\\yolo\\v8\\__init__.py\", line 3, in <module>\n",
      "    from ultralytics.yolo.v8 import classify, detect, pose, segment\n",
      "  File \"C:\\Users\\DELL\\anaconda3\\lib\\site-packages\\ultralytics\\yolo\\v8\\classify\\__init__.py\", line 3, in <module>\n",
      "    from ultralytics.yolo.v8.classify.predict import ClassificationPredictor, predict\n",
      "  File \"C:\\Users\\DELL\\anaconda3\\lib\\site-packages\\ultralytics\\yolo\\v8\\classify\\predict.py\", line 5, in <module>\n",
      "    from ultralytics.yolo.engine.predictor import BasePredictor\n",
      "  File \"C:\\Users\\DELL\\anaconda3\\lib\\site-packages\\ultralytics\\yolo\\engine\\predictor.py\", line 37, in <module>\n",
      "    from ultralytics.nn.autobackend import AutoBackend\n",
      "  File \"C:\\Users\\DELL\\anaconda3\\lib\\site-packages\\ultralytics\\nn\\__init__.py\", line 3, in <module>\n",
      "    from .tasks import (BaseModel, ClassificationModel, DetectionModel, SegmentationModel, attempt_load_one_weight,\n",
      "  File \"C:\\Users\\DELL\\anaconda3\\lib\\site-packages\\ultralytics\\nn\\tasks.py\", line 8, in <module>\n",
      "    import torch.nn as nn\n",
      "  File \"C:\\Users\\DELL\\anaconda3\\lib\\site-packages\\torch\\nn\\__init__.py\", line 1, in <module>\n",
      "    from .modules import *  # noqa: F403\n",
      "  File \"C:\\Users\\DELL\\anaconda3\\lib\\site-packages\\torch\\nn\\modules\\__init__.py\", line 1, in <module>\n",
      "    from .module import Module\n",
      "  File \"C:\\Users\\DELL\\anaconda3\\lib\\site-packages\\torch\\nn\\modules\\module.py\", line 8, in <module>\n",
      "    from ..parameter import Parameter\n",
      "  File \"C:\\Users\\DELL\\anaconda3\\lib\\site-packages\\torch\\nn\\parameter.py\", line 2, in <module>\n",
      "    from torch._C import _disabled_torch_function_impl\n",
      "ModuleNotFoundError: No module named 'torch._C'\n"
     ]
    }
   ],
   "source": [
    "# !yolo detect predict model='best_yolov8.pt' source=0"
   ]
  },
  {
   "cell_type": "code",
   "execution_count": 18,
   "id": "a248758f",
   "metadata": {
    "collapsed": true
   },
   "outputs": [
    {
     "name": "stdout",
     "output_type": "stream",
     "text": [
      "Collecting roboflow\n",
      "  Downloading roboflow-1.1.0-py3-none-any.whl (57 kB)\n",
      "     -------------------------------------- 57.0/57.0 kB 742.6 kB/s eta 0:00:00"
     ]
    },
    {
     "name": "stderr",
     "output_type": "stream",
     "text": [
      "WARNING: Ignoring invalid distribution -rotobuf (c:\\users\\dell\\anaconda3\\lib\\site-packages)\n",
      "WARNING: Ignoring invalid distribution -rotobuf (c:\\users\\dell\\anaconda3\\lib\\site-packages)\n",
      "ERROR: pip's dependency resolver does not currently take into account all the packages that are installed. This behaviour is the source of the following dependency conflicts.\n",
      "tensorboard 2.11.2 requires tensorboard-data-server<0.7.0,>=0.6.0, but you have tensorboard-data-server 0.7.0 which is incompatible.\n",
      "tensorflow 2.5.0 requires flatbuffers~=1.12.0, but you have flatbuffers 23.3.3 which is incompatible.\n",
      "tensorflow 2.5.0 requires numpy~=1.19.2, but you have numpy 1.22.4 which is incompatible.\n",
      "tensorflow 2.5.0 requires tensorflow-estimator<2.6.0,>=2.5.0rc0, but you have tensorflow-estimator 2.12.0 which is incompatible.\n",
      "tensorflow-intel 2.12.0 requires absl-py>=1.0.0, but you have absl-py 0.15.0 which is incompatible.\n",
      "tensorflow-intel 2.12.0 requires keras<2.13,>=2.12.0, but you have keras 2.4.0 which is incompatible.\n",
      "tensorflow-intel 2.12.0 requires tensorboard<2.13,>=2.12, but you have tensorboard 2.11.2 which is incompatible.\n"
     ]
    },
    {
     "name": "stdout",
     "output_type": "stream",
     "text": [
      "\n",
      "Collecting certifi==2022.12.7 (from roboflow)\n",
      "  Downloading certifi-2022.12.7-py3-none-any.whl (155 kB)\n",
      "     ------------------------------------ 155.3/155.3 kB 442.1 kB/s eta 0:00:00\n",
      "Requirement already satisfied: chardet==4.0.0 in c:\\users\\dell\\anaconda3\\lib\\site-packages (from roboflow) (4.0.0)\n",
      "Requirement already satisfied: cycler==0.10.0 in c:\\users\\dell\\anaconda3\\lib\\site-packages (from roboflow) (0.10.0)\n",
      "Collecting idna==2.10 (from roboflow)\n",
      "  Using cached idna-2.10-py2.py3-none-any.whl (58 kB)\n",
      "Requirement already satisfied: kiwisolver>=1.3.1 in c:\\users\\dell\\anaconda3\\lib\\site-packages (from roboflow) (1.3.1)\n",
      "Requirement already satisfied: matplotlib in c:\\users\\dell\\anaconda3\\lib\\site-packages (from roboflow) (3.4.3)\n",
      "Requirement already satisfied: numpy>=1.18.5 in c:\\users\\dell\\anaconda3\\lib\\site-packages (from roboflow) (1.22.4)\n",
      "Requirement already satisfied: opencv-python>=4.1.2 in c:\\users\\dell\\anaconda3\\lib\\site-packages (from roboflow) (4.6.0.66)\n",
      "Requirement already satisfied: Pillow>=7.1.2 in c:\\users\\dell\\anaconda3\\lib\\site-packages (from roboflow) (8.4.0)\n",
      "Collecting pyparsing==2.4.7 (from roboflow)\n",
      "  Downloading pyparsing-2.4.7-py2.py3-none-any.whl (67 kB)\n",
      "     -------------------------------------- 67.8/67.8 kB 408.5 kB/s eta 0:00:00\n",
      "Requirement already satisfied: python-dateutil in c:\\users\\dell\\anaconda3\\lib\\site-packages (from roboflow) (2.8.2)\n",
      "Collecting python-dotenv (from roboflow)\n",
      "  Downloading python_dotenv-1.0.0-py3-none-any.whl (19 kB)\n",
      "Requirement already satisfied: requests in c:\\users\\dell\\anaconda3\\lib\\site-packages (from roboflow) (2.26.0)\n",
      "Requirement already satisfied: six in c:\\users\\dell\\anaconda3\\lib\\site-packages (from roboflow) (1.15.0)\n",
      "Collecting supervision (from roboflow)\n",
      "  Downloading supervision-0.11.0-py3-none-any.whl (55 kB)\n",
      "     -------------------------------------- 55.6/55.6 kB 223.3 kB/s eta 0:00:00\n",
      "Requirement already satisfied: urllib3>=1.26.6 in c:\\users\\dell\\anaconda3\\lib\\site-packages (from roboflow) (1.26.16)\n",
      "Collecting wget (from roboflow)\n",
      "  Downloading wget-3.2.zip (10 kB)\n",
      "  Preparing metadata (setup.py): started\n",
      "  Preparing metadata (setup.py): finished with status 'done'\n",
      "Requirement already satisfied: tqdm>=4.41.0 in c:\\users\\dell\\anaconda3\\lib\\site-packages (from roboflow) (4.65.0)\n",
      "Requirement already satisfied: PyYAML>=5.3.1 in c:\\users\\dell\\anaconda3\\lib\\site-packages (from roboflow) (6.0)\n",
      "Collecting requests-toolbelt (from roboflow)\n",
      "  Downloading requests_toolbelt-1.0.0-py2.py3-none-any.whl (54 kB)\n",
      "     -------------------------------------- 54.5/54.5 kB 188.3 kB/s eta 0:00:00\n",
      "Requirement already satisfied: colorama in c:\\users\\dell\\anaconda3\\lib\\site-packages (from tqdm>=4.41.0->roboflow) (0.4.6)\n",
      "Requirement already satisfied: charset-normalizer~=2.0.0 in c:\\users\\dell\\anaconda3\\lib\\site-packages (from requests->roboflow) (2.0.4)\n",
      "Building wheels for collected packages: wget\n",
      "  Building wheel for wget (setup.py): started\n",
      "  Building wheel for wget (setup.py): finished with status 'done'\n",
      "  Created wheel for wget: filename=wget-3.2-py3-none-any.whl size=9655 sha256=7e75e51162585bdaa8ed0cedf6d7cdc7ddb3f516bf8b7a5f8edf223fdd1b404f\n",
      "  Stored in directory: c:\\users\\dell\\appdata\\local\\pip\\cache\\wheels\\04\\5f\\3e\\46cc37c5d698415694d83f607f833f83f0149e49b3af9d0f38\n",
      "Successfully built wget\n",
      "Installing collected packages: wget, python-dotenv, pyparsing, idna, certifi, supervision, requests-toolbelt, roboflow\n",
      "  Attempting uninstall: pyparsing\n",
      "    Found existing installation: pyparsing 3.0.4\n",
      "    Uninstalling pyparsing-3.0.4:\n",
      "      Successfully uninstalled pyparsing-3.0.4\n",
      "  Attempting uninstall: idna\n",
      "    Found existing installation: idna 3.2\n",
      "    Uninstalling idna-3.2:\n",
      "      Successfully uninstalled idna-3.2\n",
      "  Attempting uninstall: certifi\n",
      "    Found existing installation: certifi 2021.10.8\n",
      "    Uninstalling certifi-2021.10.8:\n",
      "      Successfully uninstalled certifi-2021.10.8\n",
      "Successfully installed certifi-2022.12.7 idna-2.10 pyparsing-2.4.7 python-dotenv-1.0.0 requests-toolbelt-1.0.0 roboflow-1.1.0 supervision-0.11.0 wget-3.2\n"
     ]
    }
   ],
   "source": [
    "# !pip install roboflow"
   ]
  },
  {
   "cell_type": "code",
   "execution_count": 5,
   "id": "e4335f1a",
   "metadata": {},
   "outputs": [
    {
     "name": "stdout",
     "output_type": "stream",
     "text": [
      "Collecting roboflow\n",
      "  Downloading roboflow-1.1.0-py3-none-any.whl (57 kB)\n",
      "\u001b[2K     \u001b[90m━━━━━━━━━━━━━━━━━━━━━━━━━━━━━━━━━━━━━━━━\u001b[0m \u001b[32m57.0/57.0 kB\u001b[0m \u001b[31m1.1 MB/s\u001b[0m eta \u001b[36m0:00:00\u001b[0ma \u001b[36m0:00:01\u001b[0m\n",
      "\u001b[?25hCollecting certifi==2022.12.7 (from roboflow)\n",
      "  Using cached certifi-2022.12.7-py3-none-any.whl (155 kB)\n",
      "Collecting chardet==4.0.0 (from roboflow)\n",
      "  Downloading chardet-4.0.0-py2.py3-none-any.whl (178 kB)\n",
      "\u001b[2K     \u001b[90m━━━━━━━━━━━━━━━━━━━━━━━━━━━━━━━━━━━━━━━\u001b[0m \u001b[32m178.7/178.7 kB\u001b[0m \u001b[31m3.1 MB/s\u001b[0m eta \u001b[36m0:00:00\u001b[0ma \u001b[36m0:00:01\u001b[0m\n",
      "\u001b[?25hCollecting cycler==0.10.0 (from roboflow)\n",
      "  Downloading cycler-0.10.0-py2.py3-none-any.whl (6.5 kB)\n",
      "Collecting idna==2.10 (from roboflow)\n",
      "  Downloading idna-2.10-py2.py3-none-any.whl (58 kB)\n",
      "\u001b[2K     \u001b[90m━━━━━━━━━━━━━━━━━━━━━━━━━━━━━━━━━━━━━━━━\u001b[0m \u001b[32m58.8/58.8 kB\u001b[0m \u001b[31m1.4 MB/s\u001b[0m eta \u001b[36m0:00:00\u001b[0m\n",
      "\u001b[?25hRequirement already satisfied: kiwisolver>=1.3.1 in /Library/Frameworks/Python.framework/Versions/3.9/lib/python3.9/site-packages (from roboflow) (1.4.4)\n",
      "Requirement already satisfied: matplotlib in /Library/Frameworks/Python.framework/Versions/3.9/lib/python3.9/site-packages (from roboflow) (3.6.2)\n",
      "Requirement already satisfied: numpy>=1.18.5 in /Library/Frameworks/Python.framework/Versions/3.9/lib/python3.9/site-packages (from roboflow) (1.23.4)\n",
      "Requirement already satisfied: opencv-python>=4.1.2 in /Library/Frameworks/Python.framework/Versions/3.9/lib/python3.9/site-packages (from roboflow) (4.7.0.68)\n",
      "Requirement already satisfied: Pillow>=7.1.2 in /Library/Frameworks/Python.framework/Versions/3.9/lib/python3.9/site-packages (from roboflow) (9.3.0)\n",
      "Collecting pyparsing==2.4.7 (from roboflow)\n",
      "  Downloading pyparsing-2.4.7-py2.py3-none-any.whl (67 kB)\n",
      "\u001b[2K     \u001b[90m━━━━━━━━━━━━━━━━━━━━━━━━━━━━━━━━━━━━━━━━\u001b[0m \u001b[32m67.8/67.8 kB\u001b[0m \u001b[31m1.8 MB/s\u001b[0m eta \u001b[36m0:00:00\u001b[0m\n",
      "\u001b[?25hRequirement already satisfied: python-dateutil in /Users/vedantpadole/Library/Python/3.9/lib/python/site-packages (from roboflow) (2.8.2)\n",
      "Collecting python-dotenv (from roboflow)\n",
      "  Downloading python_dotenv-1.0.0-py3-none-any.whl (19 kB)\n",
      "Requirement already satisfied: requests in /Library/Frameworks/Python.framework/Versions/3.9/lib/python3.9/site-packages (from roboflow) (2.31.0)\n",
      "Requirement already satisfied: six in /Library/Frameworks/Python.framework/Versions/3.9/lib/python3.9/site-packages (from roboflow) (1.12.0)\n",
      "Collecting supervision (from roboflow)\n",
      "  Downloading supervision-0.11.1-py3-none-any.whl (55 kB)\n",
      "\u001b[2K     \u001b[90m━━━━━━━━━━━━━━━━━━━━━━━━━━━━━━━━━━━━━━━━\u001b[0m \u001b[32m55.6/55.6 kB\u001b[0m \u001b[31m1.5 MB/s\u001b[0m eta \u001b[36m0:00:00\u001b[0m\n",
      "\u001b[?25hRequirement already satisfied: urllib3>=1.26.6 in /Library/Frameworks/Python.framework/Versions/3.9/lib/python3.9/site-packages (from roboflow) (1.26.16)\n",
      "Collecting wget (from roboflow)\n",
      "  Downloading wget-3.2.zip (10 kB)\n",
      "  Preparing metadata (setup.py) ... \u001b[?25ldone\n",
      "\u001b[?25hRequirement already satisfied: tqdm>=4.41.0 in /Library/Frameworks/Python.framework/Versions/3.9/lib/python3.9/site-packages (from roboflow) (4.64.1)\n",
      "Requirement already satisfied: PyYAML>=5.3.1 in /Library/Frameworks/Python.framework/Versions/3.9/lib/python3.9/site-packages (from roboflow) (5.4.1)\n",
      "Collecting requests-toolbelt (from roboflow)\n",
      "  Downloading requests_toolbelt-1.0.0-py2.py3-none-any.whl (54 kB)\n",
      "\u001b[2K     \u001b[90m━━━━━━━━━━━━━━━━━━━━━━━━━━━━━━━━━━━━━━━━\u001b[0m \u001b[32m54.5/54.5 kB\u001b[0m \u001b[31m1.8 MB/s\u001b[0m eta \u001b[36m0:00:00\u001b[0m\n",
      "\u001b[?25hRequirement already satisfied: contourpy>=1.0.1 in /Library/Frameworks/Python.framework/Versions/3.9/lib/python3.9/site-packages (from matplotlib->roboflow) (1.0.6)\n",
      "Requirement already satisfied: fonttools>=4.22.0 in /Library/Frameworks/Python.framework/Versions/3.9/lib/python3.9/site-packages (from matplotlib->roboflow) (4.38.0)\n",
      "Requirement already satisfied: packaging>=20.0 in /Library/Frameworks/Python.framework/Versions/3.9/lib/python3.9/site-packages (from matplotlib->roboflow) (23.1)\n",
      "Requirement already satisfied: charset-normalizer<4,>=2 in /Library/Frameworks/Python.framework/Versions/3.9/lib/python3.9/site-packages (from requests->roboflow) (2.1.1)\n",
      "Building wheels for collected packages: wget\n",
      "  Building wheel for wget (setup.py) ... \u001b[?25ldone\n",
      "\u001b[?25h  Created wheel for wget: filename=wget-3.2-py3-none-any.whl size=9680 sha256=3b4d4d486f4cf8f2486ed45929236431c1b5163fff6662d0b496e609e1145b16\n",
      "  Stored in directory: /Users/vedantpadole/Library/Caches/pip/wheels/04/5f/3e/46cc37c5d698415694d83f607f833f83f0149e49b3af9d0f38\n",
      "Successfully built wget\n",
      "Installing collected packages: wget, python-dotenv, pyparsing, idna, cycler, chardet, certifi, supervision, requests-toolbelt, roboflow\n",
      "  Attempting uninstall: pyparsing\n",
      "    Found existing installation: pyparsing 3.0.9\n",
      "    Uninstalling pyparsing-3.0.9:\n",
      "      Successfully uninstalled pyparsing-3.0.9\n",
      "  Attempting uninstall: idna\n",
      "    Found existing installation: idna 2.8\n",
      "    Uninstalling idna-2.8:\n",
      "      Successfully uninstalled idna-2.8\n",
      "  Attempting uninstall: cycler\n",
      "    Found existing installation: cycler 0.11.0\n",
      "    Uninstalling cycler-0.11.0:\n",
      "      Successfully uninstalled cycler-0.11.0\n",
      "  Attempting uninstall: chardet\n",
      "    Found existing installation: chardet 3.0.4\n",
      "    Uninstalling chardet-3.0.4:\n",
      "      Successfully uninstalled chardet-3.0.4\n",
      "  Attempting uninstall: certifi\n",
      "    Found existing installation: certifi 2022.9.24\n",
      "    Uninstalling certifi-2022.9.24:\n",
      "      Successfully uninstalled certifi-2022.9.24\n",
      "\u001b[31mERROR: pip's dependency resolver does not currently take into account all the packages that are installed. This behaviour is the source of the following dependency conflicts.\n",
      "httpx 0.13.3 requires chardet==3.*, but you have chardet 4.0.0 which is incompatible.\n",
      "streamlit 1.13.0 requires protobuf!=3.20.2,<4,>=3.12, but you have protobuf 4.23.3 which is incompatible.\u001b[0m\u001b[31m\n",
      "\u001b[0mSuccessfully installed certifi-2022.12.7 chardet-4.0.0 cycler-0.10.0 idna-2.10 pyparsing-2.4.7 python-dotenv-1.0.0 requests-toolbelt-1.0.0 roboflow-1.1.0 supervision-0.11.1 wget-3.2\n",
      "Note: you may need to restart the kernel to use updated packages.\n"
     ]
    }
   ],
   "source": [
    "pip install roboflow"
   ]
  },
  {
   "cell_type": "code",
   "execution_count": 1,
   "id": "c09be76b",
   "metadata": {},
   "outputs": [
    {
     "name": "stdout",
     "output_type": "stream",
     "text": [
      "loading Roboflow workspace...\n",
      "loading Roboflow project...\n"
     ]
    }
   ],
   "source": [
    "from roboflow import Roboflow\n",
    "rf = Roboflow(api_key=\"Tca6PMgFoSMWdXH52fUU\")\n",
    "project = rf.workspace().project(\"asl-72izb\")\n",
    "model = project.version(4).model"
   ]
  },
  {
   "cell_type": "code",
   "execution_count": 2,
   "id": "3d83a2cf",
   "metadata": {},
   "outputs": [
    {
     "name": "stdout",
     "output_type": "stream",
     "text": [
      "chicken\n",
      "chicken\n",
      "chicken\n",
      "chicken\n",
      "hello\n",
      "chicken\n",
      "chicken\n",
      "chicken\n",
      "chicken\n",
      "chicken\n",
      "cheese\n",
      "cheese\n",
      "cheese\n",
      "chicken\n",
      "sweet\n",
      "chicken\n",
      "bread\n"
     ]
    },
    {
     "ename": "",
     "evalue": "",
     "output_type": "error",
     "traceback": [
      "\u001b[1;31mThe Kernel crashed while executing code in the the current cell or a previous cell. Please review the code in the cell(s) to identify a possible cause of the failure. Click <a href='https://aka.ms/vscodeJupyterKernelCrash'>here</a> for more info. View Jupyter <a href='command:jupyter.viewOutput'>log</a> for further details."
     ]
    }
   ],
   "source": [
    "import cv2\n",
    "\n",
    "cap = cv2.VideoCapture(0)\n",
    "\n",
    "while True:\n",
    "    \n",
    "    ret, frame = cap.read()\n",
    "    \n",
    "    if model.predict(frame, confidence=60, overlap=70).json()['predictions'] != []:\n",
    "        \n",
    "        print(model.predict(frame, confidence=60, overlap=70).json()['predictions'][0]['class'])\n",
    "        \n",
    "        for bounding_box in model.predict(frame, confidence=60, overlap=70).json()['predictions']:\n",
    "            x0 = bounding_box['x'] - bounding_box['width'] / 2\n",
    "            x1 = bounding_box['x'] + bounding_box['width'] / 2\n",
    "            y0 = bounding_box['y'] - bounding_box['height'] / 2\n",
    "            y1 = bounding_box['y'] + bounding_box['height'] / 2\n",
    "    \n",
    "            start_point = (int(x0), int(y0))\n",
    "            end_point = (int(x1), int(y1))\n",
    "            \n",
    "        cv2.rectangle(frame, start_point, end_point, color=(255, 255, 255), thickness=3)\n",
    "#         cv2.putText(frame, f'{bounding_box[0][\"class\"]}', (x0, y0), cv2.FONT_HERSHEY_SIMPLEX, 0.9, (36,255,12), 2)\n",
    "\n",
    "    cv2.imshow('frame', frame)\n",
    "    \n",
    "    if cv2.waitKey(1) & 0xFF == ord('q'):\n",
    "        break\n",
    "\n",
    "cap.release()\n",
    "cv2.destroyAllWindows()"
   ]
  },
  {
   "cell_type": "code",
   "execution_count": null,
   "id": "337571c9",
   "metadata": {},
   "outputs": [],
   "source": []
  }
 ],
 "metadata": {
  "kernelspec": {
   "display_name": "Python 3 (ipykernel)",
   "language": "python",
   "name": "python3"
  },
  "language_info": {
   "codemirror_mode": {
    "name": "ipython",
    "version": 3
   },
   "file_extension": ".py",
   "mimetype": "text/x-python",
   "name": "python",
   "nbconvert_exporter": "python",
   "pygments_lexer": "ipython3",
   "version": "3.9.0"
  }
 },
 "nbformat": 4,
 "nbformat_minor": 5
}
