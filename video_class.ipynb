{
 "cells": [
  {
   "cell_type": "code",
   "execution_count": 2,
   "metadata": {},
   "outputs": [],
   "source": [
    "import os\n",
    "import cv2\n",
    "import random\n",
    "import math\n",
    "import numpy as np\n",
    "import datetime as dt\n",
    "import tensorflow as tf\n",
    "import matplotlib.pyplot as plt"
   ]
  },
  {
   "cell_type": "code",
   "execution_count": 1,
   "metadata": {},
   "outputs": [
    {
     "name": "stdout",
     "output_type": "stream",
     "text": [
      "['your', 'ready', 'safe', 'order', 'fork', 'repeat', 'sandwich', 'biscuit', 'please', 'wait', 'sugar', 'cup', '.DS_Store', 'sweet', 'ac', 'refill', 'lettuce', 'bill', 'thank-you', 'water', 'no', 'vegetables', 'dessert', 'pop corn', 'would', 'bitter', 'milk', 'enjoy', 'cash', 'allergy', 'pepsi', 'coca-cola', 'is', 'spicy', 'nacho', 'cost', 'fresh', 'ice cream', 'chair', 'cheese', 'napkin', 'good night', 'mayonnaise', 'about', 'brownie', 'soda', 'bye', 'coupon', 'small', 'mustard', 'urgent', 'credit card', 'french fries', 'ketchup', 'you_ll', 'manager', 'salt', 'eat', 'total', 'receipt', 'juicy', 'cold', 'extra', 'lid', 'yogurt', 'warm', 'menu', 'ingredients', 'burger', 'alcohol', 'relish', 'eggs', 'chicken', 'hot', 'what', 'tissues', 'pickle', 'spoon', 'bread', 'additional', 'hello', 'straw', 'sauce', 'lactose', 'bag', 'drive', 'pizza', 'bacon', 'pepper', 'tomato', 'sorry', 'coke', 'drink', 'which', 'gluten free', 'I_ve', 'cake', 'barbecue']\n"
     ]
    },
    {
     "data": {
      "text/plain": [
       "98"
      ]
     },
     "execution_count": 1,
     "metadata": {},
     "output_type": "execute_result"
    }
   ],
   "source": [
    "import numpy as np \n",
    "import pandas as pd \n",
    "import matplotlib.pyplot as plt\n",
    "import os\n",
    "\n",
    "dataset_path = os.listdir('/Users/vedantpadole/Desktop/Research/finalized')\n",
    "\n",
    "all_classes = os.listdir('/Users/vedantpadole/Desktop/Research/finalized')\n",
    "print (all_classes)  \n",
    "len(all_classes)"
   ]
  },
  {
   "cell_type": "code",
   "execution_count": 6,
   "metadata": {},
   "outputs": [],
   "source": [
    "plt.figure(figsize=(20,20))\n",
    "random_range=random.sample(range(len(all_classes)),1)\n",
    "for counter,random_index in enumerate(random_range,1):\n",
    "  selected_Class=all_classes[random_index]\n",
    "  video_files_names_list=os.listdir(f'/Users/vedantpadole/Desktop/Research/ASL_MY_DATASET/{selected_Class}')\n",
    "  selected_video_file_name=random.choice(video_files_names_list)\n",
    "  video_reader=cv2.VideoCapture(f'/Users/vedantpadole/Desktop/Research/ASL_MY_DATASET/{selected_Class}/{selected_video_file_name}')\n",
    "  _,bgr_frame=video_reader.read()\n",
    "  rgb_frame=cv2.cvtColor(bgr_frame,cv2.COLOR_BGR2RGB)\n",
    "  cv2.putText(rgb_frame,selected_Class,(10,30),cv2.FONT_HERSHEY_SIMPLEX,1,(255,255,255),2)\n",
    "  plt.subplot(11,2,counter);plt.imshow(rgb_frame);plt.axis('off')"
   ]
  },
  {
   "cell_type": "code",
   "execution_count": 3,
   "metadata": {},
   "outputs": [],
   "source": [
    "IMAGE_HEIGHT,IMAGE_WIDTH=128,128\n",
    "SEQUENCE_LENGTH=10\n",
    "DATASET='/Users/vedantpadole/Desktop/Research/finalized'\n",
    "CLASSES_LIST=all_classes"
   ]
  },
  {
   "cell_type": "code",
   "execution_count": 4,
   "metadata": {},
   "outputs": [],
   "source": [
    "def frames_extraction(video_path):\n",
    "  frames_list=[]\n",
    "  video_reader=cv2.VideoCapture(video_path)\n",
    "  video_frames_count=int(video_reader.get(cv2.CAP_PROP_FRAME_COUNT))\n",
    "  skip_frames_window=max(int(video_frames_count/SEQUENCE_LENGTH),1)\n",
    "  for frame_counter in range(SEQUENCE_LENGTH):\n",
    "    video_reader.set(cv2.CAP_PROP_POS_FRAMES,frame_counter*skip_frames_window)\n",
    "    success,frame=video_reader.read()\n",
    "    if not success:\n",
    "      break\n",
    "    resized_frame=cv2.resize(frame,(IMAGE_HEIGHT,IMAGE_WIDTH))\n",
    "    normalized_frame=resized_frame/255\n",
    "    frames_list.append(normalized_frame)\n",
    "  video_reader.release()\n",
    "  return frames_list"
   ]
  },
  {
   "cell_type": "code",
   "execution_count": 5,
   "metadata": {},
   "outputs": [],
   "source": [
    "def create_dataset():\n",
    "  features=[]\n",
    "  labels=[]\n",
    "  video_files_path=[]\n",
    "  for class_index,class_name in enumerate(CLASSES_LIST):\n",
    "    print(f'Extracting the data of class:  {class_name}')\n",
    "    files_list=os.listdir(os.path.join(DATASET,class_name))\n",
    "    for file_name in files_list:\n",
    "      video_file_path=os.path.join(DATASET,class_name,file_name)\n",
    "      frames=frames_extraction(video_file_path)\n",
    "      if len(frames)==SEQUENCE_LENGTH:\n",
    "        features.append(frames)\n",
    "        labels.append(class_index)\n",
    "        video_files_path.append(video_file_path)\n",
    "  features=np.asarray(features)\n",
    "  labels=np.array(labels)\n",
    "  return features,labels,video_files_path"
   ]
  },
  {
   "cell_type": "code",
   "execution_count": 6,
   "metadata": {},
   "outputs": [
    {
     "name": "stdout",
     "output_type": "stream",
     "text": [
      "Extracting the data of class:  your\n",
      "Extracting the data of class:  ready\n",
      "Extracting the data of class:  safe\n",
      "Extracting the data of class:  order\n",
      "Extracting the data of class:  fork\n",
      "Extracting the data of class:  repeat\n",
      "Extracting the data of class:  sandwich\n",
      "Extracting the data of class:  biscuit\n",
      "Extracting the data of class:  please\n",
      "Extracting the data of class:  wait\n",
      "Extracting the data of class:  sugar\n",
      "Extracting the data of class:  cup\n",
      "Extracting the data of class:  sweet\n",
      "Extracting the data of class:  ac\n",
      "Extracting the data of class:  refill\n",
      "Extracting the data of class:  lettuce\n",
      "Extracting the data of class:  bill\n",
      "Extracting the data of class:  thank-you\n",
      "Extracting the data of class:  water\n",
      "Extracting the data of class:  no\n",
      "Extracting the data of class:  vegetables\n",
      "Extracting the data of class:  dessert\n",
      "Extracting the data of class:  pop corn\n",
      "Extracting the data of class:  would\n",
      "Extracting the data of class:  bitter\n",
      "Extracting the data of class:  milk\n",
      "Extracting the data of class:  enjoy\n",
      "Extracting the data of class:  cash\n",
      "Extracting the data of class:  allergy\n",
      "Extracting the data of class:  pepsi\n",
      "Extracting the data of class:  coca-cola\n",
      "Extracting the data of class:  is\n",
      "Extracting the data of class:  spicy\n",
      "Extracting the data of class:  nacho\n",
      "Extracting the data of class:  cost\n",
      "Extracting the data of class:  fresh\n",
      "Extracting the data of class:  ice cream\n",
      "Extracting the data of class:  chair\n",
      "Extracting the data of class:  cheese\n",
      "Extracting the data of class:  napkin\n",
      "Extracting the data of class:  good night\n",
      "Extracting the data of class:  mayonnaise\n",
      "Extracting the data of class:  about\n",
      "Extracting the data of class:  brownie\n",
      "Extracting the data of class:  soda\n",
      "Extracting the data of class:  bye\n",
      "Extracting the data of class:  coupon\n",
      "Extracting the data of class:  small\n",
      "Extracting the data of class:  mustard\n",
      "Extracting the data of class:  urgent\n",
      "Extracting the data of class:  credit card\n",
      "Extracting the data of class:  french fries\n",
      "Extracting the data of class:  ketchup\n",
      "Extracting the data of class:  you_ll\n",
      "Extracting the data of class:  manager\n",
      "Extracting the data of class:  salt\n",
      "Extracting the data of class:  eat\n",
      "Extracting the data of class:  total\n",
      "Extracting the data of class:  receipt\n",
      "Extracting the data of class:  juicy\n",
      "Extracting the data of class:  cold\n",
      "Extracting the data of class:  extra\n",
      "Extracting the data of class:  lid\n",
      "Extracting the data of class:  yogurt\n",
      "Extracting the data of class:  warm\n",
      "Extracting the data of class:  menu\n",
      "Extracting the data of class:  ingredients\n",
      "Extracting the data of class:  burger\n",
      "Extracting the data of class:  alcohol\n",
      "Extracting the data of class:  relish\n",
      "Extracting the data of class:  eggs\n",
      "Extracting the data of class:  chicken\n",
      "Extracting the data of class:  hot\n",
      "Extracting the data of class:  what\n",
      "Extracting the data of class:  tissues\n",
      "Extracting the data of class:  pickle\n",
      "Extracting the data of class:  spoon\n",
      "Extracting the data of class:  bread\n",
      "Extracting the data of class:  additional\n",
      "Extracting the data of class:  hello\n",
      "Extracting the data of class:  straw\n",
      "Extracting the data of class:  sauce\n",
      "Extracting the data of class:  lactose\n",
      "Extracting the data of class:  bag\n",
      "Extracting the data of class:  drive\n",
      "Extracting the data of class:  pizza\n",
      "Extracting the data of class:  bacon\n",
      "Extracting the data of class:  pepper\n",
      "Extracting the data of class:  tomato\n",
      "Extracting the data of class:  sorry\n",
      "Extracting the data of class:  coke\n",
      "Extracting the data of class:  drink\n",
      "Extracting the data of class:  which\n",
      "Extracting the data of class:  gluten free\n",
      "Extracting the data of class:  I_ve\n",
      "Extracting the data of class:  cake\n",
      "Extracting the data of class:  barbecue\n"
     ]
    }
   ],
   "source": [
    "features,labels,video_files_path=create_dataset()"
   ]
  },
  {
   "cell_type": "code",
   "execution_count": 7,
   "metadata": {},
   "outputs": [],
   "source": [
    "from keras.utils import to_categorical\n",
    "one_hot_encoded_labels=to_categorical(labels)"
   ]
  },
  {
   "cell_type": "code",
   "execution_count": 8,
   "metadata": {},
   "outputs": [],
   "source": [
    "seed_constant=27\n",
    "np.random.seed(seed_constant)\n",
    "random.seed(seed_constant)\n",
    "tf.random.set_seed(seed_constant)"
   ]
  },
  {
   "cell_type": "code",
   "execution_count": 9,
   "metadata": {},
   "outputs": [],
   "source": [
    "from sklearn.model_selection import train_test_split\n",
    "features_train,features_test,labels_train,labels_test=train_test_split(features,one_hot_encoded_labels,test_size=0.2,shuffle=True,random_state=seed_constant)"
   ]
  },
  {
   "cell_type": "code",
   "execution_count": 14,
   "metadata": {},
   "outputs": [],
   "source": [
    "a=features_train.shape[0]"
   ]
  },
  {
   "cell_type": "code",
   "execution_count": 15,
   "metadata": {},
   "outputs": [],
   "source": [
    "from keras import Sequential\n",
    "from keras.layers import ConvLSTM2D,MaxPooling3D,TimeDistributed,Dropout,Flatten,Dense\n",
    "def create_convlstm_model():\n",
    "  model=Sequential()\n",
    "  model.add(ConvLSTM2D(filters=4,kernel_size=(3,3),activation='relu',data_format='channels_last',recurrent_dropout=0.2,return_sequences=True,input_shape=(SEQUENCE_LENGTH,IMAGE_HEIGHT,IMAGE_WIDTH,3)))\n",
    "  model.add(MaxPooling3D(pool_size=(1,2,2),padding='same',data_format='channels_last'))\n",
    "  model.add(TimeDistributed(Dropout(0.2)))\n",
    "\n",
    "  model.add(ConvLSTM2D(filters=14,kernel_size=(3,3),activation='relu',data_format='channels_last',recurrent_dropout=0.2,return_sequences=True,input_shape=(SEQUENCE_LENGTH,IMAGE_HEIGHT,IMAGE_WIDTH,3)))\n",
    "  model.add(MaxPooling3D(pool_size=(1,2,2),padding='same',data_format='channels_last'))\n",
    "  model.add(TimeDistributed(Dropout(0.2)))\n",
    "\n",
    "  model.add(ConvLSTM2D(filters=16,kernel_size=(3,3),activation='relu',data_format='channels_last',recurrent_dropout=0.2,return_sequences=True,input_shape=(SEQUENCE_LENGTH,IMAGE_HEIGHT,IMAGE_WIDTH,3)))\n",
    "  model.add(MaxPooling3D(pool_size=(1,2,2),padding='same',data_format='channels_last'))\n",
    "  model.add(TimeDistributed(Dropout(0.2)))\n",
    "\n",
    "  model.add(Flatten())\n",
    "  model.add(Dense(len(CLASSES_LIST),activation='softmax'))\n",
    "  model.summary()\n",
    "  return model"
   ]
  },
  {
   "cell_type": "code",
   "execution_count": 16,
   "metadata": {},
   "outputs": [
    {
     "name": "stdout",
     "output_type": "stream",
     "text": [
      "Model: \"sequential\"\n",
      "_________________________________________________________________\n",
      " Layer (type)                Output Shape              Param #   \n",
      "=================================================================\n",
      " conv_lstm2d (ConvLSTM2D)    (None, 10, 126, 126, 4)   1024      \n",
      "                                                                 \n",
      " max_pooling3d (MaxPooling3D  (None, 10, 63, 63, 4)    0         \n",
      " )                                                               \n",
      "                                                                 \n",
      " time_distributed (TimeDistr  (None, 10, 63, 63, 4)    0         \n",
      " ibuted)                                                         \n",
      "                                                                 \n",
      " conv_lstm2d_1 (ConvLSTM2D)  (None, 10, 61, 61, 14)    9128      \n",
      "                                                                 \n",
      " max_pooling3d_1 (MaxPooling  (None, 10, 31, 31, 14)   0         \n",
      " 3D)                                                             \n",
      "                                                                 \n",
      " time_distributed_1 (TimeDis  (None, 10, 31, 31, 14)   0         \n",
      " tributed)                                                       \n",
      "                                                                 \n",
      " conv_lstm2d_2 (ConvLSTM2D)  (None, 10, 29, 29, 16)    17344     \n",
      "                                                                 \n",
      " max_pooling3d_2 (MaxPooling  (None, 10, 15, 15, 16)   0         \n",
      " 3D)                                                             \n",
      "                                                                 \n",
      " time_distributed_2 (TimeDis  (None, 10, 15, 15, 16)   0         \n",
      " tributed)                                                       \n",
      "                                                                 \n",
      " flatten (Flatten)           (None, 36000)             0         \n",
      "                                                                 \n",
      " dense (Dense)               (None, 97)                3492097   \n",
      "                                                                 \n",
      "=================================================================\n",
      "Total params: 3,519,593\n",
      "Trainable params: 3,519,593\n",
      "Non-trainable params: 0\n",
      "_________________________________________________________________\n"
     ]
    }
   ],
   "source": [
    "model1=create_convlstm_model()"
   ]
  },
  {
   "cell_type": "code",
   "execution_count": 17,
   "metadata": {},
   "outputs": [
    {
     "name": "stdout",
     "output_type": "stream",
     "text": [
      "Requirement already satisfied: pydot in /Library/Frameworks/Python.framework/Versions/3.9/lib/python3.9/site-packages (1.4.2)\n",
      "Requirement already satisfied: pyparsing>=2.1.4 in /Users/vedantpadole/Library/Python/3.9/lib/python/site-packages (from pydot) (3.0.9)\n",
      "\n",
      "\u001b[1m[\u001b[0m\u001b[34;49mnotice\u001b[0m\u001b[1;39;49m]\u001b[0m\u001b[39;49m A new release of pip is available: \u001b[0m\u001b[31;49m23.0\u001b[0m\u001b[39;49m -> \u001b[0m\u001b[32;49m23.0.1\u001b[0m\n",
      "\u001b[1m[\u001b[0m\u001b[34;49mnotice\u001b[0m\u001b[1;39;49m]\u001b[0m\u001b[39;49m To update, run: \u001b[0m\u001b[32;49mpip3 install --upgrade pip\u001b[0m\n",
      "Note: you may need to restart the kernel to use updated packages.\n"
     ]
    }
   ],
   "source": [
    "pip install pydot"
   ]
  },
  {
   "cell_type": "code",
   "execution_count": 18,
   "metadata": {},
   "outputs": [
    {
     "name": "stdout",
     "output_type": "stream",
     "text": [
      "Requirement already satisfied: graphviz in /Library/Frameworks/Python.framework/Versions/3.9/lib/python3.9/site-packages (0.20.1)\n",
      "\n",
      "\u001b[1m[\u001b[0m\u001b[34;49mnotice\u001b[0m\u001b[1;39;49m]\u001b[0m\u001b[39;49m A new release of pip is available: \u001b[0m\u001b[31;49m23.0\u001b[0m\u001b[39;49m -> \u001b[0m\u001b[32;49m23.0.1\u001b[0m\n",
      "\u001b[1m[\u001b[0m\u001b[34;49mnotice\u001b[0m\u001b[1;39;49m]\u001b[0m\u001b[39;49m To update, run: \u001b[0m\u001b[32;49mpip3 install --upgrade pip\u001b[0m\n",
      "Note: you may need to restart the kernel to use updated packages.\n"
     ]
    }
   ],
   "source": [
    "pip install graphviz"
   ]
  },
  {
   "cell_type": "code",
   "execution_count": 19,
   "metadata": {},
   "outputs": [
    {
     "name": "stdout",
     "output_type": "stream",
     "text": [
      "You must install pydot (`pip install pydot`) and install graphviz (see instructions at https://graphviz.gitlab.io/download/) for plot_model to work.\n"
     ]
    }
   ],
   "source": [
    "from keras.utils import plot_model\n",
    "plot_model(model1,to_file='model1.png',show_shapes=True,show_layer_names=True)"
   ]
  },
  {
   "cell_type": "code",
   "execution_count": 21,
   "metadata": {},
   "outputs": [
    {
     "name": "stdout",
     "output_type": "stream",
     "text": [
      "Epoch 1/15\n",
      "40/40 [==============================] - 720s 18s/step - loss: 0.5567 - accuracy: 0.8624 - val_loss: 1.0718 - val_accuracy: 0.8156\n",
      "Epoch 2/15\n",
      "40/40 [==============================] - 683s 17s/step - loss: 0.2345 - accuracy: 0.9351 - val_loss: 1.0459 - val_accuracy: 0.7875\n",
      "Epoch 3/15\n",
      "40/40 [==============================] - 824s 21s/step - loss: 0.1990 - accuracy: 0.9398 - val_loss: 1.1164 - val_accuracy: 0.8031\n",
      "Epoch 4/15\n",
      "40/40 [==============================] - 1245s 31s/step - loss: 0.2981 - accuracy: 0.9109 - val_loss: 1.0746 - val_accuracy: 0.8250\n",
      "Epoch 5/15\n",
      "40/40 [==============================] - 1327s 32s/step - loss: 0.2338 - accuracy: 0.9249 - val_loss: 0.9742 - val_accuracy: 0.8406\n",
      "Epoch 6/15\n",
      "40/40 [==============================] - 1167s 29s/step - loss: 0.2162 - accuracy: 0.9429 - val_loss: 1.0529 - val_accuracy: 0.8687\n",
      "Epoch 7/15\n",
      "40/40 [==============================] - 774s 19s/step - loss: 0.1824 - accuracy: 0.9500 - val_loss: 0.8954 - val_accuracy: 0.8656\n",
      "Epoch 8/15\n",
      "40/40 [==============================] - 711s 18s/step - loss: 0.1599 - accuracy: 0.9507 - val_loss: 0.9234 - val_accuracy: 0.8750\n",
      "Epoch 9/15\n",
      "40/40 [==============================] - 740s 19s/step - loss: 0.1334 - accuracy: 0.9507 - val_loss: 0.9695 - val_accuracy: 0.8687\n",
      "Epoch 10/15\n",
      "40/40 [==============================] - 665s 17s/step - loss: 0.1191 - accuracy: 0.9578 - val_loss: 1.0029 - val_accuracy: 0.8656\n",
      "Epoch 11/15\n",
      "40/40 [==============================] - 729s 18s/step - loss: 0.1187 - accuracy: 0.9648 - val_loss: 0.8975 - val_accuracy: 0.8781\n",
      "Epoch 12/15\n",
      "40/40 [==============================] - 729s 18s/step - loss: 0.0928 - accuracy: 0.9640 - val_loss: 1.0495 - val_accuracy: 0.8531\n",
      "Epoch 13/15\n",
      "40/40 [==============================] - 746s 19s/step - loss: 0.0963 - accuracy: 0.9609 - val_loss: 0.9049 - val_accuracy: 0.8625\n",
      "Epoch 14/15\n",
      "40/40 [==============================] - 715s 18s/step - loss: 0.1002 - accuracy: 0.9648 - val_loss: 0.9516 - val_accuracy: 0.8594\n",
      "Epoch 15/15\n",
      "40/40 [==============================] - 719s 18s/step - loss: 0.1014 - accuracy: 0.9648 - val_loss: 0.8365 - val_accuracy: 0.8656\n"
     ]
    }
   ],
   "source": [
    "from keras.callbacks import EarlyStopping\n",
    "early_stopping_call=EarlyStopping(monitor='val_loss',patience=10,mode='min',restore_best_weights=True)\n",
    "model1.compile(loss='categorical_crossentropy',optimizer='Adam',metrics=['accuracy'])\n",
    "r=model1.fit(x=features_train,y=labels_train,epochs=15,batch_size=32,shuffle=True,validation_split=0.2,callbacks=[early_stopping_call])"
   ]
  },
  {
   "cell_type": "code",
   "execution_count": 22,
   "metadata": {},
   "outputs": [],
   "source": [
    "model1.save('finalized_asl.h5')"
   ]
  },
  {
   "attachments": {},
   "cell_type": "markdown",
   "metadata": {},
   "source": [
    "On Testing data"
   ]
  },
  {
   "cell_type": "code",
   "execution_count": 23,
   "metadata": {},
   "outputs": [
    {
     "name": "stdout",
     "output_type": "stream",
     "text": [
      "13/13 [==============================] - 44s 3s/step - loss: 0.6848 - accuracy: 0.9000\n"
     ]
    }
   ],
   "source": [
    "history=model1.evaluate(features_test,labels_test)"
   ]
  },
  {
   "cell_type": "code",
   "execution_count": 26,
   "metadata": {},
   "outputs": [
    {
     "data": {
      "image/png": "[encoded data removed]",
      "text/plain": [
       "<Figure size 640x480 with 1 Axes>"
      ]
     },
     "metadata": {},
     "output_type": "display_data"
    }
   ],
   "source": [
    "import matplotlib.pyplot as plt\n",
    "plt.plot(r.history['loss'],label='loss')\n",
    "plt.plot(r.history['val_loss'],label='val_loss')\n",
    "plt.legend()\n",
    "plt.show()"
   ]
  },
  {
   "cell_type": "code",
   "execution_count": 27,
   "metadata": {},
   "outputs": [
    {
     "data": {
      "image/png": "[encoded data removed]",
      "text/plain": [
       "<Figure size 640x480 with 1 Axes>"
      ]
     },
     "metadata": {},
     "output_type": "display_data"
    }
   ],
   "source": [
    "plt.plot(r.history['accuracy'],label='accuracy')\n",
    "plt.plot(r.history['val_accuracy'],label='val_acc')\n",
    "plt.legend()\n",
    "plt.show()"
   ]
  },
  {
   "cell_type": "code",
   "execution_count": 6,
   "metadata": {},
   "outputs": [],
   "source": [
    "from collections import deque\n",
    "predicted_clas=[]\n",
    "\n",
    "def prediction(video_path,output_directory,SEQUENCE_LENGTH):\n",
    "    video_reader=cv2.VideoCapture(video_path)\n",
    "    original_video_width=int(video_reader.get(cv2.CAP_PROP_FRAME_WIDTH))\n",
    "    original_video_height=int(video_reader.get(cv2.CAP_PROP_FRAME_HEIGHT))\n",
    "    video_writer=cv2.VideoWriter(output_directory,cv2.VideoWriter_fourcc('M','P','.4','V'),video_reader.get(cv2.CAP_PROP_FPS),(original_video_width,original_video_height))\n",
    "    frames_queue=deque(maxlen=SEQUENCE_LENGTH)\n",
    "    predicted_class_name=''\n",
    "    while video_reader.isOpened():\n",
    "        ok,frame=video_reader.read()\n",
    "        if not ok:\n",
    "            break\n",
    "        resized_frame=cv2.resize(frame,(IMAGE_HEIGHT,IMAGE_WIDTH))\n",
    "        normalized_frames=resized_frame/255\n",
    "        frames_queue.append(normalized_frames)\n",
    "        if len(frames_queue)==SEQUENCE_LENGTH:\n",
    "            predicted_labels_probabilities=model1.predict(np.expand_dims(frames_queue,axis=0))[0]\n",
    "            predicted_label=np.argmax(predicted_labels_probabilities)\n",
    "            predicted_class_name=CLASSES_LIST[predicted_label]\n",
    "        cv2.putText(frame,predicted_class_name,(10,30),cv2.FONT_HERSHEY_SIMPLEX,1,(0,255,0),2)\n",
    "        predicted_clas.append(predicted_class_name)\n",
    "        video_writer.write(frame)\n",
    "    video_reader.release()\n",
    "    video_writer.release()"
   ]
  },
  {
   "cell_type": "code",
   "execution_count": 41,
   "metadata": {},
   "outputs": [
    {
     "name": "stdout",
     "output_type": "stream",
     "text": [
      "1/1 [==============================] - 0s 118ms/step\n",
      "1/1 [==============================] - 0s 152ms/step\n",
      "1/1 [==============================] - 0s 214ms/step\n",
      "1/1 [==============================] - 0s 159ms/step\n",
      "1/1 [==============================] - 0s 136ms/step\n",
      "1/1 [==============================] - 0s 133ms/step\n",
      "1/1 [==============================] - 0s 137ms/step\n",
      "1/1 [==============================] - 0s 129ms/step\n",
      "1/1 [==============================] - 0s 127ms/step\n",
      "1/1 [==============================] - 0s 149ms/step\n",
      "1/1 [==============================] - 0s 128ms/step\n",
      "1/1 [==============================] - 0s 174ms/step\n",
      "1/1 [==============================] - 0s 177ms/step\n",
      "1/1 [==============================] - 0s 161ms/step\n",
      "1/1 [==============================] - 0s 141ms/step\n",
      "1/1 [==============================] - 0s 144ms/step\n",
      "1/1 [==============================] - 0s 170ms/step\n",
      "1/1 [==============================] - 0s 207ms/step\n",
      "1/1 [==============================] - 0s 159ms/step\n",
      "1/1 [==============================] - 0s 172ms/step\n",
      "1/1 [==============================] - 0s 155ms/step\n",
      "1/1 [==============================] - 0s 170ms/step\n",
      "1/1 [==============================] - 0s 189ms/step\n",
      "1/1 [==============================] - 0s 183ms/step\n",
      "1/1 [==============================] - 0s 213ms/step\n",
      "1/1 [==============================] - 0s 199ms/step\n",
      "1/1 [==============================] - 0s 187ms/step\n",
      "1/1 [==============================] - 0s 184ms/step\n",
      "1/1 [==============================] - 0s 174ms/step\n",
      "1/1 [==============================] - 0s 180ms/step\n",
      "1/1 [==============================] - 0s 240ms/step\n",
      "1/1 [==============================] - 0s 259ms/step\n",
      "1/1 [==============================] - 0s 201ms/step\n",
      "1/1 [==============================] - 0s 142ms/step\n",
      "1/1 [==============================] - 0s 148ms/step\n",
      "1/1 [==============================] - 0s 145ms/step\n",
      "1/1 [==============================] - 0s 146ms/step\n",
      "1/1 [==============================] - 0s 213ms/step\n",
      "1/1 [==============================] - 0s 230ms/step\n",
      "1/1 [==============================] - 0s 186ms/step\n",
      "1/1 [==============================] - 0s 158ms/step\n",
      "1/1 [==============================] - 0s 149ms/step\n",
      "1/1 [==============================] - 0s 142ms/step\n",
      "1/1 [==============================] - 0s 148ms/step\n",
      "1/1 [==============================] - 0s 150ms/step\n",
      "1/1 [==============================] - 0s 145ms/step\n",
      "1/1 [==============================] - 0s 151ms/step\n",
      "1/1 [==============================] - 0s 146ms/step\n",
      "1/1 [==============================] - 0s 147ms/step\n",
      "1/1 [==============================] - 0s 147ms/step\n",
      "1/1 [==============================] - 0s 146ms/step\n",
      "1/1 [==============================] - 0s 144ms/step\n",
      "1/1 [==============================] - 0s 150ms/step\n",
      "1/1 [==============================] - 0s 154ms/step\n",
      "1/1 [==============================] - 0s 142ms/step\n",
      "1/1 [==============================] - 0s 144ms/step\n",
      "1/1 [==============================] - 0s 147ms/step\n",
      "1/1 [==============================] - 0s 138ms/step\n",
      "1/1 [==============================] - 0s 147ms/step\n",
      "1/1 [==============================] - 0s 139ms/step\n",
      "1/1 [==============================] - 0s 149ms/step\n",
      "1/1 [==============================] - 0s 153ms/step\n",
      "1/1 [==============================] - 0s 150ms/step\n",
      "1/1 [==============================] - 0s 153ms/step\n",
      "1/1 [==============================] - 0s 152ms/step\n",
      "1/1 [==============================] - 0s 151ms/step\n",
      "1/1 [==============================] - 0s 147ms/step\n",
      "1/1 [==============================] - 0s 145ms/step\n",
      "1/1 [==============================] - 0s 148ms/step\n",
      "1/1 [==============================] - 0s 146ms/step\n",
      "1/1 [==============================] - 0s 150ms/step\n",
      "1/1 [==============================] - 0s 147ms/step\n",
      "1/1 [==============================] - 0s 145ms/step\n",
      "1/1 [==============================] - 0s 238ms/step\n",
      "1/1 [==============================] - 0s 142ms/step\n",
      "1/1 [==============================] - 0s 150ms/step\n",
      "1/1 [==============================] - 0s 145ms/step\n",
      "1/1 [==============================] - 0s 148ms/step\n",
      "1/1 [==============================] - 0s 150ms/step\n",
      "1/1 [==============================] - 0s 146ms/step\n",
      "1/1 [==============================] - 0s 143ms/step\n",
      "1/1 [==============================] - 0s 149ms/step\n",
      "1/1 [==============================] - 0s 153ms/step\n",
      "1/1 [==============================] - 0s 154ms/step\n",
      "1/1 [==============================] - 0s 150ms/step\n",
      "1/1 [==============================] - 0s 150ms/step\n",
      "1/1 [==============================] - 0s 156ms/step\n",
      "1/1 [==============================] - 0s 150ms/step\n",
      "1/1 [==============================] - 0s 151ms/step\n"
     ]
    }
   ],
   "source": [
    "prediction('/Users/vedantpadole/Desktop/Research/output_video_path/augmented_video_9_speed.mp4','/Users/vedantpadole/Desktop/Research/output_video_path',SEQUENCE_LENGTH)"
   ]
  },
  {
   "cell_type": "code",
   "execution_count": 42,
   "metadata": {},
   "outputs": [
    {
     "data": {
      "text/plain": [
       "['',\n",
       " '',\n",
       " '',\n",
       " '',\n",
       " '',\n",
       " '',\n",
       " '',\n",
       " '',\n",
       " '',\n",
       " 'coca-cola',\n",
       " 'coca-cola',\n",
       " 'coca-cola',\n",
       " 'coca-cola',\n",
       " 'coca-cola',\n",
       " 'coca-cola',\n",
       " 'coca-cola',\n",
       " 'coca-cola',\n",
       " 'coca-cola',\n",
       " 'coca-cola',\n",
       " 'coca-cola',\n",
       " 'coca-cola',\n",
       " 'coca-cola',\n",
       " 'coca-cola',\n",
       " 'coca-cola',\n",
       " 'coca-cola',\n",
       " 'coca-cola',\n",
       " 'coca-cola',\n",
       " 'coca-cola',\n",
       " 'coca-cola',\n",
       " 'coca-cola',\n",
       " 'coca-cola',\n",
       " 'coca-cola',\n",
       " 'coca-cola',\n",
       " 'coca-cola',\n",
       " 'coca-cola',\n",
       " 'coca-cola',\n",
       " 'coca-cola',\n",
       " 'coca-cola',\n",
       " 'coca-cola',\n",
       " 'coca-cola',\n",
       " 'coca-cola',\n",
       " 'coca-cola',\n",
       " 'coca-cola',\n",
       " 'coca-cola',\n",
       " 'coca-cola',\n",
       " 'coca-cola',\n",
       " 'coke',\n",
       " 'coke',\n",
       " 'coke',\n",
       " 'coca-cola',\n",
       " 'coca-cola',\n",
       " 'coca-cola',\n",
       " 'coca-cola',\n",
       " 'coca-cola',\n",
       " 'coca-cola',\n",
       " 'coca-cola',\n",
       " 'coca-cola',\n",
       " 'coca-cola',\n",
       " 'coca-cola',\n",
       " 'coca-cola',\n",
       " 'coca-cola',\n",
       " 'coca-cola',\n",
       " 'coca-cola',\n",
       " 'coca-cola',\n",
       " 'coca-cola',\n",
       " 'coca-cola',\n",
       " 'coca-cola',\n",
       " 'coca-cola',\n",
       " 'coca-cola',\n",
       " 'coca-cola',\n",
       " 'coca-cola',\n",
       " 'coca-cola',\n",
       " 'coca-cola',\n",
       " 'coca-cola',\n",
       " 'coca-cola',\n",
       " 'coca-cola',\n",
       " 'coca-cola',\n",
       " 'coca-cola',\n",
       " 'coca-cola',\n",
       " 'coca-cola',\n",
       " 'coca-cola',\n",
       " 'coca-cola',\n",
       " 'coca-cola',\n",
       " 'coca-cola',\n",
       " 'coca-cola',\n",
       " 'coca-cola',\n",
       " 'coca-cola',\n",
       " 'coca-cola',\n",
       " 'coca-cola',\n",
       " 'coca-cola',\n",
       " 'coca-cola',\n",
       " 'coca-cola',\n",
       " 'coca-cola',\n",
       " 'coca-cola',\n",
       " 'coca-cola',\n",
       " 'coca-cola',\n",
       " 'coca-cola',\n",
       " 'coca-cola']"
      ]
     },
     "execution_count": 42,
     "metadata": {},
     "output_type": "execute_result"
    }
   ],
   "source": [
    "predicted_clas"
   ]
  },
  {
   "cell_type": "code",
   "execution_count": 29,
   "metadata": {},
   "outputs": [
    {
     "ename": "IndexError",
     "evalue": "tuple index out of range",
     "output_type": "error",
     "traceback": [
      "\u001b[0;31m---------------------------------------------------------------------------\u001b[0m",
      "\u001b[0;31mIndexError\u001b[0m                                Traceback (most recent call last)",
      "\u001b[1;32m/Users/vedantpadole/Desktop/Research/video_class.ipynb Cell 26\u001b[0m in \u001b[0;36m1\n\u001b[0;32m----> <a href='vscode-notebook-cell:/Users/vedantpadole/Desktop/Research/video_class.ipynb#X34sZmlsZQ%3D%3D?line=0'>1</a>\u001b[0m model1\u001b[39m.\u001b[39;49mpredict(\u001b[39m'\u001b[39;49m\u001b[39m/Users/vedantpadole/Desktop/Research/finalized/alcohol/01839_augmented_darkness.mp4\u001b[39;49m\u001b[39m'\u001b[39;49m)\n",
      "File \u001b[0;32m/Library/Frameworks/Python.framework/Versions/3.9/lib/python3.9/site-packages/keras/utils/traceback_utils.py:70\u001b[0m, in \u001b[0;36mfilter_traceback.<locals>.error_handler\u001b[0;34m(*args, **kwargs)\u001b[0m\n\u001b[1;32m     67\u001b[0m     filtered_tb \u001b[39m=\u001b[39m _process_traceback_frames(e\u001b[39m.\u001b[39m__traceback__)\n\u001b[1;32m     68\u001b[0m     \u001b[39m# To get the full stack trace, call:\u001b[39;00m\n\u001b[1;32m     69\u001b[0m     \u001b[39m# `tf.debugging.disable_traceback_filtering()`\u001b[39;00m\n\u001b[0;32m---> 70\u001b[0m     \u001b[39mraise\u001b[39;00m e\u001b[39m.\u001b[39mwith_traceback(filtered_tb) \u001b[39mfrom\u001b[39;00m \u001b[39mNone\u001b[39m\n\u001b[1;32m     71\u001b[0m \u001b[39mfinally\u001b[39;00m:\n\u001b[1;32m     72\u001b[0m     \u001b[39mdel\u001b[39;00m filtered_tb\n",
      "File \u001b[0;32m/Library/Frameworks/Python.framework/Versions/3.9/lib/python3.9/site-packages/tensorflow/python/framework/tensor_shape.py:906\u001b[0m, in \u001b[0;36mTensorShape.__getitem__\u001b[0;34m(self, key)\u001b[0m\n\u001b[1;32m    904\u001b[0m \u001b[39melse\u001b[39;00m:\n\u001b[1;32m    905\u001b[0m   \u001b[39mif\u001b[39;00m \u001b[39mself\u001b[39m\u001b[39m.\u001b[39m_v2_behavior:\n\u001b[0;32m--> 906\u001b[0m     \u001b[39mreturn\u001b[39;00m \u001b[39mself\u001b[39;49m\u001b[39m.\u001b[39;49m_dims[key]\n\u001b[1;32m    907\u001b[0m   \u001b[39melse\u001b[39;00m:\n\u001b[1;32m    908\u001b[0m     \u001b[39mreturn\u001b[39;00m \u001b[39mself\u001b[39m\u001b[39m.\u001b[39mdims[key]\n",
      "\u001b[0;31mIndexError\u001b[0m: tuple index out of range"
     ]
    }
   ],
   "source": [
    "prediction('/Users/vedantpadole/Desktop/Research/finalized/alcohol/01839_augmented_darkness.mp4','/Users/vedantpadole/Desktop/Research/output_video_path',SEQUENCE_LENGTH)\n"
   ]
  },
  {
   "cell_type": "code",
   "execution_count": 48,
   "metadata": {},
   "outputs": [
    {
     "data": {
      "text/plain": [
       "['',\n",
       " '',\n",
       " '',\n",
       " '',\n",
       " '',\n",
       " '',\n",
       " '',\n",
       " '',\n",
       " '',\n",
       " '',\n",
       " '',\n",
       " '',\n",
       " '',\n",
       " '',\n",
       " '',\n",
       " '',\n",
       " '',\n",
       " '',\n",
       " '',\n",
       " 'spicy',\n",
       " 'spicy',\n",
       " 'spicy',\n",
       " 'spicy',\n",
       " 'spicy',\n",
       " 'spicy',\n",
       " 'spicy',\n",
       " 'spicy',\n",
       " 'spicy',\n",
       " 'spicy',\n",
       " 'spicy']"
      ]
     },
     "execution_count": 48,
     "metadata": {},
     "output_type": "execute_result"
    }
   ],
   "source": [
    "predicted_clas"
   ]
  },
  {
   "cell_type": "code",
   "execution_count": 50,
   "metadata": {},
   "outputs": [
    {
     "name": "stderr",
     "output_type": "stream",
     "text": [
      "[ERROR:0@14059.995] global cap.cpp:597 open VIDEOIO(CV_IMAGES): raised OpenCV exception:\n",
      "\n",
      "OpenCV(4.7.0) /Users/runner/work/opencv-python/opencv-python/opencv/modules/videoio/src/cap_images.cpp:253: error: (-5:Bad argument) CAP_IMAGES: can't find starting number (in the name of file): /Users/vedantpadole/Desktop/Research/output_video_path in function 'icvExtractPattern'\n",
      "\n",
      "\n"
     ]
    },
    {
     "name": "stdout",
     "output_type": "stream",
     "text": [
      "1/1 [==============================] - 0s 194ms/step\n",
      "1/1 [==============================] - 0s 149ms/step\n",
      "1/1 [==============================] - 0s 180ms/step\n",
      "1/1 [==============================] - 0s 164ms/step\n",
      "1/1 [==============================] - 0s 159ms/step\n",
      "1/1 [==============================] - 0s 154ms/step\n",
      "1/1 [==============================] - 0s 158ms/step\n",
      "1/1 [==============================] - 0s 166ms/step\n",
      "1/1 [==============================] - 0s 162ms/step\n",
      "1/1 [==============================] - 0s 165ms/step\n",
      "1/1 [==============================] - 0s 170ms/step\n",
      "1/1 [==============================] - 0s 164ms/step\n",
      "1/1 [==============================] - 0s 166ms/step\n",
      "1/1 [==============================] - 0s 168ms/step\n",
      "1/1 [==============================] - 0s 166ms/step\n",
      "1/1 [==============================] - 0s 170ms/step\n",
      "1/1 [==============================] - 0s 174ms/step\n",
      "1/1 [==============================] - 0s 179ms/step\n",
      "1/1 [==============================] - 0s 169ms/step\n",
      "1/1 [==============================] - 0s 177ms/step\n",
      "1/1 [==============================] - 0s 175ms/step\n",
      "1/1 [==============================] - 0s 173ms/step\n",
      "1/1 [==============================] - 0s 171ms/step\n",
      "1/1 [==============================] - 0s 178ms/step\n",
      "1/1 [==============================] - 0s 177ms/step\n",
      "1/1 [==============================] - 0s 180ms/step\n",
      "1/1 [==============================] - 0s 166ms/step\n",
      "1/1 [==============================] - 0s 174ms/step\n",
      "1/1 [==============================] - 0s 181ms/step\n",
      "1/1 [==============================] - 0s 181ms/step\n",
      "1/1 [==============================] - 0s 176ms/step\n",
      "1/1 [==============================] - 0s 175ms/step\n",
      "1/1 [==============================] - 0s 180ms/step\n",
      "1/1 [==============================] - 0s 170ms/step\n",
      "1/1 [==============================] - 0s 202ms/step\n",
      "1/1 [==============================] - 0s 222ms/step\n",
      "1/1 [==============================] - 0s 188ms/step\n",
      "1/1 [==============================] - 0s 185ms/step\n",
      "1/1 [==============================] - 0s 188ms/step\n",
      "1/1 [==============================] - 0s 265ms/step\n",
      "1/1 [==============================] - 0s 266ms/step\n",
      "1/1 [==============================] - 0s 265ms/step\n",
      "1/1 [==============================] - 0s 291ms/step\n",
      "1/1 [==============================] - 0s 221ms/step\n",
      "1/1 [==============================] - 0s 205ms/step\n",
      "1/1 [==============================] - 0s 216ms/step\n",
      "1/1 [==============================] - 0s 212ms/step\n",
      "1/1 [==============================] - 0s 230ms/step\n",
      "1/1 [==============================] - 0s 251ms/step\n",
      "1/1 [==============================] - 0s 228ms/step\n",
      "1/1 [==============================] - 0s 203ms/step\n",
      "1/1 [==============================] - 0s 197ms/step\n",
      "1/1 [==============================] - 0s 202ms/step\n",
      "1/1 [==============================] - 0s 198ms/step\n",
      "1/1 [==============================] - 0s 185ms/step\n",
      "1/1 [==============================] - 0s 238ms/step\n",
      "1/1 [==============================] - 0s 222ms/step\n",
      "1/1 [==============================] - 0s 242ms/step\n",
      "1/1 [==============================] - 0s 214ms/step\n",
      "1/1 [==============================] - 0s 204ms/step\n",
      "1/1 [==============================] - 0s 233ms/step\n",
      "1/1 [==============================] - 0s 222ms/step\n",
      "1/1 [==============================] - 0s 259ms/step\n",
      "1/1 [==============================] - 0s 275ms/step\n",
      "1/1 [==============================] - 0s 204ms/step\n",
      "1/1 [==============================] - 0s 203ms/step\n",
      "1/1 [==============================] - 0s 206ms/step\n",
      "1/1 [==============================] - 0s 310ms/step\n",
      "1/1 [==============================] - 0s 215ms/step\n",
      "1/1 [==============================] - 0s 215ms/step\n",
      "1/1 [==============================] - 0s 242ms/step\n",
      "1/1 [==============================] - 0s 236ms/step\n"
     ]
    }
   ],
   "source": [
    "prediction('/Users/vedantpadole/Desktop/Research/output_video_path/augmented_videos_3_brightness.mp4','/Users/vedantpadole/Desktop/Research/output_video_path',SEQUENCE_LENGTH)\n"
   ]
  },
  {
   "cell_type": "code",
   "execution_count": 51,
   "metadata": {},
   "outputs": [
    {
     "data": {
      "text/plain": [
       "['',\n",
       " '',\n",
       " '',\n",
       " '',\n",
       " '',\n",
       " '',\n",
       " '',\n",
       " '',\n",
       " '',\n",
       " '',\n",
       " '',\n",
       " '',\n",
       " '',\n",
       " '',\n",
       " '',\n",
       " '',\n",
       " '',\n",
       " '',\n",
       " '',\n",
       " 'allergy',\n",
       " 'allergy',\n",
       " 'allergy',\n",
       " 'allergy',\n",
       " 'allergy',\n",
       " 'allergy',\n",
       " 'allergy',\n",
       " 'allergy',\n",
       " 'allergy',\n",
       " 'allergy',\n",
       " 'allergy',\n",
       " 'allergy',\n",
       " 'allergy',\n",
       " 'allergy',\n",
       " 'allergy',\n",
       " 'allergy',\n",
       " 'allergy',\n",
       " 'allergy',\n",
       " 'allergy',\n",
       " 'allergy',\n",
       " 'allergy',\n",
       " 'allergy',\n",
       " 'allergy',\n",
       " 'allergy',\n",
       " 'allergy',\n",
       " 'allergy',\n",
       " 'allergy',\n",
       " 'allergy',\n",
       " 'allergy',\n",
       " 'allergy',\n",
       " 'allergy',\n",
       " 'allergy',\n",
       " 'allergy',\n",
       " 'allergy',\n",
       " 'allergy',\n",
       " 'allergy',\n",
       " 'allergy',\n",
       " 'allergy',\n",
       " 'allergy',\n",
       " 'allergy',\n",
       " 'allergy',\n",
       " 'allergy',\n",
       " 'allergy',\n",
       " 'allergy',\n",
       " 'allergy',\n",
       " 'allergy',\n",
       " 'allergy',\n",
       " 'allergy',\n",
       " 'allergy',\n",
       " 'allergy',\n",
       " 'allergy',\n",
       " 'allergy',\n",
       " 'allergy',\n",
       " 'allergy',\n",
       " 'allergy',\n",
       " 'allergy',\n",
       " 'allergy',\n",
       " 'allergy',\n",
       " 'allergy',\n",
       " 'allergy',\n",
       " 'allergy',\n",
       " 'allergy',\n",
       " 'allergy',\n",
       " 'allergy',\n",
       " 'allergy',\n",
       " 'allergy',\n",
       " 'allergy',\n",
       " 'allergy',\n",
       " 'allergy',\n",
       " 'allergy',\n",
       " 'allergy',\n",
       " 'allergy']"
      ]
     },
     "execution_count": 51,
     "metadata": {},
     "output_type": "execute_result"
    }
   ],
   "source": [
    "predicted_clas"
   ]
  },
  {
   "cell_type": "code",
   "execution_count": 10,
   "metadata": {},
   "outputs": [],
   "source": [
    "from keras import Sequential\n",
    "from keras.layers import Conv2D,MaxPooling2D,TimeDistributed,Dropout,Flatten,Dense,LSTM\n",
    "model=Sequential()\n",
    "model.add(TimeDistributed(Conv2D(16,(3,3),padding='same',activation='relu'),input_shape=(SEQUENCE_LENGTH,IMAGE_HEIGHT,IMAGE_WIDTH,3)))\n",
    "model.add(TimeDistributed(MaxPooling2D(2,2)))\n",
    "model.add(TimeDistributed(Dropout(0.25)))\n",
    "model.add(TimeDistributed(Conv2D(32,(3,3),padding='same',activation='relu')))\n",
    "model.add(TimeDistributed(MaxPooling2D(2,2)))\n",
    "model.add(TimeDistributed(Dropout(0.25)))\n",
    "model.add(TimeDistributed(Conv2D(64,(3,3),padding='same',activation='relu')))\n",
    "model.add(TimeDistributed(MaxPooling2D(2,2)))\n",
    "model.add(TimeDistributed(Dropout(0.25)))\n",
    "model.add(TimeDistributed(Conv2D(128,(3,3),padding='same',activation='relu')))\n",
    "model.add(TimeDistributed(MaxPooling2D(2,2)))\n",
    "model.add(TimeDistributed(Dropout(0.25)))\n",
    "model.add(TimeDistributed(Flatten()))\n",
    "model.add(LSTM(64))\n",
    "model.add(Dense(len(CLASSES_LIST),activation='softmax'))"
   ]
  },
  {
   "cell_type": "code",
   "execution_count": 11,
   "metadata": {},
   "outputs": [
    {
     "name": "stdout",
     "output_type": "stream",
     "text": [
      "Model: \"sequential\"\n",
      "_________________________________________________________________\n",
      " Layer (type)                Output Shape              Param #   \n",
      "=================================================================\n",
      " time_distributed (TimeDistr  (None, 10, 128, 128, 16)  448      \n",
      " ibuted)                                                         \n",
      "                                                                 \n",
      " time_distributed_1 (TimeDis  (None, 10, 64, 64, 16)   0         \n",
      " tributed)                                                       \n",
      "                                                                 \n",
      " time_distributed_2 (TimeDis  (None, 10, 64, 64, 16)   0         \n",
      " tributed)                                                       \n",
      "                                                                 \n",
      " time_distributed_3 (TimeDis  (None, 10, 64, 64, 32)   4640      \n",
      " tributed)                                                       \n",
      "                                                                 \n",
      " time_distributed_4 (TimeDis  (None, 10, 32, 32, 32)   0         \n",
      " tributed)                                                       \n",
      "                                                                 \n",
      " time_distributed_5 (TimeDis  (None, 10, 32, 32, 32)   0         \n",
      " tributed)                                                       \n",
      "                                                                 \n",
      " time_distributed_6 (TimeDis  (None, 10, 32, 32, 64)   18496     \n",
      " tributed)                                                       \n",
      "                                                                 \n",
      " time_distributed_7 (TimeDis  (None, 10, 16, 16, 64)   0         \n",
      " tributed)                                                       \n",
      "                                                                 \n",
      " time_distributed_8 (TimeDis  (None, 10, 16, 16, 64)   0         \n",
      " tributed)                                                       \n",
      "                                                                 \n",
      " time_distributed_9 (TimeDis  (None, 10, 16, 16, 128)  73856     \n",
      " tributed)                                                       \n",
      "                                                                 \n",
      " time_distributed_10 (TimeDi  (None, 10, 8, 8, 128)    0         \n",
      " stributed)                                                      \n",
      "                                                                 \n",
      " time_distributed_11 (TimeDi  (None, 10, 8, 8, 128)    0         \n",
      " stributed)                                                      \n",
      "                                                                 \n",
      " time_distributed_12 (TimeDi  (None, 10, 8192)         0         \n",
      " stributed)                                                      \n",
      "                                                                 \n",
      " lstm (LSTM)                 (None, 64)                2113792   \n",
      "                                                                 \n",
      " dense (Dense)               (None, 97)                6305      \n",
      "                                                                 \n",
      "=================================================================\n",
      "Total params: 2,217,537\n",
      "Trainable params: 2,217,537\n",
      "Non-trainable params: 0\n",
      "_________________________________________________________________\n"
     ]
    }
   ],
   "source": [
    "model.summary()"
   ]
  },
  {
   "cell_type": "code",
   "execution_count": 12,
   "metadata": {},
   "outputs": [
    {
     "name": "stdout",
     "output_type": "stream",
     "text": [
      "Epoch 1/50\n",
      "40/40 [==============================] - 180s 4s/step - loss: 4.5380 - accuracy: 0.0266 - val_loss: 4.4192 - val_accuracy: 0.0562\n",
      "Epoch 2/50\n",
      "40/40 [==============================] - 175s 4s/step - loss: 4.1748 - accuracy: 0.0813 - val_loss: 4.0976 - val_accuracy: 0.1250\n",
      "Epoch 3/50\n",
      "40/40 [==============================] - 158s 4s/step - loss: 3.7320 - accuracy: 0.1767 - val_loss: 3.6479 - val_accuracy: 0.2156\n",
      "Epoch 4/50\n",
      "40/40 [==============================] - 158s 4s/step - loss: 3.3261 - accuracy: 0.2807 - val_loss: 3.2512 - val_accuracy: 0.2969\n",
      "Epoch 5/50\n",
      "40/40 [==============================] - 159s 4s/step - loss: 2.9073 - accuracy: 0.4214 - val_loss: 2.9288 - val_accuracy: 0.4219\n",
      "Epoch 6/50\n",
      "40/40 [==============================] - 160s 4s/step - loss: 2.5818 - accuracy: 0.5332 - val_loss: 2.6635 - val_accuracy: 0.4719\n",
      "Epoch 7/50\n",
      "40/40 [==============================] - 157s 4s/step - loss: 2.3209 - accuracy: 0.5927 - val_loss: 2.3892 - val_accuracy: 0.5562\n",
      "Epoch 8/50\n",
      "40/40 [==============================] - 160s 4s/step - loss: 2.0413 - accuracy: 0.6638 - val_loss: 2.1945 - val_accuracy: 0.6062\n",
      "Epoch 9/50\n",
      "40/40 [==============================] - 157s 4s/step - loss: 1.8422 - accuracy: 0.6873 - val_loss: 1.9476 - val_accuracy: 0.6438\n",
      "Epoch 10/50\n",
      "40/40 [==============================] - 160s 4s/step - loss: 1.6558 - accuracy: 0.7076 - val_loss: 1.7969 - val_accuracy: 0.6594\n",
      "Epoch 11/50\n",
      "40/40 [==============================] - 158s 4s/step - loss: 1.4633 - accuracy: 0.7443 - val_loss: 1.6560 - val_accuracy: 0.7094\n",
      "Epoch 12/50\n",
      "40/40 [==============================] - 161s 4s/step - loss: 1.3272 - accuracy: 0.7678 - val_loss: 1.4900 - val_accuracy: 0.7094\n",
      "Epoch 13/50\n",
      "40/40 [==============================] - 157s 4s/step - loss: 1.1966 - accuracy: 0.7967 - val_loss: 1.3797 - val_accuracy: 0.7344\n",
      "Epoch 14/50\n",
      "40/40 [==============================] - 161s 4s/step - loss: 1.0825 - accuracy: 0.8077 - val_loss: 1.2611 - val_accuracy: 0.7656\n",
      "Epoch 15/50\n",
      "40/40 [==============================] - 160s 4s/step - loss: 0.9903 - accuracy: 0.8124 - val_loss: 1.2175 - val_accuracy: 0.7719\n",
      "Epoch 16/50\n",
      "40/40 [==============================] - 156s 4s/step - loss: 0.9238 - accuracy: 0.8280 - val_loss: 1.1365 - val_accuracy: 0.7781\n",
      "Epoch 17/50\n",
      "40/40 [==============================] - 159s 4s/step - loss: 0.8372 - accuracy: 0.8436 - val_loss: 1.0735 - val_accuracy: 0.7719\n",
      "Epoch 18/50\n",
      "40/40 [==============================] - 160s 4s/step - loss: 0.7523 - accuracy: 0.8444 - val_loss: 0.9939 - val_accuracy: 0.7969\n",
      "Epoch 19/50\n",
      "40/40 [==============================] - 157s 4s/step - loss: 0.6960 - accuracy: 0.8686 - val_loss: 0.9348 - val_accuracy: 0.8094\n",
      "Epoch 20/50\n",
      "40/40 [==============================] - 156s 4s/step - loss: 0.6440 - accuracy: 0.8757 - val_loss: 0.8857 - val_accuracy: 0.8344\n",
      "Epoch 21/50\n",
      "40/40 [==============================] - 158s 4s/step - loss: 0.5963 - accuracy: 0.8843 - val_loss: 0.8750 - val_accuracy: 0.8219\n",
      "Epoch 22/50\n",
      "40/40 [==============================] - 164s 4s/step - loss: 0.5677 - accuracy: 0.8905 - val_loss: 0.8351 - val_accuracy: 0.8313\n",
      "Epoch 23/50\n",
      "40/40 [==============================] - 173s 4s/step - loss: 0.5175 - accuracy: 0.8882 - val_loss: 0.7929 - val_accuracy: 0.8094\n",
      "Epoch 24/50\n",
      "40/40 [==============================] - 158s 4s/step - loss: 0.4812 - accuracy: 0.8999 - val_loss: 0.7635 - val_accuracy: 0.8344\n",
      "Epoch 25/50\n",
      "40/40 [==============================] - 154s 4s/step - loss: 0.4524 - accuracy: 0.9015 - val_loss: 0.7380 - val_accuracy: 0.8406\n",
      "Epoch 26/50\n",
      "40/40 [==============================] - 157s 4s/step - loss: 0.4137 - accuracy: 0.9093 - val_loss: 0.7178 - val_accuracy: 0.8438\n",
      "Epoch 27/50\n",
      "40/40 [==============================] - 157s 4s/step - loss: 0.4034 - accuracy: 0.9023 - val_loss: 0.7297 - val_accuracy: 0.8438\n",
      "Epoch 28/50\n",
      "40/40 [==============================] - 158s 4s/step - loss: 0.3805 - accuracy: 0.9038 - val_loss: 0.6975 - val_accuracy: 0.8500\n",
      "Epoch 29/50\n",
      "40/40 [==============================] - 230s 6s/step - loss: 0.3741 - accuracy: 0.9054 - val_loss: 0.7081 - val_accuracy: 0.8500\n",
      "Epoch 30/50\n",
      "40/40 [==============================] - 259s 7s/step - loss: 0.3565 - accuracy: 0.9085 - val_loss: 0.6972 - val_accuracy: 0.8500\n",
      "Epoch 31/50\n",
      "40/40 [==============================] - 190s 5s/step - loss: 0.3430 - accuracy: 0.9148 - val_loss: 0.6580 - val_accuracy: 0.8531\n",
      "Epoch 32/50\n",
      "40/40 [==============================] - 163s 4s/step - loss: 0.3215 - accuracy: 0.9156 - val_loss: 0.6552 - val_accuracy: 0.8469\n",
      "Epoch 33/50\n",
      "40/40 [==============================] - 163s 4s/step - loss: 0.3025 - accuracy: 0.9249 - val_loss: 0.6220 - val_accuracy: 0.8594\n",
      "Epoch 34/50\n",
      "40/40 [==============================] - 159s 4s/step - loss: 0.2932 - accuracy: 0.9187 - val_loss: 0.6279 - val_accuracy: 0.8500\n",
      "Epoch 35/50\n",
      "40/40 [==============================] - 196s 5s/step - loss: 0.2809 - accuracy: 0.9257 - val_loss: 0.6128 - val_accuracy: 0.8531\n",
      "Epoch 36/50\n",
      "40/40 [==============================] - 175s 4s/step - loss: 0.2691 - accuracy: 0.9320 - val_loss: 0.5917 - val_accuracy: 0.8719\n",
      "Epoch 37/50\n",
      "40/40 [==============================] - 172s 4s/step - loss: 0.2574 - accuracy: 0.9312 - val_loss: 0.6135 - val_accuracy: 0.8531\n",
      "Epoch 38/50\n",
      "40/40 [==============================] - 168s 4s/step - loss: 0.2546 - accuracy: 0.9304 - val_loss: 0.5973 - val_accuracy: 0.8531\n",
      "Epoch 39/50\n",
      "40/40 [==============================] - 162s 4s/step - loss: 0.2540 - accuracy: 0.9343 - val_loss: 0.5957 - val_accuracy: 0.8625\n",
      "Epoch 40/50\n",
      "40/40 [==============================] - 167s 4s/step - loss: 0.2458 - accuracy: 0.9257 - val_loss: 0.5779 - val_accuracy: 0.8625\n",
      "Epoch 41/50\n",
      "40/40 [==============================] - 178s 4s/step - loss: 0.2349 - accuracy: 0.9328 - val_loss: 0.5841 - val_accuracy: 0.8719\n",
      "Epoch 42/50\n",
      "40/40 [==============================] - 207s 5s/step - loss: 0.2306 - accuracy: 0.9351 - val_loss: 0.5688 - val_accuracy: 0.8594\n",
      "Epoch 43/50\n",
      "40/40 [==============================] - 156s 4s/step - loss: 0.2164 - accuracy: 0.9406 - val_loss: 0.5747 - val_accuracy: 0.8594\n",
      "Epoch 44/50\n",
      "40/40 [==============================] - 202s 5s/step - loss: 0.2093 - accuracy: 0.9375 - val_loss: 0.5605 - val_accuracy: 0.8656\n",
      "Epoch 45/50\n",
      "40/40 [==============================] - 181s 4s/step - loss: 0.2039 - accuracy: 0.9375 - val_loss: 0.5430 - val_accuracy: 0.8687\n",
      "Epoch 46/50\n",
      "40/40 [==============================] - 176s 4s/step - loss: 0.1961 - accuracy: 0.9382 - val_loss: 0.5419 - val_accuracy: 0.8687\n",
      "Epoch 47/50\n",
      "40/40 [==============================] - 182s 5s/step - loss: 0.1881 - accuracy: 0.9445 - val_loss: 0.5526 - val_accuracy: 0.8687\n",
      "Epoch 48/50\n",
      "40/40 [==============================] - 155s 4s/step - loss: 0.1869 - accuracy: 0.9414 - val_loss: 0.5429 - val_accuracy: 0.8781\n",
      "Epoch 49/50\n",
      "40/40 [==============================] - 176s 4s/step - loss: 0.1849 - accuracy: 0.9461 - val_loss: 0.5189 - val_accuracy: 0.8781\n",
      "Epoch 50/50\n",
      "40/40 [==============================] - 169s 4s/step - loss: 0.1805 - accuracy: 0.9468 - val_loss: 0.5502 - val_accuracy: 0.8687\n"
     ]
    }
   ],
   "source": [
    "from keras.callbacks import EarlyStopping\n",
    "early_stopping_call=EarlyStopping(monitor='val_loss',patience=10,mode='min',restore_best_weights=True)\n",
    "model.compile(loss='categorical_crossentropy',optimizer='Adam',metrics=['accuracy'])\n",
    "r=model.fit(x=features_train,y=labels_train,epochs=50,batch_size=32,shuffle=True,validation_split=0.2,callbacks=[early_stopping_call])"
   ]
  },
  {
   "cell_type": "code",
   "execution_count": 14,
   "metadata": {},
   "outputs": [],
   "source": [
    "model.save(\"LRCN_finalized.h5\")"
   ]
  },
  {
   "cell_type": "code",
   "execution_count": 15,
   "metadata": {},
   "outputs": [
    {
     "data": {
      "image/png": "[encoded data removed]",
      "text/plain": [
       "<Figure size 640x480 with 1 Axes>"
      ]
     },
     "metadata": {},
     "output_type": "display_data"
    }
   ],
   "source": [
    "plt.plot(r.history['accuracy'],label='accuracy')\n",
    "plt.plot(r.history['val_accuracy'],label='val_acc')\n",
    "plt.legend()\n",
    "plt.show()"
   ]
  },
  {
   "cell_type": "code",
   "execution_count": 16,
   "metadata": {},
   "outputs": [
    {
     "data": {
      "image/png": "[encoded data removed]",
      "text/plain": [
       "<Figure size 640x480 with 1 Axes>"
      ]
     },
     "metadata": {},
     "output_type": "display_data"
    }
   ],
   "source": [
    "import matplotlib.pyplot as plt\n",
    "plt.plot(r.history['loss'],label='loss')\n",
    "plt.plot(r.history['val_loss'],label='val_loss')\n",
    "plt.legend()\n",
    "plt.show()"
   ]
  },
  {
   "cell_type": "code",
   "execution_count": 24,
   "metadata": {},
   "outputs": [
    {
     "name": "stdout",
     "output_type": "stream",
     "text": [
      "13/13 [==============================] - 11s 785ms/step - loss: 0.5143 - accuracy: 0.8850\n"
     ]
    }
   ],
   "source": [
    "history=model.evaluate(features_test,labels_test)"
   ]
  },
  {
   "cell_type": "code",
   "execution_count": 7,
   "metadata": {},
   "outputs": [],
   "source": [
    "from collections import deque\n",
    "predicted_clas=[]\n",
    "\n",
    "def prediction(video_path,output_directory,SEQUENCE_LENGTH):\n",
    "    video_reader=cv2.VideoCapture(video_path)\n",
    "    original_video_width=int(video_reader.get(cv2.CAP_PROP_FRAME_WIDTH))\n",
    "    original_video_height=int(video_reader.get(cv2.CAP_PROP_FRAME_HEIGHT))\n",
    "    video_writer=cv2.VideoWriter(output_directory,cv2.VideoWriter_fourcc('M','P','.4','V'),video_reader.get(cv2.CAP_PROP_FPS),(original_video_width,original_video_height))\n",
    "    frames_queue=deque(maxlen=SEQUENCE_LENGTH)\n",
    "    predicted_class_name=''\n",
    "    while video_reader.isOpened():\n",
    "        ok,frame=video_reader.read()\n",
    "        if not ok:\n",
    "            break\n",
    "        resized_frame=cv2.resize(frame,(IMAGE_HEIGHT,IMAGE_WIDTH))\n",
    "        normalized_frames=resized_frame/255\n",
    "        frames_queue.append(normalized_frames)\n",
    "        if len(frames_queue)==SEQUENCE_LENGTH:\n",
    "            predicted_labels_probabilities=model.predict(np.expand_dims(frames_queue,axis=0))[0]\n",
    "            predicted_label=np.argmax(predicted_labels_probabilities)\n",
    "            predicted_class_name=CLASSES_LIST[predicted_label]\n",
    "        # cv2.putText(frame,predicted_class_name,(10,30),cv2.FONT_HERSHEY_SIMPLEX,1,(0,255,0),2)\n",
    "        predicted_clas.append(predicted_class_name)\n",
    "        video_writer.write(frame)\n",
    "    video_reader.release()\n",
    "    video_writer.release()"
   ]
  },
  {
   "cell_type": "code",
   "execution_count": 29,
   "metadata": {},
   "outputs": [
    {
     "name": "stdout",
     "output_type": "stream",
     "text": [
      "1/1 [==============================] - 0s 83ms/step\n",
      "1/1 [==============================] - 0s 70ms/step\n",
      "1/1 [==============================] - 0s 57ms/step\n",
      "1/1 [==============================] - 0s 78ms/step\n",
      "1/1 [==============================] - 0s 72ms/step\n",
      "1/1 [==============================] - 0s 101ms/step\n",
      "1/1 [==============================] - 0s 74ms/step\n",
      "1/1 [==============================] - 0s 43ms/step\n",
      "1/1 [==============================] - 0s 41ms/step\n",
      "1/1 [==============================] - 0s 42ms/step\n",
      "1/1 [==============================] - 0s 51ms/step\n",
      "1/1 [==============================] - 0s 38ms/step\n",
      "1/1 [==============================] - 0s 44ms/step\n",
      "1/1 [==============================] - 0s 42ms/step\n",
      "1/1 [==============================] - 0s 45ms/step\n",
      "1/1 [==============================] - 0s 42ms/step\n",
      "1/1 [==============================] - 0s 45ms/step\n",
      "1/1 [==============================] - 0s 44ms/step\n",
      "1/1 [==============================] - 0s 40ms/step\n",
      "1/1 [==============================] - 0s 47ms/step\n",
      "1/1 [==============================] - 0s 44ms/step\n"
     ]
    }
   ],
   "source": [
    "prediction('/Users/vedantpadole/Desktop/Research/output_video_path/augmented_videos_11_shifting.mp4','/Users/vedantpadole/Desktop/Research/output_video_path',SEQUENCE_LENGTH)"
   ]
  },
  {
   "cell_type": "code",
   "execution_count": 30,
   "metadata": {},
   "outputs": [
    {
     "data": {
      "text/plain": [
       "['',\n",
       " '',\n",
       " '',\n",
       " '',\n",
       " '',\n",
       " '',\n",
       " '',\n",
       " '',\n",
       " '',\n",
       " 'spicy',\n",
       " 'spicy',\n",
       " 'spicy',\n",
       " 'spicy',\n",
       " 'spicy',\n",
       " 'spicy',\n",
       " 'spicy',\n",
       " 'spicy',\n",
       " 'spicy',\n",
       " 'spicy',\n",
       " 'spicy',\n",
       " 'spicy',\n",
       " 'spicy',\n",
       " 'spicy',\n",
       " 'spicy',\n",
       " 'spicy',\n",
       " 'spicy',\n",
       " 'spicy',\n",
       " 'spicy',\n",
       " 'spicy',\n",
       " 'spicy']"
      ]
     },
     "execution_count": 30,
     "metadata": {},
     "output_type": "execute_result"
    },
    {
     "ename": "",
     "evalue": "",
     "output_type": "error",
     "traceback": [
      "\u001b[1;31mThe Kernel crashed while executing code in the the current cell or a previous cell. Please review the code in the cell(s) to identify a possible cause of the failure. Click <a href='https://aka.ms/vscodeJupyterKernelCrash'>here</a> for more info. View Jupyter <a href='command:jupyter.viewOutput'>log</a> for further details."
     ]
    }
   ],
   "source": [
    "predicted_clas"
   ]
  },
  {
   "cell_type": "code",
   "execution_count": 7,
   "metadata": {},
   "outputs": [
    {
     "name": "stdout",
     "output_type": "stream",
     "text": [
      "1/1 [==============================] - 1s 538ms/step\n",
      "1/1 [==============================] - 0s 36ms/step\n",
      "1/1 [==============================] - 0s 35ms/step\n",
      "1/1 [==============================] - 0s 36ms/step\n",
      "1/1 [==============================] - 0s 34ms/step\n",
      "1/1 [==============================] - 0s 34ms/step\n",
      "1/1 [==============================] - 0s 37ms/step\n",
      "1/1 [==============================] - 0s 41ms/step\n",
      "1/1 [==============================] - 0s 40ms/step\n",
      "1/1 [==============================] - 0s 35ms/step\n",
      "1/1 [==============================] - 0s 37ms/step\n",
      "1/1 [==============================] - 0s 37ms/step\n",
      "1/1 [==============================] - 0s 34ms/step\n",
      "1/1 [==============================] - 0s 34ms/step\n",
      "1/1 [==============================] - 0s 40ms/step\n",
      "1/1 [==============================] - 0s 35ms/step\n",
      "1/1 [==============================] - 0s 37ms/step\n",
      "1/1 [==============================] - 0s 34ms/step\n",
      "1/1 [==============================] - 0s 34ms/step\n",
      "1/1 [==============================] - 0s 35ms/step\n",
      "1/1 [==============================] - 0s 33ms/step\n",
      "1/1 [==============================] - 0s 37ms/step\n",
      "1/1 [==============================] - 0s 34ms/step\n",
      "1/1 [==============================] - 0s 38ms/step\n",
      "1/1 [==============================] - 0s 35ms/step\n",
      "1/1 [==============================] - 0s 34ms/step\n",
      "1/1 [==============================] - 0s 34ms/step\n",
      "1/1 [==============================] - 0s 34ms/step\n",
      "1/1 [==============================] - 0s 35ms/step\n",
      "1/1 [==============================] - 0s 33ms/step\n",
      "1/1 [==============================] - 0s 34ms/step\n",
      "1/1 [==============================] - 0s 33ms/step\n",
      "1/1 [==============================] - 0s 37ms/step\n",
      "1/1 [==============================] - 0s 34ms/step\n",
      "1/1 [==============================] - 0s 34ms/step\n",
      "1/1 [==============================] - 0s 34ms/step\n",
      "1/1 [==============================] - 0s 34ms/step\n",
      "1/1 [==============================] - 0s 34ms/step\n",
      "1/1 [==============================] - 0s 34ms/step\n",
      "1/1 [==============================] - 0s 34ms/step\n",
      "1/1 [==============================] - 0s 40ms/step\n",
      "1/1 [==============================] - 0s 35ms/step\n",
      "1/1 [==============================] - 0s 37ms/step\n",
      "1/1 [==============================] - 0s 34ms/step\n",
      "1/1 [==============================] - 0s 34ms/step\n",
      "1/1 [==============================] - 0s 34ms/step\n",
      "1/1 [==============================] - 0s 34ms/step\n",
      "1/1 [==============================] - 0s 37ms/step\n",
      "1/1 [==============================] - 0s 34ms/step\n",
      "1/1 [==============================] - 0s 34ms/step\n",
      "1/1 [==============================] - 0s 37ms/step\n",
      "1/1 [==============================] - 0s 37ms/step\n",
      "1/1 [==============================] - 0s 35ms/step\n",
      "1/1 [==============================] - 0s 35ms/step\n",
      "1/1 [==============================] - 0s 36ms/step\n",
      "1/1 [==============================] - 0s 34ms/step\n",
      "1/1 [==============================] - 0s 35ms/step\n",
      "1/1 [==============================] - 0s 34ms/step\n",
      "1/1 [==============================] - 0s 35ms/step\n",
      "1/1 [==============================] - 0s 35ms/step\n",
      "1/1 [==============================] - 0s 34ms/step\n",
      "1/1 [==============================] - 0s 36ms/step\n",
      "1/1 [==============================] - 0s 34ms/step\n",
      "1/1 [==============================] - 0s 34ms/step\n",
      "1/1 [==============================] - 0s 38ms/step\n",
      "1/1 [==============================] - 0s 34ms/step\n",
      "1/1 [==============================] - 0s 34ms/step\n",
      "1/1 [==============================] - 0s 34ms/step\n",
      "1/1 [==============================] - 0s 36ms/step\n",
      "1/1 [==============================] - 0s 34ms/step\n",
      "1/1 [==============================] - 0s 39ms/step\n",
      "1/1 [==============================] - 0s 34ms/step\n",
      "1/1 [==============================] - 0s 39ms/step\n"
     ]
    }
   ],
   "source": [
    "import cv2\n",
    "import numpy as np\n",
    "from keras.models import load_model\n",
    "model = load_model('/Users/vedantpadole/Desktop/Research/LRCN_finalized.h5')\n",
    "labels = CLASSES_LIST\n",
    "img_size = (128, 128)\n",
    "seq_length = 10\n",
    "frame_sequence = []\n",
    "def preprocess(frame):\n",
    "    frame = cv2.resize(frame, img_size)\n",
    "    frame = frame / 255.0\n",
    "    return frame\n",
    "cap = cv2.VideoCapture(0)\n",
    "\n",
    "while True: \n",
    "    ret, frame = cap.read()\n",
    "    processed_frame = preprocess(frame)\n",
    "    frame_sequence.append(processed_frame)\n",
    "    if len(frame_sequence) == seq_length:\n",
    "        sequence = np.array(frame_sequence).reshape(1, seq_length, *img_size, 3)\n",
    "        predictions = model.predict(sequence)\n",
    "        predicted_class = labels[np.argmax(predictions)]\n",
    "        # cv2.putText(frame, predicted_class, (50, 50), cv2.FONT_HERSHEY_SIMPLEX, 1, (0, 255, 0), 2)\n",
    "        frame_sequence.pop(0)\n",
    "    cv2.imshow('Live Video', frame)\n",
    "    if cv2.waitKey(1) & 0xFF == ord('q'):\n",
    "        break\n",
    "cap.release()\n",
    "cv2.destroyAllWindows()\n"
   ]
  },
  {
   "cell_type": "code",
   "execution_count": 8,
   "metadata": {},
   "outputs": [
    {
     "name": "stdout",
     "output_type": "stream",
     "text": [
      "lactose\n"
     ]
    }
   ],
   "source": [
    "print(predicted_class)"
   ]
  },
  {
   "cell_type": "code",
   "execution_count": null,
   "metadata": {},
   "outputs": [],
   "source": []
  }
 ],
 "metadata": {
  "kernelspec": {
   "display_name": "Python 3",
   "language": "python",
   "name": "python3"
  },
  "language_info": {
   "codemirror_mode": {
    "name": "ipython",
    "version": 3
   },
   "file_extension": ".py",
   "mimetype": "text/x-python",
   "name": "python",
   "nbconvert_exporter": "python",
   "pygments_lexer": "ipython3",
   "version": "3.9.0"
  },
  "orig_nbformat": 4
 },
 "nbformat": 4,
 "nbformat_minor": 2
}
