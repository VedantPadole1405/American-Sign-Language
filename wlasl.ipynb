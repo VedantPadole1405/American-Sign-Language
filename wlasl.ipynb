{
 "cells": [
  {
   "cell_type": "code",
   "execution_count": 1,
   "metadata": {},
   "outputs": [],
   "source": [
    "import os\n",
    "import cv2\n",
    "import random\n",
    "import math\n",
    "import numpy as np\n",
    "import datetime as dt\n",
    "#import tensorflow as tf\n",
    "import matplotlib.pyplot as plt\n",
    "#import pandas as pd "
   ]
  },
  {
   "cell_type": "code",
   "execution_count": 2,
   "metadata": {},
   "outputs": [
    {
     "ename": "FileExistsError",
     "evalue": "[Errno 17] File exists: 'wlasl-processed/final_videos/book'",
     "output_type": "error",
     "traceback": [
      "\u001b[0;31m---------------------------------------------------------------------------\u001b[0m",
      "\u001b[0;31mFileExistsError\u001b[0m                           Traceback (most recent call last)",
      "\u001b[1;32m/Users/vedantpadole/Desktop/Research/wlasl.ipynb Cell 2\u001b[0m in \u001b[0;36m1\n\u001b[1;32m     <a href='vscode-notebook-cell:/Users/vedantpadole/Desktop/Research/wlasl.ipynb#W1sZmlsZQ%3D%3D?line=16'>17</a>\u001b[0m label \u001b[39m=\u001b[39m item[\u001b[39m'\u001b[39m\u001b[39mgloss\u001b[39m\u001b[39m'\u001b[39m]\n\u001b[1;32m     <a href='vscode-notebook-cell:/Users/vedantpadole/Desktop/Research/wlasl.ipynb#W1sZmlsZQ%3D%3D?line=17'>18</a>\u001b[0m \u001b[39mif\u001b[39;00m label \u001b[39mnot\u001b[39;00m \u001b[39min\u001b[39;00m labels:\n\u001b[0;32m---> <a href='vscode-notebook-cell:/Users/vedantpadole/Desktop/Research/wlasl.ipynb#W1sZmlsZQ%3D%3D?line=18'>19</a>\u001b[0m     os\u001b[39m.\u001b[39;49mmakedirs(os\u001b[39m.\u001b[39;49mpath\u001b[39m.\u001b[39;49mjoin(train_path, label))\n\u001b[1;32m     <a href='vscode-notebook-cell:/Users/vedantpadole/Desktop/Research/wlasl.ipynb#W1sZmlsZQ%3D%3D?line=19'>20</a>\u001b[0m     labels\u001b[39m.\u001b[39madd(label)\n",
      "File \u001b[0;32m/Library/Frameworks/Python.framework/Versions/3.9/lib/python3.9/os.py:225\u001b[0m, in \u001b[0;36mmakedirs\u001b[0;34m(name, mode, exist_ok)\u001b[0m\n\u001b[1;32m    223\u001b[0m         \u001b[39mreturn\u001b[39;00m\n\u001b[1;32m    224\u001b[0m \u001b[39mtry\u001b[39;00m:\n\u001b[0;32m--> 225\u001b[0m     mkdir(name, mode)\n\u001b[1;32m    226\u001b[0m \u001b[39mexcept\u001b[39;00m \u001b[39mOSError\u001b[39;00m:\n\u001b[1;32m    227\u001b[0m     \u001b[39m# Cannot rely on checking for EEXIST, since the operating system\u001b[39;00m\n\u001b[1;32m    228\u001b[0m     \u001b[39m# could give priority to other errors like EACCES or EROFS\u001b[39;00m\n\u001b[1;32m    229\u001b[0m     \u001b[39mif\u001b[39;00m \u001b[39mnot\u001b[39;00m exist_ok \u001b[39mor\u001b[39;00m \u001b[39mnot\u001b[39;00m path\u001b[39m.\u001b[39misdir(name):\n",
      "\u001b[0;31mFileExistsError\u001b[0m: [Errno 17] File exists: 'wlasl-processed/final_videos/book'"
     ]
    }
   ],
   "source": [
    "# import os\n",
    "# import json\n",
    "# import shutil\n",
    "\n",
    "# # Define paths\n",
    "# dataset_path = 'wlasl-processed/videos'\n",
    "# json_path = 'wlasl-processed/WLASL_v0.3.json'\n",
    "# train_path = 'wlasl-processed/final_videos'\n",
    "\n",
    "# # Load JSON file\n",
    "# with open(json_path, 'r') as f:\n",
    "#     data = json.load(f)\n",
    "\n",
    "# # Create directories for each label\n",
    "# labels = set()\n",
    "# for item in data:\n",
    "#     label = item['gloss']\n",
    "#     if label not in labels:\n",
    "#         os.makedirs(os.path.join(train_path, label))\n",
    "#         labels.add(label)"
   ]
  },
  {
   "cell_type": "code",
   "execution_count": null,
   "metadata": {},
   "outputs": [],
   "source": [
    "# # print(data)\n",
    "# for item in data:\n",
    "#   label = item['gloss']\n",
    "#   # print(label)\n",
    "#   source_path = 'wlasl-processed/videos/'\n",
    "#   for j in item['instances']:\n",
    "#     source_path +=  j['video_id'] + '.mp4'\n",
    "#     filename = \"\"\n",
    "#     # if j['split'] == \"train\":\n",
    "#     filename = 'wlasl-processed/' + 'final_videos/' + label + '/'\n",
    "#     # elif j['split'] == \"val\":\n",
    "#       # filename = 'wlasl-processed/' + j['split'] + 'idation_data/' + label + '/'\n",
    "#     # else:\n",
    "#       # filename = 'wlasl-processed/' + j['split'] + 'ing_data/' + label + '/'\n",
    "#     target_path = os.path.join(filename)\n",
    "#     # print(target_path, source_path)\n",
    "#     if not os.path.exists(source_path):\n",
    "#       source_path = 'wlasl-processed/videos/'\n",
    "#       continue\n",
    "#     shutil.copy(source_path, target_path)\n",
    "#     source_path = 'wlasl-processed/videos/'"
   ]
  },
  {
   "cell_type": "code",
   "execution_count": 2,
   "metadata": {},
   "outputs": [
    {
     "name": "stdout",
     "output_type": "stream",
     "text": [
      "['sugar', 'ac', 'bill', 'thank-you', 'water', 'pop corn', 'milk', 'allergy', 'spicy', 'cost', 'chair', 'about', 'french fries', 'warm', 'ingredients', 'burger', 'alcohol', 'eggs', 'what', 'hello', 'pizza', 'drink', 'which', 'gluten free']\n"
     ]
    },
    {
     "data": {
      "text/plain": [
       "24"
      ]
     },
     "execution_count": 2,
     "metadata": {},
     "output_type": "execute_result"
    }
   ],
   "source": [
    "dataset_path = os.listdir('/Users/vedantpadole/Desktop/Research/ASL_MY_DATASET')\n",
    "\n",
    "all_classes = os.listdir('/Users/vedantpadole/Desktop/Research/ASL_MY_DATASET')\n",
    "print (all_classes)  \n",
    "len(all_classes)"
   ]
  },
  {
   "cell_type": "code",
   "execution_count": 3,
   "metadata": {},
   "outputs": [],
   "source": [
    "from os.path import exists\n",
    "\n",
    "file_exists = exists('100/.DS_Store')"
   ]
  },
  {
   "cell_type": "code",
   "execution_count": 4,
   "metadata": {},
   "outputs": [
    {
     "data": {
      "text/plain": [
       "False"
      ]
     },
     "execution_count": 4,
     "metadata": {},
     "output_type": "execute_result"
    }
   ],
   "source": [
    "file_exists"
   ]
  },
  {
   "cell_type": "code",
   "execution_count": 5,
   "metadata": {},
   "outputs": [
    {
     "ename": "FileNotFoundError",
     "evalue": "[Errno 2] No such file or directory: '100/spicy'",
     "output_type": "error",
     "traceback": [
      "\u001b[0;31m---------------------------------------------------------------------------\u001b[0m",
      "\u001b[0;31mFileNotFoundError\u001b[0m                         Traceback (most recent call last)",
      "\u001b[1;32m/Users/vedantpadole/Desktop/Research/wlasl.ipynb Cell 7\u001b[0m in \u001b[0;36m5\n\u001b[1;32m      <a href='vscode-notebook-cell:/Users/vedantpadole/Desktop/Research/wlasl.ipynb#W6sZmlsZQ%3D%3D?line=2'>3</a>\u001b[0m \u001b[39mfor\u001b[39;00m counter,random_index \u001b[39min\u001b[39;00m \u001b[39menumerate\u001b[39m(random_range,\u001b[39m1\u001b[39m):\n\u001b[1;32m      <a href='vscode-notebook-cell:/Users/vedantpadole/Desktop/Research/wlasl.ipynb#W6sZmlsZQ%3D%3D?line=3'>4</a>\u001b[0m   selected_Class\u001b[39m=\u001b[39mall_classes[random_index]\n\u001b[0;32m----> <a href='vscode-notebook-cell:/Users/vedantpadole/Desktop/Research/wlasl.ipynb#W6sZmlsZQ%3D%3D?line=4'>5</a>\u001b[0m   video_files_names_list\u001b[39m=\u001b[39mos\u001b[39m.\u001b[39;49mlistdir(\u001b[39mf\u001b[39;49m\u001b[39m'\u001b[39;49m\u001b[39m100/\u001b[39;49m\u001b[39m{\u001b[39;49;00mselected_Class\u001b[39m}\u001b[39;49;00m\u001b[39m'\u001b[39;49m)\n\u001b[1;32m      <a href='vscode-notebook-cell:/Users/vedantpadole/Desktop/Research/wlasl.ipynb#W6sZmlsZQ%3D%3D?line=5'>6</a>\u001b[0m   selected_video_file_name\u001b[39m=\u001b[39mrandom\u001b[39m.\u001b[39mchoice(video_files_names_list)\n\u001b[1;32m      <a href='vscode-notebook-cell:/Users/vedantpadole/Desktop/Research/wlasl.ipynb#W6sZmlsZQ%3D%3D?line=6'>7</a>\u001b[0m   video_reader\u001b[39m=\u001b[39mcv2\u001b[39m.\u001b[39mVideoCapture(\u001b[39mf\u001b[39m\u001b[39m'\u001b[39m\u001b[39m100/\u001b[39m\u001b[39m{\u001b[39;00mselected_Class\u001b[39m}\u001b[39;00m\u001b[39m/\u001b[39m\u001b[39m{\u001b[39;00mselected_video_file_name\u001b[39m}\u001b[39;00m\u001b[39m'\u001b[39m)\n",
      "\u001b[0;31mFileNotFoundError\u001b[0m: [Errno 2] No such file or directory: '100/spicy'"
     ]
    }
   ],
   "source": [
    "plt.figure(figsize=(20,20))\n",
    "random_range=random.sample(range(len(all_classes)),20)\n",
    "for counter,random_index in enumerate(random_range,1):\n",
    "  selected_Class=all_classes[random_index]\n",
    "  video_files_names_list=os.listdir(f'100/{selected_Class}')\n",
    "  selected_video_file_name=random.choice(video_files_names_list)\n",
    "  video_reader=cv2.VideoCapture(f'100/{selected_Class}/{selected_video_file_name}')\n",
    "  _,bgr_frame=video_reader.read()\n",
    "  rgb_frame=cv2.cvtColor(bgr_frame,cv2.COLOR_BGR2RGB)\n",
    "  cv2.putText(rgb_frame,selected_Class,(10,30),cv2.FONT_HERSHEY_SIMPLEX,1,(255,255,255),2)\n",
    "  plt.subplot(5,4,counter);plt.imshow(rgb_frame);plt.axis('off')\n",
    "  plt.show()"
   ]
  },
  {
   "cell_type": "code",
   "execution_count": 6,
   "metadata": {},
   "outputs": [],
   "source": [
    "IMAGE_HEIGHT,IMAGE_WIDTH=128,128\n",
    "SEQUENCE_LENGTH=20\n",
    "DATASET='/Users/vedantpadole/Desktop/Research/ASL_MY_DATASET'\n",
    "CLASSES_LIST=all_classes"
   ]
  },
  {
   "cell_type": "code",
   "execution_count": 7,
   "metadata": {},
   "outputs": [],
   "source": [
    "def frames_extraction(video_path):\n",
    "  frames_list=[]\n",
    "  video_reader=cv2.VideoCapture(video_path)\n",
    "  video_frames_count=int(video_reader.get(cv2.CAP_PROP_FRAME_COUNT))\n",
    "  skip_frames_window=max(int(video_frames_count/SEQUENCE_LENGTH),1)\n",
    "  for frame_counter in range(SEQUENCE_LENGTH):\n",
    "    video_reader.set(cv2.CAP_PROP_POS_FRAMES,frame_counter*skip_frames_window)\n",
    "    success,frame=video_reader.read()\n",
    "    if not success:\n",
    "      break\n",
    "    resized_frame=cv2.resize(frame,(IMAGE_HEIGHT,IMAGE_WIDTH))\n",
    "    normalized_frame=resized_frame/255\n",
    "    frames_list.append(normalized_frame)\n",
    "  video_reader.release()\n",
    "  return frames_list"
   ]
  },
  {
   "cell_type": "code",
   "execution_count": 8,
   "metadata": {},
   "outputs": [],
   "source": [
    "def create_dataset():\n",
    "  features=[]\n",
    "  labels=[]\n",
    "  video_files_path=[]\n",
    "  for class_index,class_name in enumerate(CLASSES_LIST):\n",
    "    print(f'Extracting the data of class:  {class_name}')\n",
    "    files_list=os.listdir(os.path.join(DATASET,class_name))\n",
    "    for file_name in files_list:\n",
    "      video_file_path=os.path.join(DATASET,class_name,file_name)\n",
    "      frames=frames_extraction(video_file_path)\n",
    "      if len(frames)==SEQUENCE_LENGTH:\n",
    "        features.append(frames)\n",
    "        labels.append(class_index)\n",
    "        video_files_path.append(video_file_path)\n",
    "  features=np.asarray(features)\n",
    "  labels=np.array(labels)\n",
    "  return features,labels,video_files_path"
   ]
  },
  {
   "cell_type": "code",
   "execution_count": 9,
   "metadata": {},
   "outputs": [
    {
     "name": "stdout",
     "output_type": "stream",
     "text": [
      "Extracting the data of class:  sugar\n",
      "Extracting the data of class:  ac\n",
      "Extracting the data of class:  bill\n",
      "Extracting the data of class:  thank-you\n",
      "Extracting the data of class:  water\n",
      "Extracting the data of class:  pop corn\n",
      "Extracting the data of class:  milk\n",
      "Extracting the data of class:  allergy\n",
      "Extracting the data of class:  spicy\n",
      "Extracting the data of class:  cost\n",
      "Extracting the data of class:  chair\n",
      "Extracting the data of class:  about\n",
      "Extracting the data of class:  french fries\n",
      "Extracting the data of class:  warm\n",
      "Extracting the data of class:  ingredients\n",
      "Extracting the data of class:  burger\n",
      "Extracting the data of class:  alcohol\n",
      "Extracting the data of class:  eggs\n",
      "Extracting the data of class:  what\n",
      "Extracting the data of class:  hello\n",
      "Extracting the data of class:  pizza\n",
      "Extracting the data of class:  drink\n",
      "Extracting the data of class:  which\n",
      "Extracting the data of class:  gluten free\n"
     ]
    }
   ],
   "source": [
    "features,labels,video_files_path=create_dataset()"
   ]
  },
  {
   "cell_type": "code",
   "execution_count": 37,
   "metadata": {},
   "outputs": [],
   "source": [
    "os.remove(\"ASL_MY_DATASET/.DS_Store\")"
   ]
  },
  {
   "cell_type": "code",
   "execution_count": 10,
   "metadata": {},
   "outputs": [],
   "source": [
    "from keras.utils import to_categorical\n",
    "one_hot_encoded_labels=to_categorical(labels)"
   ]
  },
  {
   "cell_type": "code",
   "execution_count": 11,
   "metadata": {},
   "outputs": [],
   "source": [
    "import tensorflow as tf"
   ]
  },
  {
   "cell_type": "code",
   "execution_count": 12,
   "metadata": {},
   "outputs": [],
   "source": [
    "seed_constant=27\n",
    "np.random.seed(seed_constant)\n",
    "random.seed(seed_constant)\n",
    "tf.random.set_seed(seed_constant)"
   ]
  },
  {
   "cell_type": "code",
   "execution_count": 13,
   "metadata": {},
   "outputs": [],
   "source": [
    "from sklearn.model_selection import train_test_split\n",
    "features_train,features_test,labels_train,labels_test=train_test_split(features,one_hot_encoded_labels,test_size=0.2,shuffle=True,random_state=seed_constant)"
   ]
  },
  {
   "cell_type": "code",
   "execution_count": 14,
   "metadata": {},
   "outputs": [],
   "source": [
    "a=features_train.shape[0]"
   ]
  },
  {
   "cell_type": "code",
   "execution_count": 15,
   "metadata": {},
   "outputs": [],
   "source": [
    "from keras import Sequential\n",
    "from keras.layers import ConvLSTM2D,MaxPooling3D,TimeDistributed,Dropout,Flatten,Dense\n",
    "def create_convlstm_model():\n",
    "  model=Sequential()\n",
    "  model.add(ConvLSTM2D(filters=4,kernel_size=(3,3),activation='relu',data_format='channels_last',recurrent_dropout=0.2,return_sequences=True,input_shape=(SEQUENCE_LENGTH,IMAGE_HEIGHT,IMAGE_WIDTH,3)))\n",
    "  model.add(MaxPooling3D(pool_size=(1,2,2),padding='same',data_format='channels_last'))\n",
    "  model.add(TimeDistributed(Dropout(0.2)))\n",
    "\n",
    "  model.add(ConvLSTM2D(filters=14,kernel_size=(3,3),activation='relu',data_format='channels_last',recurrent_dropout=0.2,return_sequences=True,input_shape=(SEQUENCE_LENGTH,IMAGE_HEIGHT,IMAGE_WIDTH,3)))\n",
    "  model.add(MaxPooling3D(pool_size=(1,2,2),padding='same',data_format='channels_last'))\n",
    "  model.add(TimeDistributed(Dropout(0.2)))\n",
    "\n",
    "  model.add(ConvLSTM2D(filters=16,kernel_size=(3,3),activation='relu',data_format='channels_last',recurrent_dropout=0.2,return_sequences=True,input_shape=(SEQUENCE_LENGTH,IMAGE_HEIGHT,IMAGE_WIDTH,3)))\n",
    "  model.add(MaxPooling3D(pool_size=(1,2,2),padding='same',data_format='channels_last'))\n",
    "  model.add(TimeDistributed(Dropout(0.2)))\n",
    "\n",
    "  model.add(Flatten())\n",
    "  model.add(Dense(len(CLASSES_LIST),activation='softmax'))\n",
    "  model.summary()\n",
    "  return model"
   ]
  },
  {
   "cell_type": "code",
   "execution_count": 16,
   "metadata": {},
   "outputs": [
    {
     "name": "stdout",
     "output_type": "stream",
     "text": [
      "Model: \"sequential\"\n",
      "_________________________________________________________________\n",
      " Layer (type)                Output Shape              Param #   \n",
      "=================================================================\n",
      " conv_lstm2d (ConvLSTM2D)    (None, 20, 126, 126, 4)   1024      \n",
      "                                                                 \n",
      " max_pooling3d (MaxPooling3D  (None, 20, 63, 63, 4)    0         \n",
      " )                                                               \n",
      "                                                                 \n",
      " time_distributed (TimeDistr  (None, 20, 63, 63, 4)    0         \n",
      " ibuted)                                                         \n",
      "                                                                 \n",
      " conv_lstm2d_1 (ConvLSTM2D)  (None, 20, 61, 61, 14)    9128      \n",
      "                                                                 \n",
      " max_pooling3d_1 (MaxPooling  (None, 20, 31, 31, 14)   0         \n",
      " 3D)                                                             \n",
      "                                                                 \n",
      " time_distributed_1 (TimeDis  (None, 20, 31, 31, 14)   0         \n",
      " tributed)                                                       \n",
      "                                                                 \n",
      " conv_lstm2d_2 (ConvLSTM2D)  (None, 20, 29, 29, 16)    17344     \n",
      "                                                                 \n",
      " max_pooling3d_2 (MaxPooling  (None, 20, 15, 15, 16)   0         \n",
      " 3D)                                                             \n",
      "                                                                 \n",
      " time_distributed_2 (TimeDis  (None, 20, 15, 15, 16)   0         \n",
      " tributed)                                                       \n",
      "                                                                 \n",
      " flatten (Flatten)           (None, 72000)             0         \n",
      "                                                                 \n",
      " dense (Dense)               (None, 24)                1728024   \n",
      "                                                                 \n",
      "=================================================================\n",
      "Total params: 1,755,520\n",
      "Trainable params: 1,755,520\n",
      "Non-trainable params: 0\n",
      "_________________________________________________________________\n"
     ]
    }
   ],
   "source": [
    "model1=create_convlstm_model()"
   ]
  },
  {
   "cell_type": "code",
   "execution_count": 17,
   "metadata": {},
   "outputs": [
    {
     "name": "stdout",
     "output_type": "stream",
     "text": [
      "Epoch 1/50\n",
      "15/15 [==============================] - 770s 49s/step - loss: 3.1509 - accuracy: 0.0784 - val_loss: 3.0561 - val_accuracy: 0.0957\n",
      "Epoch 2/50\n",
      "15/15 [==============================] - 736s 49s/step - loss: 2.6911 - accuracy: 0.2680 - val_loss: 2.2842 - val_accuracy: 0.4957\n",
      "Epoch 3/50\n",
      "15/15 [==============================] - 646s 42s/step - loss: 1.7484 - accuracy: 0.6013 - val_loss: 1.6090 - val_accuracy: 0.6174\n",
      "Epoch 4/50\n",
      "15/15 [==============================] - 726s 48s/step - loss: 1.1592 - accuracy: 0.7560 - val_loss: 1.3825 - val_accuracy: 0.7043\n",
      "Epoch 5/50\n",
      "15/15 [==============================] - 650s 43s/step - loss: 0.8975 - accuracy: 0.7996 - val_loss: 0.8943 - val_accuracy: 0.8261\n",
      "Epoch 6/50\n",
      " 6/15 [===========>..................] - ETA: 6:59 - loss: 0.5871 - accuracy: 0.8594"
     ]
    }
   ],
   "source": [
    "from keras.callbacks import EarlyStopping\n",
    "early_stopping_call=EarlyStopping(monitor='val_loss',patience=10,mode='min',restore_best_weights=True)\n",
    "model1.compile(loss='categorical_crossentropy',optimizer='Adam',metrics=['accuracy'])\n",
    "r=model1.fit(x=features_train,y=labels_train,epochs=50,batch_size=32,shuffle=True,validation_split=0.2,callbacks=[early_stopping_call])"
   ]
  },
  {
   "attachments": {},
   "cell_type": "markdown",
   "metadata": {},
   "source": [
    "Vedant You Can use canny edge detection in it is easy and looks beautiful and may be helpful as well"
   ]
  },
  {
   "cell_type": "code",
   "execution_count": null,
   "metadata": {},
   "outputs": [
    {
     "data": {
      "image/png": "[encoded data removed]",
      "text/plain": [
       "<Figure size 640x480 with 1 Axes>"
      ]
     },
     "metadata": {},
     "output_type": "display_data"
    }
   ],
   "source": [
    "import matplotlib.pyplot as plt\n",
    "plt.plot(r.history['loss'],label='loss')\n",
    "plt.plot(r.history['val_loss'],label='val_loss')\n",
    "plt.legend()\n",
    "plt.show()"
   ]
  },
  {
   "cell_type": "code",
   "execution_count": null,
   "metadata": {},
   "outputs": [
    {
     "data": {
      "image/png": "[encoded data removed]",
      "text/plain": [
       "<Figure size 640x480 with 1 Axes>"
      ]
     },
     "metadata": {},
     "output_type": "display_data"
    }
   ],
   "source": [
    "plt.plot(r.history['accuracy'],label='accuracy')\n",
    "plt.plot(r.history['val_accuracy'],label='val_acc')\n",
    "plt.legend()\n",
    "plt.show()"
   ]
  }
 ],
 "metadata": {
  "kernelspec": {
   "display_name": "Python 3",
   "language": "python",
   "name": "python3"
  },
  "language_info": {
   "codemirror_mode": {
    "name": "ipython",
    "version": 3
   },
   "file_extension": ".py",
   "mimetype": "text/x-python",
   "name": "python",
   "nbconvert_exporter": "python",
   "pygments_lexer": "ipython3",
   "version": "3.9.0"
  },
  "orig_nbformat": 4
 },
 "nbformat": 4,
 "nbformat_minor": 2
}
